{
 "cells": [
  {
   "cell_type": "markdown",
   "metadata": {},
   "source": [
    "Я работаю в интернет-магазине, который продаёт по всему миру компьютерные игры. Из открытых источников доступны исторические данные о продажах игр, оценки пользователей и экспертов, жанры и платформы (например, Xbox или PlayStation). Нужно выявить определяющие успешность игры закономерности. Это позволит сделать ставку на потенциально популярный продукт и спланировать рекламные кампании.\n",
    "Перед нами данные до 2016 года. Представим, что сейчас декабрь 2016 г., и вы планируете кампанию на 2017-й. Нужно отработать принцип работы с данными. Неважно, прогнозируете ли вы продажи на 2017 год по данным 2016-го или же 2027-й — по данным 2026 года.\n",
    "В наборе данных попадается аббревиатура ESRB (Entertainment Software Rating Board) — это ассоциация, определяющая возрастной рейтинг компьютерных игр. ESRB оценивает игровой контент и присваивает ему подходящую возрастную категорию, например, «Для взрослых», «Для детей младшего возраста» или «Для подростков»."
   ]
  },
  {
   "cell_type": "markdown",
   "metadata": {},
   "source": [
    "### Откройте файл с данными и изучите общую информацию. "
   ]
  },
  {
   "cell_type": "code",
   "execution_count": 1,
   "metadata": {},
   "outputs": [],
   "source": [
    "import pandas as pd\n",
    "import matplotlib.pyplot as plt\n",
    "from scipy import stats as st\n",
    "import numpy as np"
   ]
  },
  {
   "cell_type": "code",
   "execution_count": 2,
   "metadata": {},
   "outputs": [
    {
     "name": "stdout",
     "output_type": "stream",
     "text": [
      "<class 'pandas.core.frame.DataFrame'>\n",
      "RangeIndex: 16715 entries, 0 to 16714\n",
      "Data columns (total 11 columns):\n",
      " #   Column           Non-Null Count  Dtype  \n",
      "---  ------           --------------  -----  \n",
      " 0   Name             16713 non-null  object \n",
      " 1   Platform         16715 non-null  object \n",
      " 2   Year_of_Release  16446 non-null  float64\n",
      " 3   Genre            16713 non-null  object \n",
      " 4   NA_sales         16715 non-null  float64\n",
      " 5   EU_sales         16715 non-null  float64\n",
      " 6   JP_sales         16715 non-null  float64\n",
      " 7   Other_sales      16715 non-null  float64\n",
      " 8   Critic_Score     8137 non-null   float64\n",
      " 9   User_Score       10014 non-null  object \n",
      " 10  Rating           9949 non-null   object \n",
      "dtypes: float64(6), object(5)\n",
      "memory usage: 1.4+ MB\n"
     ]
    },
    {
     "data": {
      "text/html": [
       "<div>\n",
       "<style scoped>\n",
       "    .dataframe tbody tr th:only-of-type {\n",
       "        vertical-align: middle;\n",
       "    }\n",
       "\n",
       "    .dataframe tbody tr th {\n",
       "        vertical-align: top;\n",
       "    }\n",
       "\n",
       "    .dataframe thead th {\n",
       "        text-align: right;\n",
       "    }\n",
       "</style>\n",
       "<table border=\"1\" class=\"dataframe\">\n",
       "  <thead>\n",
       "    <tr style=\"text-align: right;\">\n",
       "      <th></th>\n",
       "      <th>Name</th>\n",
       "      <th>Platform</th>\n",
       "      <th>Year_of_Release</th>\n",
       "      <th>Genre</th>\n",
       "      <th>NA_sales</th>\n",
       "      <th>EU_sales</th>\n",
       "      <th>JP_sales</th>\n",
       "      <th>Other_sales</th>\n",
       "      <th>Critic_Score</th>\n",
       "      <th>User_Score</th>\n",
       "      <th>Rating</th>\n",
       "    </tr>\n",
       "  </thead>\n",
       "  <tbody>\n",
       "    <tr>\n",
       "      <th>0</th>\n",
       "      <td>Wii Sports</td>\n",
       "      <td>Wii</td>\n",
       "      <td>2006.0</td>\n",
       "      <td>Sports</td>\n",
       "      <td>41.36</td>\n",
       "      <td>28.96</td>\n",
       "      <td>3.77</td>\n",
       "      <td>8.45</td>\n",
       "      <td>76.0</td>\n",
       "      <td>8</td>\n",
       "      <td>E</td>\n",
       "    </tr>\n",
       "    <tr>\n",
       "      <th>1</th>\n",
       "      <td>Super Mario Bros.</td>\n",
       "      <td>NES</td>\n",
       "      <td>1985.0</td>\n",
       "      <td>Platform</td>\n",
       "      <td>29.08</td>\n",
       "      <td>3.58</td>\n",
       "      <td>6.81</td>\n",
       "      <td>0.77</td>\n",
       "      <td>NaN</td>\n",
       "      <td>NaN</td>\n",
       "      <td>NaN</td>\n",
       "    </tr>\n",
       "    <tr>\n",
       "      <th>2</th>\n",
       "      <td>Mario Kart Wii</td>\n",
       "      <td>Wii</td>\n",
       "      <td>2008.0</td>\n",
       "      <td>Racing</td>\n",
       "      <td>15.68</td>\n",
       "      <td>12.76</td>\n",
       "      <td>3.79</td>\n",
       "      <td>3.29</td>\n",
       "      <td>82.0</td>\n",
       "      <td>8.3</td>\n",
       "      <td>E</td>\n",
       "    </tr>\n",
       "    <tr>\n",
       "      <th>3</th>\n",
       "      <td>Wii Sports Resort</td>\n",
       "      <td>Wii</td>\n",
       "      <td>2009.0</td>\n",
       "      <td>Sports</td>\n",
       "      <td>15.61</td>\n",
       "      <td>10.93</td>\n",
       "      <td>3.28</td>\n",
       "      <td>2.95</td>\n",
       "      <td>80.0</td>\n",
       "      <td>8</td>\n",
       "      <td>E</td>\n",
       "    </tr>\n",
       "    <tr>\n",
       "      <th>4</th>\n",
       "      <td>Pokemon Red/Pokemon Blue</td>\n",
       "      <td>GB</td>\n",
       "      <td>1996.0</td>\n",
       "      <td>Role-Playing</td>\n",
       "      <td>11.27</td>\n",
       "      <td>8.89</td>\n",
       "      <td>10.22</td>\n",
       "      <td>1.00</td>\n",
       "      <td>NaN</td>\n",
       "      <td>NaN</td>\n",
       "      <td>NaN</td>\n",
       "    </tr>\n",
       "  </tbody>\n",
       "</table>\n",
       "</div>"
      ],
      "text/plain": [
       "                       Name Platform  Year_of_Release         Genre  NA_sales  \\\n",
       "0                Wii Sports      Wii           2006.0        Sports     41.36   \n",
       "1         Super Mario Bros.      NES           1985.0      Platform     29.08   \n",
       "2            Mario Kart Wii      Wii           2008.0        Racing     15.68   \n",
       "3         Wii Sports Resort      Wii           2009.0        Sports     15.61   \n",
       "4  Pokemon Red/Pokemon Blue       GB           1996.0  Role-Playing     11.27   \n",
       "\n",
       "   EU_sales  JP_sales  Other_sales  Critic_Score User_Score Rating  \n",
       "0     28.96      3.77         8.45          76.0          8      E  \n",
       "1      3.58      6.81         0.77           NaN        NaN    NaN  \n",
       "2     12.76      3.79         3.29          82.0        8.3      E  \n",
       "3     10.93      3.28         2.95          80.0          8      E  \n",
       "4      8.89     10.22         1.00           NaN        NaN    NaN  "
      ]
     },
     "metadata": {},
     "output_type": "display_data"
    }
   ],
   "source": [
    "data = pd.read_csv('/datasets/games.csv')\n",
    "data.info()\n",
    "display(data.head())"
   ]
  },
  {
   "cell_type": "markdown",
   "metadata": {},
   "source": [
    "### Предобработка данных"
   ]
  },
  {
   "cell_type": "markdown",
   "metadata": {},
   "source": [
    "#### Заменим названия столбцов (приведем к нижнему регистру)"
   ]
  },
  {
   "cell_type": "code",
   "execution_count": 41,
   "metadata": {},
   "outputs": [
    {
     "data": {
      "text/html": [
       "<div>\n",
       "<style scoped>\n",
       "    .dataframe tbody tr th:only-of-type {\n",
       "        vertical-align: middle;\n",
       "    }\n",
       "\n",
       "    .dataframe tbody tr th {\n",
       "        vertical-align: top;\n",
       "    }\n",
       "\n",
       "    .dataframe thead th {\n",
       "        text-align: right;\n",
       "    }\n",
       "</style>\n",
       "<table border=\"1\" class=\"dataframe\">\n",
       "  <thead>\n",
       "    <tr style=\"text-align: right;\">\n",
       "      <th></th>\n",
       "      <th>name</th>\n",
       "      <th>platform</th>\n",
       "      <th>year_of_release</th>\n",
       "      <th>genre</th>\n",
       "      <th>na_sales</th>\n",
       "      <th>eu_sales</th>\n",
       "      <th>jp_sales</th>\n",
       "      <th>other_sales</th>\n",
       "      <th>critic_score</th>\n",
       "      <th>user_score</th>\n",
       "      <th>rating</th>\n",
       "    </tr>\n",
       "  </thead>\n",
       "  <tbody>\n",
       "    <tr>\n",
       "      <th>0</th>\n",
       "      <td>Wii Sports</td>\n",
       "      <td>Wii</td>\n",
       "      <td>2006.0</td>\n",
       "      <td>Sports</td>\n",
       "      <td>41.36</td>\n",
       "      <td>28.96</td>\n",
       "      <td>3.77</td>\n",
       "      <td>8.45</td>\n",
       "      <td>76.0</td>\n",
       "      <td>8</td>\n",
       "      <td>E</td>\n",
       "    </tr>\n",
       "    <tr>\n",
       "      <th>1</th>\n",
       "      <td>Super Mario Bros.</td>\n",
       "      <td>NES</td>\n",
       "      <td>1985.0</td>\n",
       "      <td>Platform</td>\n",
       "      <td>29.08</td>\n",
       "      <td>3.58</td>\n",
       "      <td>6.81</td>\n",
       "      <td>0.77</td>\n",
       "      <td>NaN</td>\n",
       "      <td>NaN</td>\n",
       "      <td>NaN</td>\n",
       "    </tr>\n",
       "    <tr>\n",
       "      <th>2</th>\n",
       "      <td>Mario Kart Wii</td>\n",
       "      <td>Wii</td>\n",
       "      <td>2008.0</td>\n",
       "      <td>Racing</td>\n",
       "      <td>15.68</td>\n",
       "      <td>12.76</td>\n",
       "      <td>3.79</td>\n",
       "      <td>3.29</td>\n",
       "      <td>82.0</td>\n",
       "      <td>8.3</td>\n",
       "      <td>E</td>\n",
       "    </tr>\n",
       "    <tr>\n",
       "      <th>3</th>\n",
       "      <td>Wii Sports Resort</td>\n",
       "      <td>Wii</td>\n",
       "      <td>2009.0</td>\n",
       "      <td>Sports</td>\n",
       "      <td>15.61</td>\n",
       "      <td>10.93</td>\n",
       "      <td>3.28</td>\n",
       "      <td>2.95</td>\n",
       "      <td>80.0</td>\n",
       "      <td>8</td>\n",
       "      <td>E</td>\n",
       "    </tr>\n",
       "    <tr>\n",
       "      <th>4</th>\n",
       "      <td>Pokemon Red/Pokemon Blue</td>\n",
       "      <td>GB</td>\n",
       "      <td>1996.0</td>\n",
       "      <td>Role-Playing</td>\n",
       "      <td>11.27</td>\n",
       "      <td>8.89</td>\n",
       "      <td>10.22</td>\n",
       "      <td>1.00</td>\n",
       "      <td>NaN</td>\n",
       "      <td>NaN</td>\n",
       "      <td>NaN</td>\n",
       "    </tr>\n",
       "  </tbody>\n",
       "</table>\n",
       "</div>"
      ],
      "text/plain": [
       "                       name platform  year_of_release         genre  na_sales  \\\n",
       "0                Wii Sports      Wii           2006.0        Sports     41.36   \n",
       "1         Super Mario Bros.      NES           1985.0      Platform     29.08   \n",
       "2            Mario Kart Wii      Wii           2008.0        Racing     15.68   \n",
       "3         Wii Sports Resort      Wii           2009.0        Sports     15.61   \n",
       "4  Pokemon Red/Pokemon Blue       GB           1996.0  Role-Playing     11.27   \n",
       "\n",
       "   eu_sales  jp_sales  other_sales  critic_score user_score rating  \n",
       "0     28.96      3.77         8.45          76.0          8      E  \n",
       "1      3.58      6.81         0.77           NaN        NaN    NaN  \n",
       "2     12.76      3.79         3.29          82.0        8.3      E  \n",
       "3     10.93      3.28         2.95          80.0          8      E  \n",
       "4      8.89     10.22         1.00           NaN        NaN    NaN  "
      ]
     },
     "metadata": {},
     "output_type": "display_data"
    }
   ],
   "source": [
    "data.columns = data.columns.str.lower()\n",
    "display(data.head())"
   ]
  },
  {
   "cell_type": "markdown",
   "metadata": {},
   "source": [
    "#### Преобразуем данные в нужные типы. Опишем, в каких столбцах заменили тип данных "
   ]
  },
  {
   "cell_type": "code",
   "execution_count": 42,
   "metadata": {},
   "outputs": [
    {
     "data": {
      "text/html": [
       "<div>\n",
       "<style scoped>\n",
       "    .dataframe tbody tr th:only-of-type {\n",
       "        vertical-align: middle;\n",
       "    }\n",
       "\n",
       "    .dataframe tbody tr th {\n",
       "        vertical-align: top;\n",
       "    }\n",
       "\n",
       "    .dataframe thead th {\n",
       "        text-align: right;\n",
       "    }\n",
       "</style>\n",
       "<table border=\"1\" class=\"dataframe\">\n",
       "  <thead>\n",
       "    <tr style=\"text-align: right;\">\n",
       "      <th></th>\n",
       "      <th>name</th>\n",
       "      <th>platform</th>\n",
       "      <th>year_of_release</th>\n",
       "      <th>genre</th>\n",
       "      <th>na_sales</th>\n",
       "      <th>eu_sales</th>\n",
       "      <th>jp_sales</th>\n",
       "      <th>other_sales</th>\n",
       "      <th>critic_score</th>\n",
       "      <th>user_score</th>\n",
       "      <th>rating</th>\n",
       "    </tr>\n",
       "  </thead>\n",
       "  <tbody>\n",
       "    <tr>\n",
       "      <th>0</th>\n",
       "      <td>Wii Sports</td>\n",
       "      <td>Wii</td>\n",
       "      <td>2006</td>\n",
       "      <td>Sports</td>\n",
       "      <td>41.36</td>\n",
       "      <td>28.96</td>\n",
       "      <td>3.77</td>\n",
       "      <td>8.45</td>\n",
       "      <td>76</td>\n",
       "      <td>8</td>\n",
       "      <td>E</td>\n",
       "    </tr>\n",
       "    <tr>\n",
       "      <th>1</th>\n",
       "      <td>Super Mario Bros.</td>\n",
       "      <td>NES</td>\n",
       "      <td>1985</td>\n",
       "      <td>Platform</td>\n",
       "      <td>29.08</td>\n",
       "      <td>3.58</td>\n",
       "      <td>6.81</td>\n",
       "      <td>0.77</td>\n",
       "      <td>0</td>\n",
       "      <td>NaN</td>\n",
       "      <td>NaN</td>\n",
       "    </tr>\n",
       "    <tr>\n",
       "      <th>2</th>\n",
       "      <td>Mario Kart Wii</td>\n",
       "      <td>Wii</td>\n",
       "      <td>2008</td>\n",
       "      <td>Racing</td>\n",
       "      <td>15.68</td>\n",
       "      <td>12.76</td>\n",
       "      <td>3.79</td>\n",
       "      <td>3.29</td>\n",
       "      <td>82</td>\n",
       "      <td>8.3</td>\n",
       "      <td>E</td>\n",
       "    </tr>\n",
       "    <tr>\n",
       "      <th>3</th>\n",
       "      <td>Wii Sports Resort</td>\n",
       "      <td>Wii</td>\n",
       "      <td>2009</td>\n",
       "      <td>Sports</td>\n",
       "      <td>15.61</td>\n",
       "      <td>10.93</td>\n",
       "      <td>3.28</td>\n",
       "      <td>2.95</td>\n",
       "      <td>80</td>\n",
       "      <td>8</td>\n",
       "      <td>E</td>\n",
       "    </tr>\n",
       "    <tr>\n",
       "      <th>4</th>\n",
       "      <td>Pokemon Red/Pokemon Blue</td>\n",
       "      <td>GB</td>\n",
       "      <td>1996</td>\n",
       "      <td>Role-Playing</td>\n",
       "      <td>11.27</td>\n",
       "      <td>8.89</td>\n",
       "      <td>10.22</td>\n",
       "      <td>1.00</td>\n",
       "      <td>0</td>\n",
       "      <td>NaN</td>\n",
       "      <td>NaN</td>\n",
       "    </tr>\n",
       "  </tbody>\n",
       "</table>\n",
       "</div>"
      ],
      "text/plain": [
       "                       name platform  year_of_release         genre  na_sales  \\\n",
       "0                Wii Sports      Wii             2006        Sports     41.36   \n",
       "1         Super Mario Bros.      NES             1985      Platform     29.08   \n",
       "2            Mario Kart Wii      Wii             2008        Racing     15.68   \n",
       "3         Wii Sports Resort      Wii             2009        Sports     15.61   \n",
       "4  Pokemon Red/Pokemon Blue       GB             1996  Role-Playing     11.27   \n",
       "\n",
       "   eu_sales  jp_sales  other_sales  critic_score user_score rating  \n",
       "0     28.96      3.77         8.45            76          8      E  \n",
       "1      3.58      6.81         0.77             0        NaN    NaN  \n",
       "2     12.76      3.79         3.29            82        8.3      E  \n",
       "3     10.93      3.28         2.95            80          8      E  \n",
       "4      8.89     10.22         1.00             0        NaN    NaN  "
      ]
     },
     "metadata": {},
     "output_type": "display_data"
    }
   ],
   "source": [
    "#Заменим тип данных в столбцах year_of_release и critic_score\n",
    "data['year_of_release'] = data['year_of_release'].fillna(0).astype('int')\n",
    "data['critic_score'] = data['critic_score'].fillna(0).astype('int') \n",
    "display(data.head()) "
   ]
  },
  {
   "cell_type": "markdown",
   "metadata": {},
   "source": [
    "#### Обработаем пропуски "
   ]
  },
  {
   "cell_type": "code",
   "execution_count": 43,
   "metadata": {},
   "outputs": [
    {
     "name": "stdout",
     "output_type": "stream",
     "text": [
      "<class 'pandas.core.frame.DataFrame'>\n",
      "Int64Index: 16713 entries, 0 to 16714\n",
      "Data columns (total 11 columns):\n",
      " #   Column           Non-Null Count  Dtype  \n",
      "---  ------           --------------  -----  \n",
      " 0   name             16713 non-null  object \n",
      " 1   platform         16713 non-null  object \n",
      " 2   year_of_release  16713 non-null  int64  \n",
      " 3   genre            16713 non-null  object \n",
      " 4   na_sales         16713 non-null  float64\n",
      " 5   eu_sales         16713 non-null  float64\n",
      " 6   jp_sales         16713 non-null  float64\n",
      " 7   other_sales      16713 non-null  float64\n",
      " 8   critic_score     16713 non-null  int64  \n",
      " 9   user_score       7590 non-null   object \n",
      " 10  rating           9949 non-null   object \n",
      "dtypes: float64(4), int64(2), object(5)\n",
      "memory usage: 1.5+ MB\n"
     ]
    },
    {
     "data": {
      "text/plain": [
       "array([ 8. , -1. ,  8.3,  8.5,  6.6,  8.4,  8.6,  7.7,  6.3,  7.4,  8.2,\n",
       "        9. ,  7.9,  8.1,  8.7,  7.1,  3.4,  5.3,  4.8,  3.2,  8.9,  6.4,\n",
       "        7.8,  7.5,  2.6,  7.2,  9.2,  7. ,  7.3,  4.3,  7.6,  5.7,  5. ,\n",
       "        9.1,  6.5,  8.8,  6.9,  9.4,  6.8,  6.1,  6.7,  5.4,  4. ,  4.9,\n",
       "        4.5,  9.3,  6.2,  4.2,  6. ,  3.7,  4.1,  5.8,  5.6,  5.5,  4.4,\n",
       "        4.6,  5.9,  3.9,  3.1,  2.9,  5.2,  3.3,  4.7,  5.1,  3.5,  2.5,\n",
       "        1.9,  3. ,  2.7,  2.2,  2. ,  9.5,  2.1,  3.6,  2.8,  1.8,  3.8,\n",
       "        0. ,  1.6,  9.6,  2.4,  1.7,  1.1,  0.3,  1.5,  0.7,  1.2,  2.3,\n",
       "        0.5,  1.3,  0.2,  0.6,  1.4,  0.9,  1. ,  9.7])"
      ]
     },
     "metadata": {},
     "output_type": "display_data"
    },
    {
     "data": {
      "text/plain": [
       "array(['E', 'unknow', 'M', 'T', 'E10+', 'K-A', 'AO', 'EC', 'RP'],\n",
       "      dtype=object)"
      ]
     },
     "metadata": {},
     "output_type": "display_data"
    }
   ],
   "source": [
    "#Удалим пропуски\n",
    "data = data.dropna(subset=['name','genre'])\n",
    "# Значение tbd от английского To Be Determined (будет определено)\n",
    "#используется, если какая-то информация еще не определена или решение по вопросу не принято\n",
    "#поэтому заменим его на none\n",
    "data = data.replace('tbd', np.NaN)\n",
    "data.info()\n",
    "data.loc[data['user_score'].isna(), 'user_score'] = -1\n",
    "data['user_score'] = data['user_score'].astype(float)\n",
    "display(data['user_score'].unique())\n",
    "\n",
    "def replace_wrong_user_scores(wrong_user_scores, correct_user_score):\n",
    "    data['rating'] = data['rating'].replace(wrong_user_scores, correct_user_score)\n",
    "replace_wrong_user_scores(np.NaN, 'unknow')\n",
    "display(data['rating'].unique())"
   ]
  },
  {
   "cell_type": "markdown",
   "metadata": {},
   "source": [
    "#### Посчитаем суммарные продажи во всех регионах и запишите их в отдельный столбец"
   ]
  },
  {
   "cell_type": "code",
   "execution_count": 44,
   "metadata": {},
   "outputs": [
    {
     "data": {
      "text/html": [
       "<div>\n",
       "<style scoped>\n",
       "    .dataframe tbody tr th:only-of-type {\n",
       "        vertical-align: middle;\n",
       "    }\n",
       "\n",
       "    .dataframe tbody tr th {\n",
       "        vertical-align: top;\n",
       "    }\n",
       "\n",
       "    .dataframe thead th {\n",
       "        text-align: right;\n",
       "    }\n",
       "</style>\n",
       "<table border=\"1\" class=\"dataframe\">\n",
       "  <thead>\n",
       "    <tr style=\"text-align: right;\">\n",
       "      <th></th>\n",
       "      <th>name</th>\n",
       "      <th>platform</th>\n",
       "      <th>year_of_release</th>\n",
       "      <th>genre</th>\n",
       "      <th>na_sales</th>\n",
       "      <th>eu_sales</th>\n",
       "      <th>jp_sales</th>\n",
       "      <th>other_sales</th>\n",
       "      <th>critic_score</th>\n",
       "      <th>user_score</th>\n",
       "      <th>rating</th>\n",
       "      <th>amount</th>\n",
       "    </tr>\n",
       "  </thead>\n",
       "  <tbody>\n",
       "    <tr>\n",
       "      <th>0</th>\n",
       "      <td>Wii Sports</td>\n",
       "      <td>Wii</td>\n",
       "      <td>2006</td>\n",
       "      <td>Sports</td>\n",
       "      <td>41.36</td>\n",
       "      <td>28.96</td>\n",
       "      <td>3.77</td>\n",
       "      <td>8.45</td>\n",
       "      <td>76</td>\n",
       "      <td>8.0</td>\n",
       "      <td>E</td>\n",
       "      <td>82.54</td>\n",
       "    </tr>\n",
       "    <tr>\n",
       "      <th>1</th>\n",
       "      <td>Super Mario Bros.</td>\n",
       "      <td>NES</td>\n",
       "      <td>1985</td>\n",
       "      <td>Platform</td>\n",
       "      <td>29.08</td>\n",
       "      <td>3.58</td>\n",
       "      <td>6.81</td>\n",
       "      <td>0.77</td>\n",
       "      <td>0</td>\n",
       "      <td>-1.0</td>\n",
       "      <td>unknow</td>\n",
       "      <td>40.24</td>\n",
       "    </tr>\n",
       "    <tr>\n",
       "      <th>2</th>\n",
       "      <td>Mario Kart Wii</td>\n",
       "      <td>Wii</td>\n",
       "      <td>2008</td>\n",
       "      <td>Racing</td>\n",
       "      <td>15.68</td>\n",
       "      <td>12.76</td>\n",
       "      <td>3.79</td>\n",
       "      <td>3.29</td>\n",
       "      <td>82</td>\n",
       "      <td>8.3</td>\n",
       "      <td>E</td>\n",
       "      <td>35.52</td>\n",
       "    </tr>\n",
       "    <tr>\n",
       "      <th>3</th>\n",
       "      <td>Wii Sports Resort</td>\n",
       "      <td>Wii</td>\n",
       "      <td>2009</td>\n",
       "      <td>Sports</td>\n",
       "      <td>15.61</td>\n",
       "      <td>10.93</td>\n",
       "      <td>3.28</td>\n",
       "      <td>2.95</td>\n",
       "      <td>80</td>\n",
       "      <td>8.0</td>\n",
       "      <td>E</td>\n",
       "      <td>32.77</td>\n",
       "    </tr>\n",
       "    <tr>\n",
       "      <th>4</th>\n",
       "      <td>Pokemon Red/Pokemon Blue</td>\n",
       "      <td>GB</td>\n",
       "      <td>1996</td>\n",
       "      <td>Role-Playing</td>\n",
       "      <td>11.27</td>\n",
       "      <td>8.89</td>\n",
       "      <td>10.22</td>\n",
       "      <td>1.00</td>\n",
       "      <td>0</td>\n",
       "      <td>-1.0</td>\n",
       "      <td>unknow</td>\n",
       "      <td>31.38</td>\n",
       "    </tr>\n",
       "  </tbody>\n",
       "</table>\n",
       "</div>"
      ],
      "text/plain": [
       "                       name platform  year_of_release         genre  na_sales  \\\n",
       "0                Wii Sports      Wii             2006        Sports     41.36   \n",
       "1         Super Mario Bros.      NES             1985      Platform     29.08   \n",
       "2            Mario Kart Wii      Wii             2008        Racing     15.68   \n",
       "3         Wii Sports Resort      Wii             2009        Sports     15.61   \n",
       "4  Pokemon Red/Pokemon Blue       GB             1996  Role-Playing     11.27   \n",
       "\n",
       "   eu_sales  jp_sales  other_sales  critic_score  user_score  rating  amount  \n",
       "0     28.96      3.77         8.45            76         8.0       E   82.54  \n",
       "1      3.58      6.81         0.77             0        -1.0  unknow   40.24  \n",
       "2     12.76      3.79         3.29            82         8.3       E   35.52  \n",
       "3     10.93      3.28         2.95            80         8.0       E   32.77  \n",
       "4      8.89     10.22         1.00             0        -1.0  unknow   31.38  "
      ]
     },
     "metadata": {},
     "output_type": "display_data"
    }
   ],
   "source": [
    "# Cчитаем сумарные продажи \n",
    "data['amount'] = data[['na_sales','eu_sales','jp_sales','other_sales']].sum(axis=1)\n",
    "display(data.head())"
   ]
  },
  {
   "cell_type": "markdown",
   "metadata": {},
   "source": [
    "### Проведем исследовательский анализ данных"
   ]
  },
  {
   "cell_type": "markdown",
   "metadata": {},
   "source": [
    "#### Посмотрим, сколько игр выпускалось в разные годы. Важны ли данные за все периоды?"
   ]
  },
  {
   "cell_type": "code",
   "execution_count": 45,
   "metadata": {},
   "outputs": [
    {
     "data": {
      "text/html": [
       "<div>\n",
       "<style scoped>\n",
       "    .dataframe tbody tr th:only-of-type {\n",
       "        vertical-align: middle;\n",
       "    }\n",
       "\n",
       "    .dataframe tbody tr th {\n",
       "        vertical-align: top;\n",
       "    }\n",
       "\n",
       "    .dataframe thead th {\n",
       "        text-align: right;\n",
       "    }\n",
       "</style>\n",
       "<table border=\"1\" class=\"dataframe\">\n",
       "  <thead>\n",
       "    <tr style=\"text-align: right;\">\n",
       "      <th></th>\n",
       "      <th>year_of_release</th>\n",
       "      <th>name</th>\n",
       "    </tr>\n",
       "  </thead>\n",
       "  <tbody>\n",
       "    <tr>\n",
       "      <th>0</th>\n",
       "      <td>0</td>\n",
       "      <td>269</td>\n",
       "    </tr>\n",
       "    <tr>\n",
       "      <th>1</th>\n",
       "      <td>1980</td>\n",
       "      <td>9</td>\n",
       "    </tr>\n",
       "    <tr>\n",
       "      <th>2</th>\n",
       "      <td>1981</td>\n",
       "      <td>46</td>\n",
       "    </tr>\n",
       "    <tr>\n",
       "      <th>3</th>\n",
       "      <td>1982</td>\n",
       "      <td>36</td>\n",
       "    </tr>\n",
       "    <tr>\n",
       "      <th>4</th>\n",
       "      <td>1983</td>\n",
       "      <td>17</td>\n",
       "    </tr>\n",
       "    <tr>\n",
       "      <th>5</th>\n",
       "      <td>1984</td>\n",
       "      <td>14</td>\n",
       "    </tr>\n",
       "    <tr>\n",
       "      <th>6</th>\n",
       "      <td>1985</td>\n",
       "      <td>14</td>\n",
       "    </tr>\n",
       "    <tr>\n",
       "      <th>7</th>\n",
       "      <td>1986</td>\n",
       "      <td>21</td>\n",
       "    </tr>\n",
       "    <tr>\n",
       "      <th>8</th>\n",
       "      <td>1987</td>\n",
       "      <td>16</td>\n",
       "    </tr>\n",
       "    <tr>\n",
       "      <th>9</th>\n",
       "      <td>1988</td>\n",
       "      <td>15</td>\n",
       "    </tr>\n",
       "    <tr>\n",
       "      <th>10</th>\n",
       "      <td>1989</td>\n",
       "      <td>17</td>\n",
       "    </tr>\n",
       "    <tr>\n",
       "      <th>11</th>\n",
       "      <td>1990</td>\n",
       "      <td>16</td>\n",
       "    </tr>\n",
       "    <tr>\n",
       "      <th>12</th>\n",
       "      <td>1991</td>\n",
       "      <td>41</td>\n",
       "    </tr>\n",
       "    <tr>\n",
       "      <th>13</th>\n",
       "      <td>1992</td>\n",
       "      <td>43</td>\n",
       "    </tr>\n",
       "    <tr>\n",
       "      <th>14</th>\n",
       "      <td>1993</td>\n",
       "      <td>60</td>\n",
       "    </tr>\n",
       "    <tr>\n",
       "      <th>15</th>\n",
       "      <td>1994</td>\n",
       "      <td>121</td>\n",
       "    </tr>\n",
       "    <tr>\n",
       "      <th>16</th>\n",
       "      <td>1995</td>\n",
       "      <td>219</td>\n",
       "    </tr>\n",
       "    <tr>\n",
       "      <th>17</th>\n",
       "      <td>1996</td>\n",
       "      <td>263</td>\n",
       "    </tr>\n",
       "    <tr>\n",
       "      <th>18</th>\n",
       "      <td>1997</td>\n",
       "      <td>289</td>\n",
       "    </tr>\n",
       "    <tr>\n",
       "      <th>19</th>\n",
       "      <td>1998</td>\n",
       "      <td>379</td>\n",
       "    </tr>\n",
       "    <tr>\n",
       "      <th>20</th>\n",
       "      <td>1999</td>\n",
       "      <td>338</td>\n",
       "    </tr>\n",
       "    <tr>\n",
       "      <th>21</th>\n",
       "      <td>2000</td>\n",
       "      <td>350</td>\n",
       "    </tr>\n",
       "    <tr>\n",
       "      <th>22</th>\n",
       "      <td>2001</td>\n",
       "      <td>482</td>\n",
       "    </tr>\n",
       "    <tr>\n",
       "      <th>23</th>\n",
       "      <td>2002</td>\n",
       "      <td>829</td>\n",
       "    </tr>\n",
       "    <tr>\n",
       "      <th>24</th>\n",
       "      <td>2003</td>\n",
       "      <td>775</td>\n",
       "    </tr>\n",
       "    <tr>\n",
       "      <th>25</th>\n",
       "      <td>2004</td>\n",
       "      <td>762</td>\n",
       "    </tr>\n",
       "    <tr>\n",
       "      <th>26</th>\n",
       "      <td>2005</td>\n",
       "      <td>939</td>\n",
       "    </tr>\n",
       "    <tr>\n",
       "      <th>27</th>\n",
       "      <td>2006</td>\n",
       "      <td>1006</td>\n",
       "    </tr>\n",
       "    <tr>\n",
       "      <th>28</th>\n",
       "      <td>2007</td>\n",
       "      <td>1197</td>\n",
       "    </tr>\n",
       "    <tr>\n",
       "      <th>29</th>\n",
       "      <td>2008</td>\n",
       "      <td>1427</td>\n",
       "    </tr>\n",
       "    <tr>\n",
       "      <th>30</th>\n",
       "      <td>2009</td>\n",
       "      <td>1426</td>\n",
       "    </tr>\n",
       "    <tr>\n",
       "      <th>31</th>\n",
       "      <td>2010</td>\n",
       "      <td>1255</td>\n",
       "    </tr>\n",
       "    <tr>\n",
       "      <th>32</th>\n",
       "      <td>2011</td>\n",
       "      <td>1136</td>\n",
       "    </tr>\n",
       "    <tr>\n",
       "      <th>33</th>\n",
       "      <td>2012</td>\n",
       "      <td>653</td>\n",
       "    </tr>\n",
       "    <tr>\n",
       "      <th>34</th>\n",
       "      <td>2013</td>\n",
       "      <td>544</td>\n",
       "    </tr>\n",
       "    <tr>\n",
       "      <th>35</th>\n",
       "      <td>2014</td>\n",
       "      <td>581</td>\n",
       "    </tr>\n",
       "    <tr>\n",
       "      <th>36</th>\n",
       "      <td>2015</td>\n",
       "      <td>606</td>\n",
       "    </tr>\n",
       "    <tr>\n",
       "      <th>37</th>\n",
       "      <td>2016</td>\n",
       "      <td>502</td>\n",
       "    </tr>\n",
       "  </tbody>\n",
       "</table>\n",
       "</div>"
      ],
      "text/plain": [
       "    year_of_release  name\n",
       "0                 0   269\n",
       "1              1980     9\n",
       "2              1981    46\n",
       "3              1982    36\n",
       "4              1983    17\n",
       "5              1984    14\n",
       "6              1985    14\n",
       "7              1986    21\n",
       "8              1987    16\n",
       "9              1988    15\n",
       "10             1989    17\n",
       "11             1990    16\n",
       "12             1991    41\n",
       "13             1992    43\n",
       "14             1993    60\n",
       "15             1994   121\n",
       "16             1995   219\n",
       "17             1996   263\n",
       "18             1997   289\n",
       "19             1998   379\n",
       "20             1999   338\n",
       "21             2000   350\n",
       "22             2001   482\n",
       "23             2002   829\n",
       "24             2003   775\n",
       "25             2004   762\n",
       "26             2005   939\n",
       "27             2006  1006\n",
       "28             2007  1197\n",
       "29             2008  1427\n",
       "30             2009  1426\n",
       "31             2010  1255\n",
       "32             2011  1136\n",
       "33             2012   653\n",
       "34             2013   544\n",
       "35             2014   581\n",
       "36             2015   606\n",
       "37             2016   502"
      ]
     },
     "execution_count": 45,
     "metadata": {},
     "output_type": "execute_result"
    }
   ],
   "source": [
    "#Посмотрим , сколько игр выпускалось в каждом году.\n",
    "games_year = data.pivot_table(index='year_of_release', values='name', aggfunc='count').reset_index()\n",
    "games_year"
   ]
  },
  {
   "cell_type": "markdown",
   "metadata": {},
   "source": [
    "Вывод:Мы посмотрели,сколько игр выпускалась в каждом году. Но для дальнейшего анализа,мы возьмем данные только за последние три года."
   ]
  },
  {
   "cell_type": "code",
   "execution_count": 46,
   "metadata": {},
   "outputs": [
    {
     "data": {
      "text/html": [
       "<div>\n",
       "<style scoped>\n",
       "    .dataframe tbody tr th:only-of-type {\n",
       "        vertical-align: middle;\n",
       "    }\n",
       "\n",
       "    .dataframe tbody tr th {\n",
       "        vertical-align: top;\n",
       "    }\n",
       "\n",
       "    .dataframe thead th {\n",
       "        text-align: right;\n",
       "    }\n",
       "</style>\n",
       "<table border=\"1\" class=\"dataframe\">\n",
       "  <thead>\n",
       "    <tr style=\"text-align: right;\">\n",
       "      <th></th>\n",
       "      <th>name</th>\n",
       "      <th>platform</th>\n",
       "      <th>year_of_release</th>\n",
       "      <th>genre</th>\n",
       "      <th>na_sales</th>\n",
       "      <th>eu_sales</th>\n",
       "      <th>jp_sales</th>\n",
       "      <th>other_sales</th>\n",
       "      <th>critic_score</th>\n",
       "      <th>user_score</th>\n",
       "      <th>rating</th>\n",
       "      <th>amount</th>\n",
       "    </tr>\n",
       "  </thead>\n",
       "  <tbody>\n",
       "    <tr>\n",
       "      <th>31</th>\n",
       "      <td>Call of Duty: Black Ops 3</td>\n",
       "      <td>PS4</td>\n",
       "      <td>2015</td>\n",
       "      <td>Shooter</td>\n",
       "      <td>6.03</td>\n",
       "      <td>5.86</td>\n",
       "      <td>0.36</td>\n",
       "      <td>2.38</td>\n",
       "      <td>0</td>\n",
       "      <td>-1.0</td>\n",
       "      <td>unknow</td>\n",
       "      <td>14.63</td>\n",
       "    </tr>\n",
       "    <tr>\n",
       "      <th>42</th>\n",
       "      <td>Grand Theft Auto V</td>\n",
       "      <td>PS4</td>\n",
       "      <td>2014</td>\n",
       "      <td>Action</td>\n",
       "      <td>3.96</td>\n",
       "      <td>6.31</td>\n",
       "      <td>0.38</td>\n",
       "      <td>1.97</td>\n",
       "      <td>97</td>\n",
       "      <td>8.3</td>\n",
       "      <td>M</td>\n",
       "      <td>12.62</td>\n",
       "    </tr>\n",
       "    <tr>\n",
       "      <th>47</th>\n",
       "      <td>Pokemon Omega Ruby/Pokemon Alpha Sapphire</td>\n",
       "      <td>3DS</td>\n",
       "      <td>2014</td>\n",
       "      <td>Role-Playing</td>\n",
       "      <td>4.35</td>\n",
       "      <td>3.49</td>\n",
       "      <td>3.10</td>\n",
       "      <td>0.74</td>\n",
       "      <td>0</td>\n",
       "      <td>-1.0</td>\n",
       "      <td>unknow</td>\n",
       "      <td>11.68</td>\n",
       "    </tr>\n",
       "    <tr>\n",
       "      <th>77</th>\n",
       "      <td>FIFA 16</td>\n",
       "      <td>PS4</td>\n",
       "      <td>2015</td>\n",
       "      <td>Sports</td>\n",
       "      <td>1.12</td>\n",
       "      <td>6.12</td>\n",
       "      <td>0.06</td>\n",
       "      <td>1.28</td>\n",
       "      <td>82</td>\n",
       "      <td>4.3</td>\n",
       "      <td>E</td>\n",
       "      <td>8.58</td>\n",
       "    </tr>\n",
       "    <tr>\n",
       "      <th>87</th>\n",
       "      <td>Star Wars Battlefront (2015)</td>\n",
       "      <td>PS4</td>\n",
       "      <td>2015</td>\n",
       "      <td>Shooter</td>\n",
       "      <td>2.99</td>\n",
       "      <td>3.49</td>\n",
       "      <td>0.22</td>\n",
       "      <td>1.28</td>\n",
       "      <td>0</td>\n",
       "      <td>-1.0</td>\n",
       "      <td>unknow</td>\n",
       "      <td>7.98</td>\n",
       "    </tr>\n",
       "    <tr>\n",
       "      <th>...</th>\n",
       "      <td>...</td>\n",
       "      <td>...</td>\n",
       "      <td>...</td>\n",
       "      <td>...</td>\n",
       "      <td>...</td>\n",
       "      <td>...</td>\n",
       "      <td>...</td>\n",
       "      <td>...</td>\n",
       "      <td>...</td>\n",
       "      <td>...</td>\n",
       "      <td>...</td>\n",
       "      <td>...</td>\n",
       "    </tr>\n",
       "    <tr>\n",
       "      <th>16703</th>\n",
       "      <td>Strawberry Nauts</td>\n",
       "      <td>PSV</td>\n",
       "      <td>2016</td>\n",
       "      <td>Adventure</td>\n",
       "      <td>0.00</td>\n",
       "      <td>0.00</td>\n",
       "      <td>0.01</td>\n",
       "      <td>0.00</td>\n",
       "      <td>0</td>\n",
       "      <td>-1.0</td>\n",
       "      <td>unknow</td>\n",
       "      <td>0.01</td>\n",
       "    </tr>\n",
       "    <tr>\n",
       "      <th>16707</th>\n",
       "      <td>Aiyoku no Eustia</td>\n",
       "      <td>PSV</td>\n",
       "      <td>2014</td>\n",
       "      <td>Misc</td>\n",
       "      <td>0.00</td>\n",
       "      <td>0.00</td>\n",
       "      <td>0.01</td>\n",
       "      <td>0.00</td>\n",
       "      <td>0</td>\n",
       "      <td>-1.0</td>\n",
       "      <td>unknow</td>\n",
       "      <td>0.01</td>\n",
       "    </tr>\n",
       "    <tr>\n",
       "      <th>16710</th>\n",
       "      <td>Samurai Warriors: Sanada Maru</td>\n",
       "      <td>PS3</td>\n",
       "      <td>2016</td>\n",
       "      <td>Action</td>\n",
       "      <td>0.00</td>\n",
       "      <td>0.00</td>\n",
       "      <td>0.01</td>\n",
       "      <td>0.00</td>\n",
       "      <td>0</td>\n",
       "      <td>-1.0</td>\n",
       "      <td>unknow</td>\n",
       "      <td>0.01</td>\n",
       "    </tr>\n",
       "    <tr>\n",
       "      <th>16712</th>\n",
       "      <td>Haitaka no Psychedelica</td>\n",
       "      <td>PSV</td>\n",
       "      <td>2016</td>\n",
       "      <td>Adventure</td>\n",
       "      <td>0.00</td>\n",
       "      <td>0.00</td>\n",
       "      <td>0.01</td>\n",
       "      <td>0.00</td>\n",
       "      <td>0</td>\n",
       "      <td>-1.0</td>\n",
       "      <td>unknow</td>\n",
       "      <td>0.01</td>\n",
       "    </tr>\n",
       "    <tr>\n",
       "      <th>16714</th>\n",
       "      <td>Winning Post 8 2016</td>\n",
       "      <td>PSV</td>\n",
       "      <td>2016</td>\n",
       "      <td>Simulation</td>\n",
       "      <td>0.00</td>\n",
       "      <td>0.00</td>\n",
       "      <td>0.01</td>\n",
       "      <td>0.00</td>\n",
       "      <td>0</td>\n",
       "      <td>-1.0</td>\n",
       "      <td>unknow</td>\n",
       "      <td>0.01</td>\n",
       "    </tr>\n",
       "  </tbody>\n",
       "</table>\n",
       "<p>1689 rows × 12 columns</p>\n",
       "</div>"
      ],
      "text/plain": [
       "                                            name platform  year_of_release  \\\n",
       "31                     Call of Duty: Black Ops 3      PS4             2015   \n",
       "42                            Grand Theft Auto V      PS4             2014   \n",
       "47     Pokemon Omega Ruby/Pokemon Alpha Sapphire      3DS             2014   \n",
       "77                                       FIFA 16      PS4             2015   \n",
       "87                  Star Wars Battlefront (2015)      PS4             2015   \n",
       "...                                          ...      ...              ...   \n",
       "16703                           Strawberry Nauts      PSV             2016   \n",
       "16707                           Aiyoku no Eustia      PSV             2014   \n",
       "16710              Samurai Warriors: Sanada Maru      PS3             2016   \n",
       "16712                    Haitaka no Psychedelica      PSV             2016   \n",
       "16714                        Winning Post 8 2016      PSV             2016   \n",
       "\n",
       "              genre  na_sales  eu_sales  jp_sales  other_sales  critic_score  \\\n",
       "31          Shooter      6.03      5.86      0.36         2.38             0   \n",
       "42           Action      3.96      6.31      0.38         1.97            97   \n",
       "47     Role-Playing      4.35      3.49      3.10         0.74             0   \n",
       "77           Sports      1.12      6.12      0.06         1.28            82   \n",
       "87          Shooter      2.99      3.49      0.22         1.28             0   \n",
       "...             ...       ...       ...       ...          ...           ...   \n",
       "16703     Adventure      0.00      0.00      0.01         0.00             0   \n",
       "16707          Misc      0.00      0.00      0.01         0.00             0   \n",
       "16710        Action      0.00      0.00      0.01         0.00             0   \n",
       "16712     Adventure      0.00      0.00      0.01         0.00             0   \n",
       "16714    Simulation      0.00      0.00      0.01         0.00             0   \n",
       "\n",
       "       user_score  rating  amount  \n",
       "31           -1.0  unknow   14.63  \n",
       "42            8.3       M   12.62  \n",
       "47           -1.0  unknow   11.68  \n",
       "77            4.3       E    8.58  \n",
       "87           -1.0  unknow    7.98  \n",
       "...           ...     ...     ...  \n",
       "16703        -1.0  unknow    0.01  \n",
       "16707        -1.0  unknow    0.01  \n",
       "16710        -1.0  unknow    0.01  \n",
       "16712        -1.0  unknow    0.01  \n",
       "16714        -1.0  unknow    0.01  \n",
       "\n",
       "[1689 rows x 12 columns]"
      ]
     },
     "execution_count": 46,
     "metadata": {},
     "output_type": "execute_result"
    }
   ],
   "source": [
    "#Выделим нужные нам года \n",
    "data2=data.query(\"2014 <= year_of_release <= 2016\")\n",
    "data2"
   ]
  },
  {
   "cell_type": "markdown",
   "metadata": {},
   "source": [
    "#### Посмотрим, как менялись продажи по платформам. Выберите платформы с наибольшими суммарными продажами и постройте распределение по годам. За какой характерный срок появляются новые и исчезают старые платформы?"
   ]
  },
  {
   "cell_type": "code",
   "execution_count": 47,
   "metadata": {},
   "outputs": [
    {
     "name": "stdout",
     "output_type": "stream",
     "text": [
      "          amount\n",
      "platform        \n",
      "PS4       288.15\n",
      "XOne      140.36\n",
      "3DS        86.68\n",
      "PS3        68.18\n",
      "X360       48.22\n",
      "WiiU       42.98\n",
      "PC         27.05\n",
      "PSV        22.40\n",
      "Wii         5.07\n",
      "PSP         0.36\n"
     ]
    },
    {
     "data": {
      "text/plain": [
       "<AxesSubplot:xlabel='year_of_release'>"
      ]
     },
     "execution_count": 47,
     "metadata": {},
     "output_type": "execute_result"
    },
    {
     "data": {
      "image/png": "[encoded data removed]",
      "text/plain": [
       "<Figure size 1080x504 with 1 Axes>"
      ]
     },
     "metadata": {
      "needs_background": "light"
     },
     "output_type": "display_data"
    }
   ],
   "source": [
    "#Посмотрим продажи по платформам \n",
    "sales = data2.pivot_table(index='platform', values='amount',aggfunc='sum').sort_values(\n",
    "    by='amount', ascending=False).head(10)\n",
    "print(sales)\n",
    "#Построим график распределения по годам \n",
    "(data2.pivot_table(index='year_of_release', columns = 'platform', values='amount', aggfunc='sum')\n",
    ".plot(grid=True, figsize=(15, 7)))"
   ]
  },
  {
   "cell_type": "markdown",
   "metadata": {},
   "source": [
    "Вывод:Из данных мы можем выделить две игровые платформы с наибольшими суммарными продажами это PS4,XOne"
   ]
  },
  {
   "cell_type": "code",
   "execution_count": 48,
   "metadata": {},
   "outputs": [
    {
     "data": {
      "text/html": [
       "<div>\n",
       "<style scoped>\n",
       "    .dataframe tbody tr th:only-of-type {\n",
       "        vertical-align: middle;\n",
       "    }\n",
       "\n",
       "    .dataframe tbody tr th {\n",
       "        vertical-align: top;\n",
       "    }\n",
       "\n",
       "    .dataframe thead th {\n",
       "        text-align: right;\n",
       "    }\n",
       "</style>\n",
       "<table border=\"1\" class=\"dataframe\">\n",
       "  <thead>\n",
       "    <tr style=\"text-align: right;\">\n",
       "      <th></th>\n",
       "      <th>name</th>\n",
       "      <th>platform</th>\n",
       "      <th>year_of_release</th>\n",
       "      <th>genre</th>\n",
       "      <th>na_sales</th>\n",
       "      <th>eu_sales</th>\n",
       "      <th>jp_sales</th>\n",
       "      <th>other_sales</th>\n",
       "      <th>critic_score</th>\n",
       "      <th>user_score</th>\n",
       "      <th>rating</th>\n",
       "      <th>amount</th>\n",
       "    </tr>\n",
       "  </thead>\n",
       "  <tbody>\n",
       "    <tr>\n",
       "      <th>31</th>\n",
       "      <td>Call of Duty: Black Ops 3</td>\n",
       "      <td>PS4</td>\n",
       "      <td>2015</td>\n",
       "      <td>Shooter</td>\n",
       "      <td>6.03</td>\n",
       "      <td>5.86</td>\n",
       "      <td>0.36</td>\n",
       "      <td>2.38</td>\n",
       "      <td>0</td>\n",
       "      <td>-1.0</td>\n",
       "      <td>unknow</td>\n",
       "      <td>14.63</td>\n",
       "    </tr>\n",
       "    <tr>\n",
       "      <th>42</th>\n",
       "      <td>Grand Theft Auto V</td>\n",
       "      <td>PS4</td>\n",
       "      <td>2014</td>\n",
       "      <td>Action</td>\n",
       "      <td>3.96</td>\n",
       "      <td>6.31</td>\n",
       "      <td>0.38</td>\n",
       "      <td>1.97</td>\n",
       "      <td>97</td>\n",
       "      <td>8.3</td>\n",
       "      <td>M</td>\n",
       "      <td>12.62</td>\n",
       "    </tr>\n",
       "    <tr>\n",
       "      <th>77</th>\n",
       "      <td>FIFA 16</td>\n",
       "      <td>PS4</td>\n",
       "      <td>2015</td>\n",
       "      <td>Sports</td>\n",
       "      <td>1.12</td>\n",
       "      <td>6.12</td>\n",
       "      <td>0.06</td>\n",
       "      <td>1.28</td>\n",
       "      <td>82</td>\n",
       "      <td>4.3</td>\n",
       "      <td>E</td>\n",
       "      <td>8.58</td>\n",
       "    </tr>\n",
       "    <tr>\n",
       "      <th>87</th>\n",
       "      <td>Star Wars Battlefront (2015)</td>\n",
       "      <td>PS4</td>\n",
       "      <td>2015</td>\n",
       "      <td>Shooter</td>\n",
       "      <td>2.99</td>\n",
       "      <td>3.49</td>\n",
       "      <td>0.22</td>\n",
       "      <td>1.28</td>\n",
       "      <td>0</td>\n",
       "      <td>-1.0</td>\n",
       "      <td>unknow</td>\n",
       "      <td>7.98</td>\n",
       "    </tr>\n",
       "    <tr>\n",
       "      <th>92</th>\n",
       "      <td>Call of Duty: Advanced Warfare</td>\n",
       "      <td>PS4</td>\n",
       "      <td>2014</td>\n",
       "      <td>Shooter</td>\n",
       "      <td>2.81</td>\n",
       "      <td>3.48</td>\n",
       "      <td>0.14</td>\n",
       "      <td>1.23</td>\n",
       "      <td>83</td>\n",
       "      <td>5.7</td>\n",
       "      <td>M</td>\n",
       "      <td>7.66</td>\n",
       "    </tr>\n",
       "    <tr>\n",
       "      <th>...</th>\n",
       "      <td>...</td>\n",
       "      <td>...</td>\n",
       "      <td>...</td>\n",
       "      <td>...</td>\n",
       "      <td>...</td>\n",
       "      <td>...</td>\n",
       "      <td>...</td>\n",
       "      <td>...</td>\n",
       "      <td>...</td>\n",
       "      <td>...</td>\n",
       "      <td>...</td>\n",
       "      <td>...</td>\n",
       "    </tr>\n",
       "    <tr>\n",
       "      <th>16630</th>\n",
       "      <td>Sébastien Loeb Rally Evo</td>\n",
       "      <td>XOne</td>\n",
       "      <td>2016</td>\n",
       "      <td>Racing</td>\n",
       "      <td>0.00</td>\n",
       "      <td>0.01</td>\n",
       "      <td>0.00</td>\n",
       "      <td>0.00</td>\n",
       "      <td>63</td>\n",
       "      <td>8.2</td>\n",
       "      <td>E</td>\n",
       "      <td>0.01</td>\n",
       "    </tr>\n",
       "    <tr>\n",
       "      <th>16643</th>\n",
       "      <td>Rugby Challenge 3</td>\n",
       "      <td>XOne</td>\n",
       "      <td>2016</td>\n",
       "      <td>Sports</td>\n",
       "      <td>0.00</td>\n",
       "      <td>0.01</td>\n",
       "      <td>0.00</td>\n",
       "      <td>0.00</td>\n",
       "      <td>0</td>\n",
       "      <td>6.6</td>\n",
       "      <td>E</td>\n",
       "      <td>0.01</td>\n",
       "    </tr>\n",
       "    <tr>\n",
       "      <th>16645</th>\n",
       "      <td>ZombiU</td>\n",
       "      <td>XOne</td>\n",
       "      <td>2016</td>\n",
       "      <td>Action</td>\n",
       "      <td>0.00</td>\n",
       "      <td>0.01</td>\n",
       "      <td>0.00</td>\n",
       "      <td>0.00</td>\n",
       "      <td>0</td>\n",
       "      <td>-1.0</td>\n",
       "      <td>unknow</td>\n",
       "      <td>0.01</td>\n",
       "    </tr>\n",
       "    <tr>\n",
       "      <th>16660</th>\n",
       "      <td>Prison Architect</td>\n",
       "      <td>XOne</td>\n",
       "      <td>2016</td>\n",
       "      <td>Action</td>\n",
       "      <td>0.01</td>\n",
       "      <td>0.00</td>\n",
       "      <td>0.00</td>\n",
       "      <td>0.00</td>\n",
       "      <td>74</td>\n",
       "      <td>6.7</td>\n",
       "      <td>unknow</td>\n",
       "      <td>0.01</td>\n",
       "    </tr>\n",
       "    <tr>\n",
       "      <th>16672</th>\n",
       "      <td>Metal Gear Solid V: The Definitive Experience</td>\n",
       "      <td>XOne</td>\n",
       "      <td>2016</td>\n",
       "      <td>Action</td>\n",
       "      <td>0.01</td>\n",
       "      <td>0.00</td>\n",
       "      <td>0.00</td>\n",
       "      <td>0.00</td>\n",
       "      <td>0</td>\n",
       "      <td>-1.0</td>\n",
       "      <td>M</td>\n",
       "      <td>0.01</td>\n",
       "    </tr>\n",
       "  </tbody>\n",
       "</table>\n",
       "<p>639 rows × 12 columns</p>\n",
       "</div>"
      ],
      "text/plain": [
       "                                                name platform  \\\n",
       "31                         Call of Duty: Black Ops 3      PS4   \n",
       "42                                Grand Theft Auto V      PS4   \n",
       "77                                           FIFA 16      PS4   \n",
       "87                      Star Wars Battlefront (2015)      PS4   \n",
       "92                    Call of Duty: Advanced Warfare      PS4   \n",
       "...                                              ...      ...   \n",
       "16630                       Sébastien Loeb Rally Evo     XOne   \n",
       "16643                              Rugby Challenge 3     XOne   \n",
       "16645                                         ZombiU     XOne   \n",
       "16660                               Prison Architect     XOne   \n",
       "16672  Metal Gear Solid V: The Definitive Experience     XOne   \n",
       "\n",
       "       year_of_release    genre  na_sales  eu_sales  jp_sales  other_sales  \\\n",
       "31                2015  Shooter      6.03      5.86      0.36         2.38   \n",
       "42                2014   Action      3.96      6.31      0.38         1.97   \n",
       "77                2015   Sports      1.12      6.12      0.06         1.28   \n",
       "87                2015  Shooter      2.99      3.49      0.22         1.28   \n",
       "92                2014  Shooter      2.81      3.48      0.14         1.23   \n",
       "...                ...      ...       ...       ...       ...          ...   \n",
       "16630             2016   Racing      0.00      0.01      0.00         0.00   \n",
       "16643             2016   Sports      0.00      0.01      0.00         0.00   \n",
       "16645             2016   Action      0.00      0.01      0.00         0.00   \n",
       "16660             2016   Action      0.01      0.00      0.00         0.00   \n",
       "16672             2016   Action      0.01      0.00      0.00         0.00   \n",
       "\n",
       "       critic_score  user_score  rating  amount  \n",
       "31                0        -1.0  unknow   14.63  \n",
       "42               97         8.3       M   12.62  \n",
       "77               82         4.3       E    8.58  \n",
       "87                0        -1.0  unknow    7.98  \n",
       "92               83         5.7       M    7.66  \n",
       "...             ...         ...     ...     ...  \n",
       "16630            63         8.2       E    0.01  \n",
       "16643             0         6.6       E    0.01  \n",
       "16645             0        -1.0  unknow    0.01  \n",
       "16660            74         6.7  unknow    0.01  \n",
       "16672             0        -1.0       M    0.01  \n",
       "\n",
       "[639 rows x 12 columns]"
      ]
     },
     "execution_count": 48,
     "metadata": {},
     "output_type": "execute_result"
    }
   ],
   "source": [
    "#выделим только интересующие нас платформы \n",
    "data2=data.query(\"platform == ['PS4','XOne']\")\n",
    "data2 "
   ]
  },
  {
   "cell_type": "markdown",
   "metadata": {},
   "source": [
    "#### Возьмите данные за соответствующий актуальный период. Актуальный период определите самостоятельно в результате исследования предыдущих вопросов. Основной фактор — эти данные помогут построить прогноз на 2017 год."
   ]
  },
  {
   "cell_type": "markdown",
   "metadata": {},
   "source": [
    "В данном обсуждении мы будем отталкиваться от актуального периода (2014-2016 года).\n",
    "потенциально прибыльной платформой можно считать PS4,XOne."
   ]
  },
  {
   "cell_type": "markdown",
   "metadata": {},
   "source": [
    "#### Постройте график «ящик с усами» по глобальным продажам игр в разбивке по платформам. Опишите результат."
   ]
  },
  {
   "cell_type": "code",
   "execution_count": 49,
   "metadata": {},
   "outputs": [
    {
     "data": {
      "text/html": [
       "<div>\n",
       "<style scoped>\n",
       "    .dataframe tbody tr th:only-of-type {\n",
       "        vertical-align: middle;\n",
       "    }\n",
       "\n",
       "    .dataframe tbody tr th {\n",
       "        vertical-align: top;\n",
       "    }\n",
       "\n",
       "    .dataframe thead th {\n",
       "        text-align: right;\n",
       "    }\n",
       "</style>\n",
       "<table border=\"1\" class=\"dataframe\">\n",
       "  <thead>\n",
       "    <tr style=\"text-align: right;\">\n",
       "      <th></th>\n",
       "      <th>count</th>\n",
       "      <th>mean</th>\n",
       "      <th>std</th>\n",
       "      <th>min</th>\n",
       "      <th>25%</th>\n",
       "      <th>50%</th>\n",
       "      <th>75%</th>\n",
       "      <th>max</th>\n",
       "    </tr>\n",
       "    <tr>\n",
       "      <th>platform</th>\n",
       "      <th></th>\n",
       "      <th></th>\n",
       "      <th></th>\n",
       "      <th></th>\n",
       "      <th></th>\n",
       "      <th></th>\n",
       "      <th></th>\n",
       "      <th></th>\n",
       "    </tr>\n",
       "  </thead>\n",
       "  <tbody>\n",
       "    <tr>\n",
       "      <th>PS4</th>\n",
       "      <td>392.0</td>\n",
       "      <td>0.801378</td>\n",
       "      <td>1.609456</td>\n",
       "      <td>0.01</td>\n",
       "      <td>0.06</td>\n",
       "      <td>0.20</td>\n",
       "      <td>0.730</td>\n",
       "      <td>14.63</td>\n",
       "    </tr>\n",
       "    <tr>\n",
       "      <th>XOne</th>\n",
       "      <td>247.0</td>\n",
       "      <td>0.645020</td>\n",
       "      <td>1.036139</td>\n",
       "      <td>0.01</td>\n",
       "      <td>0.06</td>\n",
       "      <td>0.22</td>\n",
       "      <td>0.685</td>\n",
       "      <td>7.39</td>\n",
       "    </tr>\n",
       "  </tbody>\n",
       "</table>\n",
       "</div>"
      ],
      "text/plain": [
       "          count      mean       std   min   25%   50%    75%    max\n",
       "platform                                                           \n",
       "PS4       392.0  0.801378  1.609456  0.01  0.06  0.20  0.730  14.63\n",
       "XOne      247.0  0.645020  1.036139  0.01  0.06  0.22  0.685   7.39"
      ]
     },
     "execution_count": 49,
     "metadata": {},
     "output_type": "execute_result"
    }
   ],
   "source": [
    "data2.groupby('platform')['amount'].describe()\n"
   ]
  },
  {
   "cell_type": "markdown",
   "metadata": {},
   "source": [
    "#### построим общую диаграмму размаха\n",
    "\n",
    "\n"
   ]
  },
  {
   "cell_type": "code",
   "execution_count": 50,
   "metadata": {},
   "outputs": [
    {
     "data": {
      "text/plain": [
       "(0.0, 1.95)"
      ]
     },
     "execution_count": 50,
     "metadata": {},
     "output_type": "execute_result"
    },
    {
     "data": {
      "image/png": "[encoded data removed]",
      "text/plain": [
       "<Figure size 432x288 with 1 Axes>"
      ]
     },
     "metadata": {
      "needs_background": "light"
     },
     "output_type": "display_data"
    }
   ],
   "source": [
    "data2.boxplot(column='amount', by='platform');\n",
    "plt.ylim(0,1.95)"
   ]
  },
  {
   "cell_type": "markdown",
   "metadata": {},
   "source": [
    "Вывод:Просмотрев  диаграмму размаха мы видели частые выбросы и редкие."
   ]
  },
  {
   "cell_type": "markdown",
   "metadata": {},
   "source": [
    "#### Посмотрите, как влияют на продажи внутри одной популярной платформы отзывы пользователей и критиков. Постройте диаграмму рассеяния и посчитайте корреляцию между отзывами и продажами. Сформулируйте выводы."
   ]
  },
  {
   "cell_type": "code",
   "execution_count": 51,
   "metadata": {},
   "outputs": [
    {
     "data": {
      "text/plain": [
       "<AxesSubplot:xlabel='user_score', ylabel='amount'>"
      ]
     },
     "execution_count": 51,
     "metadata": {},
     "output_type": "execute_result"
    },
    {
     "data": {
      "image/png": "[encoded data removed]",
      "text/plain": [
       "<Figure size 504x504 with 1 Axes>"
      ]
     },
     "metadata": {
      "needs_background": "light"
     },
     "output_type": "display_data"
    }
   ],
   "source": [
    "# Отзывы пользователей\n",
    "(data2[data2['platform']=='PS4']\n",
    ".plot(x='user_score', y='amount',kind='scatter', style='o', figsize=(7, 7), grid=True))"
   ]
  },
  {
   "cell_type": "code",
   "execution_count": 91,
   "metadata": {},
   "outputs": [
    {
     "data": {
      "text/plain": [
       "0.1159614931286009"
      ]
     },
     "execution_count": 91,
     "metadata": {},
     "output_type": "execute_result"
    }
   ],
   "source": [
    "data_ps4 = data2[data2['platform']=='PS4']\n",
    "data_ps4['user_score'].corr(data_ps4['amount']) "
   ]
  },
  {
   "cell_type": "code",
   "execution_count": 92,
   "metadata": {
    "scrolled": false
   },
   "outputs": [
    {
     "data": {
      "text/plain": [
       "<AxesSubplot:xlabel='critic_score', ylabel='amount'>"
      ]
     },
     "execution_count": 92,
     "metadata": {},
     "output_type": "execute_result"
    },
    {
     "data": {
      "image/png": "[encoded data removed]",
      "text/plain": [
       "<Figure size 504x504 with 1 Axes>"
      ]
     },
     "metadata": {
      "needs_background": "light"
     },
     "output_type": "display_data"
    }
   ],
   "source": [
    "# Отзывы критиков\n",
    "(data2[data2['platform']=='PS4']\n",
    ".plot(x='critic_score', y='amount',kind='scatter', style='o', figsize=(7, 7), grid=True))"
   ]
  },
  {
   "cell_type": "code",
   "execution_count": 52,
   "metadata": {},
   "outputs": [
    {
     "data": {
      "text/plain": [
       "0.22754960627752652"
      ]
     },
     "execution_count": 52,
     "metadata": {},
     "output_type": "execute_result"
    }
   ],
   "source": [
    "data_ps4 = data2[data2['platform']=='PS4']\n",
    "data_ps4['critic_score'].corr(data_ps4['amount'])"
   ]
  },
  {
   "cell_type": "markdown",
   "metadata": {},
   "source": [
    "Вывод: Мы выяснили, что по данным из диаграммы рассеивания у нас:- слабо положительная корреляция 0.1159614931286009 по отзывам покупателей- слабо положительная корреляция 0.22754960627752652 по отзывам критиков"
   ]
  },
  {
   "cell_type": "markdown",
   "metadata": {},
   "source": [
    "#### Соотнесите выводы с продажами игр на других платформах."
   ]
  },
  {
   "cell_type": "code",
   "execution_count": 14,
   "metadata": {},
   "outputs": [
    {
     "data": {
      "text/html": [
       "<div>\n",
       "<style scoped>\n",
       "    .dataframe tbody tr th:only-of-type {\n",
       "        vertical-align: middle;\n",
       "    }\n",
       "\n",
       "    .dataframe tbody tr th {\n",
       "        vertical-align: top;\n",
       "    }\n",
       "\n",
       "    .dataframe thead th {\n",
       "        text-align: right;\n",
       "    }\n",
       "</style>\n",
       "<table border=\"1\" class=\"dataframe\">\n",
       "  <thead>\n",
       "    <tr style=\"text-align: right;\">\n",
       "      <th></th>\n",
       "      <th>count</th>\n",
       "      <th>mean</th>\n",
       "      <th>std</th>\n",
       "      <th>min</th>\n",
       "      <th>25%</th>\n",
       "      <th>50%</th>\n",
       "      <th>75%</th>\n",
       "      <th>max</th>\n",
       "    </tr>\n",
       "    <tr>\n",
       "      <th>platform</th>\n",
       "      <th></th>\n",
       "      <th></th>\n",
       "      <th></th>\n",
       "      <th></th>\n",
       "      <th></th>\n",
       "      <th></th>\n",
       "      <th></th>\n",
       "      <th></th>\n",
       "    </tr>\n",
       "  </thead>\n",
       "  <tbody>\n",
       "    <tr>\n",
       "      <th>Wii</th>\n",
       "      <td>1320.0</td>\n",
       "      <td>0.687508</td>\n",
       "      <td>3.126609</td>\n",
       "      <td>0.01</td>\n",
       "      <td>0.0800</td>\n",
       "      <td>0.190</td>\n",
       "      <td>0.4825</td>\n",
       "      <td>82.54</td>\n",
       "    </tr>\n",
       "    <tr>\n",
       "      <th>NES</th>\n",
       "      <td>98.0</td>\n",
       "      <td>2.561735</td>\n",
       "      <td>5.108012</td>\n",
       "      <td>0.06</td>\n",
       "      <td>1.0000</td>\n",
       "      <td>1.375</td>\n",
       "      <td>2.2225</td>\n",
       "      <td>40.24</td>\n",
       "    </tr>\n",
       "    <tr>\n",
       "      <th>GB</th>\n",
       "      <td>98.0</td>\n",
       "      <td>2.606735</td>\n",
       "      <td>5.365478</td>\n",
       "      <td>0.06</td>\n",
       "      <td>0.3025</td>\n",
       "      <td>1.165</td>\n",
       "      <td>2.1650</td>\n",
       "      <td>31.38</td>\n",
       "    </tr>\n",
       "    <tr>\n",
       "      <th>DS</th>\n",
       "      <td>2151.0</td>\n",
       "      <td>0.374765</td>\n",
       "      <td>1.426451</td>\n",
       "      <td>0.01</td>\n",
       "      <td>0.0500</td>\n",
       "      <td>0.110</td>\n",
       "      <td>0.2700</td>\n",
       "      <td>29.80</td>\n",
       "    </tr>\n",
       "    <tr>\n",
       "      <th>X360</th>\n",
       "      <td>1262.0</td>\n",
       "      <td>0.769746</td>\n",
       "      <td>1.615674</td>\n",
       "      <td>0.01</td>\n",
       "      <td>0.1100</td>\n",
       "      <td>0.280</td>\n",
       "      <td>0.7575</td>\n",
       "      <td>21.82</td>\n",
       "    </tr>\n",
       "    <tr>\n",
       "      <th>PS3</th>\n",
       "      <td>1331.0</td>\n",
       "      <td>0.705973</td>\n",
       "      <td>1.391749</td>\n",
       "      <td>0.00</td>\n",
       "      <td>0.1100</td>\n",
       "      <td>0.270</td>\n",
       "      <td>0.7500</td>\n",
       "      <td>21.05</td>\n",
       "    </tr>\n",
       "    <tr>\n",
       "      <th>PS2</th>\n",
       "      <td>2161.0</td>\n",
       "      <td>0.581106</td>\n",
       "      <td>1.137927</td>\n",
       "      <td>0.00</td>\n",
       "      <td>0.0800</td>\n",
       "      <td>0.230</td>\n",
       "      <td>0.5600</td>\n",
       "      <td>20.81</td>\n",
       "    </tr>\n",
       "    <tr>\n",
       "      <th>SNES</th>\n",
       "      <td>239.0</td>\n",
       "      <td>0.836987</td>\n",
       "      <td>1.869469</td>\n",
       "      <td>0.01</td>\n",
       "      <td>0.1350</td>\n",
       "      <td>0.320</td>\n",
       "      <td>0.7050</td>\n",
       "      <td>20.62</td>\n",
       "    </tr>\n",
       "    <tr>\n",
       "      <th>GBA</th>\n",
       "      <td>822.0</td>\n",
       "      <td>0.386679</td>\n",
       "      <td>0.896897</td>\n",
       "      <td>0.01</td>\n",
       "      <td>0.0525</td>\n",
       "      <td>0.160</td>\n",
       "      <td>0.3900</td>\n",
       "      <td>15.84</td>\n",
       "    </tr>\n",
       "    <tr>\n",
       "      <th>PS4</th>\n",
       "      <td>392.0</td>\n",
       "      <td>0.801378</td>\n",
       "      <td>1.609456</td>\n",
       "      <td>0.01</td>\n",
       "      <td>0.0600</td>\n",
       "      <td>0.200</td>\n",
       "      <td>0.7300</td>\n",
       "      <td>14.63</td>\n",
       "    </tr>\n",
       "    <tr>\n",
       "      <th>3DS</th>\n",
       "      <td>520.0</td>\n",
       "      <td>0.498077</td>\n",
       "      <td>1.430876</td>\n",
       "      <td>0.01</td>\n",
       "      <td>0.0500</td>\n",
       "      <td>0.120</td>\n",
       "      <td>0.3300</td>\n",
       "      <td>14.60</td>\n",
       "    </tr>\n",
       "    <tr>\n",
       "      <th>N64</th>\n",
       "      <td>319.0</td>\n",
       "      <td>0.685517</td>\n",
       "      <td>1.316733</td>\n",
       "      <td>0.01</td>\n",
       "      <td>0.1350</td>\n",
       "      <td>0.270</td>\n",
       "      <td>0.5950</td>\n",
       "      <td>11.90</td>\n",
       "    </tr>\n",
       "    <tr>\n",
       "      <th>PS</th>\n",
       "      <td>1197.0</td>\n",
       "      <td>0.610576</td>\n",
       "      <td>1.054502</td>\n",
       "      <td>0.01</td>\n",
       "      <td>0.1100</td>\n",
       "      <td>0.260</td>\n",
       "      <td>0.6600</td>\n",
       "      <td>10.95</td>\n",
       "    </tr>\n",
       "    <tr>\n",
       "      <th>XB</th>\n",
       "      <td>824.0</td>\n",
       "      <td>0.312791</td>\n",
       "      <td>0.534791</td>\n",
       "      <td>0.01</td>\n",
       "      <td>0.0600</td>\n",
       "      <td>0.150</td>\n",
       "      <td>0.3500</td>\n",
       "      <td>8.48</td>\n",
       "    </tr>\n",
       "    <tr>\n",
       "      <th>PC</th>\n",
       "      <td>974.0</td>\n",
       "      <td>0.266448</td>\n",
       "      <td>0.675577</td>\n",
       "      <td>0.01</td>\n",
       "      <td>0.0200</td>\n",
       "      <td>0.050</td>\n",
       "      <td>0.1700</td>\n",
       "      <td>8.01</td>\n",
       "    </tr>\n",
       "    <tr>\n",
       "      <th>2600</th>\n",
       "      <td>133.0</td>\n",
       "      <td>0.729173</td>\n",
       "      <td>0.917799</td>\n",
       "      <td>0.07</td>\n",
       "      <td>0.3000</td>\n",
       "      <td>0.460</td>\n",
       "      <td>0.7800</td>\n",
       "      <td>7.81</td>\n",
       "    </tr>\n",
       "    <tr>\n",
       "      <th>PSP</th>\n",
       "      <td>1209.0</td>\n",
       "      <td>0.243218</td>\n",
       "      <td>0.520210</td>\n",
       "      <td>0.01</td>\n",
       "      <td>0.0300</td>\n",
       "      <td>0.090</td>\n",
       "      <td>0.2300</td>\n",
       "      <td>7.68</td>\n",
       "    </tr>\n",
       "    <tr>\n",
       "      <th>XOne</th>\n",
       "      <td>247.0</td>\n",
       "      <td>0.645020</td>\n",
       "      <td>1.036139</td>\n",
       "      <td>0.01</td>\n",
       "      <td>0.0600</td>\n",
       "      <td>0.220</td>\n",
       "      <td>0.6850</td>\n",
       "      <td>7.39</td>\n",
       "    </tr>\n",
       "    <tr>\n",
       "      <th>WiiU</th>\n",
       "      <td>147.0</td>\n",
       "      <td>0.559116</td>\n",
       "      <td>1.058836</td>\n",
       "      <td>0.01</td>\n",
       "      <td>0.0800</td>\n",
       "      <td>0.220</td>\n",
       "      <td>0.5250</td>\n",
       "      <td>7.09</td>\n",
       "    </tr>\n",
       "    <tr>\n",
       "      <th>GC</th>\n",
       "      <td>556.0</td>\n",
       "      <td>0.357788</td>\n",
       "      <td>0.686346</td>\n",
       "      <td>0.01</td>\n",
       "      <td>0.0600</td>\n",
       "      <td>0.150</td>\n",
       "      <td>0.3525</td>\n",
       "      <td>7.06</td>\n",
       "    </tr>\n",
       "    <tr>\n",
       "      <th>GEN</th>\n",
       "      <td>27.0</td>\n",
       "      <td>1.050000</td>\n",
       "      <td>1.490041</td>\n",
       "      <td>0.03</td>\n",
       "      <td>0.0700</td>\n",
       "      <td>0.150</td>\n",
       "      <td>1.7050</td>\n",
       "      <td>6.02</td>\n",
       "    </tr>\n",
       "    <tr>\n",
       "      <th>DC</th>\n",
       "      <td>52.0</td>\n",
       "      <td>0.306731</td>\n",
       "      <td>0.468660</td>\n",
       "      <td>0.02</td>\n",
       "      <td>0.0775</td>\n",
       "      <td>0.135</td>\n",
       "      <td>0.2975</td>\n",
       "      <td>2.41</td>\n",
       "    </tr>\n",
       "    <tr>\n",
       "      <th>PSV</th>\n",
       "      <td>430.0</td>\n",
       "      <td>0.125744</td>\n",
       "      <td>0.212193</td>\n",
       "      <td>0.01</td>\n",
       "      <td>0.0200</td>\n",
       "      <td>0.055</td>\n",
       "      <td>0.1300</td>\n",
       "      <td>1.96</td>\n",
       "    </tr>\n",
       "    <tr>\n",
       "      <th>SAT</th>\n",
       "      <td>173.0</td>\n",
       "      <td>0.194162</td>\n",
       "      <td>0.218092</td>\n",
       "      <td>0.02</td>\n",
       "      <td>0.0800</td>\n",
       "      <td>0.120</td>\n",
       "      <td>0.2600</td>\n",
       "      <td>1.93</td>\n",
       "    </tr>\n",
       "    <tr>\n",
       "      <th>SCD</th>\n",
       "      <td>6.0</td>\n",
       "      <td>0.310000</td>\n",
       "      <td>0.584055</td>\n",
       "      <td>0.04</td>\n",
       "      <td>0.0525</td>\n",
       "      <td>0.065</td>\n",
       "      <td>0.1225</td>\n",
       "      <td>1.50</td>\n",
       "    </tr>\n",
       "    <tr>\n",
       "      <th>WS</th>\n",
       "      <td>6.0</td>\n",
       "      <td>0.236667</td>\n",
       "      <td>0.159457</td>\n",
       "      <td>0.03</td>\n",
       "      <td>0.1725</td>\n",
       "      <td>0.215</td>\n",
       "      <td>0.2725</td>\n",
       "      <td>0.51</td>\n",
       "    </tr>\n",
       "    <tr>\n",
       "      <th>NG</th>\n",
       "      <td>12.0</td>\n",
       "      <td>0.120000</td>\n",
       "      <td>0.082241</td>\n",
       "      <td>0.02</td>\n",
       "      <td>0.0550</td>\n",
       "      <td>0.100</td>\n",
       "      <td>0.2000</td>\n",
       "      <td>0.25</td>\n",
       "    </tr>\n",
       "    <tr>\n",
       "      <th>TG16</th>\n",
       "      <td>2.0</td>\n",
       "      <td>0.080000</td>\n",
       "      <td>0.084853</td>\n",
       "      <td>0.02</td>\n",
       "      <td>0.0500</td>\n",
       "      <td>0.080</td>\n",
       "      <td>0.1100</td>\n",
       "      <td>0.14</td>\n",
       "    </tr>\n",
       "    <tr>\n",
       "      <th>3DO</th>\n",
       "      <td>3.0</td>\n",
       "      <td>0.033333</td>\n",
       "      <td>0.023094</td>\n",
       "      <td>0.02</td>\n",
       "      <td>0.0200</td>\n",
       "      <td>0.020</td>\n",
       "      <td>0.0400</td>\n",
       "      <td>0.06</td>\n",
       "    </tr>\n",
       "    <tr>\n",
       "      <th>GG</th>\n",
       "      <td>1.0</td>\n",
       "      <td>0.040000</td>\n",
       "      <td>NaN</td>\n",
       "      <td>0.04</td>\n",
       "      <td>0.0400</td>\n",
       "      <td>0.040</td>\n",
       "      <td>0.0400</td>\n",
       "      <td>0.04</td>\n",
       "    </tr>\n",
       "    <tr>\n",
       "      <th>PCFX</th>\n",
       "      <td>1.0</td>\n",
       "      <td>0.030000</td>\n",
       "      <td>NaN</td>\n",
       "      <td>0.03</td>\n",
       "      <td>0.0300</td>\n",
       "      <td>0.030</td>\n",
       "      <td>0.0300</td>\n",
       "      <td>0.03</td>\n",
       "    </tr>\n",
       "  </tbody>\n",
       "</table>\n",
       "</div>"
      ],
      "text/plain": [
       "           count      mean       std   min     25%    50%     75%    max\n",
       "platform                                                                \n",
       "Wii       1320.0  0.687508  3.126609  0.01  0.0800  0.190  0.4825  82.54\n",
       "NES         98.0  2.561735  5.108012  0.06  1.0000  1.375  2.2225  40.24\n",
       "GB          98.0  2.606735  5.365478  0.06  0.3025  1.165  2.1650  31.38\n",
       "DS        2151.0  0.374765  1.426451  0.01  0.0500  0.110  0.2700  29.80\n",
       "X360      1262.0  0.769746  1.615674  0.01  0.1100  0.280  0.7575  21.82\n",
       "PS3       1331.0  0.705973  1.391749  0.00  0.1100  0.270  0.7500  21.05\n",
       "PS2       2161.0  0.581106  1.137927  0.00  0.0800  0.230  0.5600  20.81\n",
       "SNES       239.0  0.836987  1.869469  0.01  0.1350  0.320  0.7050  20.62\n",
       "GBA        822.0  0.386679  0.896897  0.01  0.0525  0.160  0.3900  15.84\n",
       "PS4        392.0  0.801378  1.609456  0.01  0.0600  0.200  0.7300  14.63\n",
       "3DS        520.0  0.498077  1.430876  0.01  0.0500  0.120  0.3300  14.60\n",
       "N64        319.0  0.685517  1.316733  0.01  0.1350  0.270  0.5950  11.90\n",
       "PS        1197.0  0.610576  1.054502  0.01  0.1100  0.260  0.6600  10.95\n",
       "XB         824.0  0.312791  0.534791  0.01  0.0600  0.150  0.3500   8.48\n",
       "PC         974.0  0.266448  0.675577  0.01  0.0200  0.050  0.1700   8.01\n",
       "2600       133.0  0.729173  0.917799  0.07  0.3000  0.460  0.7800   7.81\n",
       "PSP       1209.0  0.243218  0.520210  0.01  0.0300  0.090  0.2300   7.68\n",
       "XOne       247.0  0.645020  1.036139  0.01  0.0600  0.220  0.6850   7.39\n",
       "WiiU       147.0  0.559116  1.058836  0.01  0.0800  0.220  0.5250   7.09\n",
       "GC         556.0  0.357788  0.686346  0.01  0.0600  0.150  0.3525   7.06\n",
       "GEN         27.0  1.050000  1.490041  0.03  0.0700  0.150  1.7050   6.02\n",
       "DC          52.0  0.306731  0.468660  0.02  0.0775  0.135  0.2975   2.41\n",
       "PSV        430.0  0.125744  0.212193  0.01  0.0200  0.055  0.1300   1.96\n",
       "SAT        173.0  0.194162  0.218092  0.02  0.0800  0.120  0.2600   1.93\n",
       "SCD          6.0  0.310000  0.584055  0.04  0.0525  0.065  0.1225   1.50\n",
       "WS           6.0  0.236667  0.159457  0.03  0.1725  0.215  0.2725   0.51\n",
       "NG          12.0  0.120000  0.082241  0.02  0.0550  0.100  0.2000   0.25\n",
       "TG16         2.0  0.080000  0.084853  0.02  0.0500  0.080  0.1100   0.14\n",
       "3DO          3.0  0.033333  0.023094  0.02  0.0200  0.020  0.0400   0.06\n",
       "GG           1.0  0.040000       NaN  0.04  0.0400  0.040  0.0400   0.04\n",
       "PCFX         1.0  0.030000       NaN  0.03  0.0300  0.030  0.0300   0.03"
      ]
     },
     "execution_count": 14,
     "metadata": {},
     "output_type": "execute_result"
    }
   ],
   "source": [
    "# Применим переменную data со всеми платформами\n",
    "data.groupby('platform')['amount'].describe().sort_values(\n",
    "    by='max', ascending=False)"
   ]
  },
  {
   "cell_type": "code",
   "execution_count": 52,
   "metadata": {},
   "outputs": [
    {
     "data": {
      "text/plain": [
       "0.25936556441201697"
      ]
     },
     "execution_count": 52,
     "metadata": {},
     "output_type": "execute_result"
    }
   ],
   "source": [
    "#Посчитаем корреляцию для PS2\n",
    "data_PS2 = data[data['platform']=='PS2']\n",
    "data_PS2['user_score'].corr(data_PS2['amount']) "
   ]
  },
  {
   "cell_type": "code",
   "execution_count": 53,
   "metadata": {},
   "outputs": [
    {
     "data": {
      "text/plain": [
       "0.30072171894825006"
      ]
     },
     "execution_count": 53,
     "metadata": {},
     "output_type": "execute_result"
    }
   ],
   "source": [
    "data_PS2 = data[data['platform']=='PS2']\n",
    "data_PS2['critic_score'].corr(data_PS2['amount'])"
   ]
  },
  {
   "cell_type": "markdown",
   "metadata": {},
   "source": [
    "Вывод:слабо положительная корреляция 0.25936556441201697 по отзывам покупателей- слабо положительная корреляция 0.30072171894825006 по отзывам критиков"
   ]
  },
  {
   "cell_type": "code",
   "execution_count": 57,
   "metadata": {},
   "outputs": [
    {
     "data": {
      "text/plain": [
       "0.12171152458232884"
      ]
     },
     "execution_count": 57,
     "metadata": {},
     "output_type": "execute_result"
    }
   ],
   "source": [
    "#Посчитаем корреляцию для XOne\n",
    "data_xb = data[data['platform']=='XOne']\n",
    "data_xb['user_score'].corr(data_xb['amount']) "
   ]
  },
  {
   "cell_type": "code",
   "execution_count": 56,
   "metadata": {},
   "outputs": [
    {
     "data": {
      "text/plain": [
       "0.2748391874944539"
      ]
     },
     "execution_count": 56,
     "metadata": {},
     "output_type": "execute_result"
    }
   ],
   "source": [
    "data_xb = data[data['platform']=='XOne']\n",
    "data_xb['critic_score'].corr(data_xb['amount']) "
   ]
  },
  {
   "cell_type": "markdown",
   "metadata": {},
   "source": [
    "Вывод:слабо положительная корреляция0.12171152458232884 по отзывам покупателей- слабо положительная корреляция 0.2748391874944539 по отзывам критиков"
   ]
  },
  {
   "cell_type": "code",
   "execution_count": 58,
   "metadata": {},
   "outputs": [
    {
     "data": {
      "text/plain": [
       "0.20727444033968057"
      ]
     },
     "execution_count": 58,
     "metadata": {},
     "output_type": "execute_result"
    }
   ],
   "source": [
    "#Посчитаем корреляцию для XOne\n",
    "data_X360 = data[data['platform']=='X360']\n",
    "data_X360['user_score'].corr(data_X360['amount']) "
   ]
  },
  {
   "cell_type": "code",
   "execution_count": 59,
   "metadata": {},
   "outputs": [
    {
     "data": {
      "text/plain": [
       "0.31179658742695127"
      ]
     },
     "execution_count": 59,
     "metadata": {},
     "output_type": "execute_result"
    }
   ],
   "source": [
    "data_X360 = data[data['platform']=='X360']\n",
    "data_X360['critic_score'].corr(data_X360['amount']) "
   ]
  },
  {
   "cell_type": "markdown",
   "metadata": {},
   "source": [
    "Вывод:слабо положительная корреляция 0.20727444033968057 по отзывам покупателей- слабо положительная корреляция 0.31179658742695127 по отзывам критиков"
   ]
  },
  {
   "cell_type": "markdown",
   "metadata": {},
   "source": [
    "#### Посмотрите на общее распределение игр по жанрам. Что можно сказать о самых прибыльных жанрах? Выделяются ли жанры с высокими и низкими продажами?"
   ]
  },
  {
   "cell_type": "code",
   "execution_count": 60,
   "metadata": {},
   "outputs": [
    {
     "data": {
      "text/plain": [
       "<AxesSubplot:xlabel='genre'>"
      ]
     },
     "execution_count": 60,
     "metadata": {},
     "output_type": "execute_result"
    },
    {
     "data": {
      "image/png": "[encoded data removed]",
      "text/plain": [
       "<Figure size 1080x504 with 1 Axes>"
      ]
     },
     "metadata": {
      "needs_background": "light"
     },
     "output_type": "display_data"
    }
   ],
   "source": [
    "# посмотрим популярность жанров\n",
    "(\n",
    "data.pivot_table(index='genre', values='amount',aggfunc='median')\n",
    ".plot(grid=True, figsize=(15, 7),style='o-')\n",
    ")"
   ]
  },
  {
   "cell_type": "markdown",
   "metadata": {},
   "source": [
    "Вывод: Популярные жанры:  Platform,Fighting,Shooter,Sports,Action"
   ]
  },
  {
   "cell_type": "markdown",
   "metadata": {},
   "source": [
    "### Составьте портрет пользователя каждого региона"
   ]
  },
  {
   "cell_type": "markdown",
   "metadata": {},
   "source": [
    "#### Определите для пользователя каждого региона (NA, EU, JP): "
   ]
  },
  {
   "cell_type": "code",
   "execution_count": 55,
   "metadata": {},
   "outputs": [
    {
     "data": {
      "text/plain": [
       "platform\n",
       "X360    602.47\n",
       "PS2     583.84\n",
       "Wii     496.90\n",
       "PS3     393.49\n",
       "DS      382.40\n",
       "Name: na_sales, dtype: float64"
      ]
     },
     "execution_count": 55,
     "metadata": {},
     "output_type": "execute_result"
    }
   ],
   "source": [
    "#Для пользователя NA.Самые популярные платформы (топ-5).\n",
    "NA_P = data.groupby('platform')['na_sales'].sum().sort_values(ascending=False).head()\n",
    "NA_P"
   ]
  },
  {
   "cell_type": "code",
   "execution_count": 56,
   "metadata": {},
   "outputs": [
    {
     "data": {
      "text/plain": [
       "platform\n",
       "PS2     1255.77\n",
       "X360     971.42\n",
       "PS3      939.65\n",
       "Wii      907.51\n",
       "DS       806.12\n",
       "Name: amount, dtype: float64"
      ]
     },
     "execution_count": 56,
     "metadata": {},
     "output_type": "execute_result"
    }
   ],
   "source": [
    "#Продажи \n",
    "na_p1 = data.groupby('platform')['amount'].sum().sort_values(ascending=False).head()\n",
    "na_p1"
   ]
  },
  {
   "cell_type": "code",
   "execution_count": 57,
   "metadata": {},
   "outputs": [
    {
     "data": {
      "text/plain": [
       "genre\n",
       "Action      879.01\n",
       "Sports      684.43\n",
       "Shooter     592.24\n",
       "Platform    445.50\n",
       "Misc        407.27\n",
       "Name: na_sales, dtype: float64"
      ]
     },
     "execution_count": 57,
     "metadata": {},
     "output_type": "execute_result"
    }
   ],
   "source": [
    "#Самые популярные жанры (топ-5) \n",
    "na_g = data.groupby('genre')['na_sales'].sum().sort_values(ascending=False).head()\n",
    "na_g"
   ]
  },
  {
   "cell_type": "code",
   "execution_count": 30,
   "metadata": {},
   "outputs": [
    {
     "data": {
      "text/plain": [
       "rating\n",
       "E         1292.99\n",
       "unknow    1240.68\n",
       "T          759.75\n",
       "M          748.48\n",
       "E10+       353.32\n",
       "Name: na_sales, dtype: float64"
      ]
     },
     "execution_count": 30,
     "metadata": {},
     "output_type": "execute_result"
    }
   ],
   "source": [
    "#Рейтинг\n",
    "na_g1 = data.groupby('rating')['na_sales'].sum().sort_values(ascending=False).head()\n",
    "na_g1"
   ]
  },
  {
   "cell_type": "markdown",
   "metadata": {},
   "source": [
    "ВЫВОД:\n",
    "Для пользователей Северной Америке самые популярные платформы:X360,PS2,Wii,PS3,DS\n",
    "Самые популярные жанры:Action,Sports,Shooter,Platform,Misc\n",
    "В у рейтинга 'E' - «Для всех» продаж болше всего."
   ]
  },
  {
   "cell_type": "code",
   "execution_count": 59,
   "metadata": {},
   "outputs": [
    {
     "data": {
      "text/plain": [
       "platform\n",
       "PS2     339.29\n",
       "PS3     330.29\n",
       "X360    270.76\n",
       "Wii     262.21\n",
       "PS      213.61\n",
       "Name: eu_sales, dtype: float64"
      ]
     },
     "execution_count": 59,
     "metadata": {},
     "output_type": "execute_result"
    }
   ],
   "source": [
    "# Для пользователя EU.Самые популярные платформы (топ-5)\n",
    "eu_p = data.groupby('platform')['eu_sales'].sum().sort_values(ascending=False).head()\n",
    "eu_p"
   ]
  },
  {
   "cell_type": "code",
   "execution_count": 60,
   "metadata": {},
   "outputs": [
    {
     "data": {
      "text/plain": [
       "platform\n",
       "PS2     1255.77\n",
       "X360     971.42\n",
       "PS3      939.65\n",
       "Wii      907.51\n",
       "DS       806.12\n",
       "Name: amount, dtype: float64"
      ]
     },
     "execution_count": 60,
     "metadata": {},
     "output_type": "execute_result"
    }
   ],
   "source": [
    "eu_p1 = data.groupby('platform')['amount'].sum().sort_values(ascending=False).head()\n",
    "eu_p1"
   ]
  },
  {
   "cell_type": "code",
   "execution_count": 61,
   "metadata": {},
   "outputs": [
    {
     "data": {
      "text/plain": [
       "genre\n",
       "Action     519.13\n",
       "Sports     376.79\n",
       "Shooter    317.34\n",
       "Racing     236.51\n",
       "Misc       212.74\n",
       "Name: eu_sales, dtype: float64"
      ]
     },
     "execution_count": 61,
     "metadata": {},
     "output_type": "execute_result"
    }
   ],
   "source": [
    "#Самые популярные жанры (топ-5)\n",
    "eu_g = data.groupby('genre')['eu_sales'].sum().sort_values(ascending=False).head()\n",
    "eu_g"
   ]
  },
  {
   "cell_type": "code",
   "execution_count": 31,
   "metadata": {},
   "outputs": [
    {
     "data": {
      "text/plain": [
       "rating\n",
       "E         710.25\n",
       "unknow    613.30\n",
       "M         483.97\n",
       "T         427.03\n",
       "E10+      188.52\n",
       "Name: eu_sales, dtype: float64"
      ]
     },
     "execution_count": 31,
     "metadata": {},
     "output_type": "execute_result"
    }
   ],
   "source": [
    "#Рейтинг\n",
    "eu_g1 = data.groupby('rating')['eu_sales'].sum().sort_values(ascending=False).head()\n",
    "eu_g1"
   ]
  },
  {
   "cell_type": "markdown",
   "metadata": {},
   "source": [
    "ВЫВОД:\n",
    "Для пользователей Евррпы самые популярные платформы:PS2,PS3,X360,Wii,DS\n",
    "Самые популярные жанры:Action,Sports,Shooter,Platform,Misc\n",
    "В у рейтинга 'E' - «Для всех» продаж болше всего."
   ]
  },
  {
   "cell_type": "code",
   "execution_count": 32,
   "metadata": {},
   "outputs": [
    {
     "data": {
      "text/plain": [
       "platform\n",
       "DS      175.57\n",
       "PS      139.82\n",
       "PS2     139.20\n",
       "SNES    116.55\n",
       "3DS     100.67\n",
       "Name: jp_sales, dtype: float64"
      ]
     },
     "execution_count": 32,
     "metadata": {},
     "output_type": "execute_result"
    }
   ],
   "source": [
    "# Для пользователя JP.Самые популярные платформы (топ-5)\n",
    "jp_p = data.groupby('platform')['jp_sales'].sum().sort_values(ascending=False).head()\n",
    "jp_p"
   ]
  },
  {
   "cell_type": "code",
   "execution_count": 64,
   "metadata": {},
   "outputs": [
    {
     "data": {
      "text/plain": [
       "genre\n",
       "Role-Playing    355.41\n",
       "Action          161.43\n",
       "Sports          135.54\n",
       "Platform        130.83\n",
       "Misc            108.11\n",
       "Name: jp_sales, dtype: float64"
      ]
     },
     "execution_count": 64,
     "metadata": {},
     "output_type": "execute_result"
    }
   ],
   "source": [
    "#Самые популярные жанры (топ-5)\n",
    "jp_g = data.groupby('genre')['jp_sales'].sum().sort_values(ascending=False).head()\n",
    "jp_g"
   ]
  },
  {
   "cell_type": "code",
   "execution_count": 33,
   "metadata": {},
   "outputs": [
    {
     "data": {
      "text/plain": [
       "rating\n",
       "unknow    841.93\n",
       "E         198.11\n",
       "T         151.40\n",
       "M          64.24\n",
       "E10+       40.20\n",
       "Name: jp_sales, dtype: float64"
      ]
     },
     "execution_count": 33,
     "metadata": {},
     "output_type": "execute_result"
    }
   ],
   "source": [
    "#Рейтинг\n",
    "jp_g1 = data.groupby('rating')['jp_sales'].sum().sort_values(ascending=False).head()\n",
    "jp_g1"
   ]
  },
  {
   "cell_type": "markdown",
   "metadata": {},
   "source": [
    "ВЫВОД:\n",
    "Для пользователей Японии самые популярные платформы:DS,PS,PS2,SNES,3DS\n",
    "Самые популярные жанры:Role-Playing,Action,Sports,Platform,Misc\n",
    "В у рейтинга 'unknow' - продаж болше всего."
   ]
  },
  {
   "cell_type": "markdown",
   "metadata": {},
   "source": [
    "### Проверьте гипотезы"
   ]
  },
  {
   "cell_type": "code",
   "execution_count": 69,
   "metadata": {},
   "outputs": [
    {
     "name": "stdout",
     "output_type": "stream",
     "text": [
      "p-значение: 4.935072360183574e-06\n",
      "Отвергаем нулевую гипотезу\n"
     ]
    }
   ],
   "source": [
    "# Гипотеза: средние пользовательские рейтинги платформ Xbox One и PC одинаковые.\n",
    "# H0: средние рейтинги по платформам одинаковые\n",
    "# H1: средние рейтинги по платформам разные\n",
    "\n",
    "data = data[data['user_score'] != -1]\n",
    "\n",
    "data2_xb = data[data['platform'] == 'XOne']['user_score']\n",
    "data2_pc = data[data['platform'] == 'PC']['user_score']\n",
    "\n",
    "alpha =0.05\n",
    "\n",
    "results =st.ttest_ind(\n",
    "    data2_xb, \n",
    "    data2_pc,equal_var = False)\n",
    "\n",
    "print('p-значение:',results.pvalue)\n",
    "\n",
    "if results.pvalue < alpha: \n",
    "    print(\"Отвергаем нулевую гипотезу\")\n",
    "else:\n",
    "    print(\"Не получилось отвергнуть нулевую гипотезу\")"
   ]
  },
  {
   "cell_type": "code",
   "execution_count": 68,
   "metadata": {},
   "outputs": [
    {
     "name": "stdout",
     "output_type": "stream",
     "text": [
      "p-значение: 0.10406951359049141\n",
      "Не получилось отвергнуть нулевую гипотезу\n"
     ]
    }
   ],
   "source": [
    "# Гипотеза: Средние пользовательские рейтинги жанров Action  и Sports\n",
    "# H0:средние рейтинги по жанрам одинаковые\n",
    "# H1:средние рейтинги по жанрам разные\n",
    "\n",
    "data = data[data['user_score'] != -1]\n",
    "\n",
    "data2_ac = data[data['genre'] == 'Action']['user_score']\n",
    "data2_sp = data[data['genre'] == 'Sports']['user_score']\n",
    "\n",
    "\n",
    "alpha =0.05\n",
    "results = st.ttest_ind(\n",
    "data2_ac,\n",
    "data2_sp)\n",
    "\n",
    "\n",
    "\n",
    "print('p-значение:',results.pvalue)\n",
    "\n",
    "if results.pvalue < alpha: \n",
    "    print(\"Отвергаем нулевую гипотезу\")\n",
    "else:\n",
    "    print(\"Не получилось отвергнуть нулевую гипотезу\")"
   ]
  },
  {
   "cell_type": "markdown",
   "metadata": {},
   "source": [
    "Вывод:\n",
    "В первой гипотезе:\n",
    "Результат говорит о том, что нулевая гипотеза отвергается.\n",
    "p-значение: 4.935072360183574e-06\n",
    "Во второй гипотезе:\n",
    "Результат говорит о том, что не получилось отвергнуть нулевую гипотезу\n",
    "p-значение: 0.10406951359049141\n",
    "\n"
   ]
  },
  {
   "cell_type": "markdown",
   "metadata": {},
   "source": [
    "### Напишите общий вывод"
   ]
  },
  {
   "cell_type": "markdown",
   "metadata": {},
   "source": [
    "Был анализирован период с 2014-2016 года, и в этот период у нас были выбраны 2 платформы: PS4 и XOne, которые на этот момент обладали самыми большими продажами.\n",
    "\n",
    "Жанры игр страны предпочитают разные, но большинство склоняется к жанру Action\n",
    "\n",
    "А вот ТОП рейтинг от организации ESRB можно считать категорию 'E' - «Для всех»\n"
   ]
  }
 ],
 "metadata": {
  "ExecuteTimeLog": [
   {
    "duration": 583,
    "start_time": "2022-11-14T07:37:35.051Z"
   },
   {
    "duration": 73,
    "start_time": "2022-11-14T07:37:56.377Z"
   },
   {
    "duration": 3,
    "start_time": "2022-11-14T07:59:55.926Z"
   },
   {
    "duration": 18,
    "start_time": "2022-11-14T08:00:18.746Z"
   },
   {
    "duration": 21,
    "start_time": "2022-11-14T08:00:54.023Z"
   },
   {
    "duration": 66,
    "start_time": "2022-11-14T08:03:56.198Z"
   },
   {
    "duration": 15,
    "start_time": "2022-11-14T08:04:56.546Z"
   },
   {
    "duration": 21,
    "start_time": "2022-11-14T08:07:13.272Z"
   },
   {
    "duration": 15,
    "start_time": "2022-11-14T08:10:31.507Z"
   },
   {
    "duration": 44,
    "start_time": "2022-11-14T08:12:49.487Z"
   },
   {
    "duration": 39,
    "start_time": "2022-11-14T08:13:26.985Z"
   },
   {
    "duration": 9,
    "start_time": "2022-11-14T08:14:08.677Z"
   },
   {
    "duration": 7,
    "start_time": "2022-11-14T08:14:20.502Z"
   },
   {
    "duration": 38,
    "start_time": "2022-11-14T08:14:31.943Z"
   },
   {
    "duration": 8,
    "start_time": "2022-11-14T08:15:57.501Z"
   },
   {
    "duration": 14,
    "start_time": "2022-11-14T08:16:13.707Z"
   },
   {
    "duration": 17,
    "start_time": "2022-11-14T08:17:16.389Z"
   },
   {
    "duration": 13,
    "start_time": "2022-11-14T08:17:20.208Z"
   },
   {
    "duration": 13,
    "start_time": "2022-11-14T08:17:56.380Z"
   },
   {
    "duration": 71,
    "start_time": "2022-11-14T08:21:10.363Z"
   },
   {
    "duration": 19,
    "start_time": "2022-11-14T08:21:14.145Z"
   },
   {
    "duration": 12,
    "start_time": "2022-11-14T08:21:17.021Z"
   },
   {
    "duration": 10,
    "start_time": "2022-11-14T08:29:03.819Z"
   },
   {
    "duration": 8,
    "start_time": "2022-11-14T08:29:07.467Z"
   },
   {
    "duration": 9,
    "start_time": "2022-11-14T08:29:08.515Z"
   },
   {
    "duration": 8,
    "start_time": "2022-11-14T08:29:20.202Z"
   },
   {
    "duration": 4,
    "start_time": "2022-11-14T08:30:35.836Z"
   },
   {
    "duration": 3,
    "start_time": "2022-11-14T08:30:38.793Z"
   },
   {
    "duration": 13,
    "start_time": "2022-11-14T08:31:38.894Z"
   },
   {
    "duration": 12,
    "start_time": "2022-11-14T08:31:51.223Z"
   },
   {
    "duration": 13,
    "start_time": "2022-11-14T08:31:53.390Z"
   },
   {
    "duration": 12,
    "start_time": "2022-11-14T08:32:20.913Z"
   },
   {
    "duration": 14,
    "start_time": "2022-11-14T08:32:30.093Z"
   },
   {
    "duration": 13,
    "start_time": "2022-11-14T08:32:35.659Z"
   },
   {
    "duration": 13,
    "start_time": "2022-11-14T08:37:07.747Z"
   },
   {
    "duration": 74,
    "start_time": "2022-11-14T08:37:17.264Z"
   },
   {
    "duration": 15,
    "start_time": "2022-11-14T08:37:22.312Z"
   },
   {
    "duration": 14,
    "start_time": "2022-11-14T08:37:26.159Z"
   },
   {
    "duration": 18,
    "start_time": "2022-11-14T08:37:50.303Z"
   },
   {
    "duration": 24,
    "start_time": "2022-11-14T08:37:52.774Z"
   },
   {
    "duration": 12,
    "start_time": "2022-11-14T08:39:12.252Z"
   },
   {
    "duration": 22,
    "start_time": "2022-11-14T08:45:38.280Z"
   },
   {
    "duration": 14,
    "start_time": "2022-11-14T08:47:51.261Z"
   },
   {
    "duration": 7,
    "start_time": "2022-11-14T08:47:55.556Z"
   },
   {
    "duration": 8,
    "start_time": "2022-11-14T08:48:08.121Z"
   },
   {
    "duration": 7,
    "start_time": "2022-11-14T08:48:10.521Z"
   },
   {
    "duration": 8,
    "start_time": "2022-11-14T08:48:11.141Z"
   },
   {
    "duration": 7,
    "start_time": "2022-11-14T08:48:11.645Z"
   },
   {
    "duration": 9,
    "start_time": "2022-11-14T08:48:17.173Z"
   },
   {
    "duration": 72,
    "start_time": "2022-11-14T08:48:20.715Z"
   },
   {
    "duration": 15,
    "start_time": "2022-11-14T08:48:23.719Z"
   },
   {
    "duration": 13,
    "start_time": "2022-11-14T08:48:29.221Z"
   },
   {
    "duration": 23,
    "start_time": "2022-11-14T08:48:32.666Z"
   },
   {
    "duration": 15,
    "start_time": "2022-11-14T08:48:47.168Z"
   },
   {
    "duration": 73,
    "start_time": "2022-11-14T08:48:52.535Z"
   },
   {
    "duration": 15,
    "start_time": "2022-11-14T08:48:56.101Z"
   },
   {
    "duration": 15,
    "start_time": "2022-11-14T08:48:59.809Z"
   },
   {
    "duration": 8,
    "start_time": "2022-11-14T08:49:09.870Z"
   },
   {
    "duration": 7,
    "start_time": "2022-11-14T08:49:11.663Z"
   },
   {
    "duration": 8,
    "start_time": "2022-11-14T08:49:12.475Z"
   },
   {
    "duration": 71,
    "start_time": "2022-11-14T08:49:20.200Z"
   },
   {
    "duration": 15,
    "start_time": "2022-11-14T08:49:23.816Z"
   },
   {
    "duration": 22,
    "start_time": "2022-11-14T08:49:27.542Z"
   },
   {
    "duration": 27,
    "start_time": "2022-11-14T09:24:36.610Z"
   },
   {
    "duration": 43,
    "start_time": "2022-11-14T09:25:55.231Z"
   },
   {
    "duration": 63,
    "start_time": "2022-11-14T09:26:59.722Z"
   },
   {
    "duration": 12,
    "start_time": "2022-11-14T09:29:08.131Z"
   },
   {
    "duration": 15,
    "start_time": "2022-11-14T09:29:19.511Z"
   },
   {
    "duration": 14,
    "start_time": "2022-11-14T09:29:22.932Z"
   },
   {
    "duration": 36,
    "start_time": "2022-11-14T09:29:32.538Z"
   },
   {
    "duration": 36,
    "start_time": "2022-11-14T09:30:56.751Z"
   },
   {
    "duration": 15,
    "start_time": "2022-11-14T09:31:24.287Z"
   },
   {
    "duration": 36,
    "start_time": "2022-11-14T09:32:03.977Z"
   },
   {
    "duration": 35,
    "start_time": "2022-11-14T09:32:39.817Z"
   },
   {
    "duration": 13,
    "start_time": "2022-11-14T09:32:46.762Z"
   },
   {
    "duration": 36,
    "start_time": "2022-11-14T09:32:50.259Z"
   },
   {
    "duration": 12,
    "start_time": "2022-11-14T09:33:09.441Z"
   },
   {
    "duration": 33,
    "start_time": "2022-11-14T09:33:13.778Z"
   },
   {
    "duration": 76,
    "start_time": "2022-11-14T09:33:40.442Z"
   },
   {
    "duration": 15,
    "start_time": "2022-11-14T09:33:45.035Z"
   },
   {
    "duration": 37,
    "start_time": "2022-11-14T09:33:50.463Z"
   },
   {
    "duration": 14,
    "start_time": "2022-11-14T09:33:57.752Z"
   },
   {
    "duration": 38,
    "start_time": "2022-11-14T09:34:02.082Z"
   },
   {
    "duration": 555,
    "start_time": "2022-11-14T13:54:10.435Z"
   },
   {
    "duration": 16,
    "start_time": "2022-11-14T13:54:14.698Z"
   },
   {
    "duration": 78,
    "start_time": "2022-11-14T13:54:18.520Z"
   },
   {
    "duration": 39,
    "start_time": "2022-11-14T13:54:23.719Z"
   },
   {
    "duration": 37,
    "start_time": "2022-11-14T14:03:49.294Z"
   },
   {
    "duration": 21,
    "start_time": "2022-11-14T14:11:21.514Z"
   },
   {
    "duration": 6,
    "start_time": "2022-11-14T14:12:00.639Z"
   },
   {
    "duration": 5,
    "start_time": "2022-11-14T14:12:03.325Z"
   },
   {
    "duration": 18,
    "start_time": "2022-11-14T14:12:23.506Z"
   },
   {
    "duration": 17,
    "start_time": "2022-11-14T14:19:13.406Z"
   },
   {
    "duration": 15,
    "start_time": "2022-11-14T14:28:41.233Z"
   },
   {
    "duration": 17,
    "start_time": "2022-11-14T14:28:52.991Z"
   },
   {
    "duration": 19,
    "start_time": "2022-11-14T14:34:45.130Z"
   },
   {
    "duration": 17,
    "start_time": "2022-11-14T14:35:38.102Z"
   },
   {
    "duration": 16,
    "start_time": "2022-11-14T14:36:26.217Z"
   },
   {
    "duration": 16,
    "start_time": "2022-11-14T14:40:30.019Z"
   },
   {
    "duration": 16,
    "start_time": "2022-11-14T14:41:43.239Z"
   },
   {
    "duration": 15,
    "start_time": "2022-11-14T14:43:18.814Z"
   },
   {
    "duration": 16,
    "start_time": "2022-11-14T14:44:18.459Z"
   },
   {
    "duration": 682,
    "start_time": "2022-11-14T15:38:37.524Z"
   },
   {
    "duration": 186,
    "start_time": "2022-11-14T15:41:09.039Z"
   },
   {
    "duration": 30,
    "start_time": "2022-11-14T15:42:29.419Z"
   },
   {
    "duration": 631,
    "start_time": "2022-11-14T15:46:17.551Z"
   },
   {
    "duration": 542,
    "start_time": "2022-11-14T15:47:12.079Z"
   },
   {
    "duration": 51,
    "start_time": "2022-11-14T16:29:39.025Z"
   },
   {
    "duration": 223,
    "start_time": "2022-11-14T16:30:05.663Z"
   },
   {
    "duration": 36,
    "start_time": "2022-11-14T16:31:58.471Z"
   },
   {
    "duration": 17,
    "start_time": "2022-11-14T16:32:21.190Z"
   },
   {
    "duration": 16,
    "start_time": "2022-11-14T16:32:42.110Z"
   },
   {
    "duration": 11,
    "start_time": "2022-11-14T16:33:00.054Z"
   },
   {
    "duration": 77,
    "start_time": "2022-11-14T16:33:05.497Z"
   },
   {
    "duration": 17,
    "start_time": "2022-11-14T16:33:09.044Z"
   },
   {
    "duration": 17,
    "start_time": "2022-11-14T16:33:12.353Z"
   },
   {
    "duration": 36,
    "start_time": "2022-11-14T16:33:15.540Z"
   },
   {
    "duration": 19,
    "start_time": "2022-11-14T16:33:19.329Z"
   },
   {
    "duration": 17,
    "start_time": "2022-11-14T16:33:23.762Z"
   },
   {
    "duration": 36,
    "start_time": "2022-11-14T16:33:42.636Z"
   },
   {
    "duration": 17,
    "start_time": "2022-11-14T16:36:33.602Z"
   },
   {
    "duration": 15,
    "start_time": "2022-11-14T16:36:38.925Z"
   },
   {
    "duration": 11,
    "start_time": "2022-11-14T16:36:51.199Z"
   },
   {
    "duration": 12,
    "start_time": "2022-11-14T16:36:53.492Z"
   },
   {
    "duration": 71,
    "start_time": "2022-11-14T16:36:58.257Z"
   },
   {
    "duration": 16,
    "start_time": "2022-11-14T16:37:01.586Z"
   },
   {
    "duration": 36,
    "start_time": "2022-11-14T16:37:05.669Z"
   },
   {
    "duration": 18,
    "start_time": "2022-11-14T16:37:09.397Z"
   },
   {
    "duration": 19,
    "start_time": "2022-11-14T16:37:12.335Z"
   },
   {
    "duration": 37,
    "start_time": "2022-11-14T16:37:19.257Z"
   },
   {
    "duration": 17,
    "start_time": "2022-11-14T16:38:29.734Z"
   },
   {
    "duration": 76,
    "start_time": "2022-11-14T16:38:39.079Z"
   },
   {
    "duration": 10,
    "start_time": "2022-11-14T16:38:45.855Z"
   },
   {
    "duration": 10,
    "start_time": "2022-11-14T16:38:50.133Z"
   },
   {
    "duration": 9,
    "start_time": "2022-11-14T16:38:55.318Z"
   },
   {
    "duration": 15,
    "start_time": "2022-11-14T16:39:00.533Z"
   },
   {
    "duration": 34,
    "start_time": "2022-11-14T16:39:04.210Z"
   },
   {
    "duration": 19,
    "start_time": "2022-11-14T16:39:07.662Z"
   },
   {
    "duration": 19,
    "start_time": "2022-11-14T16:39:11.105Z"
   },
   {
    "duration": 217,
    "start_time": "2022-11-14T16:39:16.061Z"
   },
   {
    "duration": 83,
    "start_time": "2022-11-14T16:40:23.394Z"
   },
   {
    "duration": 31,
    "start_time": "2022-11-14T16:40:38.082Z"
   },
   {
    "duration": 16,
    "start_time": "2022-11-14T16:41:32.130Z"
   },
   {
    "duration": 14,
    "start_time": "2022-11-14T16:41:36.214Z"
   },
   {
    "duration": 73,
    "start_time": "2022-11-14T16:41:59.073Z"
   },
   {
    "duration": 15,
    "start_time": "2022-11-14T16:42:01.877Z"
   },
   {
    "duration": 16,
    "start_time": "2022-11-14T16:42:04.623Z"
   },
   {
    "duration": 33,
    "start_time": "2022-11-14T16:42:07.752Z"
   },
   {
    "duration": 19,
    "start_time": "2022-11-14T16:42:10.758Z"
   },
   {
    "duration": 16,
    "start_time": "2022-11-14T16:42:13.584Z"
   },
   {
    "duration": 34,
    "start_time": "2022-11-14T16:42:17.621Z"
   },
   {
    "duration": 17,
    "start_time": "2022-11-14T16:52:37.827Z"
   },
   {
    "duration": 82,
    "start_time": "2022-11-14T16:52:44.109Z"
   },
   {
    "duration": 16,
    "start_time": "2022-11-14T16:52:47.610Z"
   },
   {
    "duration": 27,
    "start_time": "2022-11-14T16:52:50.421Z"
   },
   {
    "duration": 45,
    "start_time": "2022-11-14T16:52:53.032Z"
   },
   {
    "duration": 28,
    "start_time": "2022-11-14T16:52:56.566Z"
   },
   {
    "duration": 21,
    "start_time": "2022-11-14T16:52:59.446Z"
   },
   {
    "duration": 39,
    "start_time": "2022-11-14T16:53:03.572Z"
   },
   {
    "duration": 25,
    "start_time": "2022-11-14T16:53:20.958Z"
   },
   {
    "duration": 26,
    "start_time": "2022-11-14T16:53:28.062Z"
   },
   {
    "duration": 18,
    "start_time": "2022-11-14T16:53:28.658Z"
   },
   {
    "duration": 18,
    "start_time": "2022-11-14T16:53:29.952Z"
   },
   {
    "duration": 18,
    "start_time": "2022-11-14T16:53:30.730Z"
   },
   {
    "duration": 11,
    "start_time": "2022-11-14T16:53:39.478Z"
   },
   {
    "duration": 10,
    "start_time": "2022-11-14T16:53:41.268Z"
   },
   {
    "duration": 94,
    "start_time": "2022-11-14T16:54:04.407Z"
   },
   {
    "duration": 16,
    "start_time": "2022-11-14T16:54:07.925Z"
   },
   {
    "duration": 20,
    "start_time": "2022-11-14T16:54:11.042Z"
   },
   {
    "duration": 18,
    "start_time": "2022-11-14T16:54:14.972Z"
   },
   {
    "duration": 15,
    "start_time": "2022-11-14T16:54:17.552Z"
   },
   {
    "duration": 44,
    "start_time": "2022-11-14T16:54:23.955Z"
   },
   {
    "duration": 17,
    "start_time": "2022-11-14T16:54:37.055Z"
   },
   {
    "duration": 25,
    "start_time": "2022-11-14T16:54:40.682Z"
   },
   {
    "duration": 17,
    "start_time": "2022-11-14T16:55:26.676Z"
   },
   {
    "duration": 7,
    "start_time": "2022-11-14T16:55:33.233Z"
   },
   {
    "duration": 11,
    "start_time": "2022-11-14T16:55:44.674Z"
   },
   {
    "duration": 18,
    "start_time": "2022-11-14T16:55:59.802Z"
   },
   {
    "duration": 72,
    "start_time": "2022-11-14T16:56:07.881Z"
   },
   {
    "duration": 15,
    "start_time": "2022-11-14T16:56:11.450Z"
   },
   {
    "duration": 16,
    "start_time": "2022-11-14T16:56:14.299Z"
   },
   {
    "duration": 42,
    "start_time": "2022-11-14T16:56:17.039Z"
   },
   {
    "duration": 17,
    "start_time": "2022-11-14T16:56:20.474Z"
   },
   {
    "duration": 20,
    "start_time": "2022-11-14T16:56:23.001Z"
   },
   {
    "duration": 245,
    "start_time": "2022-11-14T16:56:27.187Z"
   },
   {
    "duration": 25,
    "start_time": "2022-11-14T16:56:38.081Z"
   },
   {
    "duration": 29,
    "start_time": "2022-11-14T16:59:39.603Z"
   },
   {
    "duration": 234,
    "start_time": "2022-11-14T17:00:13.516Z"
   },
   {
    "duration": 205,
    "start_time": "2022-11-14T17:00:28.454Z"
   },
   {
    "duration": 97,
    "start_time": "2022-11-14T17:00:34.657Z"
   },
   {
    "duration": 12,
    "start_time": "2022-11-14T17:00:41.331Z"
   },
   {
    "duration": 13,
    "start_time": "2022-11-14T17:00:46.177Z"
   },
   {
    "duration": 12,
    "start_time": "2022-11-14T17:01:01.523Z"
   },
   {
    "duration": 17,
    "start_time": "2022-11-14T17:01:07.257Z"
   },
   {
    "duration": 108,
    "start_time": "2022-11-14T17:01:11.630Z"
   },
   {
    "duration": 15,
    "start_time": "2022-11-14T17:01:18.259Z"
   },
   {
    "duration": 10,
    "start_time": "2022-11-14T17:01:22.337Z"
   },
   {
    "duration": 30,
    "start_time": "2022-11-14T17:01:26.255Z"
   },
   {
    "duration": 76,
    "start_time": "2022-11-14T17:01:31.272Z"
   },
   {
    "duration": 17,
    "start_time": "2022-11-14T17:01:34.404Z"
   },
   {
    "duration": 17,
    "start_time": "2022-11-14T17:01:37.268Z"
   },
   {
    "duration": 38,
    "start_time": "2022-11-14T17:01:39.717Z"
   },
   {
    "duration": 29,
    "start_time": "2022-11-14T17:01:42.839Z"
   },
   {
    "duration": 17,
    "start_time": "2022-11-14T17:01:45.246Z"
   },
   {
    "duration": 262,
    "start_time": "2022-11-14T17:01:50.076Z"
   },
   {
    "duration": 26,
    "start_time": "2022-11-14T17:01:54.936Z"
   },
   {
    "duration": 28,
    "start_time": "2022-11-14T17:01:59.138Z"
   },
   {
    "duration": 174,
    "start_time": "2022-11-14T17:02:02.313Z"
   },
   {
    "duration": 166,
    "start_time": "2022-11-14T17:02:14.530Z"
   },
   {
    "duration": 53,
    "start_time": "2022-11-14T17:20:15.449Z"
   },
   {
    "duration": 106,
    "start_time": "2022-11-14T17:20:30.660Z"
   },
   {
    "duration": 94,
    "start_time": "2022-11-14T17:20:35.562Z"
   },
   {
    "duration": 29,
    "start_time": "2022-11-14T17:20:41.871Z"
   },
   {
    "duration": 20,
    "start_time": "2022-11-14T17:20:55.239Z"
   },
   {
    "duration": 14,
    "start_time": "2022-11-14T17:20:58.904Z"
   },
   {
    "duration": 83,
    "start_time": "2022-11-14T17:21:02.316Z"
   },
   {
    "duration": 25,
    "start_time": "2022-11-14T17:21:06.174Z"
   },
   {
    "duration": 25,
    "start_time": "2022-11-14T17:21:08.776Z"
   },
   {
    "duration": 59,
    "start_time": "2022-11-14T17:21:11.838Z"
   },
   {
    "duration": 29,
    "start_time": "2022-11-14T17:21:15.149Z"
   },
   {
    "duration": 26,
    "start_time": "2022-11-14T17:21:18.483Z"
   },
   {
    "duration": 52,
    "start_time": "2022-11-14T17:21:22.958Z"
   },
   {
    "duration": 16,
    "start_time": "2022-11-14T17:21:36.291Z"
   },
   {
    "duration": 18,
    "start_time": "2022-11-14T17:21:38.079Z"
   },
   {
    "duration": 18,
    "start_time": "2022-11-14T17:21:38.727Z"
   },
   {
    "duration": 17,
    "start_time": "2022-11-14T17:21:39.143Z"
   },
   {
    "duration": 14,
    "start_time": "2022-11-14T17:21:39.460Z"
   },
   {
    "duration": 12,
    "start_time": "2022-11-14T17:21:45.698Z"
   },
   {
    "duration": 13,
    "start_time": "2022-11-14T17:21:48.817Z"
   },
   {
    "duration": 11,
    "start_time": "2022-11-14T17:23:16.861Z"
   },
   {
    "duration": 75,
    "start_time": "2022-11-14T17:23:21.236Z"
   },
   {
    "duration": 16,
    "start_time": "2022-11-14T17:23:24.251Z"
   },
   {
    "duration": 16,
    "start_time": "2022-11-14T17:23:27.167Z"
   },
   {
    "duration": 35,
    "start_time": "2022-11-14T17:23:29.863Z"
   },
   {
    "duration": 19,
    "start_time": "2022-11-14T17:23:33.411Z"
   },
   {
    "duration": 16,
    "start_time": "2022-11-14T17:23:36.613Z"
   },
   {
    "duration": 13,
    "start_time": "2022-11-14T17:23:39.431Z"
   },
   {
    "duration": 34,
    "start_time": "2022-11-14T17:23:49.809Z"
   },
   {
    "duration": 36,
    "start_time": "2022-11-14T17:24:17.930Z"
   },
   {
    "duration": 16,
    "start_time": "2022-11-14T17:24:41.939Z"
   },
   {
    "duration": 22,
    "start_time": "2022-11-14T17:24:44.785Z"
   },
   {
    "duration": 26,
    "start_time": "2022-11-14T17:24:56.438Z"
   },
   {
    "duration": 18,
    "start_time": "2022-11-14T17:25:21.254Z"
   },
   {
    "duration": 17,
    "start_time": "2022-11-14T17:25:23.963Z"
   },
   {
    "duration": 73,
    "start_time": "2022-11-14T17:25:49.461Z"
   },
   {
    "duration": 19,
    "start_time": "2022-11-14T17:25:52.767Z"
   },
   {
    "duration": 25,
    "start_time": "2022-11-14T17:25:55.914Z"
   },
   {
    "duration": 46,
    "start_time": "2022-11-14T17:25:58.484Z"
   },
   {
    "duration": 19,
    "start_time": "2022-11-14T17:26:01.492Z"
   },
   {
    "duration": 17,
    "start_time": "2022-11-14T17:26:03.855Z"
   },
   {
    "duration": 25,
    "start_time": "2022-11-14T17:26:08.309Z"
   },
   {
    "duration": 34,
    "start_time": "2022-11-14T17:27:13.536Z"
   },
   {
    "duration": 18,
    "start_time": "2022-11-14T17:29:33.435Z"
   },
   {
    "duration": 72,
    "start_time": "2022-11-14T17:29:41.084Z"
   },
   {
    "duration": 16,
    "start_time": "2022-11-14T17:29:44.383Z"
   },
   {
    "duration": 18,
    "start_time": "2022-11-14T17:29:47.284Z"
   },
   {
    "duration": 34,
    "start_time": "2022-11-14T17:29:49.693Z"
   },
   {
    "duration": 21,
    "start_time": "2022-11-14T17:29:53.253Z"
   },
   {
    "duration": 17,
    "start_time": "2022-11-14T17:29:55.930Z"
   },
   {
    "duration": 26,
    "start_time": "2022-11-14T17:30:00.738Z"
   },
   {
    "duration": 37,
    "start_time": "2022-11-14T17:30:05.323Z"
   },
   {
    "duration": 11,
    "start_time": "2022-11-14T17:31:23.074Z"
   },
   {
    "duration": 72,
    "start_time": "2022-11-14T17:31:36.465Z"
   },
   {
    "duration": 15,
    "start_time": "2022-11-14T17:31:40.478Z"
   },
   {
    "duration": 46,
    "start_time": "2022-11-14T17:31:43.315Z"
   },
   {
    "duration": 32,
    "start_time": "2022-11-14T17:31:46.462Z"
   },
   {
    "duration": 21,
    "start_time": "2022-11-14T17:31:49.164Z"
   },
   {
    "duration": 29,
    "start_time": "2022-11-14T17:31:52.603Z"
   },
   {
    "duration": 203,
    "start_time": "2022-11-14T17:31:56.723Z"
   },
   {
    "duration": 27,
    "start_time": "2022-11-14T17:32:49.857Z"
   },
   {
    "duration": 19,
    "start_time": "2022-11-14T17:35:22.570Z"
   },
   {
    "duration": 136,
    "start_time": "2022-11-14T17:35:27.514Z"
   },
   {
    "duration": 207,
    "start_time": "2022-11-14T17:37:32.448Z"
   },
   {
    "duration": 203,
    "start_time": "2022-11-14T17:37:50.187Z"
   },
   {
    "duration": 172,
    "start_time": "2022-11-14T17:48:54.532Z"
   },
   {
    "duration": 10,
    "start_time": "2022-11-14T17:52:09.192Z"
   },
   {
    "duration": 141,
    "start_time": "2022-11-14T17:52:21.649Z"
   },
   {
    "duration": 184,
    "start_time": "2022-11-14T17:53:55.862Z"
   },
   {
    "duration": 175,
    "start_time": "2022-11-14T17:54:48.910Z"
   },
   {
    "duration": 251,
    "start_time": "2022-11-14T17:55:14.560Z"
   },
   {
    "duration": 205,
    "start_time": "2022-11-14T17:55:28.453Z"
   },
   {
    "duration": 170,
    "start_time": "2022-11-14T17:55:43.421Z"
   },
   {
    "duration": 29,
    "start_time": "2022-11-14T17:58:22.533Z"
   },
   {
    "duration": 293,
    "start_time": "2022-11-14T17:58:27.327Z"
   },
   {
    "duration": 74,
    "start_time": "2022-11-14T17:58:51.256Z"
   },
   {
    "duration": 16,
    "start_time": "2022-11-14T17:58:54.793Z"
   },
   {
    "duration": 18,
    "start_time": "2022-11-14T17:58:59.252Z"
   },
   {
    "duration": 37,
    "start_time": "2022-11-14T17:59:02.181Z"
   },
   {
    "duration": 20,
    "start_time": "2022-11-14T17:59:06.483Z"
   },
   {
    "duration": 18,
    "start_time": "2022-11-14T17:59:09.423Z"
   },
   {
    "duration": 25,
    "start_time": "2022-11-14T17:59:20.750Z"
   },
   {
    "duration": 322,
    "start_time": "2022-11-14T17:59:28.910Z"
   },
   {
    "duration": 24,
    "start_time": "2022-11-14T17:59:56.208Z"
   },
   {
    "duration": 21,
    "start_time": "2022-11-14T18:00:07.966Z"
   },
   {
    "duration": 154,
    "start_time": "2022-11-14T18:00:13.046Z"
   },
   {
    "duration": 186,
    "start_time": "2022-11-14T18:00:21.198Z"
   },
   {
    "duration": 454,
    "start_time": "2022-11-14T18:03:09.057Z"
   },
   {
    "duration": 454,
    "start_time": "2022-11-14T18:07:32.909Z"
   },
   {
    "duration": 462,
    "start_time": "2022-11-14T18:08:29.363Z"
   },
   {
    "duration": 90,
    "start_time": "2022-11-14T18:09:21.645Z"
   },
   {
    "duration": 453,
    "start_time": "2022-11-14T18:09:30.926Z"
   },
   {
    "duration": 445,
    "start_time": "2022-11-14T18:09:52.114Z"
   },
   {
    "duration": 219,
    "start_time": "2022-11-14T18:10:05.979Z"
   },
   {
    "duration": 175,
    "start_time": "2022-11-14T18:10:50.715Z"
   },
   {
    "duration": 45,
    "start_time": "2022-11-15T08:34:19.268Z"
   },
   {
    "duration": 505,
    "start_time": "2022-11-15T08:34:30.612Z"
   },
   {
    "duration": 14,
    "start_time": "2022-11-15T08:34:34.906Z"
   },
   {
    "duration": 14,
    "start_time": "2022-11-15T08:34:37.743Z"
   },
   {
    "duration": 33,
    "start_time": "2022-11-15T08:34:41.120Z"
   },
   {
    "duration": 16,
    "start_time": "2022-11-15T08:34:45.524Z"
   },
   {
    "duration": 25,
    "start_time": "2022-11-15T08:34:48.800Z"
   },
   {
    "duration": 39,
    "start_time": "2022-11-15T08:34:53.546Z"
   },
   {
    "duration": 698,
    "start_time": "2022-11-15T08:34:58.092Z"
   },
   {
    "duration": 25,
    "start_time": "2022-11-15T08:35:02.704Z"
   },
   {
    "duration": 19,
    "start_time": "2022-11-15T08:35:07.555Z"
   },
   {
    "duration": 133,
    "start_time": "2022-11-15T08:35:11.303Z"
   },
   {
    "duration": 159,
    "start_time": "2022-11-15T08:35:15.277Z"
   },
   {
    "duration": 204,
    "start_time": "2022-11-15T08:35:20.724Z"
   },
   {
    "duration": 20,
    "start_time": "2022-11-15T08:35:24.308Z"
   },
   {
    "duration": 20,
    "start_time": "2022-11-15T08:38:35.176Z"
   },
   {
    "duration": 69,
    "start_time": "2022-11-15T08:39:21.915Z"
   },
   {
    "duration": 14,
    "start_time": "2022-11-15T08:39:25.619Z"
   },
   {
    "duration": 16,
    "start_time": "2022-11-15T08:39:29.894Z"
   },
   {
    "duration": 45,
    "start_time": "2022-11-15T08:39:35.257Z"
   },
   {
    "duration": 18,
    "start_time": "2022-11-15T08:39:38.764Z"
   },
   {
    "duration": 84,
    "start_time": "2022-11-15T08:40:01.292Z"
   },
   {
    "duration": 77,
    "start_time": "2022-11-15T08:42:04.399Z"
   },
   {
    "duration": 175,
    "start_time": "2022-11-15T08:48:16.032Z"
   },
   {
    "duration": 189,
    "start_time": "2022-11-15T08:49:00.240Z"
   },
   {
    "duration": 180,
    "start_time": "2022-11-15T08:51:00.710Z"
   },
   {
    "duration": 5,
    "start_time": "2022-11-15T09:24:34.396Z"
   },
   {
    "duration": 5,
    "start_time": "2022-11-15T09:24:36.952Z"
   },
   {
    "duration": 8,
    "start_time": "2022-11-15T09:24:52.270Z"
   },
   {
    "duration": 7,
    "start_time": "2022-11-15T09:26:09.341Z"
   },
   {
    "duration": 66,
    "start_time": "2022-11-15T09:27:14.898Z"
   },
   {
    "duration": 14,
    "start_time": "2022-11-15T09:27:20.022Z"
   },
   {
    "duration": 13,
    "start_time": "2022-11-15T09:27:23.047Z"
   },
   {
    "duration": 28,
    "start_time": "2022-11-15T09:27:26.206Z"
   },
   {
    "duration": 19,
    "start_time": "2022-11-15T09:27:29.714Z"
   },
   {
    "duration": 18,
    "start_time": "2022-11-15T09:27:33.969Z"
   },
   {
    "duration": 24,
    "start_time": "2022-11-15T09:27:37.947Z"
   },
   {
    "duration": 371,
    "start_time": "2022-11-15T09:27:43.812Z"
   },
   {
    "duration": 23,
    "start_time": "2022-11-15T09:27:52.480Z"
   },
   {
    "duration": 17,
    "start_time": "2022-11-15T09:27:56.233Z"
   },
   {
    "duration": 123,
    "start_time": "2022-11-15T09:27:59.161Z"
   },
   {
    "duration": 155,
    "start_time": "2022-11-15T09:28:03.027Z"
   },
   {
    "duration": 137,
    "start_time": "2022-11-15T09:28:09.709Z"
   },
   {
    "duration": 94,
    "start_time": "2022-11-15T09:28:13.962Z"
   },
   {
    "duration": 169,
    "start_time": "2022-11-15T09:28:19.345Z"
   },
   {
    "duration": 7,
    "start_time": "2022-11-15T09:28:23.796Z"
   },
   {
    "duration": 6,
    "start_time": "2022-11-15T09:30:53.772Z"
   },
   {
    "duration": 7,
    "start_time": "2022-11-15T09:32:48.674Z"
   },
   {
    "duration": 7,
    "start_time": "2022-11-15T09:33:52.976Z"
   },
   {
    "duration": 8,
    "start_time": "2022-11-15T09:36:46.815Z"
   },
   {
    "duration": 11,
    "start_time": "2022-11-15T09:37:01.041Z"
   },
   {
    "duration": 7,
    "start_time": "2022-11-15T09:37:37.416Z"
   },
   {
    "duration": 6,
    "start_time": "2022-11-15T09:37:47.772Z"
   },
   {
    "duration": 5,
    "start_time": "2022-11-15T09:45:44.521Z"
   },
   {
    "duration": 5,
    "start_time": "2022-11-15T09:45:46.585Z"
   },
   {
    "duration": 5,
    "start_time": "2022-11-15T09:45:52.119Z"
   },
   {
    "duration": 7,
    "start_time": "2022-11-15T09:46:07.295Z"
   },
   {
    "duration": 9,
    "start_time": "2022-11-15T10:00:59.632Z"
   },
   {
    "duration": 6,
    "start_time": "2022-11-15T10:01:55.204Z"
   },
   {
    "duration": 8,
    "start_time": "2022-11-15T10:09:15.690Z"
   },
   {
    "duration": 79,
    "start_time": "2022-11-15T10:38:10.091Z"
   },
   {
    "duration": 199,
    "start_time": "2022-11-15T10:38:22.400Z"
   },
   {
    "duration": 187,
    "start_time": "2022-11-15T10:38:31.052Z"
   },
   {
    "duration": 71,
    "start_time": "2022-11-15T10:38:44.921Z"
   },
   {
    "duration": 14,
    "start_time": "2022-11-15T10:38:48.850Z"
   },
   {
    "duration": 16,
    "start_time": "2022-11-15T10:39:00.946Z"
   },
   {
    "duration": 35,
    "start_time": "2022-11-15T10:39:03.659Z"
   },
   {
    "duration": 23,
    "start_time": "2022-11-15T10:39:06.788Z"
   },
   {
    "duration": 15,
    "start_time": "2022-11-15T10:39:09.967Z"
   },
   {
    "duration": 21,
    "start_time": "2022-11-15T10:39:13.708Z"
   },
   {
    "duration": 348,
    "start_time": "2022-11-15T10:39:17.217Z"
   },
   {
    "duration": 25,
    "start_time": "2022-11-15T10:39:40.489Z"
   },
   {
    "duration": 17,
    "start_time": "2022-11-15T10:39:48.258Z"
   },
   {
    "duration": 128,
    "start_time": "2022-11-15T10:39:50.863Z"
   },
   {
    "duration": 9,
    "start_time": "2022-11-15T10:52:40.050Z"
   },
   {
    "duration": 7,
    "start_time": "2022-11-15T10:53:36.685Z"
   },
   {
    "duration": 8,
    "start_time": "2022-11-15T10:54:55.338Z"
   },
   {
    "duration": 9,
    "start_time": "2022-11-15T10:57:30.490Z"
   },
   {
    "duration": 9,
    "start_time": "2022-11-15T10:57:48.048Z"
   },
   {
    "duration": 9,
    "start_time": "2022-11-15T11:26:11.198Z"
   },
   {
    "duration": 7,
    "start_time": "2022-11-15T11:27:22.977Z"
   },
   {
    "duration": 9,
    "start_time": "2022-11-15T11:27:58.136Z"
   },
   {
    "duration": 65,
    "start_time": "2022-11-15T12:12:57.499Z"
   },
   {
    "duration": 16,
    "start_time": "2022-11-15T12:13:06.897Z"
   },
   {
    "duration": 13,
    "start_time": "2022-11-15T12:13:19.028Z"
   },
   {
    "duration": 53,
    "start_time": "2022-11-15T14:41:17.505Z"
   },
   {
    "duration": 548,
    "start_time": "2022-11-15T14:41:55.852Z"
   },
   {
    "duration": 17,
    "start_time": "2022-11-15T14:42:00.579Z"
   },
   {
    "duration": 17,
    "start_time": "2022-11-15T14:42:03.167Z"
   },
   {
    "duration": 36,
    "start_time": "2022-11-15T14:42:05.857Z"
   },
   {
    "duration": 18,
    "start_time": "2022-11-15T14:42:10.068Z"
   },
   {
    "duration": 16,
    "start_time": "2022-11-15T14:42:12.974Z"
   },
   {
    "duration": 27,
    "start_time": "2022-11-15T14:42:17.024Z"
   },
   {
    "duration": 794,
    "start_time": "2022-11-15T14:42:20.483Z"
   },
   {
    "duration": 27,
    "start_time": "2022-11-15T14:42:24.225Z"
   },
   {
    "duration": 21,
    "start_time": "2022-11-15T14:42:28.725Z"
   },
   {
    "duration": 137,
    "start_time": "2022-11-15T14:42:31.920Z"
   },
   {
    "duration": 168,
    "start_time": "2022-11-15T14:42:35.681Z"
   },
   {
    "duration": 139,
    "start_time": "2022-11-15T14:42:39.312Z"
   },
   {
    "duration": 202,
    "start_time": "2022-11-15T14:42:42.928Z"
   },
   {
    "duration": 10,
    "start_time": "2022-11-15T14:42:45.972Z"
   },
   {
    "duration": 10,
    "start_time": "2022-11-15T14:42:49.073Z"
   },
   {
    "duration": 8,
    "start_time": "2022-11-15T14:42:51.618Z"
   },
   {
    "duration": 9,
    "start_time": "2022-11-15T14:42:59.208Z"
   },
   {
    "duration": 9,
    "start_time": "2022-11-15T14:43:01.994Z"
   },
   {
    "duration": 8,
    "start_time": "2022-11-15T14:43:04.768Z"
   },
   {
    "duration": 8,
    "start_time": "2022-11-15T14:43:07.607Z"
   },
   {
    "duration": 8,
    "start_time": "2022-11-15T14:43:11.099Z"
   },
   {
    "duration": 9,
    "start_time": "2022-11-15T14:43:13.280Z"
   },
   {
    "duration": 8,
    "start_time": "2022-11-15T14:43:15.557Z"
   },
   {
    "duration": 9,
    "start_time": "2022-11-15T14:43:17.994Z"
   },
   {
    "duration": 52,
    "start_time": "2022-11-15T14:43:24.198Z"
   },
   {
    "duration": 552,
    "start_time": "2022-11-15T14:44:26.996Z"
   },
   {
    "duration": 51,
    "start_time": "2022-11-15T14:44:34.137Z"
   },
   {
    "duration": 19,
    "start_time": "2022-11-15T14:44:44.719Z"
   },
   {
    "duration": 22,
    "start_time": "2022-11-15T14:45:39.813Z"
   },
   {
    "duration": 22,
    "start_time": "2022-11-15T14:47:37.522Z"
   },
   {
    "duration": 74,
    "start_time": "2022-11-15T14:48:49.136Z"
   },
   {
    "duration": 107,
    "start_time": "2022-11-15T14:48:55.049Z"
   },
   {
    "duration": 24,
    "start_time": "2022-11-15T14:49:00.904Z"
   },
   {
    "duration": 12,
    "start_time": "2022-11-15T14:51:02.415Z"
   },
   {
    "duration": 19,
    "start_time": "2022-11-15T14:51:58.951Z"
   },
   {
    "duration": 72,
    "start_time": "2022-11-15T14:52:02.926Z"
   },
   {
    "duration": 15,
    "start_time": "2022-11-15T14:52:06.912Z"
   },
   {
    "duration": 17,
    "start_time": "2022-11-15T14:52:09.481Z"
   },
   {
    "duration": 36,
    "start_time": "2022-11-15T14:52:12.776Z"
   },
   {
    "duration": 19,
    "start_time": "2022-11-15T14:52:16.530Z"
   },
   {
    "duration": 17,
    "start_time": "2022-11-15T14:52:19.224Z"
   },
   {
    "duration": 13,
    "start_time": "2022-11-15T14:52:27.029Z"
   },
   {
    "duration": 14,
    "start_time": "2022-11-15T14:52:30.324Z"
   },
   {
    "duration": 12,
    "start_time": "2022-11-15T14:52:34.443Z"
   },
   {
    "duration": 13,
    "start_time": "2022-11-15T14:53:00.258Z"
   },
   {
    "duration": 12,
    "start_time": "2022-11-15T14:57:12.230Z"
   },
   {
    "duration": 14,
    "start_time": "2022-11-15T15:06:43.520Z"
   },
   {
    "duration": 12,
    "start_time": "2022-11-15T15:10:41.441Z"
   },
   {
    "duration": 19,
    "start_time": "2022-11-15T15:16:16.038Z"
   },
   {
    "duration": 37,
    "start_time": "2022-11-15T15:17:06.322Z"
   },
   {
    "duration": 29,
    "start_time": "2022-11-15T15:20:13.593Z"
   },
   {
    "duration": 27,
    "start_time": "2022-11-15T15:20:43.371Z"
   },
   {
    "duration": 24,
    "start_time": "2022-11-15T15:26:53.846Z"
   },
   {
    "duration": 82,
    "start_time": "2022-11-15T15:27:29.038Z"
   },
   {
    "duration": 29,
    "start_time": "2022-11-15T15:27:38.925Z"
   },
   {
    "duration": 22,
    "start_time": "2022-11-15T15:31:10.039Z"
   },
   {
    "duration": 20,
    "start_time": "2022-11-15T15:31:47.456Z"
   },
   {
    "duration": 926,
    "start_time": "2022-11-15T21:20:52.327Z"
   },
   {
    "duration": 81,
    "start_time": "2022-11-15T21:20:59.527Z"
   },
   {
    "duration": 12,
    "start_time": "2022-11-15T21:21:26.536Z"
   },
   {
    "duration": 69,
    "start_time": "2022-11-15T21:21:34.550Z"
   },
   {
    "duration": 12,
    "start_time": "2022-11-15T21:21:38.515Z"
   },
   {
    "duration": 15,
    "start_time": "2022-11-15T21:21:41.388Z"
   },
   {
    "duration": 23,
    "start_time": "2022-11-15T21:21:45.075Z"
   },
   {
    "duration": 19,
    "start_time": "2022-11-15T21:22:01.562Z"
   },
   {
    "duration": 14,
    "start_time": "2022-11-15T21:22:05.803Z"
   },
   {
    "duration": 17,
    "start_time": "2022-11-15T21:22:09.636Z"
   },
   {
    "duration": 22,
    "start_time": "2022-11-15T21:22:15.224Z"
   },
   {
    "duration": 678,
    "start_time": "2022-11-15T21:22:20.061Z"
   },
   {
    "duration": 20,
    "start_time": "2022-11-15T21:22:24.973Z"
   },
   {
    "duration": 28,
    "start_time": "2022-11-15T21:22:40.880Z"
   },
   {
    "duration": 11,
    "start_time": "2022-11-15T21:23:18.164Z"
   },
   {
    "duration": 13,
    "start_time": "2022-11-15T21:25:54.638Z"
   },
   {
    "duration": 7,
    "start_time": "2022-11-15T21:41:28.502Z"
   },
   {
    "duration": 7,
    "start_time": "2022-11-15T21:41:32.259Z"
   },
   {
    "duration": 958,
    "start_time": "2022-11-16T09:51:20.624Z"
   },
   {
    "duration": 15,
    "start_time": "2022-11-16T09:51:26.153Z"
   },
   {
    "duration": 16,
    "start_time": "2022-11-16T09:51:30.098Z"
   },
   {
    "duration": 24,
    "start_time": "2022-11-16T09:51:32.918Z"
   },
   {
    "duration": 25,
    "start_time": "2022-11-16T09:51:48.759Z"
   },
   {
    "duration": 94,
    "start_time": "2022-11-16T09:51:52.197Z"
   },
   {
    "duration": 64,
    "start_time": "2022-11-16T09:51:59.479Z"
   },
   {
    "duration": 15,
    "start_time": "2022-11-16T09:52:03.367Z"
   },
   {
    "duration": 16,
    "start_time": "2022-11-16T09:52:06.217Z"
   },
   {
    "duration": 22,
    "start_time": "2022-11-16T09:52:09.011Z"
   },
   {
    "duration": 19,
    "start_time": "2022-11-16T09:52:12.749Z"
   },
   {
    "duration": 23,
    "start_time": "2022-11-16T09:52:15.828Z"
   },
   {
    "duration": 25,
    "start_time": "2022-11-16T09:52:19.757Z"
   },
   {
    "duration": 759,
    "start_time": "2022-11-16T09:52:22.765Z"
   },
   {
    "duration": 27,
    "start_time": "2022-11-16T09:52:28.112Z"
   },
   {
    "duration": 20,
    "start_time": "2022-11-16T09:52:32.393Z"
   },
   {
    "duration": 138,
    "start_time": "2022-11-16T09:52:35.917Z"
   },
   {
    "duration": 158,
    "start_time": "2022-11-16T09:52:39.441Z"
   },
   {
    "duration": 283,
    "start_time": "2022-11-16T09:52:42.929Z"
   },
   {
    "duration": 261,
    "start_time": "2022-11-16T09:53:15.144Z"
   },
   {
    "duration": 24,
    "start_time": "2022-11-16T09:53:56.600Z"
   },
   {
    "duration": 23,
    "start_time": "2022-11-16T09:54:04.536Z"
   },
   {
    "duration": 6,
    "start_time": "2022-11-16T09:54:20.351Z"
   },
   {
    "duration": 6,
    "start_time": "2022-11-16T09:54:56.727Z"
   },
   {
    "duration": 258,
    "start_time": "2022-11-16T09:55:37.065Z"
   },
   {
    "duration": 10,
    "start_time": "2022-11-16T09:58:06.668Z"
   },
   {
    "duration": 8,
    "start_time": "2022-11-16T09:58:09.699Z"
   },
   {
    "duration": 11,
    "start_time": "2022-11-16T09:58:49.299Z"
   },
   {
    "duration": 9,
    "start_time": "2022-11-16T09:58:54.873Z"
   },
   {
    "duration": 11,
    "start_time": "2022-11-16T10:00:59.800Z"
   },
   {
    "duration": 10,
    "start_time": "2022-11-16T10:04:18.436Z"
   },
   {
    "duration": 10,
    "start_time": "2022-11-16T10:04:31.830Z"
   },
   {
    "duration": 18,
    "start_time": "2022-11-16T10:06:43.710Z"
   },
   {
    "duration": 18,
    "start_time": "2022-11-16T10:07:13.535Z"
   },
   {
    "duration": 18,
    "start_time": "2022-11-16T10:08:57.276Z"
   },
   {
    "duration": 9,
    "start_time": "2022-11-16T10:09:17.616Z"
   },
   {
    "duration": 10,
    "start_time": "2022-11-16T10:09:28.220Z"
   },
   {
    "duration": 12,
    "start_time": "2022-11-16T10:11:46.377Z"
   },
   {
    "duration": 13,
    "start_time": "2022-11-16T10:11:51.148Z"
   },
   {
    "duration": 65,
    "start_time": "2022-11-16T10:12:26.156Z"
   },
   {
    "duration": 16,
    "start_time": "2022-11-16T10:12:33.206Z"
   },
   {
    "duration": 16,
    "start_time": "2022-11-16T10:12:36.840Z"
   },
   {
    "duration": 27,
    "start_time": "2022-11-16T10:12:45.230Z"
   },
   {
    "duration": 25,
    "start_time": "2022-11-16T10:13:08.779Z"
   },
   {
    "duration": 70,
    "start_time": "2022-11-16T10:32:30.390Z"
   },
   {
    "duration": 15,
    "start_time": "2022-11-16T10:32:37.020Z"
   },
   {
    "duration": 15,
    "start_time": "2022-11-16T10:32:41.020Z"
   },
   {
    "duration": 15,
    "start_time": "2022-11-16T10:32:45.699Z"
   },
   {
    "duration": 16,
    "start_time": "2022-11-16T10:34:01.929Z"
   },
   {
    "duration": 15,
    "start_time": "2022-11-16T10:34:09.038Z"
   },
   {
    "duration": 68,
    "start_time": "2022-11-16T10:34:12.784Z"
   },
   {
    "duration": 17,
    "start_time": "2022-11-16T10:34:15.865Z"
   },
   {
    "duration": 18,
    "start_time": "2022-11-16T10:34:19.185Z"
   },
   {
    "duration": 17,
    "start_time": "2022-11-16T10:34:21.871Z"
   },
   {
    "duration": 13,
    "start_time": "2022-11-16T10:34:39.950Z"
   },
   {
    "duration": 12,
    "start_time": "2022-11-16T10:34:42.514Z"
   },
   {
    "duration": 13,
    "start_time": "2022-11-16T10:34:44.925Z"
   },
   {
    "duration": 71,
    "start_time": "2022-11-16T10:35:02.541Z"
   },
   {
    "duration": 15,
    "start_time": "2022-11-16T10:35:06.092Z"
   },
   {
    "duration": 16,
    "start_time": "2022-11-16T10:35:09.264Z"
   },
   {
    "duration": 17,
    "start_time": "2022-11-16T10:35:12.988Z"
   },
   {
    "duration": 21,
    "start_time": "2022-11-16T10:35:18.950Z"
   },
   {
    "duration": 12,
    "start_time": "2022-11-16T10:35:26.127Z"
   },
   {
    "duration": 12,
    "start_time": "2022-11-16T10:35:38.880Z"
   },
   {
    "duration": 259,
    "start_time": "2022-11-16T10:35:47.249Z"
   },
   {
    "duration": 250,
    "start_time": "2022-11-16T10:35:49.924Z"
   },
   {
    "duration": 248,
    "start_time": "2022-11-16T10:35:53.625Z"
   },
   {
    "duration": 253,
    "start_time": "2022-11-16T10:36:00.682Z"
   },
   {
    "duration": 13,
    "start_time": "2022-11-16T10:39:39.966Z"
   },
   {
    "duration": 11,
    "start_time": "2022-11-16T10:40:08.203Z"
   },
   {
    "duration": 11,
    "start_time": "2022-11-16T10:40:09.296Z"
   },
   {
    "duration": 12,
    "start_time": "2022-11-16T10:40:32.799Z"
   },
   {
    "duration": 12,
    "start_time": "2022-11-16T10:40:33.804Z"
   },
   {
    "duration": 11,
    "start_time": "2022-11-16T10:41:31.114Z"
   },
   {
    "duration": 12,
    "start_time": "2022-11-16T10:41:33.636Z"
   },
   {
    "duration": 71,
    "start_time": "2022-11-16T10:42:19.473Z"
   },
   {
    "duration": 239,
    "start_time": "2022-11-16T10:42:28.618Z"
   },
   {
    "duration": 14,
    "start_time": "2022-11-16T10:43:05.157Z"
   },
   {
    "duration": 13,
    "start_time": "2022-11-16T10:43:12.948Z"
   },
   {
    "duration": 67,
    "start_time": "2022-11-16T10:43:22.908Z"
   },
   {
    "duration": 15,
    "start_time": "2022-11-16T10:43:26.364Z"
   },
   {
    "duration": 16,
    "start_time": "2022-11-16T10:43:29.731Z"
   },
   {
    "duration": 17,
    "start_time": "2022-11-16T10:43:32.723Z"
   },
   {
    "duration": 1136,
    "start_time": "2022-11-16T10:43:47.092Z"
   },
   {
    "duration": 1153,
    "start_time": "2022-11-16T10:44:29.609Z"
   },
   {
    "duration": 17,
    "start_time": "2022-11-16T10:44:53.605Z"
   },
   {
    "duration": 7,
    "start_time": "2022-11-16T10:45:03.130Z"
   },
   {
    "duration": 12,
    "start_time": "2022-11-16T10:45:18.751Z"
   },
   {
    "duration": 10,
    "start_time": "2022-11-16T10:45:22.095Z"
   },
   {
    "duration": 10,
    "start_time": "2022-11-16T10:45:23.015Z"
   },
   {
    "duration": 10,
    "start_time": "2022-11-16T10:45:23.638Z"
   },
   {
    "duration": 12,
    "start_time": "2022-11-16T10:45:24.227Z"
   },
   {
    "duration": 10,
    "start_time": "2022-11-16T10:45:24.654Z"
   },
   {
    "duration": 10,
    "start_time": "2022-11-16T10:45:24.968Z"
   },
   {
    "duration": 10,
    "start_time": "2022-11-16T10:45:34.645Z"
   },
   {
    "duration": 10,
    "start_time": "2022-11-16T10:45:35.465Z"
   },
   {
    "duration": 10,
    "start_time": "2022-11-16T10:45:50.970Z"
   },
   {
    "duration": 18,
    "start_time": "2022-11-16T10:46:51.202Z"
   },
   {
    "duration": 12,
    "start_time": "2022-11-16T10:47:16.035Z"
   },
   {
    "duration": 67,
    "start_time": "2022-11-16T10:47:21.129Z"
   },
   {
    "duration": 16,
    "start_time": "2022-11-16T10:47:27.521Z"
   },
   {
    "duration": 1152,
    "start_time": "2022-11-16T10:47:31.468Z"
   },
   {
    "duration": 1177,
    "start_time": "2022-11-16T10:47:33.531Z"
   },
   {
    "duration": 70,
    "start_time": "2022-11-16T10:47:36.798Z"
   },
   {
    "duration": 15,
    "start_time": "2022-11-16T10:47:39.980Z"
   },
   {
    "duration": 16,
    "start_time": "2022-11-16T10:47:42.623Z"
   },
   {
    "duration": 18,
    "start_time": "2022-11-16T10:47:45.579Z"
   },
   {
    "duration": 1115,
    "start_time": "2022-11-16T14:16:05.682Z"
   },
   {
    "duration": 16,
    "start_time": "2022-11-16T14:16:10.304Z"
   },
   {
    "duration": 17,
    "start_time": "2022-11-16T14:16:13.685Z"
   },
   {
    "duration": 19,
    "start_time": "2022-11-16T14:16:17.400Z"
   },
   {
    "duration": 18,
    "start_time": "2022-11-16T14:16:20.993Z"
   },
   {
    "duration": 14,
    "start_time": "2022-11-16T14:16:24.200Z"
   },
   {
    "duration": 25,
    "start_time": "2022-11-16T14:16:29.080Z"
   },
   {
    "duration": 726,
    "start_time": "2022-11-16T14:16:32.744Z"
   },
   {
    "duration": 7,
    "start_time": "2022-11-16T14:16:41.289Z"
   },
   {
    "duration": 7,
    "start_time": "2022-11-16T14:16:47.302Z"
   },
   {
    "duration": 100,
    "start_time": "2022-11-16T14:17:29.747Z"
   },
   {
    "duration": 11,
    "start_time": "2022-11-16T14:17:50.017Z"
   },
   {
    "duration": 11,
    "start_time": "2022-11-16T14:18:47.881Z"
   },
   {
    "duration": 10,
    "start_time": "2022-11-16T14:23:59.743Z"
   },
   {
    "duration": 8,
    "start_time": "2022-11-16T14:24:53.843Z"
   },
   {
    "duration": 10,
    "start_time": "2022-11-16T14:24:56.286Z"
   },
   {
    "duration": 9,
    "start_time": "2022-11-16T14:25:12.485Z"
   },
   {
    "duration": 9,
    "start_time": "2022-11-16T14:25:53.827Z"
   },
   {
    "duration": 11,
    "start_time": "2022-11-16T14:27:00.716Z"
   },
   {
    "duration": 27,
    "start_time": "2022-11-16T14:29:22.683Z"
   },
   {
    "duration": 328,
    "start_time": "2022-11-16T14:29:46.044Z"
   },
   {
    "duration": 298,
    "start_time": "2022-11-16T14:29:49.736Z"
   },
   {
    "duration": 24,
    "start_time": "2022-11-16T14:30:50.019Z"
   },
   {
    "duration": 24,
    "start_time": "2022-11-16T14:31:03.685Z"
   },
   {
    "duration": 32,
    "start_time": "2022-11-16T14:31:15.387Z"
   },
   {
    "duration": 25,
    "start_time": "2022-11-16T14:31:53.784Z"
   },
   {
    "duration": 19,
    "start_time": "2022-11-16T14:32:08.755Z"
   },
   {
    "duration": 26,
    "start_time": "2022-11-16T14:33:17.932Z"
   },
   {
    "duration": 211,
    "start_time": "2022-11-16T14:33:45.680Z"
   },
   {
    "duration": 216,
    "start_time": "2022-11-16T14:33:59.671Z"
   },
   {
    "duration": 214,
    "start_time": "2022-11-16T14:34:02.115Z"
   },
   {
    "duration": 201,
    "start_time": "2022-11-16T14:34:22.975Z"
   },
   {
    "duration": 205,
    "start_time": "2022-11-16T14:35:16.714Z"
   },
   {
    "duration": 12,
    "start_time": "2022-11-16T14:35:22.784Z"
   },
   {
    "duration": 70,
    "start_time": "2022-11-16T14:35:28.936Z"
   },
   {
    "duration": 14,
    "start_time": "2022-11-16T14:35:32.507Z"
   },
   {
    "duration": 16,
    "start_time": "2022-11-16T14:35:37.237Z"
   },
   {
    "duration": 17,
    "start_time": "2022-11-16T14:35:41.354Z"
   },
   {
    "duration": 20,
    "start_time": "2022-11-16T14:35:44.719Z"
   },
   {
    "duration": 18,
    "start_time": "2022-11-16T14:35:47.575Z"
   },
   {
    "duration": 563,
    "start_time": "2022-11-16T14:35:52.780Z"
   },
   {
    "duration": 24,
    "start_time": "2022-11-16T14:38:07.282Z"
   },
   {
    "duration": 25,
    "start_time": "2022-11-16T14:38:25.586Z"
   },
   {
    "duration": 25,
    "start_time": "2022-11-16T14:40:44.570Z"
   },
   {
    "duration": 36,
    "start_time": "2022-11-16T14:41:12.426Z"
   },
   {
    "duration": 25,
    "start_time": "2022-11-16T14:42:00.380Z"
   },
   {
    "duration": 19,
    "start_time": "2022-11-16T14:42:10.613Z"
   },
   {
    "duration": 123,
    "start_time": "2022-11-16T14:42:40.605Z"
   },
   {
    "duration": 155,
    "start_time": "2022-11-16T14:42:55.828Z"
   },
   {
    "duration": 8,
    "start_time": "2022-11-16T14:43:09.947Z"
   },
   {
    "duration": 154,
    "start_time": "2022-11-16T14:43:38.591Z"
   },
   {
    "duration": 6,
    "start_time": "2022-11-16T14:43:56.410Z"
   },
   {
    "duration": 103,
    "start_time": "2022-11-16T14:44:06.120Z"
   },
   {
    "duration": 187,
    "start_time": "2022-11-16T14:44:33.904Z"
   },
   {
    "duration": 8,
    "start_time": "2022-11-16T14:46:11.653Z"
   },
   {
    "duration": 7,
    "start_time": "2022-11-16T14:46:17.226Z"
   },
   {
    "duration": 8,
    "start_time": "2022-11-16T14:46:23.388Z"
   },
   {
    "duration": 8,
    "start_time": "2022-11-16T14:46:30.931Z"
   },
   {
    "duration": 7,
    "start_time": "2022-11-16T14:46:36.491Z"
   },
   {
    "duration": 7,
    "start_time": "2022-11-16T14:46:42.702Z"
   },
   {
    "duration": 8,
    "start_time": "2022-11-16T14:46:47.232Z"
   },
   {
    "duration": 8,
    "start_time": "2022-11-16T14:46:53.781Z"
   },
   {
    "duration": 7,
    "start_time": "2022-11-16T14:46:58.585Z"
   },
   {
    "duration": 11,
    "start_time": "2022-11-16T14:47:03.195Z"
   },
   {
    "duration": 14,
    "start_time": "2022-11-16T14:47:26.035Z"
   },
   {
    "duration": 10,
    "start_time": "2022-11-16T14:47:31.088Z"
   },
   {
    "duration": 11,
    "start_time": "2022-11-16T14:47:36.323Z"
   },
   {
    "duration": 10,
    "start_time": "2022-11-16T14:47:45.040Z"
   },
   {
    "duration": 11,
    "start_time": "2022-11-16T14:59:44.010Z"
   },
   {
    "duration": 382,
    "start_time": "2022-11-16T15:34:14.940Z"
   },
   {
    "duration": 346,
    "start_time": "2022-11-16T15:34:25.297Z"
   },
   {
    "duration": 349,
    "start_time": "2022-11-16T15:34:51.810Z"
   },
   {
    "duration": 440,
    "start_time": "2022-11-16T15:35:46.367Z"
   },
   {
    "duration": 7,
    "start_time": "2022-11-16T15:43:30.797Z"
   },
   {
    "duration": 5,
    "start_time": "2022-11-16T15:43:34.197Z"
   },
   {
    "duration": 26,
    "start_time": "2022-11-16T15:43:42.176Z"
   },
   {
    "duration": 321,
    "start_time": "2022-11-16T15:44:00.698Z"
   },
   {
    "duration": 24,
    "start_time": "2022-11-16T15:44:15.627Z"
   },
   {
    "duration": 72,
    "start_time": "2022-11-16T15:44:37.826Z"
   },
   {
    "duration": 15,
    "start_time": "2022-11-16T15:44:41.185Z"
   },
   {
    "duration": 15,
    "start_time": "2022-11-16T15:44:44.239Z"
   },
   {
    "duration": 17,
    "start_time": "2022-11-16T15:44:48.081Z"
   },
   {
    "duration": 31,
    "start_time": "2022-11-16T15:44:56.854Z"
   },
   {
    "duration": 19,
    "start_time": "2022-11-16T15:45:00.114Z"
   },
   {
    "duration": 36,
    "start_time": "2022-11-16T15:45:06.039Z"
   },
   {
    "duration": 303,
    "start_time": "2022-11-16T15:45:12.310Z"
   },
   {
    "duration": 25,
    "start_time": "2022-11-16T15:45:16.992Z"
   },
   {
    "duration": 19,
    "start_time": "2022-11-16T15:45:51.318Z"
   },
   {
    "duration": 137,
    "start_time": "2022-11-16T15:45:54.788Z"
   },
   {
    "duration": 151,
    "start_time": "2022-11-16T15:45:59.771Z"
   },
   {
    "duration": 8,
    "start_time": "2022-11-16T15:46:04.726Z"
   },
   {
    "duration": 148,
    "start_time": "2022-11-16T15:46:07.331Z"
   },
   {
    "duration": 51,
    "start_time": "2022-11-17T12:46:31.553Z"
   },
   {
    "duration": 1030,
    "start_time": "2022-11-17T12:46:37.345Z"
   },
   {
    "duration": 517,
    "start_time": "2022-11-17T12:46:47.125Z"
   },
   {
    "duration": 92,
    "start_time": "2022-11-17T12:47:08.997Z"
   },
   {
    "duration": 16,
    "start_time": "2022-11-17T12:47:12.465Z"
   },
   {
    "duration": 15,
    "start_time": "2022-11-17T12:47:15.444Z"
   },
   {
    "duration": 37,
    "start_time": "2022-11-17T12:47:18.669Z"
   },
   {
    "duration": 19,
    "start_time": "2022-11-17T12:47:22.549Z"
   },
   {
    "duration": 16,
    "start_time": "2022-11-17T12:47:25.533Z"
   },
   {
    "duration": 30,
    "start_time": "2022-11-17T12:47:29.808Z"
   },
   {
    "duration": 26,
    "start_time": "2022-11-17T12:47:44.820Z"
   },
   {
    "duration": 21,
    "start_time": "2022-11-17T12:47:49.507Z"
   },
   {
    "duration": 174,
    "start_time": "2022-11-17T12:47:54.675Z"
   },
   {
    "duration": 80,
    "start_time": "2022-11-17T12:47:59.432Z"
   },
   {
    "duration": 575,
    "start_time": "2022-11-17T12:48:03.846Z"
   },
   {
    "duration": 147,
    "start_time": "2022-11-17T12:49:07.143Z"
   },
   {
    "duration": 145,
    "start_time": "2022-11-17T12:50:07.373Z"
   },
   {
    "duration": 39,
    "start_time": "2022-11-17T12:56:04.152Z"
   },
   {
    "duration": 29,
    "start_time": "2022-11-17T12:57:03.408Z"
   },
   {
    "duration": 73,
    "start_time": "2022-11-17T12:57:09.098Z"
   },
   {
    "duration": 1173,
    "start_time": "2022-11-17T12:57:14.691Z"
   },
   {
    "duration": 1112,
    "start_time": "2022-11-17T12:57:17.702Z"
   },
   {
    "duration": 81,
    "start_time": "2022-11-17T12:57:24.737Z"
   },
   {
    "duration": 18,
    "start_time": "2022-11-17T12:57:29.225Z"
   },
   {
    "duration": 16,
    "start_time": "2022-11-17T12:57:32.287Z"
   },
   {
    "duration": 34,
    "start_time": "2022-11-17T12:57:35.309Z"
   },
   {
    "duration": 71,
    "start_time": "2022-11-17T12:58:21.199Z"
   },
   {
    "duration": 33,
    "start_time": "2022-11-17T12:58:54.235Z"
   },
   {
    "duration": 32,
    "start_time": "2022-11-17T12:59:27.903Z"
   },
   {
    "duration": 10,
    "start_time": "2022-11-17T12:59:54.709Z"
   },
   {
    "duration": 9,
    "start_time": "2022-11-17T13:00:03.811Z"
   },
   {
    "duration": 8,
    "start_time": "2022-11-17T13:00:07.892Z"
   },
   {
    "duration": 12,
    "start_time": "2022-11-17T13:00:14.009Z"
   },
   {
    "duration": 13,
    "start_time": "2022-11-17T13:07:30.591Z"
   },
   {
    "duration": 18,
    "start_time": "2022-11-17T13:07:54.369Z"
   },
   {
    "duration": 204,
    "start_time": "2022-11-17T13:08:06.984Z"
   },
   {
    "duration": 321,
    "start_time": "2022-11-17T13:10:42.781Z"
   },
   {
    "duration": 189,
    "start_time": "2022-11-17T13:10:55.311Z"
   },
   {
    "duration": 10,
    "start_time": "2022-11-17T13:44:06.162Z"
   },
   {
    "duration": 9,
    "start_time": "2022-11-17T13:44:17.598Z"
   },
   {
    "duration": 533,
    "start_time": "2022-11-17T13:45:32.193Z"
   },
   {
    "duration": 532,
    "start_time": "2022-11-17T13:45:50.874Z"
   },
   {
    "duration": 92,
    "start_time": "2022-11-17T13:45:58.433Z"
   },
   {
    "duration": 68,
    "start_time": "2022-11-17T13:46:49.391Z"
   },
   {
    "duration": 15,
    "start_time": "2022-11-17T13:46:53.418Z"
   },
   {
    "duration": 16,
    "start_time": "2022-11-17T13:46:56.734Z"
   },
   {
    "duration": 37,
    "start_time": "2022-11-17T13:47:03.370Z"
   },
   {
    "duration": 21,
    "start_time": "2022-11-17T13:47:23.892Z"
   },
   {
    "duration": 23,
    "start_time": "2022-11-17T13:47:31.167Z"
   },
   {
    "duration": 12,
    "start_time": "2022-11-17T13:47:50.253Z"
   },
   {
    "duration": 12,
    "start_time": "2022-11-17T13:47:52.527Z"
   },
   {
    "duration": 19,
    "start_time": "2022-11-17T13:48:13.030Z"
   },
   {
    "duration": 16,
    "start_time": "2022-11-17T13:48:18.210Z"
   },
   {
    "duration": 27,
    "start_time": "2022-11-17T13:48:23.116Z"
   },
   {
    "duration": 325,
    "start_time": "2022-11-17T13:48:26.834Z"
   },
   {
    "duration": 26,
    "start_time": "2022-11-17T13:48:31.762Z"
   },
   {
    "duration": 22,
    "start_time": "2022-11-17T13:48:41.056Z"
   },
   {
    "duration": 229,
    "start_time": "2022-11-17T13:48:44.413Z"
   },
   {
    "duration": 49,
    "start_time": "2022-11-17T18:05:39.644Z"
   },
   {
    "duration": 1086,
    "start_time": "2022-11-17T18:05:57.911Z"
   },
   {
    "duration": 22,
    "start_time": "2022-11-17T18:06:02.400Z"
   },
   {
    "duration": 19,
    "start_time": "2022-11-17T18:06:04.939Z"
   },
   {
    "duration": 33,
    "start_time": "2022-11-17T18:06:08.339Z"
   },
   {
    "duration": 24,
    "start_time": "2022-11-17T18:06:12.691Z"
   },
   {
    "duration": 16,
    "start_time": "2022-11-17T18:06:16.199Z"
   },
   {
    "duration": 23,
    "start_time": "2022-11-17T18:06:21.822Z"
   },
   {
    "duration": 792,
    "start_time": "2022-11-17T18:06:26.329Z"
   },
   {
    "duration": 25,
    "start_time": "2022-11-17T18:06:31.171Z"
   },
   {
    "duration": 190,
    "start_time": "2022-11-17T18:06:37.340Z"
   },
   {
    "duration": 141,
    "start_time": "2022-11-17T18:07:50.838Z"
   },
   {
    "duration": 142,
    "start_time": "2022-11-17T18:08:02.013Z"
   },
   {
    "duration": 126,
    "start_time": "2022-11-17T18:08:11.666Z"
   },
   {
    "duration": 138,
    "start_time": "2022-11-17T18:09:49.259Z"
   },
   {
    "duration": 103,
    "start_time": "2022-11-17T18:22:50.243Z"
   },
   {
    "duration": 157,
    "start_time": "2022-11-17T18:22:57.062Z"
   },
   {
    "duration": 73,
    "start_time": "2022-11-17T18:25:01.401Z"
   },
   {
    "duration": 152,
    "start_time": "2022-11-17T18:25:14.725Z"
   },
   {
    "duration": 76,
    "start_time": "2022-11-17T18:26:30.826Z"
   },
   {
    "duration": 193,
    "start_time": "2022-11-17T18:26:43.493Z"
   },
   {
    "duration": 128,
    "start_time": "2022-11-17T18:28:40.046Z"
   },
   {
    "duration": 123,
    "start_time": "2022-11-17T18:28:56.289Z"
   },
   {
    "duration": 126,
    "start_time": "2022-11-17T18:29:27.589Z"
   },
   {
    "duration": 133,
    "start_time": "2022-11-17T18:29:41.958Z"
   },
   {
    "duration": 135,
    "start_time": "2022-11-17T18:29:48.246Z"
   },
   {
    "duration": 126,
    "start_time": "2022-11-17T18:30:03.418Z"
   },
   {
    "duration": 168,
    "start_time": "2022-11-17T18:30:12.393Z"
   },
   {
    "duration": 159,
    "start_time": "2022-11-17T18:30:25.487Z"
   },
   {
    "duration": 123,
    "start_time": "2022-11-17T18:30:45.717Z"
   },
   {
    "duration": 123,
    "start_time": "2022-11-17T18:30:53.087Z"
   },
   {
    "duration": 227,
    "start_time": "2022-11-17T18:31:01.758Z"
   },
   {
    "duration": 138,
    "start_time": "2022-11-17T18:31:07.099Z"
   },
   {
    "duration": 135,
    "start_time": "2022-11-17T18:31:14.176Z"
   },
   {
    "duration": 9,
    "start_time": "2022-11-17T18:38:33.818Z"
   },
   {
    "duration": 8,
    "start_time": "2022-11-17T18:38:53.783Z"
   },
   {
    "duration": 6,
    "start_time": "2022-11-17T18:39:06.185Z"
   },
   {
    "duration": 733,
    "start_time": "2022-11-17T18:44:13.192Z"
   },
   {
    "duration": 761,
    "start_time": "2022-11-17T18:44:22.501Z"
   },
   {
    "duration": 74,
    "start_time": "2022-11-17T18:44:29.432Z"
   },
   {
    "duration": 16,
    "start_time": "2022-11-17T18:44:33.050Z"
   },
   {
    "duration": 16,
    "start_time": "2022-11-17T18:44:35.913Z"
   },
   {
    "duration": 51,
    "start_time": "2022-11-17T18:44:39.138Z"
   },
   {
    "duration": 26,
    "start_time": "2022-11-17T18:44:42.402Z"
   },
   {
    "duration": 23,
    "start_time": "2022-11-17T18:44:45.942Z"
   },
   {
    "duration": 35,
    "start_time": "2022-11-17T18:44:49.610Z"
   },
   {
    "duration": 449,
    "start_time": "2022-11-17T18:44:53.497Z"
   },
   {
    "duration": 29,
    "start_time": "2022-11-17T18:44:57.300Z"
   },
   {
    "duration": 21,
    "start_time": "2022-11-17T18:45:02.157Z"
   },
   {
    "duration": 131,
    "start_time": "2022-11-17T18:45:05.067Z"
   },
   {
    "duration": 148,
    "start_time": "2022-11-17T18:45:09.400Z"
   },
   {
    "duration": 8,
    "start_time": "2022-11-17T18:45:22.971Z"
   },
   {
    "duration": 12,
    "start_time": "2022-11-17T18:45:26.313Z"
   },
   {
    "duration": 7,
    "start_time": "2022-11-17T18:45:30.664Z"
   },
   {
    "duration": 7,
    "start_time": "2022-11-17T18:45:33.455Z"
   },
   {
    "duration": 7,
    "start_time": "2022-11-17T18:46:26.698Z"
   },
   {
    "duration": 8,
    "start_time": "2022-11-17T19:17:57.308Z"
   },
   {
    "duration": 7,
    "start_time": "2022-11-17T19:27:40.497Z"
   },
   {
    "duration": 7,
    "start_time": "2022-11-17T19:27:42.942Z"
   },
   {
    "duration": 161,
    "start_time": "2022-11-17T19:30:45.777Z"
   },
   {
    "duration": 1163,
    "start_time": "2023-02-05T11:38:34.681Z"
   },
   {
    "duration": 201,
    "start_time": "2023-02-05T11:38:42.229Z"
   }
  ],
  "kernelspec": {
   "display_name": "Python 3 (ipykernel)",
   "language": "python",
   "name": "python3"
  },
  "language_info": {
   "codemirror_mode": {
    "name": "ipython",
    "version": 3
   },
   "file_extension": ".py",
   "mimetype": "text/x-python",
   "name": "python",
   "nbconvert_exporter": "python",
   "pygments_lexer": "ipython3",
   "version": "3.9.5"
  },
  "toc": {
   "base_numbering": 1,
   "nav_menu": {},
   "number_sections": true,
   "sideBar": true,
   "skip_h1_title": true,
   "title_cell": "Table of Contents",
   "title_sidebar": "Contents",
   "toc_cell": false,
   "toc_position": {},
   "toc_section_display": true,
   "toc_window_display": false
  }
 },
 "nbformat": 4,
 "nbformat_minor": 2
}
