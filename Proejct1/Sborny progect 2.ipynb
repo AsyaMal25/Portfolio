{
 "cells": [
  {
   "cell_type": "markdown",
   "metadata": {},
   "source": [
    "#### Анастасия, привет! \n",
    "\n",
    "Меня зовут Максим Попов, и я буду проверять твой проект. Давай будем общаться на «ты». Но если тебе комфортнее на «вы», обязательно сообщи мне об этом. \n",
    "По ходу тетрадки ты найдешь комментарии к проекту, они будут в отдельных ячейках Markdown с заголовком «Комментарий ревьюера». Постарайся учесть эти комментарии для дальнейших проектов.\n",
    "\n",
    "---\n",
    "\n",
    "Я буду отмечать комментарии цветом и примечанием. В конце заголовка комментария будет указан номер итерации проверки. Пожалуйста, не удаляй и не правь мои комментарии\n",
    "\n",
    "Критично - требует исправления, влияет на удачное выполнение проекта\n",
    "\n",
    "Рекомендация - комментарий является рекомендацией или советом. Mожешь учесть их при выполнении будущих заданий. На твое усмотрение\n",
    "\n",
    "Отлично - Так отмечены удачные решения и подходы, на которые стоит опираться в будущих проектах\n",
    "\n",
    "\n",
    "---\n",
    "<div class=\"alert alert-block alert-danger\">\n",
    "    \n",
    "\n",
    "### Комментарий от ревьюера\n",
    "Критично\n",
    "\n",
    "Такой комментарий нужно исправить обязательно, он критически влияет на удачное выполнение проекта.\n",
    "</div>\n",
    "    \n",
    "---\n",
    "\n",
    "<div class=\"alert alert-block alert-warning\">\n",
    "    \n",
    "\n",
    "### Комментарий от ревьюера\n",
    "Рекомендация\n",
    "\n",
    "Такой комментарий является рекомендацией или советом. Mожешь учесть их при выполнении будущих заданий. На твое усмотрение. \n",
    "</div>\n",
    "\n",
    "---\n",
    "\n",
    "<div class=\"alert alert-block alert-success\">\n",
    "    \n",
    "\n",
    "### Комментарий от ревьюера\n",
    "Отлично\n",
    "    \n",
    "Так отмечены удачные решения и подходы, на которые стоит опираться в будущих проектах\n",
    "</div>\n",
    "\n",
    "\n",
    "Желательно реагировать на комментарии ('исправлено', 'не понятно как исправить ошибку' и т.п.) - так мы сможем более эффективно поработать над этим проектом.\n",
    "\n",
    "---\n",
    "\n",
    "Будет здорово, если ты будешь помечать свои действия следующим образом:\n",
    "\n",
    "\n",
    "\n",
    "<div class=\"alert alert-block alert-info\">\n",
    "\n",
    "### Комментарий студента:\n",
    "\n",
    "</div>"
   ]
  },
  {
   "cell_type": "markdown",
   "metadata": {},
   "source": [
    "<div class=\"alert alert-block alert-success\">\n",
    "        \n",
    "### Комментарий от ревьюера v_1\n",
    "    \n",
    "Анастасия, отличная работа, но следующие моменты надо исправить\n",
    "    \n",
    "1. Анализ удаленных значений\n",
    "2. Проверка гипотез\n",
    "    \n",
    "Подробные комментарии по ходу работы\n",
    "    \n",
    "Желтые комментарии-рекомендации на твое усмотрение.\n",
    "    \n",
    "Если есть вопросы ко мне, можешь оставить их в отдельном комментарии\n",
    "</div>"
   ]
  },
  {
   "cell_type": "markdown",
   "metadata": {},
   "source": [
    "# Описание проекта\n",
    "Вы работаете в стартапе, который продаёт продукты питания. Нужно разобраться, как ведут себя пользователи вашего мобильного приложения.\n",
    "Изучите воронку продаж. Узнайте, как пользователи доходят до покупки. Сколько пользователей доходит до покупки, а сколько — «застревает» на предыдущих шагах? На каких именно?\n",
    "После этого исследуйте результаты A/A/B-эксперимента"
   ]
  },
  {
   "cell_type": "markdown",
   "metadata": {},
   "source": [
    "\n",
    "<div class=\"alert alert-block alert-success\">\n",
    "    \n",
    "\n",
    "### Комментарий от ревьюера v_1\n",
    "Отлично\n",
    "    \n",
    "Молодец, что в начале проекте знакомишь с ним, так работа приобретает структуру и лучше воспринимается.\n",
    "    \n",
    "Также рекомендую дать название проекту, а оглавление из плагина TOC можно перенести, установив галочку \"Add Notebook Toc Cell\"\n",
    "    \n",
    "</div>"
   ]
  },
  {
   "cell_type": "markdown",
   "metadata": {},
   "source": [
    "## Откройте файл с данными и изучите общую информацию\n",
    "Путь к файлу: /datasets/logs_exp.csv."
   ]
  },
  {
   "cell_type": "code",
   "execution_count": 5,
   "metadata": {},
   "outputs": [],
   "source": [
    "import pandas as pd\n",
    "from datetime import date\n",
    "from scipy import stats as st\n",
    "import numpy as np\n",
    "import math as mth\n",
    "import matplotlib.pyplot as plt \n",
    "import seaborn as sns\n",
    "import plotly.express as px\n",
    "from statsmodels.stats.proportion import proportions_ztest\n",
    "import warnings"
   ]
  },
  {
   "cell_type": "code",
   "execution_count": 12,
   "metadata": {},
   "outputs": [
    {
     "ename": "FileNotFoundError",
     "evalue": "[Errno 2] No such file or directory: '/datasets/logs_exp.csv'",
     "output_type": "error",
     "traceback": [
      "\u001b[1;31m---------------------------------------------------------------------------\u001b[0m",
      "\u001b[1;31mFileNotFoundError\u001b[0m                         Traceback (most recent call last)",
      "\u001b[1;32m~\\AppData\\Local\\Temp\\ipykernel_1824\\1475417887.py\u001b[0m in \u001b[0;36m<module>\u001b[1;34m\u001b[0m\n\u001b[1;32m----> 1\u001b[1;33m \u001b[0mdata\u001b[0m \u001b[1;33m=\u001b[0m \u001b[0mpd\u001b[0m\u001b[1;33m.\u001b[0m\u001b[0mread_csv\u001b[0m\u001b[1;33m(\u001b[0m\u001b[1;34m'/datasets/logs_exp.csv'\u001b[0m\u001b[1;33m,\u001b[0m \u001b[0msep\u001b[0m\u001b[1;33m=\u001b[0m\u001b[1;34m'\\t'\u001b[0m\u001b[1;33m)\u001b[0m\u001b[1;33m\u001b[0m\u001b[1;33m\u001b[0m\u001b[0m\n\u001b[0m\u001b[0;32m      2\u001b[0m \u001b[0mdata\u001b[0m\u001b[1;33m.\u001b[0m\u001b[0minfo\u001b[0m\u001b[1;33m(\u001b[0m\u001b[1;33m)\u001b[0m\u001b[1;33m\u001b[0m\u001b[1;33m\u001b[0m\u001b[0m\n\u001b[0;32m      3\u001b[0m \u001b[0mdata\u001b[0m\u001b[1;33m.\u001b[0m\u001b[0mhead\u001b[0m\u001b[1;33m(\u001b[0m\u001b[1;33m)\u001b[0m\u001b[1;33m\u001b[0m\u001b[1;33m\u001b[0m\u001b[0m\n",
      "\u001b[1;32m~\\anaconda3\\lib\\site-packages\\pandas\\util\\_decorators.py\u001b[0m in \u001b[0;36mwrapper\u001b[1;34m(*args, **kwargs)\u001b[0m\n\u001b[0;32m    309\u001b[0m                     \u001b[0mstacklevel\u001b[0m\u001b[1;33m=\u001b[0m\u001b[0mstacklevel\u001b[0m\u001b[1;33m,\u001b[0m\u001b[1;33m\u001b[0m\u001b[1;33m\u001b[0m\u001b[0m\n\u001b[0;32m    310\u001b[0m                 )\n\u001b[1;32m--> 311\u001b[1;33m             \u001b[1;32mreturn\u001b[0m \u001b[0mfunc\u001b[0m\u001b[1;33m(\u001b[0m\u001b[1;33m*\u001b[0m\u001b[0margs\u001b[0m\u001b[1;33m,\u001b[0m \u001b[1;33m**\u001b[0m\u001b[0mkwargs\u001b[0m\u001b[1;33m)\u001b[0m\u001b[1;33m\u001b[0m\u001b[1;33m\u001b[0m\u001b[0m\n\u001b[0m\u001b[0;32m    312\u001b[0m \u001b[1;33m\u001b[0m\u001b[0m\n\u001b[0;32m    313\u001b[0m         \u001b[1;32mreturn\u001b[0m \u001b[0mwrapper\u001b[0m\u001b[1;33m\u001b[0m\u001b[1;33m\u001b[0m\u001b[0m\n",
      "\u001b[1;32m~\\anaconda3\\lib\\site-packages\\pandas\\io\\parsers\\readers.py\u001b[0m in \u001b[0;36mread_csv\u001b[1;34m(filepath_or_buffer, sep, delimiter, header, names, index_col, usecols, squeeze, prefix, mangle_dupe_cols, dtype, engine, converters, true_values, false_values, skipinitialspace, skiprows, skipfooter, nrows, na_values, keep_default_na, na_filter, verbose, skip_blank_lines, parse_dates, infer_datetime_format, keep_date_col, date_parser, dayfirst, cache_dates, iterator, chunksize, compression, thousands, decimal, lineterminator, quotechar, quoting, doublequote, escapechar, comment, encoding, encoding_errors, dialect, error_bad_lines, warn_bad_lines, on_bad_lines, delim_whitespace, low_memory, memory_map, float_precision, storage_options)\u001b[0m\n\u001b[0;32m    676\u001b[0m     \u001b[0mkwds\u001b[0m\u001b[1;33m.\u001b[0m\u001b[0mupdate\u001b[0m\u001b[1;33m(\u001b[0m\u001b[0mkwds_defaults\u001b[0m\u001b[1;33m)\u001b[0m\u001b[1;33m\u001b[0m\u001b[1;33m\u001b[0m\u001b[0m\n\u001b[0;32m    677\u001b[0m \u001b[1;33m\u001b[0m\u001b[0m\n\u001b[1;32m--> 678\u001b[1;33m     \u001b[1;32mreturn\u001b[0m \u001b[0m_read\u001b[0m\u001b[1;33m(\u001b[0m\u001b[0mfilepath_or_buffer\u001b[0m\u001b[1;33m,\u001b[0m \u001b[0mkwds\u001b[0m\u001b[1;33m)\u001b[0m\u001b[1;33m\u001b[0m\u001b[1;33m\u001b[0m\u001b[0m\n\u001b[0m\u001b[0;32m    679\u001b[0m \u001b[1;33m\u001b[0m\u001b[0m\n\u001b[0;32m    680\u001b[0m \u001b[1;33m\u001b[0m\u001b[0m\n",
      "\u001b[1;32m~\\anaconda3\\lib\\site-packages\\pandas\\io\\parsers\\readers.py\u001b[0m in \u001b[0;36m_read\u001b[1;34m(filepath_or_buffer, kwds)\u001b[0m\n\u001b[0;32m    573\u001b[0m \u001b[1;33m\u001b[0m\u001b[0m\n\u001b[0;32m    574\u001b[0m     \u001b[1;31m# Create the parser.\u001b[0m\u001b[1;33m\u001b[0m\u001b[1;33m\u001b[0m\u001b[0m\n\u001b[1;32m--> 575\u001b[1;33m     \u001b[0mparser\u001b[0m \u001b[1;33m=\u001b[0m \u001b[0mTextFileReader\u001b[0m\u001b[1;33m(\u001b[0m\u001b[0mfilepath_or_buffer\u001b[0m\u001b[1;33m,\u001b[0m \u001b[1;33m**\u001b[0m\u001b[0mkwds\u001b[0m\u001b[1;33m)\u001b[0m\u001b[1;33m\u001b[0m\u001b[1;33m\u001b[0m\u001b[0m\n\u001b[0m\u001b[0;32m    576\u001b[0m \u001b[1;33m\u001b[0m\u001b[0m\n\u001b[0;32m    577\u001b[0m     \u001b[1;32mif\u001b[0m \u001b[0mchunksize\u001b[0m \u001b[1;32mor\u001b[0m \u001b[0miterator\u001b[0m\u001b[1;33m:\u001b[0m\u001b[1;33m\u001b[0m\u001b[1;33m\u001b[0m\u001b[0m\n",
      "\u001b[1;32m~\\anaconda3\\lib\\site-packages\\pandas\\io\\parsers\\readers.py\u001b[0m in \u001b[0;36m__init__\u001b[1;34m(self, f, engine, **kwds)\u001b[0m\n\u001b[0;32m    930\u001b[0m \u001b[1;33m\u001b[0m\u001b[0m\n\u001b[0;32m    931\u001b[0m         \u001b[0mself\u001b[0m\u001b[1;33m.\u001b[0m\u001b[0mhandles\u001b[0m\u001b[1;33m:\u001b[0m \u001b[0mIOHandles\u001b[0m \u001b[1;33m|\u001b[0m \u001b[1;32mNone\u001b[0m \u001b[1;33m=\u001b[0m \u001b[1;32mNone\u001b[0m\u001b[1;33m\u001b[0m\u001b[1;33m\u001b[0m\u001b[0m\n\u001b[1;32m--> 932\u001b[1;33m         \u001b[0mself\u001b[0m\u001b[1;33m.\u001b[0m\u001b[0m_engine\u001b[0m \u001b[1;33m=\u001b[0m \u001b[0mself\u001b[0m\u001b[1;33m.\u001b[0m\u001b[0m_make_engine\u001b[0m\u001b[1;33m(\u001b[0m\u001b[0mf\u001b[0m\u001b[1;33m,\u001b[0m \u001b[0mself\u001b[0m\u001b[1;33m.\u001b[0m\u001b[0mengine\u001b[0m\u001b[1;33m)\u001b[0m\u001b[1;33m\u001b[0m\u001b[1;33m\u001b[0m\u001b[0m\n\u001b[0m\u001b[0;32m    933\u001b[0m \u001b[1;33m\u001b[0m\u001b[0m\n\u001b[0;32m    934\u001b[0m     \u001b[1;32mdef\u001b[0m \u001b[0mclose\u001b[0m\u001b[1;33m(\u001b[0m\u001b[0mself\u001b[0m\u001b[1;33m)\u001b[0m\u001b[1;33m:\u001b[0m\u001b[1;33m\u001b[0m\u001b[1;33m\u001b[0m\u001b[0m\n",
      "\u001b[1;32m~\\anaconda3\\lib\\site-packages\\pandas\\io\\parsers\\readers.py\u001b[0m in \u001b[0;36m_make_engine\u001b[1;34m(self, f, engine)\u001b[0m\n\u001b[0;32m   1214\u001b[0m             \u001b[1;31m# \"Union[str, PathLike[str], ReadCsvBuffer[bytes], ReadCsvBuffer[str]]\"\u001b[0m\u001b[1;33m\u001b[0m\u001b[1;33m\u001b[0m\u001b[0m\n\u001b[0;32m   1215\u001b[0m             \u001b[1;31m# , \"str\", \"bool\", \"Any\", \"Any\", \"Any\", \"Any\", \"Any\"\u001b[0m\u001b[1;33m\u001b[0m\u001b[1;33m\u001b[0m\u001b[0m\n\u001b[1;32m-> 1216\u001b[1;33m             self.handles = get_handle(  # type: ignore[call-overload]\n\u001b[0m\u001b[0;32m   1217\u001b[0m                 \u001b[0mf\u001b[0m\u001b[1;33m,\u001b[0m\u001b[1;33m\u001b[0m\u001b[1;33m\u001b[0m\u001b[0m\n\u001b[0;32m   1218\u001b[0m                 \u001b[0mmode\u001b[0m\u001b[1;33m,\u001b[0m\u001b[1;33m\u001b[0m\u001b[1;33m\u001b[0m\u001b[0m\n",
      "\u001b[1;32m~\\anaconda3\\lib\\site-packages\\pandas\\io\\common.py\u001b[0m in \u001b[0;36mget_handle\u001b[1;34m(path_or_buf, mode, encoding, compression, memory_map, is_text, errors, storage_options)\u001b[0m\n\u001b[0;32m    784\u001b[0m         \u001b[1;32mif\u001b[0m \u001b[0mioargs\u001b[0m\u001b[1;33m.\u001b[0m\u001b[0mencoding\u001b[0m \u001b[1;32mand\u001b[0m \u001b[1;34m\"b\"\u001b[0m \u001b[1;32mnot\u001b[0m \u001b[1;32min\u001b[0m \u001b[0mioargs\u001b[0m\u001b[1;33m.\u001b[0m\u001b[0mmode\u001b[0m\u001b[1;33m:\u001b[0m\u001b[1;33m\u001b[0m\u001b[1;33m\u001b[0m\u001b[0m\n\u001b[0;32m    785\u001b[0m             \u001b[1;31m# Encoding\u001b[0m\u001b[1;33m\u001b[0m\u001b[1;33m\u001b[0m\u001b[0m\n\u001b[1;32m--> 786\u001b[1;33m             handle = open(\n\u001b[0m\u001b[0;32m    787\u001b[0m                 \u001b[0mhandle\u001b[0m\u001b[1;33m,\u001b[0m\u001b[1;33m\u001b[0m\u001b[1;33m\u001b[0m\u001b[0m\n\u001b[0;32m    788\u001b[0m                 \u001b[0mioargs\u001b[0m\u001b[1;33m.\u001b[0m\u001b[0mmode\u001b[0m\u001b[1;33m,\u001b[0m\u001b[1;33m\u001b[0m\u001b[1;33m\u001b[0m\u001b[0m\n",
      "\u001b[1;31mFileNotFoundError\u001b[0m: [Errno 2] No such file or directory: '/datasets/logs_exp.csv'"
     ]
    }
   ],
   "source": [
    "data = pd.read_csv('/datasets/logs_exp.csv', sep='\\t')\n",
    "data.info()\n",
    "data.head()"
   ]
  },
  {
   "cell_type": "markdown",
   "metadata": {},
   "source": [
    "<div class=\"alert alert-block alert-success\">\n",
    "    \n",
    "### Комментарий от ревьюера v_1\n",
    "Отлично\n",
    "    \n",
    "Отлично, библиотеки импортированы в начале тетрадки, в отдельной ячейке.\n",
    "</div>"
   ]
  },
  {
   "cell_type": "markdown",
   "metadata": {},
   "source": [
    "## Подготовьте данные\n",
    "- Замените названия столбцов на удобные для вас;\n",
    "- Проверьте пропуски и типы данных. Откорректируйте, если нужно;\n",
    "- Добавьте столбец даты и времени, а также отдельный столбец дат;"
   ]
  },
  {
   "cell_type": "code",
   "execution_count": 8,
   "metadata": {},
   "outputs": [
    {
     "ename": "NameError",
     "evalue": "name 'data' is not defined",
     "output_type": "error",
     "traceback": [
      "\u001b[1;31m---------------------------------------------------------------------------\u001b[0m",
      "\u001b[1;31mNameError\u001b[0m                                 Traceback (most recent call last)",
      "\u001b[1;32m~\\AppData\\Local\\Temp\\ipykernel_1824\\2353542448.py\u001b[0m in \u001b[0;36m<module>\u001b[1;34m\u001b[0m\n\u001b[0;32m      1\u001b[0m \u001b[1;31m#Заменим название данных\u001b[0m\u001b[1;33m\u001b[0m\u001b[1;33m\u001b[0m\u001b[0m\n\u001b[1;32m----> 2\u001b[1;33m \u001b[0mdata\u001b[0m\u001b[1;33m.\u001b[0m\u001b[0mrename\u001b[0m\u001b[1;33m(\u001b[0m\u001b[0mcolumns\u001b[0m \u001b[1;33m=\u001b[0m \u001b[1;33m{\u001b[0m\u001b[1;34m'EventName'\u001b[0m\u001b[1;33m:\u001b[0m\u001b[1;34m'event_name'\u001b[0m\u001b[1;33m,\u001b[0m \u001b[1;34m'DeviceIDHash'\u001b[0m\u001b[1;33m:\u001b[0m\u001b[1;34m'user_id'\u001b[0m\u001b[1;33m,\u001b[0m \u001b[1;34m'EventTimestamp'\u001b[0m\u001b[1;33m:\u001b[0m \u001b[1;34m'time'\u001b[0m\u001b[1;33m,\u001b[0m \u001b[1;34m'ExpId'\u001b[0m\u001b[1;33m:\u001b[0m\u001b[1;34m'group'\u001b[0m\u001b[1;33m}\u001b[0m\u001b[1;33m,\u001b[0m \u001b[0minplace\u001b[0m \u001b[1;33m=\u001b[0m \u001b[1;32mTrue\u001b[0m \u001b[1;33m)\u001b[0m\u001b[1;33m\u001b[0m\u001b[1;33m\u001b[0m\u001b[0m\n\u001b[0m\u001b[0;32m      3\u001b[0m \u001b[1;33m\u001b[0m\u001b[0m\n\u001b[0;32m      4\u001b[0m \u001b[1;31m#Меняем тип данных\u001b[0m\u001b[1;33m\u001b[0m\u001b[1;33m\u001b[0m\u001b[0m\n\u001b[0;32m      5\u001b[0m \u001b[0mdata\u001b[0m\u001b[1;33m[\u001b[0m\u001b[1;34m'time'\u001b[0m\u001b[1;33m]\u001b[0m \u001b[1;33m=\u001b[0m \u001b[0mpd\u001b[0m\u001b[1;33m.\u001b[0m\u001b[0mto_datetime\u001b[0m\u001b[1;33m(\u001b[0m\u001b[0mdata\u001b[0m\u001b[1;33m[\u001b[0m\u001b[1;34m'time'\u001b[0m\u001b[1;33m]\u001b[0m\u001b[1;33m,\u001b[0m \u001b[0munit\u001b[0m\u001b[1;33m=\u001b[0m\u001b[1;34m's'\u001b[0m\u001b[1;33m)\u001b[0m\u001b[1;33m\u001b[0m\u001b[1;33m\u001b[0m\u001b[0m\n",
      "\u001b[1;31mNameError\u001b[0m: name 'data' is not defined"
     ]
    }
   ],
   "source": [
    "#Заменим название данных\n",
    "data.rename(columns = {'EventName':'event_name', 'DeviceIDHash':'user_id', 'EventTimestamp': 'time', 'ExpId':'group'}, inplace = True )\n",
    "\n",
    "#Меняем тип данных\n",
    "data['time'] = pd.to_datetime(data['time'], unit='s')\n",
    "\n",
    "#Добавим столбец с датой \n",
    "data['date'] = data['time'].dt.strftime('%Y-%m-%d')\n",
    "\n",
    "#Проверим наличие дубликатов \n",
    "data.duplicated()\n",
    "data = data.drop_duplicates()\n",
    "\n",
    "data.info()\n",
    "data.head()"
   ]
  },
  {
   "cell_type": "markdown",
   "metadata": {},
   "source": [
    "<div class=\"alert alert-block alert-warning\">\n",
    "    \n",
    "### Комментарий от ревьюера v_1\n",
    "Рекомендация\n",
    "\n",
    "С подготовкой все ОК, но рекомендую завернуть базывые проверки в функцию и использовать ее и в следующих проектах, и в целом при дальнейшей работы с данными\n",
    "    \n",
    "1. Не стоит помещать весь код в одну ячейку\n",
    "    \n",
    "2. При удалении дубликатов (и вообще при удалении строк из датафрейма) следует обновлять индексы\n",
    "</div>"
   ]
  },
  {
   "cell_type": "markdown",
   "metadata": {},
   "source": [
    "## Изучите и проверьте данные\n",
    "- Сколько всего событий в логе?\n",
    "- Сколько всего пользователей в логе?\n",
    "- Сколько в среднем событий приходится на пользователя?\n",
    "- Данными за какой период вы располагаете? Найдите максимальную и минимальную дату. Постройте гистограмму по дате и времени. Можно ли быть уверенным, что у вас одинаково полные данные за весь период? Технически в логи новых дней по некоторым пользователям могут «доезжать» события из прошлого — это может «перекашивать данные». Определите, с какого момента данные полные и отбросьте более старые. Данными за какой период времени вы располагаете на самом деле?\n",
    "- Много ли событий и пользователей вы потеряли, отбросив старые данные?\n",
    "- Проверьте, что у вас есть пользователи из всех трёх экспериментальных групп."
   ]
  },
  {
   "cell_type": "code",
   "execution_count": 61,
   "metadata": {},
   "outputs": [
    {
     "name": "stdout",
     "output_type": "stream",
     "text": [
      "243713\n",
      "7551\n",
      "20.0\n",
      "2019-07-25 04:43:36\n",
      "2019-08-07 21:15:17\n"
     ]
    }
   ],
   "source": [
    "#Посмотрим склько событий в логе\n",
    "print(data['user_id'].count())\n",
    "\n",
    "#Посмотрим сколько пользователей в логе\n",
    "users = data['user_id'].nunique()\n",
    "print(users)\n",
    "#Посчитаем сколько в среднем событий приходится на пользователей \n",
    "events1 = data.groupby('user_id')['event_name'].agg('count').median()\n",
    "print(events1)\n",
    "#Найдите максимальную и минимальную дату\n",
    "print(data['time'].min())\n",
    "print(data['time'].max())"
   ]
  },
  {
   "cell_type": "markdown",
   "metadata": {},
   "source": [
    "<div class=\"alert alert-block alert-warning\">\n",
    "    \n",
    "### Комментарий от ревьюера v_1\n",
    "Рекомендация\n",
    "    \n",
    "Расчеты верны, но было бы еще интересно посмотреть на распределение количества событий по пользователям, построив гистограмму. Явно в задании это не прописано, но такое действие даст тебе более глубокое представление о данных и покажет, какая из описательных статистик лучше охарактеризует распределение\n",
    "    \n",
    "</div>"
   ]
  },
  {
   "cell_type": "code",
   "execution_count": 62,
   "metadata": {},
   "outputs": [
    {
     "data": {
      "image/png": "[encoded data removed]",
      "text/plain": [
       "<Figure size 1080x720 with 1 Axes>"
      ]
     },
     "metadata": {
      "needs_background": "light"
     },
     "output_type": "display_data"
    }
   ],
   "source": [
    "plt.figure(figsize =(15, 10))\n",
    "data['time'].hist(\n",
    "                bins=20, edgecolor='black'\n",
    "                )\n",
    "plt.title('Распределение по столбцу time')\n",
    "plt.xticks(rotation=20)\n",
    "plt.ylabel('Частота')\n",
    "plt.grid()\n",
    "plt.show()"
   ]
  },
  {
   "cell_type": "markdown",
   "metadata": {},
   "source": [
    "<div class=\"alert alert-block alert-warning\">\n",
    "    \n",
    "### Комментарий от ревьюера v_1\n",
    "Рекомендация\n",
    "    \n",
    "При построении гистограмм, отражающих временные отрезки, количество бинов стоит определять так, чтобы каждый бин соответствовал определенному временному промежутку\n",
    "\n",
    "В ячейке ниже пример\n",
    "</div>"
   ]
  },
  {
   "cell_type": "code",
   "execution_count": 63,
   "metadata": {},
   "outputs": [
    {
     "data": {
      "image/png": "[encoded data removed]",
      "text/plain": [
       "<Figure size 1008x360 with 1 Axes>"
      ]
     },
     "metadata": {
      "needs_background": "light"
     },
     "output_type": "display_data"
    }
   ],
   "source": [
    "# код ревьюера\n",
    "data['time'].hist(bins=14*24, figsize=(14, 5));"
   ]
  },
  {
   "cell_type": "code",
   "execution_count": 64,
   "metadata": {},
   "outputs": [
    {
     "name": "stdout",
     "output_type": "stream",
     "text": [
      "240887\n",
      "7534\n"
     ]
    },
    {
     "data": {
      "text/plain": [
       "7534"
      ]
     },
     "execution_count": 64,
     "metadata": {},
     "output_type": "execute_result"
    }
   ],
   "source": [
    "#Отбросим более старые данные \n",
    "data =data[data['time'] >='2019-08-01']\n",
    "#print(data)\n",
    "\n",
    "#Посмотрим сколько событий и пользователей осталось \n",
    "print(data['user_id'].count())\n",
    "\n",
    "#Посмотрим сколько пользователей в логе\n",
    "print(data['user_id'].nunique())\n",
    "new_users = data['user_id'].nunique()\n",
    "new_users"
   ]
  },
  {
   "cell_type": "markdown",
   "metadata": {},
   "source": [
    "Оставили перюод с 2019-08-01  по 2019-08-07 \n",
    "За этот пирюод у нас 242917 событий в логн и  7542 пользователей.\n",
    "Отбросив старые данные, мы потеряли не много пользователей и событий."
   ]
  },
  {
   "cell_type": "markdown",
   "metadata": {},
   "source": [
    "<div class=\"alert alert-block alert-danger\">\n",
    "    \n",
    "\n",
    "### Комментарий от ревьюера v_1\n",
    "Критично\n",
    "    \n",
    "1. По графику видно, что данные у нас с 1-го августа, а не с 31-го июля\n",
    "\n",
    "2. При анализе удаленных значений следует рассчитать сколько событий и пользователей потеряно, в абсолютных и относительных показателях\n",
    "</div>"
   ]
  },
  {
   "cell_type": "markdown",
   "metadata": {},
   "source": [
    "## Изучите воронку событий\n",
    "- Посмотрите, какие события есть в логах, как часто они встречаются. Отсортируйте события по частоте.\n",
    "- Посчитайте, сколько пользователей совершали каждое из этих событий. Отсортируйте события по числу пользователей. Посчитайте долю пользователей, которые хоть раз совершали событие.\n",
    "- Предположите, в каком порядке происходят события. Все ли они выстраиваются в последовательную цепочку? Их не нужно учитывать при расчёте воронки.\n",
    "- По воронке событий посчитайте, какая доля пользователей проходит на следующий шаг воронки (от числа пользователей на предыдущем). То есть для последовательности событий A → B → C посчитайте отношение числа пользователей с событием B к количеству пользователей с событием A, а также отношение числа пользователей с событием C к количеству пользователей с событием B.\n",
    "- На каком шаге теряете больше всего пользователей?\n",
    "- Какая доля пользователей доходит от первого события до оплаты?"
   ]
  },
  {
   "cell_type": "markdown",
   "metadata": {},
   "source": [
    "### Посмотрим, какие события есть в логах, как часто они встречаются"
   ]
  },
  {
   "cell_type": "code",
   "execution_count": 65,
   "metadata": {},
   "outputs": [
    {
     "data": {
      "text/plain": [
       "MainScreenAppear           117328\n",
       "OffersScreenAppear          46333\n",
       "CartScreenAppear            42303\n",
       "PaymentScreenSuccessful     33918\n",
       "Tutorial                     1005\n",
       "Name: event_name, dtype: int64"
      ]
     },
     "execution_count": 65,
     "metadata": {},
     "output_type": "execute_result"
    }
   ],
   "source": [
    "data['event_name'].value_counts()"
   ]
  },
  {
   "cell_type": "markdown",
   "metadata": {},
   "source": [
    "### Посчитаем, сколько пользователей совершали каждое из этих событий."
   ]
  },
  {
   "cell_type": "code",
   "execution_count": 66,
   "metadata": {},
   "outputs": [
    {
     "data": {
      "text/html": [
       "<div>\n",
       "<style scoped>\n",
       "    .dataframe tbody tr th:only-of-type {\n",
       "        vertical-align: middle;\n",
       "    }\n",
       "\n",
       "    .dataframe tbody tr th {\n",
       "        vertical-align: top;\n",
       "    }\n",
       "\n",
       "    .dataframe thead th {\n",
       "        text-align: right;\n",
       "    }\n",
       "</style>\n",
       "<table border=\"1\" class=\"dataframe\">\n",
       "  <thead>\n",
       "    <tr style=\"text-align: right;\">\n",
       "      <th></th>\n",
       "      <th>event_n</th>\n",
       "      <th>users</th>\n",
       "      <th>percent</th>\n",
       "    </tr>\n",
       "    <tr>\n",
       "      <th>event_name</th>\n",
       "      <th></th>\n",
       "      <th></th>\n",
       "      <th></th>\n",
       "    </tr>\n",
       "  </thead>\n",
       "  <tbody>\n",
       "    <tr>\n",
       "      <th>MainScreenAppear</th>\n",
       "      <td>117328</td>\n",
       "      <td>7419</td>\n",
       "      <td>98.473586</td>\n",
       "    </tr>\n",
       "    <tr>\n",
       "      <th>OffersScreenAppear</th>\n",
       "      <td>46333</td>\n",
       "      <td>4593</td>\n",
       "      <td>60.963632</td>\n",
       "    </tr>\n",
       "    <tr>\n",
       "      <th>CartScreenAppear</th>\n",
       "      <td>42303</td>\n",
       "      <td>3734</td>\n",
       "      <td>49.561986</td>\n",
       "    </tr>\n",
       "    <tr>\n",
       "      <th>PaymentScreenSuccessful</th>\n",
       "      <td>33918</td>\n",
       "      <td>3539</td>\n",
       "      <td>46.973719</td>\n",
       "    </tr>\n",
       "    <tr>\n",
       "      <th>Tutorial</th>\n",
       "      <td>1005</td>\n",
       "      <td>840</td>\n",
       "      <td>11.149456</td>\n",
       "    </tr>\n",
       "  </tbody>\n",
       "</table>\n",
       "</div>"
      ],
      "text/plain": [
       "                         event_n  users    percent\n",
       "event_name                                        \n",
       "MainScreenAppear          117328   7419  98.473586\n",
       "OffersScreenAppear         46333   4593  60.963632\n",
       "CartScreenAppear           42303   3734  49.561986\n",
       "PaymentScreenSuccessful    33918   3539  46.973719\n",
       "Tutorial                    1005    840  11.149456"
      ]
     },
     "execution_count": 66,
     "metadata": {},
     "output_type": "execute_result"
    }
   ],
   "source": [
    "events = data.groupby('event_name').agg({'event_name':'count', 'user_id':'nunique'}).sort_values(by='user_id', ascending=False)\n",
    "events['percent'] = events['user_id'] /  data['user_id'].nunique()*100\n",
    "events.rename(columns = {'user_id':'users','event_name':'event_n'},inplace = True)\n",
    "events"
   ]
  },
  {
   "cell_type": "markdown",
   "metadata": {},
   "source": [
    "### Преположем в каком порядке происходят события"
   ]
  },
  {
   "cell_type": "markdown",
   "metadata": {},
   "source": [
    "- главная страница (MainScreenAppear) \n",
    "- выбор товара(OffersScreenAppear) \n",
    "- добавление в корзину(CartScreenAppear) \n",
    "- оплата(PaymentScreenSuccessful)\n",
    "- инструкцию (Tutorial) "
   ]
  },
  {
   "cell_type": "markdown",
   "metadata": {},
   "source": [
    "<div class=\"alert alert-block alert-success\">\n",
    "    \n",
    "### Комментарий от ревьюера v_1\n",
    "\n",
    "Верные расчеты и рассуждения 👍\n",
    "    \n",
    "Но справка, скорее, опциональный момент, который может происходит на любом из этапов и не вписывается в платежную воронку\n",
    "    \n",
    "</div>"
   ]
  },
  {
   "cell_type": "markdown",
   "metadata": {},
   "source": [
    "### По воронке событий посчитайте, какая доля пользователей проходит на следующий шаг воронки (от числа пользователей на предыдущем). "
   ]
  },
  {
   "cell_type": "code",
   "execution_count": 67,
   "metadata": {},
   "outputs": [
    {
     "data": {
      "text/html": [
       "<div>\n",
       "<style scoped>\n",
       "    .dataframe tbody tr th:only-of-type {\n",
       "        vertical-align: middle;\n",
       "    }\n",
       "\n",
       "    .dataframe tbody tr th {\n",
       "        vertical-align: top;\n",
       "    }\n",
       "\n",
       "    .dataframe thead th {\n",
       "        text-align: right;\n",
       "    }\n",
       "</style>\n",
       "<table border=\"1\" class=\"dataframe\">\n",
       "  <thead>\n",
       "    <tr style=\"text-align: right;\">\n",
       "      <th></th>\n",
       "      <th>event_n</th>\n",
       "      <th>users</th>\n",
       "      <th>percent</th>\n",
       "      <th>transition</th>\n",
       "    </tr>\n",
       "    <tr>\n",
       "      <th>event_name</th>\n",
       "      <th></th>\n",
       "      <th></th>\n",
       "      <th></th>\n",
       "      <th></th>\n",
       "    </tr>\n",
       "  </thead>\n",
       "  <tbody>\n",
       "    <tr>\n",
       "      <th>MainScreenAppear</th>\n",
       "      <td>117328</td>\n",
       "      <td>7419</td>\n",
       "      <td>98.473586</td>\n",
       "      <td>nan%</td>\n",
       "    </tr>\n",
       "    <tr>\n",
       "      <th>OffersScreenAppear</th>\n",
       "      <td>46333</td>\n",
       "      <td>4593</td>\n",
       "      <td>60.963632</td>\n",
       "      <td>61.91%</td>\n",
       "    </tr>\n",
       "    <tr>\n",
       "      <th>CartScreenAppear</th>\n",
       "      <td>42303</td>\n",
       "      <td>3734</td>\n",
       "      <td>49.561986</td>\n",
       "      <td>81.30%</td>\n",
       "    </tr>\n",
       "    <tr>\n",
       "      <th>PaymentScreenSuccessful</th>\n",
       "      <td>33918</td>\n",
       "      <td>3539</td>\n",
       "      <td>46.973719</td>\n",
       "      <td>94.78%</td>\n",
       "    </tr>\n",
       "    <tr>\n",
       "      <th>Tutorial</th>\n",
       "      <td>1005</td>\n",
       "      <td>840</td>\n",
       "      <td>11.149456</td>\n",
       "      <td>23.74%</td>\n",
       "    </tr>\n",
       "  </tbody>\n",
       "</table>\n",
       "</div>"
      ],
      "text/plain": [
       "                         event_n  users    percent transition\n",
       "event_name                                                   \n",
       "MainScreenAppear          117328   7419  98.473586       nan%\n",
       "OffersScreenAppear         46333   4593  60.963632     61.91%\n",
       "CartScreenAppear           42303   3734  49.561986     81.30%\n",
       "PaymentScreenSuccessful    33918   3539  46.973719     94.78%\n",
       "Tutorial                    1005    840  11.149456     23.74%"
      ]
     },
     "execution_count": 67,
     "metadata": {},
     "output_type": "execute_result"
    }
   ],
   "source": [
    "events['transition'] = events['users']/events['users'].shift(1)\n",
    "events['transition'] = (events['transition'] * 100).round(2).map('{0:.2f}%'.format)\n",
    "events"
   ]
  },
  {
   "cell_type": "markdown",
   "metadata": {},
   "source": [
    "от MainScreenAppear до OffersScreenAppear - 62%\n",
    "от OffersScreenAppear до CartScreenAppear - 81%\n",
    "от CartScreenAppear до PaymentScreenSuccessful - 94%"
   ]
  },
  {
   "cell_type": "markdown",
   "metadata": {},
   "source": [
    "<div class=\"alert alert-block alert-success\">\n",
    "\n",
    "    \n",
    "### Комментарий от ревьюера v_1\n",
    "\n",
    "Доля пользователей, относительно предыдущего шага посчитана верно 👍\n",
    "\n",
    "Но по такой таблице складывается впечатление, что конечная цель справка, а не успешный платеж\n",
    "    \n",
    "</div>"
   ]
  },
  {
   "cell_type": "markdown",
   "metadata": {},
   "source": [
    "Больше всего пользователей мы теряем между первым(7429) и вторым(4606) шагом"
   ]
  },
  {
   "cell_type": "markdown",
   "metadata": {},
   "source": [
    "<div class=\"alert alert-block alert-warning\">\n",
    "    \n",
    "### Комментарий от ревьюера v_1\n",
    "Рекомендация\n",
    "    \n",
    "На этом шаге было бы здорово визуализировать воронку, идеально для этого подходит plotly, funnel график\n",
    "    \n",
    "По ссылке можно ознакомиться с различными графиками воронок\n",
    "    \n",
    "https://plotly.com/python/funnel-charts/\n",
    "    \n",
    "</div>"
   ]
  },
  {
   "cell_type": "markdown",
   "metadata": {},
   "source": [
    "## Изучите результаты эксперимента\n",
    "- Сколько пользователей в каждой экспериментальной группе?\n",
    "- Есть 2 контрольные группы для А/А-эксперимента, чтобы проверить корректность всех механизмов и расчётов. Проверьте, находят ли статистические критерии разницу между выборками 246 и 247.\n",
    "- Выберите самое популярное событие. Посчитайте число пользователей, совершивших это событие в каждой из контрольных групп. Посчитайте долю пользователей, совершивших это событие. Проверьте, будет ли отличие между группами статистически достоверным. Проделайте то же самое для всех других событий (удобно обернуть проверку в отдельную функцию). Можно ли сказать, что разбиение на группы работает корректно?\n",
    "- Аналогично поступите с группой с изменённым шрифтом. Сравните результаты с каждой из контрольных групп в отдельности по каждому событию. Сравните результаты с объединённой контрольной группой. Какие выводы из эксперимента можно сделать?\n",
    "- Какой уровень значимости вы выбрали при проверке статистических гипотез выше? Посчитайте, сколько проверок статистических гипотез вы сделали. При уровне значимости 0.1 каждый десятый раз можно получать ложный результат. Какой уровень значимости стоит применить? Если вы хотите изменить его, проделайте предыдущие пункты и проверьте свои выводы."
   ]
  },
  {
   "cell_type": "markdown",
   "metadata": {},
   "source": [
    "### Сколько пользователей в каждой экспериментальной группе?"
   ]
  },
  {
   "cell_type": "code",
   "execution_count": 68,
   "metadata": {},
   "outputs": [
    {
     "data": {
      "text/plain": [
       "group\n",
       "246    2484\n",
       "247    2513\n",
       "248    2537\n",
       "Name: user_id, dtype: int64"
      ]
     },
     "execution_count": 68,
     "metadata": {},
     "output_type": "execute_result"
    }
   ],
   "source": [
    "#Посмотрим сколько пользователей в каждой группе\n",
    "experiment = data.groupby('group')['user_id'].nunique()\n",
    "experiment"
   ]
  },
  {
   "cell_type": "markdown",
   "metadata": {},
   "source": [
    "Число участников примерно одинаковое "
   ]
  },
  {
   "cell_type": "markdown",
   "metadata": {},
   "source": [
    "### Есть 2 контрольные группы для А/А-эксперимента, чтобы проверить корректность всех механизмов и расчётов. Проверьте, находят ли статистические критерии разницу между выборками 246 и 247."
   ]
  },
  {
   "cell_type": "code",
   "execution_count": 69,
   "metadata": {},
   "outputs": [
    {
     "name": "stdout",
     "output_type": "stream",
     "text": [
      "1.15%\n"
     ]
    }
   ],
   "source": [
    "exp_246 = data.query('group == 246').groupby('group')['user_id'].nunique().reset_index()\n",
    "exp_247 = data.query('group == 247').groupby('group')['user_id'].nunique().reset_index()\n",
    "diff = 1 - exp_246.iloc[0]['user_id'] / exp_247.iloc[0]['user_id']\n",
    "print('{:.2%}'.format(diff))"
   ]
  },
  {
   "cell_type": "markdown",
   "metadata": {},
   "source": [
    "Между выборками 246 и 247 разница небольшая, ~1.27%"
   ]
  },
  {
   "cell_type": "markdown",
   "metadata": {},
   "source": [
    "### Выберите самое популярное событие. Посчитайте число пользователей, совершивших это событие в каждой из контрольных групп. Посчитайте долю пользователей, совершивших это событие. "
   ]
  },
  {
   "cell_type": "code",
   "execution_count": 70,
   "metadata": {},
   "outputs": [
    {
     "data": {
      "text/html": [
       "<div>\n",
       "<style scoped>\n",
       "    .dataframe tbody tr th:only-of-type {\n",
       "        vertical-align: middle;\n",
       "    }\n",
       "\n",
       "    .dataframe tbody tr th {\n",
       "        vertical-align: top;\n",
       "    }\n",
       "\n",
       "    .dataframe thead th {\n",
       "        text-align: right;\n",
       "    }\n",
       "</style>\n",
       "<table border=\"1\" class=\"dataframe\">\n",
       "  <thead>\n",
       "    <tr style=\"text-align: right;\">\n",
       "      <th>group</th>\n",
       "      <th>246</th>\n",
       "      <th>247</th>\n",
       "      <th>248</th>\n",
       "    </tr>\n",
       "    <tr>\n",
       "      <th>event_name</th>\n",
       "      <th></th>\n",
       "      <th></th>\n",
       "      <th></th>\n",
       "    </tr>\n",
       "  </thead>\n",
       "  <tbody>\n",
       "    <tr>\n",
       "      <th>MainScreenAppear</th>\n",
       "      <td>2450</td>\n",
       "      <td>2476</td>\n",
       "      <td>2493</td>\n",
       "    </tr>\n",
       "    <tr>\n",
       "      <th>OffersScreenAppear</th>\n",
       "      <td>1542</td>\n",
       "      <td>1520</td>\n",
       "      <td>1531</td>\n",
       "    </tr>\n",
       "    <tr>\n",
       "      <th>CartScreenAppear</th>\n",
       "      <td>1266</td>\n",
       "      <td>1238</td>\n",
       "      <td>1230</td>\n",
       "    </tr>\n",
       "    <tr>\n",
       "      <th>PaymentScreenSuccessful</th>\n",
       "      <td>1200</td>\n",
       "      <td>1158</td>\n",
       "      <td>1181</td>\n",
       "    </tr>\n",
       "  </tbody>\n",
       "</table>\n",
       "</div>"
      ],
      "text/plain": [
       "group                     246   247   248\n",
       "event_name                               \n",
       "MainScreenAppear         2450  2476  2493\n",
       "OffersScreenAppear       1542  1520  1531\n",
       "CartScreenAppear         1266  1238  1230\n",
       "PaymentScreenSuccessful  1200  1158  1181"
      ]
     },
     "execution_count": 70,
     "metadata": {},
     "output_type": "execute_result"
    }
   ],
   "source": [
    "#Посчитаем число пользователей, совершивших событие в каждой из контрольных групп\n",
    "event_group = data[data['event_name']!='Tutorial'].pivot_table(\n",
    "    index='event_name', \n",
    "    columns='group', \n",
    "    values='user_id',\n",
    "    aggfunc='nunique').sort_values(by=246, ascending=False)\n",
    "\n",
    "event_group"
   ]
  },
  {
   "cell_type": "markdown",
   "metadata": {},
   "source": [
    "- Самое популяпное событие - MainScreenAppear\n",
    "- Число пользователей совершивших это событие \n",
    "- group 246 - 2452\n",
    "- group 247 - 2479\n",
    "- group 248 - 2498"
   ]
  },
  {
   "cell_type": "markdown",
   "metadata": {},
   "source": [
    "<div class=\"alert alert-block alert-success\">\n",
    "\n",
    "    \n",
    "### Комментарий от ревьюера v_1\n",
    "\n",
    "Данные подготовлены 👍\n",
    "    \n",
    "    \n",
    "</div>"
   ]
  },
  {
   "cell_type": "code",
   "execution_count": 71,
   "metadata": {},
   "outputs": [
    {
     "data": {
      "text/html": [
       "<div>\n",
       "<style scoped>\n",
       "    .dataframe tbody tr th:only-of-type {\n",
       "        vertical-align: middle;\n",
       "    }\n",
       "\n",
       "    .dataframe tbody tr th {\n",
       "        vertical-align: top;\n",
       "    }\n",
       "\n",
       "    .dataframe thead th {\n",
       "        text-align: right;\n",
       "    }\n",
       "</style>\n",
       "<table border=\"1\" class=\"dataframe\">\n",
       "  <thead>\n",
       "    <tr style=\"text-align: right;\">\n",
       "      <th>group</th>\n",
       "      <th>event_name</th>\n",
       "      <th>246</th>\n",
       "      <th>247</th>\n",
       "      <th>248</th>\n",
       "      <th>percent246</th>\n",
       "      <th>percent247</th>\n",
       "      <th>percent248</th>\n",
       "    </tr>\n",
       "  </thead>\n",
       "  <tbody>\n",
       "    <tr>\n",
       "      <th>0</th>\n",
       "      <td>MainScreenAppear</td>\n",
       "      <td>2450</td>\n",
       "      <td>2476</td>\n",
       "      <td>2493</td>\n",
       "      <td>98.631240</td>\n",
       "      <td>98.527656</td>\n",
       "      <td>98.265668</td>\n",
       "    </tr>\n",
       "    <tr>\n",
       "      <th>1</th>\n",
       "      <td>OffersScreenAppear</td>\n",
       "      <td>1542</td>\n",
       "      <td>1520</td>\n",
       "      <td>1531</td>\n",
       "      <td>62.077295</td>\n",
       "      <td>60.485476</td>\n",
       "      <td>60.346866</td>\n",
       "    </tr>\n",
       "    <tr>\n",
       "      <th>2</th>\n",
       "      <td>CartScreenAppear</td>\n",
       "      <td>1266</td>\n",
       "      <td>1238</td>\n",
       "      <td>1230</td>\n",
       "      <td>50.966184</td>\n",
       "      <td>49.263828</td>\n",
       "      <td>48.482460</td>\n",
       "    </tr>\n",
       "    <tr>\n",
       "      <th>3</th>\n",
       "      <td>PaymentScreenSuccessful</td>\n",
       "      <td>1200</td>\n",
       "      <td>1158</td>\n",
       "      <td>1181</td>\n",
       "      <td>48.309179</td>\n",
       "      <td>46.080382</td>\n",
       "      <td>46.551045</td>\n",
       "    </tr>\n",
       "  </tbody>\n",
       "</table>\n",
       "</div>"
      ],
      "text/plain": [
       "group               event_name   246   247   248  percent246  percent247  \\\n",
       "0             MainScreenAppear  2450  2476  2493   98.631240   98.527656   \n",
       "1           OffersScreenAppear  1542  1520  1531   62.077295   60.485476   \n",
       "2             CartScreenAppear  1266  1238  1230   50.966184   49.263828   \n",
       "3      PaymentScreenSuccessful  1200  1158  1181   48.309179   46.080382   \n",
       "\n",
       "group  percent248  \n",
       "0       98.265668  \n",
       "1       60.346866  \n",
       "2       48.482460  \n",
       "3       46.551045  "
      ]
     },
     "execution_count": 71,
     "metadata": {},
     "output_type": "execute_result"
    }
   ],
   "source": [
    "# Посчитайте долю пользователей, совершивших это событие\n",
    "event_group = event_group.reset_index()\n",
    "event_group['percent246'] = event_group[246] /  experiment[246] *100\n",
    "event_group['percent247'] = event_group[247] /  experiment[247] *100\n",
    "event_group['percent248'] = event_group[248] /  experiment[248] *100\n",
    "event_group"
   ]
  },
  {
   "cell_type": "markdown",
   "metadata": {},
   "source": [
    "<div class=\"alert alert-info\"> Привет! Дальше у меня выдает ошибку 'event_name' и честно,я не понимаю что с ним не так..Кажется,что все просто,я уже сто раз проверила и за помощью к колегам обращалась\n",
    "Но безрезультатно((\n",
    "    Буду благодарна,если ты мне поможешь! :)\n",
    "</div>"
   ]
  },
  {
   "cell_type": "markdown",
   "metadata": {},
   "source": [
    "<div class=\"alert alert-block alert-danger\">\n",
    "    \n",
    "### Комментарий от ревьюера v_1\n",
    "Критично\n",
    "\n",
    "В датафрейме **event_group** нет колонки **event_name**, это индекс, а не колонка\n",
    "\n",
    "</div>"
   ]
  },
  {
   "cell_type": "code",
   "execution_count": 2,
   "metadata": {},
   "outputs": [
    {
     "ename": "NameError",
     "evalue": "name 'event_group' is not defined",
     "output_type": "error",
     "traceback": [
      "\u001b[1;31m---------------------------------------------------------------------------\u001b[0m",
      "\u001b[1;31mNameError\u001b[0m                                 Traceback (most recent call last)",
      "\u001b[1;32m~\\AppData\\Local\\Temp\\ipykernel_1824\\3364019729.py\u001b[0m in \u001b[0;36m<module>\u001b[1;34m\u001b[0m\n\u001b[0;32m     22\u001b[0m         \u001b[0mprint\u001b[0m\u001b[1;33m(\u001b[0m\u001b[1;34m''\u001b[0m\u001b[1;33m)\u001b[0m\u001b[1;33m\u001b[0m\u001b[1;33m\u001b[0m\u001b[0m\n\u001b[0;32m     23\u001b[0m \u001b[1;33m\u001b[0m\u001b[0m\n\u001b[1;32m---> 24\u001b[1;33m \u001b[0mz_test\u001b[0m\u001b[1;33m(\u001b[0m\u001b[1;36m246\u001b[0m\u001b[1;33m,\u001b[0m \u001b[1;36m247\u001b[0m\u001b[1;33m,\u001b[0m \u001b[1;36m0.01\u001b[0m\u001b[1;33m)\u001b[0m\u001b[1;33m\u001b[0m\u001b[1;33m\u001b[0m\u001b[0m\n\u001b[0m",
      "\u001b[1;32m~\\AppData\\Local\\Temp\\ipykernel_1824\\3364019729.py\u001b[0m in \u001b[0;36mz_test\u001b[1;34m(group1, group2, alpha)\u001b[0m\n\u001b[0;32m      1\u001b[0m \u001b[1;32mdef\u001b[0m \u001b[0mz_test\u001b[0m\u001b[1;33m(\u001b[0m\u001b[0mgroup1\u001b[0m\u001b[1;33m,\u001b[0m \u001b[0mgroup2\u001b[0m\u001b[1;33m,\u001b[0m \u001b[0malpha\u001b[0m\u001b[1;33m)\u001b[0m\u001b[1;33m:\u001b[0m\u001b[1;33m\u001b[0m\u001b[1;33m\u001b[0m\u001b[0m\n\u001b[1;32m----> 2\u001b[1;33m     \u001b[1;32mfor\u001b[0m \u001b[0mi\u001b[0m \u001b[1;32min\u001b[0m \u001b[0mevent_group\u001b[0m\u001b[1;33m.\u001b[0m\u001b[0mindex\u001b[0m\u001b[1;33m:\u001b[0m\u001b[1;33m\u001b[0m\u001b[1;33m\u001b[0m\u001b[0m\n\u001b[0m\u001b[0;32m      3\u001b[0m         \u001b[0mp1\u001b[0m \u001b[1;33m=\u001b[0m \u001b[0mevent_group\u001b[0m\u001b[1;33m[\u001b[0m\u001b[0mgroup1\u001b[0m\u001b[1;33m]\u001b[0m\u001b[1;33m[\u001b[0m\u001b[0mi\u001b[0m\u001b[1;33m]\u001b[0m \u001b[1;33m/\u001b[0m \u001b[0mexperiment\u001b[0m\u001b[1;33m[\u001b[0m\u001b[0mgroup1\u001b[0m\u001b[1;33m]\u001b[0m\u001b[1;33m\u001b[0m\u001b[1;33m\u001b[0m\u001b[0m\n\u001b[0;32m      4\u001b[0m         \u001b[1;31m# пропорция успехов во второй группе:\u001b[0m\u001b[1;33m\u001b[0m\u001b[1;33m\u001b[0m\u001b[0m\n\u001b[0;32m      5\u001b[0m         \u001b[0mp2\u001b[0m \u001b[1;33m=\u001b[0m \u001b[0mevent_group\u001b[0m\u001b[1;33m[\u001b[0m\u001b[0mgroup2\u001b[0m\u001b[1;33m]\u001b[0m\u001b[1;33m[\u001b[0m\u001b[0mi\u001b[0m\u001b[1;33m]\u001b[0m \u001b[1;33m/\u001b[0m \u001b[0mexperiment\u001b[0m\u001b[1;33m[\u001b[0m\u001b[0mgroup2\u001b[0m\u001b[1;33m]\u001b[0m\u001b[1;33m\u001b[0m\u001b[1;33m\u001b[0m\u001b[0m\n",
      "\u001b[1;31mNameError\u001b[0m: name 'event_group' is not defined"
     ]
    }
   ],
   "source": [
    "def z_test(group1, group2, alpha):\n",
    "    for i in event_group.index:\n",
    "        p1 = event_group[group1][i] / experiment[group1]\n",
    "        # пропорция успехов во второй группе:\n",
    "        p2 = event_group[group2][i] / experiment[group2]\n",
    "        # пропорция успехов в комбинированном датасете:\n",
    "        p_combined = ((event_group[group1][i] + event_group[group2][i]) / \n",
    "                      (experiment[group1] + experiment[group2]))\n",
    "        # разница пропорций в датасетах\n",
    "        difference = p1 - p2\n",
    "        # считаем статистику в ст.отклонениях стандартного нормального распределения\n",
    "        z_value = difference / mth.sqrt(p_combined * (1 - p_combined) * \n",
    "                                        (1/experiment[group1] + 1/experiment[group2]))\n",
    "        # задаем стандартное нормальное распределение (среднее 0, ст.отклонение 1)\n",
    "        distr = st.norm(0, 1) \n",
    "        p_value = (1 - distr.cdf(abs(z_value))) * 2\n",
    "        print('{} p-значение: {}'.format(event_group['event_name'][i], p_value))\n",
    "        if (p_value < alpha):\n",
    "            print(\"Отвергаем нулевую гипотезу: между долями есть значимая разница\")\n",
    "        else:\n",
    "            print(\"Не получилось отвергнуть нулевую гипотезу, нет оснований считать доли разными\")\n",
    "        print('')\n",
    "        \n",
    "z_test(246, 247, 0.01)"
   ]
  },
  {
   "cell_type": "markdown",
   "metadata": {},
   "source": [
    "Можно сказать, что пользователи, пришедшие в АБ-тест, довольно однородно распределились, и мы можем делать сравнение любой из этих групп с тестовой (248)."
   ]
  },
  {
   "cell_type": "markdown",
   "metadata": {},
   "source": [
    "### Аналогично поступите с группой с изменённым шрифтом. Сравните результаты с каждой из контрольных групп в отдельности по каждому событию. Сравните результаты с объединённой контрольной группой. Какие выводы из эксперимента можно сделать?"
   ]
  },
  {
   "cell_type": "code",
   "execution_count": 73,
   "metadata": {},
   "outputs": [
    {
     "name": "stdout",
     "output_type": "stream",
     "text": [
      "MainScreenAppear p-значение: 0.2949721933554552\n",
      "Не получилось отвергнуть нулевую гипотезу, нет оснований считать доли разными\n",
      "\n",
      "OffersScreenAppear p-значение: 0.20836205402738917\n",
      "Не получилось отвергнуть нулевую гипотезу, нет оснований считать доли разными\n",
      "\n",
      "CartScreenAppear p-значение: 0.07842923237520116\n",
      "Не получилось отвергнуть нулевую гипотезу, нет оснований считать доли разными\n",
      "\n",
      "PaymentScreenSuccessful p-значение: 0.2122553275697796\n",
      "Не получилось отвергнуть нулевую гипотезу, нет оснований считать доли разными\n",
      "\n"
     ]
    }
   ],
   "source": [
    "#посмотрим на события в 246 и 248 группах\n",
    "z_test(246, 248, 0.05)"
   ]
  },
  {
   "cell_type": "code",
   "execution_count": 74,
   "metadata": {},
   "outputs": [
    {
     "name": "stdout",
     "output_type": "stream",
     "text": [
      "MainScreenAppear p-значение: 0.4587053616621515\n",
      "Не получилось отвергнуть нулевую гипотезу, нет оснований считать доли разными\n",
      "\n",
      "OffersScreenAppear p-значение: 0.9197817830592261\n",
      "Не получилось отвергнуть нулевую гипотезу, нет оснований считать доли разными\n",
      "\n",
      "CartScreenAppear p-значение: 0.5786197879539783\n",
      "Не получилось отвергнуть нулевую гипотезу, нет оснований считать доли разными\n",
      "\n",
      "PaymentScreenSuccessful p-значение: 0.7373415053803964\n",
      "Не получилось отвергнуть нулевую гипотезу, нет оснований считать доли разными\n",
      "\n"
     ]
    }
   ],
   "source": [
    "#посмотрим на события в 247 и 248 группах\n",
    "z_test(247, 248, 0.05)"
   ]
  },
  {
   "cell_type": "code",
   "execution_count": null,
   "metadata": {},
   "outputs": [],
   "source": [
    "#объединим две контрольные группы в одну и оставим ее под номером 246.\n",
    "exp = data.copy()\n",
    "exp[\"group\"].replace({247: 246}, inplace=True)\n",
    "exp[\"group\"].value_counts()"
   ]
  },
  {
   "cell_type": "code",
   "execution_count": 1,
   "metadata": {},
   "outputs": [
    {
     "ename": "NameError",
     "evalue": "name 'z_test' is not defined",
     "output_type": "error",
     "traceback": [
      "\u001b[1;31m---------------------------------------------------------------------------\u001b[0m",
      "\u001b[1;31mNameError\u001b[0m                                 Traceback (most recent call last)",
      "\u001b[1;32m~\\AppData\\Local\\Temp\\ipykernel_1824\\3828627898.py\u001b[0m in \u001b[0;36m<module>\u001b[1;34m\u001b[0m\n\u001b[1;32m----> 1\u001b[1;33m \u001b[0mz_test\u001b[0m\u001b[1;33m(\u001b[0m \u001b[0mexp\u001b[0m\u001b[1;33m,\u001b[0m \u001b[1;33m[\u001b[0m\u001b[1;36m246\u001b[0m\u001b[1;33m,\u001b[0m \u001b[1;36m248\u001b[0m\u001b[1;33m]\u001b[0m\u001b[1;33m,\u001b[0m \u001b[1;36m0.05\u001b[0m\u001b[1;33m)\u001b[0m\u001b[1;33m\u001b[0m\u001b[1;33m\u001b[0m\u001b[0m\n\u001b[0m",
      "\u001b[1;31mNameError\u001b[0m: name 'z_test' is not defined"
     ]
    }
   ],
   "source": [
    "z_test( exp, [246, 248], 0.05) "
   ]
  }
 ],
 "metadata": {
  "ExecuteTimeLog": [
   {
    "duration": 59,
    "start_time": "2023-01-30T09:57:11.088Z"
   },
   {
    "duration": 422,
    "start_time": "2023-01-30T10:07:03.955Z"
   },
   {
    "duration": 112,
    "start_time": "2023-01-30T10:07:54.914Z"
   },
   {
    "duration": 957,
    "start_time": "2023-01-30T10:08:30.382Z"
   },
   {
    "duration": 181,
    "start_time": "2023-01-30T10:08:35.980Z"
   },
   {
    "duration": 163,
    "start_time": "2023-01-30T10:08:59.431Z"
   },
   {
    "duration": 189,
    "start_time": "2023-01-30T10:09:11.024Z"
   },
   {
    "duration": 15,
    "start_time": "2023-01-30T10:14:40.396Z"
   },
   {
    "duration": 13,
    "start_time": "2023-01-30T10:15:26.706Z"
   },
   {
    "duration": 9,
    "start_time": "2023-01-30T10:15:35.613Z"
   },
   {
    "duration": 60,
    "start_time": "2023-01-30T10:16:38.867Z"
   },
   {
    "duration": 8,
    "start_time": "2023-01-30T10:17:41.773Z"
   },
   {
    "duration": 124,
    "start_time": "2023-01-30T10:17:49.095Z"
   },
   {
    "duration": 122,
    "start_time": "2023-01-30T10:17:53.591Z"
   },
   {
    "duration": 117,
    "start_time": "2023-01-30T10:17:58.849Z"
   },
   {
    "duration": 67,
    "start_time": "2023-01-30T10:18:17.809Z"
   },
   {
    "duration": 65,
    "start_time": "2023-01-30T10:18:27.108Z"
   },
   {
    "duration": 61,
    "start_time": "2023-01-30T10:18:38.009Z"
   },
   {
    "duration": 114,
    "start_time": "2023-01-30T10:18:47.413Z"
   },
   {
    "duration": 117,
    "start_time": "2023-01-30T10:19:01.607Z"
   },
   {
    "duration": 111,
    "start_time": "2023-01-30T10:19:10.875Z"
   },
   {
    "duration": 10,
    "start_time": "2023-01-30T10:19:35.757Z"
   },
   {
    "duration": 200,
    "start_time": "2023-01-30T10:25:09.138Z"
   },
   {
    "duration": 196,
    "start_time": "2023-01-30T11:15:48.947Z"
   },
   {
    "duration": 15,
    "start_time": "2023-01-30T11:16:18.934Z"
   },
   {
    "duration": 3,
    "start_time": "2023-01-30T11:16:27.495Z"
   },
   {
    "duration": 209,
    "start_time": "2023-01-30T11:16:30.504Z"
   },
   {
    "duration": 14,
    "start_time": "2023-01-30T11:16:34.446Z"
   },
   {
    "duration": 3,
    "start_time": "2023-01-30T11:19:02.018Z"
   },
   {
    "duration": 14,
    "start_time": "2023-01-30T11:19:04.497Z"
   },
   {
    "duration": 16,
    "start_time": "2023-01-30T11:20:10.493Z"
   },
   {
    "duration": 18,
    "start_time": "2023-01-30T11:20:49.946Z"
   },
   {
    "duration": 60,
    "start_time": "2023-01-30T11:20:57.159Z"
   },
   {
    "duration": 1128,
    "start_time": "2023-01-30T11:21:03.960Z"
   },
   {
    "duration": 195,
    "start_time": "2023-01-30T11:21:22.496Z"
   },
   {
    "duration": 219,
    "start_time": "2023-01-30T11:21:28.295Z"
   },
   {
    "duration": 179,
    "start_time": "2023-01-30T11:21:38.752Z"
   },
   {
    "duration": 191,
    "start_time": "2023-01-30T11:21:48.033Z"
   },
   {
    "duration": 232,
    "start_time": "2023-01-30T11:22:10.585Z"
   },
   {
    "duration": 2,
    "start_time": "2023-01-30T11:22:21.511Z"
   },
   {
    "duration": 195,
    "start_time": "2023-01-30T11:22:23.401Z"
   },
   {
    "duration": 1348,
    "start_time": "2023-01-30T11:22:25.660Z"
   },
   {
    "duration": 230,
    "start_time": "2023-01-30T11:22:31.288Z"
   },
   {
    "duration": 198,
    "start_time": "2023-01-30T11:22:36.088Z"
   },
   {
    "duration": 1332,
    "start_time": "2023-01-30T11:22:38.988Z"
   },
   {
    "duration": 239,
    "start_time": "2023-01-30T11:22:49.453Z"
   },
   {
    "duration": 185,
    "start_time": "2023-01-30T11:22:56.920Z"
   },
   {
    "duration": 1420,
    "start_time": "2023-01-30T11:22:59.852Z"
   },
   {
    "duration": 225,
    "start_time": "2023-01-30T11:23:18.713Z"
   },
   {
    "duration": 198,
    "start_time": "2023-01-30T11:23:22.997Z"
   },
   {
    "duration": 1342,
    "start_time": "2023-01-30T11:23:25.585Z"
   },
   {
    "duration": 329,
    "start_time": "2023-01-30T11:23:57.967Z"
   },
   {
    "duration": 1235,
    "start_time": "2023-01-30T11:28:46.619Z"
   },
   {
    "duration": 1303,
    "start_time": "2023-01-30T11:29:03.760Z"
   },
   {
    "duration": 1310,
    "start_time": "2023-01-30T11:29:15.307Z"
   },
   {
    "duration": 1241,
    "start_time": "2023-01-30T11:29:23.524Z"
   },
   {
    "duration": 1121,
    "start_time": "2023-01-30T11:33:46.173Z"
   },
   {
    "duration": 4,
    "start_time": "2023-01-30T12:18:38.781Z"
   },
   {
    "duration": 12,
    "start_time": "2023-01-30T12:21:22.723Z"
   },
   {
    "duration": 7,
    "start_time": "2023-01-30T12:21:48.767Z"
   },
   {
    "duration": 33,
    "start_time": "2023-01-30T13:01:00.909Z"
   },
   {
    "duration": 847,
    "start_time": "2023-01-30T13:03:03.324Z"
   },
   {
    "duration": 35,
    "start_time": "2023-01-30T13:03:18.218Z"
   },
   {
    "duration": 24,
    "start_time": "2023-01-30T13:04:08.748Z"
   },
   {
    "duration": 1290,
    "start_time": "2023-01-30T13:05:16.394Z"
   },
   {
    "duration": 1222,
    "start_time": "2023-01-30T13:05:50.798Z"
   },
   {
    "duration": 4,
    "start_time": "2023-01-30T13:06:36.926Z"
   },
   {
    "duration": 187,
    "start_time": "2023-01-30T13:06:39.056Z"
   },
   {
    "duration": 1195,
    "start_time": "2023-01-30T13:06:43.552Z"
   },
   {
    "duration": 726,
    "start_time": "2023-01-30T13:06:51.919Z"
   },
   {
    "duration": 686,
    "start_time": "2023-01-30T13:07:07.335Z"
   },
   {
    "duration": 1246,
    "start_time": "2023-01-30T13:07:16.794Z"
   },
   {
    "duration": 774,
    "start_time": "2023-01-30T13:07:24.086Z"
   },
   {
    "duration": 732,
    "start_time": "2023-01-30T13:07:36.459Z"
   },
   {
    "duration": 1160,
    "start_time": "2023-01-30T13:07:53.281Z"
   },
   {
    "duration": 1248,
    "start_time": "2023-01-30T13:08:02.193Z"
   },
   {
    "duration": 3,
    "start_time": "2023-01-30T13:08:05.800Z"
   },
   {
    "duration": 178,
    "start_time": "2023-01-30T13:08:07.558Z"
   },
   {
    "duration": 1233,
    "start_time": "2023-01-30T13:08:11.187Z"
   },
   {
    "duration": 1265,
    "start_time": "2023-01-30T13:08:32.599Z"
   },
   {
    "duration": 3,
    "start_time": "2023-01-30T13:09:04.451Z"
   },
   {
    "duration": 203,
    "start_time": "2023-01-30T13:09:06.412Z"
   },
   {
    "duration": 1268,
    "start_time": "2023-01-30T13:09:09.839Z"
   },
   {
    "duration": 1205,
    "start_time": "2023-01-30T13:10:08.245Z"
   },
   {
    "duration": 184,
    "start_time": "2023-01-30T13:10:26.878Z"
   },
   {
    "duration": 203,
    "start_time": "2023-01-30T13:11:00.480Z"
   },
   {
    "duration": 191,
    "start_time": "2023-01-30T13:11:09.541Z"
   },
   {
    "duration": 1347,
    "start_time": "2023-01-30T13:11:20.301Z"
   },
   {
    "duration": 33,
    "start_time": "2023-01-30T13:11:26.403Z"
   },
   {
    "duration": 23,
    "start_time": "2023-01-30T13:12:03.772Z"
   },
   {
    "duration": 10,
    "start_time": "2023-01-30T14:15:36.043Z"
   },
   {
    "duration": 8,
    "start_time": "2023-01-30T14:20:39.159Z"
   },
   {
    "duration": 553,
    "start_time": "2023-01-30T14:21:18.199Z"
   },
   {
    "duration": 21,
    "start_time": "2023-01-30T14:21:23.608Z"
   },
   {
    "duration": 12,
    "start_time": "2023-01-30T14:21:43.168Z"
   },
   {
    "duration": 557,
    "start_time": "2023-01-30T14:22:17.081Z"
   },
   {
    "duration": 1032,
    "start_time": "2023-01-30T14:22:21.930Z"
   },
   {
    "duration": 976,
    "start_time": "2023-01-30T14:23:44.366Z"
   },
   {
    "duration": 188,
    "start_time": "2023-01-30T14:23:59.072Z"
   },
   {
    "duration": 1223,
    "start_time": "2023-01-30T14:24:03.316Z"
   },
   {
    "duration": 1032,
    "start_time": "2023-01-30T14:24:10.767Z"
   },
   {
    "duration": 1044,
    "start_time": "2023-01-30T14:25:54.450Z"
   },
   {
    "duration": 986,
    "start_time": "2023-01-30T14:26:50.787Z"
   },
   {
    "duration": 29,
    "start_time": "2023-01-30T14:26:58.324Z"
   },
   {
    "duration": 5,
    "start_time": "2023-01-30T14:28:05.529Z"
   },
   {
    "duration": 1086,
    "start_time": "2023-01-30T14:28:10.215Z"
   },
   {
    "duration": 1036,
    "start_time": "2023-01-30T14:28:55.414Z"
   },
   {
    "duration": 9173,
    "start_time": "2023-01-30T14:29:04.371Z"
   },
   {
    "duration": 8121,
    "start_time": "2023-01-30T14:30:48.263Z"
   },
   {
    "duration": 7654,
    "start_time": "2023-01-30T14:31:30.554Z"
   },
   {
    "duration": 1725,
    "start_time": "2023-01-30T15:31:45.001Z"
   },
   {
    "duration": 559,
    "start_time": "2023-01-30T15:31:47.259Z"
   },
   {
    "duration": 1132,
    "start_time": "2023-01-30T15:31:50.316Z"
   },
   {
    "duration": 34,
    "start_time": "2023-01-30T15:31:54.979Z"
   },
   {
    "duration": 7698,
    "start_time": "2023-01-30T15:31:57.770Z"
   },
   {
    "duration": 22,
    "start_time": "2023-01-30T15:32:05.505Z"
   },
   {
    "duration": 123,
    "start_time": "2023-01-30T15:33:13.417Z"
   },
   {
    "duration": 24,
    "start_time": "2023-01-30T15:34:10.027Z"
   },
   {
    "duration": 28,
    "start_time": "2023-01-30T15:34:46.502Z"
   },
   {
    "duration": 8,
    "start_time": "2023-01-30T15:35:15.756Z"
   },
   {
    "duration": 10,
    "start_time": "2023-01-30T15:35:24.236Z"
   },
   {
    "duration": 10,
    "start_time": "2023-01-30T15:35:26.205Z"
   },
   {
    "duration": 1474,
    "start_time": "2023-01-30T16:07:05.167Z"
   },
   {
    "duration": 1030,
    "start_time": "2023-01-30T16:07:06.963Z"
   },
   {
    "duration": 1180,
    "start_time": "2023-01-30T16:07:10.647Z"
   },
   {
    "duration": 28,
    "start_time": "2023-01-30T16:07:15.616Z"
   },
   {
    "duration": 7610,
    "start_time": "2023-01-30T16:07:17.992Z"
   },
   {
    "duration": 20,
    "start_time": "2023-01-30T16:07:25.604Z"
   },
   {
    "duration": 19,
    "start_time": "2023-01-30T16:08:03.225Z"
   },
   {
    "duration": 19,
    "start_time": "2023-01-30T16:08:41.574Z"
   },
   {
    "duration": 28,
    "start_time": "2023-01-30T16:32:13.456Z"
   },
   {
    "duration": 149,
    "start_time": "2023-01-30T16:36:05.223Z"
   },
   {
    "duration": 31,
    "start_time": "2023-01-30T16:36:16.026Z"
   },
   {
    "duration": 25,
    "start_time": "2023-01-30T16:37:02.777Z"
   },
   {
    "duration": 108,
    "start_time": "2023-01-30T16:56:00.271Z"
   },
   {
    "duration": 124,
    "start_time": "2023-01-30T16:56:30.248Z"
   },
   {
    "duration": 39,
    "start_time": "2023-01-30T17:13:17.609Z"
   },
   {
    "duration": 85,
    "start_time": "2023-01-30T17:15:20.539Z"
   },
   {
    "duration": 1516,
    "start_time": "2023-01-31T10:59:26.780Z"
   },
   {
    "duration": 696,
    "start_time": "2023-01-31T10:59:28.496Z"
   },
   {
    "duration": 1235,
    "start_time": "2023-01-31T10:59:33.214Z"
   },
   {
    "duration": 25,
    "start_time": "2023-01-31T10:59:38.441Z"
   },
   {
    "duration": 7369,
    "start_time": "2023-01-31T10:59:41.056Z"
   },
   {
    "duration": 25,
    "start_time": "2023-01-31T10:59:48.478Z"
   },
   {
    "duration": 20,
    "start_time": "2023-01-31T10:59:56.664Z"
   },
   {
    "duration": 105,
    "start_time": "2023-01-31T11:02:49.739Z"
   },
   {
    "duration": 63,
    "start_time": "2023-01-31T11:02:56.748Z"
   },
   {
    "duration": 63,
    "start_time": "2023-01-31T11:03:29.549Z"
   },
   {
    "duration": 55,
    "start_time": "2023-01-31T11:08:05.675Z"
   },
   {
    "duration": 68,
    "start_time": "2023-01-31T11:08:12.662Z"
   },
   {
    "duration": 71,
    "start_time": "2023-01-31T11:10:16.937Z"
   },
   {
    "duration": 15,
    "start_time": "2023-01-31T11:12:47.679Z"
   },
   {
    "duration": 77,
    "start_time": "2023-01-31T11:12:53.234Z"
   },
   {
    "duration": 313,
    "start_time": "2023-01-31T11:14:45.455Z"
   },
   {
    "duration": 254,
    "start_time": "2023-01-31T11:15:07.053Z"
   },
   {
    "duration": 72,
    "start_time": "2023-01-31T11:15:39.765Z"
   },
   {
    "duration": 101,
    "start_time": "2023-01-31T11:33:54.655Z"
   },
   {
    "duration": 45,
    "start_time": "2023-01-31T11:35:57.868Z"
   },
   {
    "duration": 67,
    "start_time": "2023-01-31T11:36:21.765Z"
   },
   {
    "duration": 67,
    "start_time": "2023-01-31T11:37:08.184Z"
   },
   {
    "duration": 69,
    "start_time": "2023-01-31T11:38:31.044Z"
   },
   {
    "duration": 8,
    "start_time": "2023-01-31T11:58:20.522Z"
   },
   {
    "duration": 31,
    "start_time": "2023-01-31T12:01:19.615Z"
   },
   {
    "duration": 34,
    "start_time": "2023-01-31T12:01:40.567Z"
   },
   {
    "duration": 35,
    "start_time": "2023-01-31T12:02:31.968Z"
   },
   {
    "duration": 33,
    "start_time": "2023-01-31T12:03:50.112Z"
   },
   {
    "duration": 32,
    "start_time": "2023-01-31T12:06:58.605Z"
   },
   {
    "duration": 32,
    "start_time": "2023-01-31T12:07:57.192Z"
   },
   {
    "duration": 31,
    "start_time": "2023-01-31T12:08:02.226Z"
   },
   {
    "duration": 937,
    "start_time": "2023-01-31T13:03:00.041Z"
   },
   {
    "duration": 37,
    "start_time": "2023-01-31T13:04:12.685Z"
   },
   {
    "duration": 115,
    "start_time": "2023-01-31T13:04:32.962Z"
   },
   {
    "duration": 106,
    "start_time": "2023-01-31T13:04:56.834Z"
   },
   {
    "duration": 109,
    "start_time": "2023-01-31T13:23:49.003Z"
   },
   {
    "duration": 123,
    "start_time": "2023-01-31T13:26:30.991Z"
   },
   {
    "duration": 110,
    "start_time": "2023-01-31T13:27:22.111Z"
   },
   {
    "duration": 108,
    "start_time": "2023-01-31T13:27:37.361Z"
   },
   {
    "duration": 110,
    "start_time": "2023-01-31T13:27:47.743Z"
   },
   {
    "duration": 106,
    "start_time": "2023-01-31T13:28:21.744Z"
   },
   {
    "duration": 107,
    "start_time": "2023-01-31T13:28:36.452Z"
   },
   {
    "duration": 9,
    "start_time": "2023-01-31T13:49:12.645Z"
   },
   {
    "duration": 103,
    "start_time": "2023-01-31T13:49:19.810Z"
   },
   {
    "duration": 9,
    "start_time": "2023-01-31T13:49:24.614Z"
   },
   {
    "duration": 4,
    "start_time": "2023-01-31T13:49:51.648Z"
   },
   {
    "duration": 10,
    "start_time": "2023-01-31T13:51:29.153Z"
   },
   {
    "duration": 18,
    "start_time": "2023-01-31T13:52:40.331Z"
   },
   {
    "duration": 13,
    "start_time": "2023-01-31T13:53:44.566Z"
   },
   {
    "duration": 103,
    "start_time": "2023-01-31T13:54:02.387Z"
   },
   {
    "duration": 15,
    "start_time": "2023-01-31T13:54:05.162Z"
   },
   {
    "duration": 12,
    "start_time": "2023-01-31T14:43:32.795Z"
   },
   {
    "duration": 748,
    "start_time": "2023-01-31T14:43:46.019Z"
   },
   {
    "duration": 771,
    "start_time": "2023-01-31T14:43:57.897Z"
   },
   {
    "duration": 15,
    "start_time": "2023-01-31T14:44:15.878Z"
   },
   {
    "duration": 15,
    "start_time": "2023-01-31T14:44:37.774Z"
   },
   {
    "duration": 15,
    "start_time": "2023-01-31T14:52:46.851Z"
   },
   {
    "duration": 16,
    "start_time": "2023-01-31T14:54:55.527Z"
   },
   {
    "duration": 882,
    "start_time": "2023-01-31T15:00:11.151Z"
   },
   {
    "duration": 825,
    "start_time": "2023-01-31T15:00:24.921Z"
   },
   {
    "duration": 772,
    "start_time": "2023-01-31T15:00:45.206Z"
   },
   {
    "duration": 13,
    "start_time": "2023-01-31T15:01:29.475Z"
   },
   {
    "duration": 107,
    "start_time": "2023-01-31T15:01:34.697Z"
   },
   {
    "duration": 567,
    "start_time": "2023-01-31T15:01:46.817Z"
   },
   {
    "duration": 596,
    "start_time": "2023-01-31T15:02:29.389Z"
   },
   {
    "duration": 610,
    "start_time": "2023-01-31T15:03:34.763Z"
   },
   {
    "duration": 5,
    "start_time": "2023-01-31T15:05:21.001Z"
   },
   {
    "duration": 173,
    "start_time": "2023-01-31T15:05:23.298Z"
   },
   {
    "duration": 1125,
    "start_time": "2023-01-31T15:05:26.839Z"
   },
   {
    "duration": 25,
    "start_time": "2023-01-31T15:05:31.105Z"
   },
   {
    "duration": 16,
    "start_time": "2023-01-31T15:05:34.754Z"
   },
   {
    "duration": 5094,
    "start_time": "2023-01-31T15:05:37.593Z"
   },
   {
    "duration": 27,
    "start_time": "2023-01-31T15:05:42.689Z"
   },
   {
    "duration": 76,
    "start_time": "2023-01-31T15:05:47.154Z"
   },
   {
    "duration": 37,
    "start_time": "2023-01-31T15:05:54.051Z"
   },
   {
    "duration": 93,
    "start_time": "2023-01-31T15:05:58.205Z"
   },
   {
    "duration": 15,
    "start_time": "2023-01-31T15:06:02.210Z"
   },
   {
    "duration": 906,
    "start_time": "2023-01-31T15:06:06.768Z"
   },
   {
    "duration": 787,
    "start_time": "2023-01-31T15:15:39.835Z"
   },
   {
    "duration": 1427,
    "start_time": "2023-02-01T09:13:39.533Z"
   },
   {
    "duration": 718,
    "start_time": "2023-02-01T09:13:41.908Z"
   },
   {
    "duration": 1052,
    "start_time": "2023-02-01T09:13:46.005Z"
   },
   {
    "duration": 24,
    "start_time": "2023-02-01T09:13:50.137Z"
   },
   {
    "duration": 6951,
    "start_time": "2023-02-01T09:13:52.727Z"
   },
   {
    "duration": 21,
    "start_time": "2023-02-01T09:13:59.681Z"
   },
   {
    "duration": 22,
    "start_time": "2023-02-01T09:14:01.023Z"
   },
   {
    "duration": 161,
    "start_time": "2023-02-01T09:14:06.191Z"
   },
   {
    "duration": 62,
    "start_time": "2023-02-01T09:14:17.319Z"
   },
   {
    "duration": 25,
    "start_time": "2023-02-01T09:14:26.511Z"
   },
   {
    "duration": 62,
    "start_time": "2023-02-01T09:14:28.902Z"
   },
   {
    "duration": 21,
    "start_time": "2023-02-01T09:14:43.799Z"
   },
   {
    "duration": 23,
    "start_time": "2023-02-01T09:14:46.988Z"
   },
   {
    "duration": 62,
    "start_time": "2023-02-01T09:14:49.626Z"
   },
   {
    "duration": 781,
    "start_time": "2023-02-01T09:14:52.838Z"
   },
   {
    "duration": 67,
    "start_time": "2023-02-01T09:15:00.925Z"
   },
   {
    "duration": 4,
    "start_time": "2023-02-01T09:15:14.196Z"
   },
   {
    "duration": 165,
    "start_time": "2023-02-01T09:15:16.626Z"
   },
   {
    "duration": 1015,
    "start_time": "2023-02-01T09:15:20.155Z"
   },
   {
    "duration": 26,
    "start_time": "2023-02-01T09:15:24.777Z"
   },
   {
    "duration": 7073,
    "start_time": "2023-02-01T09:15:27.423Z"
   },
   {
    "duration": 20,
    "start_time": "2023-02-01T09:15:34.498Z"
   },
   {
    "duration": 24,
    "start_time": "2023-02-01T09:15:43.606Z"
   },
   {
    "duration": 69,
    "start_time": "2023-02-01T09:15:46.326Z"
   },
   {
    "duration": 64,
    "start_time": "2023-02-01T09:16:03.180Z"
   },
   {
    "duration": 66,
    "start_time": "2023-02-01T09:16:36.776Z"
   },
   {
    "duration": 64,
    "start_time": "2023-02-01T09:17:05.605Z"
   },
   {
    "duration": 88,
    "start_time": "2023-02-01T09:17:24.076Z"
   },
   {
    "duration": 84,
    "start_time": "2023-02-01T09:17:44.000Z"
   },
   {
    "duration": 66,
    "start_time": "2023-02-01T09:18:24.225Z"
   },
   {
    "duration": 9,
    "start_time": "2023-02-01T09:18:28.947Z"
   },
   {
    "duration": 11,
    "start_time": "2023-02-01T09:29:35.400Z"
   },
   {
    "duration": 12,
    "start_time": "2023-02-01T10:12:34.997Z"
   },
   {
    "duration": 69,
    "start_time": "2023-02-01T10:12:41.620Z"
   },
   {
    "duration": 14,
    "start_time": "2023-02-01T10:12:44.834Z"
   },
   {
    "duration": 11,
    "start_time": "2023-02-01T10:15:09.060Z"
   },
   {
    "duration": 34,
    "start_time": "2023-02-01T10:15:13.278Z"
   },
   {
    "duration": 169,
    "start_time": "2023-02-01T10:15:15.231Z"
   },
   {
    "duration": 1053,
    "start_time": "2023-02-01T10:15:18.430Z"
   },
   {
    "duration": 1021,
    "start_time": "2023-02-01T10:15:24.089Z"
   },
   {
    "duration": 23,
    "start_time": "2023-02-01T10:15:28.504Z"
   },
   {
    "duration": 14,
    "start_time": "2023-02-01T10:15:31.181Z"
   },
   {
    "duration": 12,
    "start_time": "2023-02-01T10:15:57.326Z"
   },
   {
    "duration": 228,
    "start_time": "2023-02-01T10:16:12.379Z"
   },
   {
    "duration": 228,
    "start_time": "2023-02-01T10:16:21.608Z"
   },
   {
    "duration": 282,
    "start_time": "2023-02-01T10:17:59.229Z"
   },
   {
    "duration": 429,
    "start_time": "2023-02-01T10:18:14.911Z"
   },
   {
    "duration": 357,
    "start_time": "2023-02-01T10:18:39.451Z"
   },
   {
    "duration": 315,
    "start_time": "2023-02-01T10:18:44.998Z"
   },
   {
    "duration": 318,
    "start_time": "2023-02-01T10:18:57.822Z"
   },
   {
    "duration": 288,
    "start_time": "2023-02-01T10:19:28.896Z"
   },
   {
    "duration": 24,
    "start_time": "2023-02-01T10:19:58.496Z"
   },
   {
    "duration": 288,
    "start_time": "2023-02-01T10:20:01.877Z"
   },
   {
    "duration": 3,
    "start_time": "2023-02-01T10:20:15.835Z"
   },
   {
    "duration": 174,
    "start_time": "2023-02-01T10:20:18.083Z"
   },
   {
    "duration": 1032,
    "start_time": "2023-02-01T10:20:22.178Z"
   },
   {
    "duration": 24,
    "start_time": "2023-02-01T10:20:27.643Z"
   },
   {
    "duration": 279,
    "start_time": "2023-02-01T10:20:30.001Z"
   },
   {
    "duration": 303,
    "start_time": "2023-02-01T10:20:54.957Z"
   },
   {
    "duration": 317,
    "start_time": "2023-02-01T10:21:07.748Z"
   },
   {
    "duration": 276,
    "start_time": "2023-02-01T10:21:17.924Z"
   },
   {
    "duration": 287,
    "start_time": "2023-02-01T10:21:36.296Z"
   },
   {
    "duration": 289,
    "start_time": "2023-02-01T10:21:48.543Z"
   },
   {
    "duration": 277,
    "start_time": "2023-02-01T10:22:01.789Z"
   },
   {
    "duration": 478,
    "start_time": "2023-02-01T10:22:18.122Z"
   },
   {
    "duration": 303,
    "start_time": "2023-02-01T10:22:28.016Z"
   },
   {
    "duration": 17,
    "start_time": "2023-02-01T10:24:49.393Z"
   },
   {
    "duration": 25,
    "start_time": "2023-02-01T10:24:53.433Z"
   },
   {
    "duration": 71,
    "start_time": "2023-02-01T10:24:56.115Z"
   },
   {
    "duration": 11,
    "start_time": "2023-02-01T10:25:01.706Z"
   },
   {
    "duration": 30,
    "start_time": "2023-02-01T10:25:12.523Z"
   },
   {
    "duration": 11,
    "start_time": "2023-02-01T10:45:21.632Z"
   },
   {
    "duration": 705,
    "start_time": "2023-02-01T10:45:53.703Z"
   },
   {
    "duration": 771,
    "start_time": "2023-02-01T10:46:54.467Z"
   },
   {
    "duration": 13,
    "start_time": "2023-02-01T10:47:43.779Z"
   },
   {
    "duration": 801,
    "start_time": "2023-02-01T10:47:47.947Z"
   },
   {
    "duration": 4,
    "start_time": "2023-02-01T10:48:05.325Z"
   },
   {
    "duration": 218,
    "start_time": "2023-02-01T10:48:07.597Z"
   },
   {
    "duration": 1047,
    "start_time": "2023-02-01T10:48:11.596Z"
   },
   {
    "duration": 23,
    "start_time": "2023-02-01T10:48:17.413Z"
   },
   {
    "duration": 288,
    "start_time": "2023-02-01T10:48:19.954Z"
   },
   {
    "duration": 16,
    "start_time": "2023-02-01T10:48:23.451Z"
   },
   {
    "duration": 23,
    "start_time": "2023-02-01T10:48:26.835Z"
   },
   {
    "duration": 68,
    "start_time": "2023-02-01T10:48:30.136Z"
   },
   {
    "duration": 10,
    "start_time": "2023-02-01T10:48:34.694Z"
   },
   {
    "duration": 708,
    "start_time": "2023-02-01T10:48:41.565Z"
   },
   {
    "duration": 690,
    "start_time": "2023-02-01T10:48:52.436Z"
   },
   {
    "duration": 189,
    "start_time": "2023-02-01T10:49:38.003Z"
   },
   {
    "duration": 798,
    "start_time": "2023-02-01T10:49:50.055Z"
   },
   {
    "duration": 712,
    "start_time": "2023-02-01T10:50:26.399Z"
   },
   {
    "duration": 14,
    "start_time": "2023-02-01T10:50:52.469Z"
   },
   {
    "duration": 724,
    "start_time": "2023-02-01T10:51:22.440Z"
   },
   {
    "duration": 803,
    "start_time": "2023-02-01T10:52:01.408Z"
   },
   {
    "duration": 771,
    "start_time": "2023-02-01T10:52:35.431Z"
   },
   {
    "duration": 678,
    "start_time": "2023-02-01T10:53:25.500Z"
   },
   {
    "duration": 701,
    "start_time": "2023-02-01T10:54:39.591Z"
   },
   {
    "duration": 788,
    "start_time": "2023-02-01T10:55:00.155Z"
   },
   {
    "duration": 16,
    "start_time": "2023-02-01T11:05:08.798Z"
   },
   {
    "duration": 11,
    "start_time": "2023-02-01T11:05:56.526Z"
   },
   {
    "duration": 108,
    "start_time": "2023-02-01T11:06:01.295Z"
   },
   {
    "duration": 11,
    "start_time": "2023-02-01T11:06:05.907Z"
   },
   {
    "duration": 1042,
    "start_time": "2023-02-01T11:06:08.906Z"
   },
   {
    "duration": 3,
    "start_time": "2023-02-01T11:06:35.794Z"
   },
   {
    "duration": 222,
    "start_time": "2023-02-01T11:06:37.724Z"
   },
   {
    "duration": 1060,
    "start_time": "2023-02-01T11:06:41.998Z"
   },
   {
    "duration": 25,
    "start_time": "2023-02-01T11:06:50.243Z"
   },
   {
    "duration": 283,
    "start_time": "2023-02-01T11:06:53.704Z"
   },
   {
    "duration": 16,
    "start_time": "2023-02-01T11:06:57.124Z"
   },
   {
    "duration": 23,
    "start_time": "2023-02-01T11:07:01.251Z"
   },
   {
    "duration": 70,
    "start_time": "2023-02-01T11:07:18.210Z"
   },
   {
    "duration": 10,
    "start_time": "2023-02-01T11:07:27.535Z"
   },
   {
    "duration": 735,
    "start_time": "2023-02-01T11:07:34.005Z"
   },
   {
    "duration": 71,
    "start_time": "2023-02-01T11:08:30.562Z"
   },
   {
    "duration": 24,
    "start_time": "2023-02-01T11:08:40.146Z"
   },
   {
    "duration": 65,
    "start_time": "2023-02-01T11:08:43.724Z"
   },
   {
    "duration": 76,
    "start_time": "2023-02-01T11:08:53.421Z"
   },
   {
    "duration": 14,
    "start_time": "2023-02-01T11:08:58.155Z"
   },
   {
    "duration": 694,
    "start_time": "2023-02-01T11:09:02.494Z"
   },
   {
    "duration": 3,
    "start_time": "2023-02-01T11:12:55.197Z"
   },
   {
    "duration": 8,
    "start_time": "2023-02-01T11:13:09.494Z"
   },
   {
    "duration": 22,
    "start_time": "2023-02-01T11:13:23.060Z"
   },
   {
    "duration": 71,
    "start_time": "2023-02-01T11:13:28.355Z"
   },
   {
    "duration": 11,
    "start_time": "2023-02-01T11:13:49.209Z"
   },
   {
    "duration": 12,
    "start_time": "2023-02-01T11:14:04.204Z"
   },
   {
    "duration": 751,
    "start_time": "2023-02-01T11:14:08.006Z"
   },
   {
    "duration": 734,
    "start_time": "2023-02-01T11:20:50.293Z"
   },
   {
    "duration": 697,
    "start_time": "2023-02-01T11:23:41.196Z"
   },
   {
    "duration": 49,
    "start_time": "2023-02-01T11:27:04.039Z"
   },
   {
    "duration": 1251,
    "start_time": "2023-02-01T11:27:12.357Z"
   },
   {
    "duration": 742,
    "start_time": "2023-02-01T11:27:14.695Z"
   },
   {
    "duration": 1099,
    "start_time": "2023-02-01T11:27:19.393Z"
   },
   {
    "duration": 25,
    "start_time": "2023-02-01T11:27:23.533Z"
   },
   {
    "duration": 295,
    "start_time": "2023-02-01T11:27:25.852Z"
   },
   {
    "duration": 22,
    "start_time": "2023-02-01T11:27:29.662Z"
   },
   {
    "duration": 24,
    "start_time": "2023-02-01T11:27:32.861Z"
   },
   {
    "duration": 90,
    "start_time": "2023-02-01T11:27:35.495Z"
   },
   {
    "duration": 11,
    "start_time": "2023-02-01T11:27:38.694Z"
   },
   {
    "duration": 54,
    "start_time": "2023-02-01T11:42:43.503Z"
   },
   {
    "duration": 1249,
    "start_time": "2023-02-01T11:43:02.387Z"
   },
   {
    "duration": 768,
    "start_time": "2023-02-01T11:43:04.524Z"
   },
   {
    "duration": 1116,
    "start_time": "2023-02-01T11:43:08.624Z"
   },
   {
    "duration": 28,
    "start_time": "2023-02-01T11:43:12.822Z"
   },
   {
    "duration": 303,
    "start_time": "2023-02-01T11:43:16.947Z"
   },
   {
    "duration": 20,
    "start_time": "2023-02-01T11:43:20.940Z"
   },
   {
    "duration": 22,
    "start_time": "2023-02-01T11:43:23.464Z"
   },
   {
    "duration": 70,
    "start_time": "2023-02-01T11:43:26.040Z"
   },
   {
    "duration": 11,
    "start_time": "2023-02-01T11:43:29.597Z"
   },
   {
    "duration": 1221,
    "start_time": "2023-02-01T11:50:24.940Z"
   },
   {
    "duration": 763,
    "start_time": "2023-02-01T11:50:27.126Z"
   },
   {
    "duration": 1112,
    "start_time": "2023-02-01T11:50:31.058Z"
   },
   {
    "duration": 24,
    "start_time": "2023-02-01T11:50:39.267Z"
   },
   {
    "duration": 316,
    "start_time": "2023-02-01T11:50:42.137Z"
   },
   {
    "duration": 21,
    "start_time": "2023-02-01T11:50:45.704Z"
   },
   {
    "duration": 22,
    "start_time": "2023-02-01T11:50:49.909Z"
   },
   {
    "duration": 73,
    "start_time": "2023-02-01T11:50:52.624Z"
   },
   {
    "duration": 12,
    "start_time": "2023-02-01T11:50:55.544Z"
   },
   {
    "duration": 1721,
    "start_time": "2023-02-01T11:53:42.168Z"
   },
   {
    "duration": 681,
    "start_time": "2023-02-01T11:53:46.610Z"
   },
   {
    "duration": 1534,
    "start_time": "2023-02-01T11:53:51.310Z"
   },
   {
    "duration": 32,
    "start_time": "2023-02-01T11:53:56.710Z"
   },
   {
    "duration": 421,
    "start_time": "2023-02-01T11:54:00.523Z"
   },
   {
    "duration": 29,
    "start_time": "2023-02-01T11:54:04.244Z"
   },
   {
    "duration": 38,
    "start_time": "2023-02-01T11:54:10.618Z"
   },
   {
    "duration": 113,
    "start_time": "2023-02-01T11:54:12.754Z"
   },
   {
    "duration": 16,
    "start_time": "2023-02-01T11:54:15.261Z"
   },
   {
    "duration": 162,
    "start_time": "2023-02-01T11:54:17.722Z"
   },
   {
    "duration": 1383,
    "start_time": "2023-02-01T11:54:27.418Z"
   },
   {
    "duration": 1431,
    "start_time": "2023-02-01T12:14:51.203Z"
   },
   {
    "duration": 728,
    "start_time": "2023-02-01T12:14:53.164Z"
   },
   {
    "duration": 1348,
    "start_time": "2023-02-01T12:14:57.200Z"
   },
   {
    "duration": 37,
    "start_time": "2023-02-01T12:15:01.619Z"
   },
   {
    "duration": 382,
    "start_time": "2023-02-01T12:15:04.134Z"
   },
   {
    "duration": 22,
    "start_time": "2023-02-01T12:15:07.711Z"
   },
   {
    "duration": 22,
    "start_time": "2023-02-01T12:15:10.766Z"
   },
   {
    "duration": 96,
    "start_time": "2023-02-01T12:15:13.550Z"
   },
   {
    "duration": 12,
    "start_time": "2023-02-01T12:15:16.553Z"
   },
   {
    "duration": 48,
    "start_time": "2023-02-01T12:15:20.302Z"
   },
   {
    "duration": 2039,
    "start_time": "2023-02-01T12:15:26.115Z"
   },
   {
    "duration": 31,
    "start_time": "2023-02-01T12:15:58.847Z"
   },
   {
    "duration": 1365,
    "start_time": "2023-02-01T12:39:53.966Z"
   },
   {
    "duration": 606,
    "start_time": "2023-02-01T12:39:56.116Z"
   },
   {
    "duration": 1238,
    "start_time": "2023-02-01T12:40:00.021Z"
   },
   {
    "duration": 25,
    "start_time": "2023-02-01T12:40:04.961Z"
   },
   {
    "duration": 21,
    "start_time": "2023-02-01T12:40:08.801Z"
   },
   {
    "duration": 27,
    "start_time": "2023-02-01T12:40:11.843Z"
   },
   {
    "duration": 93,
    "start_time": "2023-02-01T12:40:14.408Z"
   },
   {
    "duration": 13,
    "start_time": "2023-02-01T12:40:17.925Z"
   },
   {
    "duration": 1369,
    "start_time": "2023-02-01T12:40:23.208Z"
   },
   {
    "duration": 32,
    "start_time": "2023-02-01T12:40:29.474Z"
   },
   {
    "duration": 125,
    "start_time": "2023-02-01T12:40:34.925Z"
   },
   {
    "duration": 52,
    "start_time": "2023-02-01T12:43:16.531Z"
   },
   {
    "duration": 44,
    "start_time": "2023-02-01T12:44:05.317Z"
   },
   {
    "duration": 51,
    "start_time": "2023-02-01T12:44:41.952Z"
   },
   {
    "duration": 50,
    "start_time": "2023-02-01T12:45:00.424Z"
   },
   {
    "duration": 871,
    "start_time": "2023-02-01T12:46:50.612Z"
   },
   {
    "duration": 1362,
    "start_time": "2023-02-01T14:09:58.524Z"
   },
   {
    "duration": 566,
    "start_time": "2023-02-01T14:10:00.725Z"
   },
   {
    "duration": 1134,
    "start_time": "2023-02-01T14:10:04.673Z"
   },
   {
    "duration": 29,
    "start_time": "2023-02-01T14:10:10.419Z"
   },
   {
    "duration": 304,
    "start_time": "2023-02-01T14:10:15.268Z"
   },
   {
    "duration": 21,
    "start_time": "2023-02-01T14:10:20.105Z"
   },
   {
    "duration": 23,
    "start_time": "2023-02-01T14:11:02.592Z"
   },
   {
    "duration": 71,
    "start_time": "2023-02-01T14:11:06.661Z"
   },
   {
    "duration": 14,
    "start_time": "2023-02-01T14:11:11.288Z"
   },
   {
    "duration": 31,
    "start_time": "2023-02-01T14:16:01.158Z"
   },
   {
    "duration": 37,
    "start_time": "2023-02-01T14:16:05.666Z"
   },
   {
    "duration": 106,
    "start_time": "2023-02-01T14:16:14.761Z"
   },
   {
    "duration": 12,
    "start_time": "2023-02-01T14:16:21.450Z"
   },
   {
    "duration": 1342,
    "start_time": "2023-02-01T14:16:28.566Z"
   },
   {
    "duration": 1351,
    "start_time": "2023-02-01T14:19:03.235Z"
   },
   {
    "duration": 1306,
    "start_time": "2023-02-01T16:11:58.811Z"
   },
   {
    "duration": 207,
    "start_time": "2023-02-01T16:12:00.119Z"
   },
   {
    "duration": 1170,
    "start_time": "2023-02-01T16:12:00.328Z"
   },
   {
    "duration": 26,
    "start_time": "2023-02-01T16:12:01.500Z"
   },
   {
    "duration": 355,
    "start_time": "2023-02-01T16:12:01.544Z"
   },
   {
    "duration": 22,
    "start_time": "2023-02-01T16:12:01.901Z"
   },
   {
    "duration": 27,
    "start_time": "2023-02-01T16:12:01.948Z"
   },
   {
    "duration": 123,
    "start_time": "2023-02-01T16:12:01.977Z"
   },
   {
    "duration": 11,
    "start_time": "2023-02-01T16:12:02.102Z"
   },
   {
    "duration": 96,
    "start_time": "2023-02-01T16:12:02.114Z"
   },
   {
    "duration": 58,
    "start_time": "2023-02-01T16:12:02.212Z"
   },
   {
    "duration": 126,
    "start_time": "2023-02-01T16:12:02.272Z"
   },
   {
    "duration": 12,
    "start_time": "2023-02-01T16:12:02.399Z"
   },
   {
    "duration": 153,
    "start_time": "2023-02-01T16:12:02.414Z"
   },
   {
    "duration": 1781,
    "start_time": "2023-02-01T16:12:44.211Z"
   },
   {
    "duration": 9,
    "start_time": "2023-02-01T16:13:13.228Z"
   },
   {
    "duration": 4,
    "start_time": "2023-02-01T16:14:00.199Z"
   },
   {
    "duration": 5,
    "start_time": "2023-02-01T16:14:12.911Z"
   },
   {
    "duration": 5,
    "start_time": "2023-02-01T16:14:37.495Z"
   },
   {
    "duration": 1758,
    "start_time": "2023-02-01T16:14:55.101Z"
   },
   {
    "duration": 1785,
    "start_time": "2023-02-01T16:19:18.669Z"
   },
   {
    "duration": 12,
    "start_time": "2023-02-01T16:19:43.408Z"
   },
   {
    "duration": 11,
    "start_time": "2023-02-01T16:19:57.696Z"
   },
   {
    "duration": 16,
    "start_time": "2023-02-01T16:20:09.196Z"
   },
   {
    "duration": 17,
    "start_time": "2023-02-01T16:20:19.138Z"
   },
   {
    "duration": 11,
    "start_time": "2023-02-01T16:20:32.468Z"
   },
   {
    "duration": 13,
    "start_time": "2023-02-01T16:20:55.047Z"
   },
   {
    "duration": 8,
    "start_time": "2023-02-01T16:21:22.019Z"
   },
   {
    "duration": 1731,
    "start_time": "2023-02-01T16:21:33.019Z"
   },
   {
    "duration": 1828,
    "start_time": "2023-02-01T16:25:32.305Z"
   },
   {
    "duration": 620,
    "start_time": "2023-02-01T16:25:40.398Z"
   },
   {
    "duration": 5,
    "start_time": "2023-02-01T16:28:09.305Z"
   },
   {
    "duration": 4,
    "start_time": "2023-02-01T16:28:22.496Z"
   },
   {
    "duration": 1392,
    "start_time": "2023-02-02T09:09:03.649Z"
   },
   {
    "duration": 763,
    "start_time": "2023-02-02T09:09:07.392Z"
   },
   {
    "duration": 1152,
    "start_time": "2023-02-02T09:09:13.237Z"
   },
   {
    "duration": 29,
    "start_time": "2023-02-02T09:09:18.550Z"
   },
   {
    "duration": 316,
    "start_time": "2023-02-02T09:09:22.591Z"
   },
   {
    "duration": 669,
    "start_time": "2023-02-02T09:09:27.229Z"
   },
   {
    "duration": 645,
    "start_time": "2023-02-02T09:09:32.508Z"
   },
   {
    "duration": 19,
    "start_time": "2023-02-02T09:09:38.314Z"
   },
   {
    "duration": 18,
    "start_time": "2023-02-02T09:13:25.160Z"
   },
   {
    "duration": 129,
    "start_time": "2023-02-02T09:17:18.991Z"
   },
   {
    "duration": 33,
    "start_time": "2023-02-02T09:18:03.165Z"
   },
   {
    "duration": 32,
    "start_time": "2023-02-02T09:18:20.773Z"
   },
   {
    "duration": 230,
    "start_time": "2023-02-02T09:18:28.276Z"
   },
   {
    "duration": 253,
    "start_time": "2023-02-02T09:18:38.147Z"
   },
   {
    "duration": 23,
    "start_time": "2023-02-02T09:18:43.005Z"
   },
   {
    "duration": 564,
    "start_time": "2023-02-02T09:18:55.192Z"
   },
   {
    "duration": 32,
    "start_time": "2023-02-02T09:18:58.967Z"
   },
   {
    "duration": 3,
    "start_time": "2023-02-02T09:19:06.362Z"
   },
   {
    "duration": 172,
    "start_time": "2023-02-02T09:19:08.731Z"
   },
   {
    "duration": 1117,
    "start_time": "2023-02-02T09:19:12.036Z"
   },
   {
    "duration": 26,
    "start_time": "2023-02-02T09:19:18.859Z"
   },
   {
    "duration": 230,
    "start_time": "2023-02-02T09:19:21.255Z"
   },
   {
    "duration": 341,
    "start_time": "2023-02-02T09:19:24.925Z"
   },
   {
    "duration": 521,
    "start_time": "2023-02-02T09:19:30.277Z"
   },
   {
    "duration": 29,
    "start_time": "2023-02-02T09:19:34.988Z"
   },
   {
    "duration": 31,
    "start_time": "2023-02-02T09:21:56.306Z"
   },
   {
    "duration": 18,
    "start_time": "2023-02-02T09:22:30.681Z"
   },
   {
    "duration": 18,
    "start_time": "2023-02-02T09:22:37.905Z"
   },
   {
    "duration": 25,
    "start_time": "2023-02-02T09:28:07.788Z"
   },
   {
    "duration": 27,
    "start_time": "2023-02-02T09:45:04.426Z"
   },
   {
    "duration": 24,
    "start_time": "2023-02-02T09:45:34.519Z"
   },
   {
    "duration": 23,
    "start_time": "2023-02-02T09:45:46.565Z"
   },
   {
    "duration": 26,
    "start_time": "2023-02-02T09:46:54.584Z"
   },
   {
    "duration": 27,
    "start_time": "2023-02-02T09:46:57.565Z"
   },
   {
    "duration": 29,
    "start_time": "2023-02-02T09:47:17.585Z"
   },
   {
    "duration": 25,
    "start_time": "2023-02-02T09:47:30.519Z"
   },
   {
    "duration": 28,
    "start_time": "2023-02-02T09:48:12.545Z"
   },
   {
    "duration": 22,
    "start_time": "2023-02-02T09:48:41.795Z"
   },
   {
    "duration": 1074,
    "start_time": "2023-02-02T09:51:06.432Z"
   },
   {
    "duration": 24,
    "start_time": "2023-02-02T09:51:11.587Z"
   },
   {
    "duration": 248,
    "start_time": "2023-02-02T09:51:15.295Z"
   },
   {
    "duration": 674,
    "start_time": "2023-02-02T09:51:18.639Z"
   },
   {
    "duration": 21,
    "start_time": "2023-02-02T09:51:21.936Z"
   },
   {
    "duration": 9,
    "start_time": "2023-02-02T09:55:03.050Z"
   },
   {
    "duration": 104,
    "start_time": "2023-02-02T09:55:53.731Z"
   },
   {
    "duration": 9,
    "start_time": "2023-02-02T09:55:56.860Z"
   },
   {
    "duration": 31,
    "start_time": "2023-02-02T09:56:13.757Z"
   },
   {
    "duration": 14,
    "start_time": "2023-02-02T09:56:18.467Z"
   },
   {
    "duration": 12,
    "start_time": "2023-02-02T09:56:40.733Z"
   },
   {
    "duration": 12,
    "start_time": "2023-02-02T09:57:02.389Z"
   },
   {
    "duration": 8,
    "start_time": "2023-02-02T10:42:38.203Z"
   },
   {
    "duration": 10,
    "start_time": "2023-02-02T10:42:46.868Z"
   },
   {
    "duration": 9,
    "start_time": "2023-02-02T10:43:36.475Z"
   },
   {
    "duration": 8,
    "start_time": "2023-02-02T11:13:33.138Z"
   },
   {
    "duration": 534,
    "start_time": "2023-02-02T11:45:18.061Z"
   },
   {
    "duration": 569,
    "start_time": "2023-02-02T11:46:21.653Z"
   },
   {
    "duration": 9,
    "start_time": "2023-02-02T11:46:40.122Z"
   },
   {
    "duration": 4,
    "start_time": "2023-02-02T11:46:48.370Z"
   },
   {
    "duration": 196,
    "start_time": "2023-02-02T11:46:51.321Z"
   },
   {
    "duration": 1087,
    "start_time": "2023-02-02T11:46:54.401Z"
   },
   {
    "duration": 27,
    "start_time": "2023-02-02T11:46:58.155Z"
   },
   {
    "duration": 225,
    "start_time": "2023-02-02T11:47:00.845Z"
   },
   {
    "duration": 533,
    "start_time": "2023-02-02T11:47:04.503Z"
   },
   {
    "duration": 24,
    "start_time": "2023-02-02T11:47:11.436Z"
   },
   {
    "duration": 37,
    "start_time": "2023-02-02T11:47:14.681Z"
   },
   {
    "duration": 68,
    "start_time": "2023-02-02T11:47:19.056Z"
   },
   {
    "duration": 11,
    "start_time": "2023-02-02T11:47:22.462Z"
   },
   {
    "duration": 30,
    "start_time": "2023-02-02T11:47:28.100Z"
   },
   {
    "duration": 35,
    "start_time": "2023-02-02T11:47:30.722Z"
   },
   {
    "duration": 97,
    "start_time": "2023-02-02T11:47:34.111Z"
   },
   {
    "duration": 14,
    "start_time": "2023-02-02T11:47:37.351Z"
   },
   {
    "duration": 11,
    "start_time": "2023-02-02T11:47:41.258Z"
   },
   {
    "duration": 8,
    "start_time": "2023-02-02T11:47:44.330Z"
   },
   {
    "duration": 8,
    "start_time": "2023-02-02T11:47:46.467Z"
   },
   {
    "duration": 531,
    "start_time": "2023-02-02T11:47:48.662Z"
   },
   {
    "duration": 517,
    "start_time": "2023-02-02T11:48:38.565Z"
   },
   {
    "duration": 681,
    "start_time": "2023-02-02T11:51:23.149Z"
   },
   {
    "duration": 788,
    "start_time": "2023-02-02T11:53:02.219Z"
   },
   {
    "duration": 686,
    "start_time": "2023-02-02T11:53:12.260Z"
   },
   {
    "duration": 16,
    "start_time": "2023-02-02T12:03:08.878Z"
   },
   {
    "duration": 22,
    "start_time": "2023-02-02T12:03:26.462Z"
   },
   {
    "duration": 812,
    "start_time": "2023-02-02T12:04:10.266Z"
   },
   {
    "duration": 720,
    "start_time": "2023-02-02T12:04:34.425Z"
   },
   {
    "duration": 7,
    "start_time": "2023-02-02T12:05:10.358Z"
   },
   {
    "duration": 19,
    "start_time": "2023-02-02T12:06:40.943Z"
   }
  ],
  "kernelspec": {
   "display_name": "Python 3 (ipykernel)",
   "language": "python",
   "name": "python3"
  },
  "language_info": {
   "codemirror_mode": {
    "name": "ipython",
    "version": 3
   },
   "file_extension": ".py",
   "mimetype": "text/x-python",
   "name": "python",
   "nbconvert_exporter": "python",
   "pygments_lexer": "ipython3",
   "version": "3.9.13"
  },
  "toc": {
   "base_numbering": 1,
   "nav_menu": {},
   "number_sections": false,
   "sideBar": true,
   "skip_h1_title": false,
   "title_cell": "Table of Contents",
   "title_sidebar": "Contents",
   "toc_cell": false,
   "toc_position": {
    "height": "calc(100% - 180px)",
    "left": "10px",
    "top": "150px",
    "width": "165px"
   },
   "toc_section_display": true,
   "toc_window_display": true
  }
 },
 "nbformat": 4,
 "nbformat_minor": 2
}
