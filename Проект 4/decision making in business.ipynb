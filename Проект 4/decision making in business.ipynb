{
 "cells": [
  {
   "cell_type": "markdown",
   "metadata": {},
   "source": [
    "# Описание проекта\n",
    "Я — аналитик крупного интернет-магазина. Вместе с отделом маркетинга я подготовила список гипотез для увеличения выручки.\n",
    "Приоритизируйте гипотезы, запустите A/B-тест и проанализируйте результаты. "
   ]
  },
  {
   "cell_type": "markdown",
   "metadata": {},
   "source": [
    "## Часть 1. Приоритизация гипотез."
   ]
  },
  {
   "cell_type": "markdown",
   "metadata": {},
   "source": [
    "В файле /datasets/hypothesis.csv 9 гипотез по увеличению выручки интернет-магазина с указанными параметрами Reach, Impact, Confidence, Effort.\n",
    "Задача:\n",
    "- Примените фреймворк ICE для приоритизации гипотез. Отсортируйте их по убыванию приоритета.\n",
    "- Примените фреймворк RICE для приоритизации гипотез. Отсортируйте их по убыванию приоритета.\n",
    "- Укажите, как изменилась приоритизация гипотез при применении RICE вместо ICE. Объясните, почему так произошло."
   ]
  },
  {
   "cell_type": "code",
   "execution_count": 1,
   "metadata": {},
   "outputs": [],
   "source": [
    "import pandas as pd\n",
    "import datetime as dt\n",
    "import numpy as np\n",
    "import matplotlib.pyplot as plt\n",
    "from pandas.plotting import register_matplotlib_converters\n",
    "import warnings\n",
    "import scipy.stats as stats"
   ]
  },
  {
   "cell_type": "code",
   "execution_count": 2,
   "metadata": {},
   "outputs": [
    {
     "name": "stdout",
     "output_type": "stream",
     "text": [
      "<class 'pandas.core.frame.DataFrame'>\n",
      "RangeIndex: 9 entries, 0 to 8\n",
      "Data columns (total 5 columns):\n",
      " #   Column      Non-Null Count  Dtype \n",
      "---  ------      --------------  ----- \n",
      " 0   Hypothesis  9 non-null      object\n",
      " 1   Reach       9 non-null      int64 \n",
      " 2   Impact      9 non-null      int64 \n",
      " 3   Confidence  9 non-null      int64 \n",
      " 4   Efforts     9 non-null      int64 \n",
      "dtypes: int64(4), object(1)\n",
      "memory usage: 488.0+ bytes\n"
     ]
    },
    {
     "data": {
      "text/html": [
       "<div>\n",
       "<style scoped>\n",
       "    .dataframe tbody tr th:only-of-type {\n",
       "        vertical-align: middle;\n",
       "    }\n",
       "\n",
       "    .dataframe tbody tr th {\n",
       "        vertical-align: top;\n",
       "    }\n",
       "\n",
       "    .dataframe thead th {\n",
       "        text-align: right;\n",
       "    }\n",
       "</style>\n",
       "<table border=\"1\" class=\"dataframe\">\n",
       "  <thead>\n",
       "    <tr style=\"text-align: right;\">\n",
       "      <th></th>\n",
       "      <th>hypothesis</th>\n",
       "      <th>reach</th>\n",
       "      <th>impact</th>\n",
       "      <th>confidence</th>\n",
       "      <th>efforts</th>\n",
       "    </tr>\n",
       "  </thead>\n",
       "  <tbody>\n",
       "    <tr>\n",
       "      <th>0</th>\n",
       "      <td>Добавить два новых канала привлечения трафика,...</td>\n",
       "      <td>3</td>\n",
       "      <td>10</td>\n",
       "      <td>8</td>\n",
       "      <td>6</td>\n",
       "    </tr>\n",
       "    <tr>\n",
       "      <th>1</th>\n",
       "      <td>Запустить собственную службу доставки, что сок...</td>\n",
       "      <td>2</td>\n",
       "      <td>5</td>\n",
       "      <td>4</td>\n",
       "      <td>10</td>\n",
       "    </tr>\n",
       "    <tr>\n",
       "      <th>2</th>\n",
       "      <td>Добавить блоки рекомендаций товаров на сайт ин...</td>\n",
       "      <td>8</td>\n",
       "      <td>3</td>\n",
       "      <td>7</td>\n",
       "      <td>3</td>\n",
       "    </tr>\n",
       "    <tr>\n",
       "      <th>3</th>\n",
       "      <td>Изменить структура категорий, что увеличит кон...</td>\n",
       "      <td>8</td>\n",
       "      <td>3</td>\n",
       "      <td>3</td>\n",
       "      <td>8</td>\n",
       "    </tr>\n",
       "    <tr>\n",
       "      <th>4</th>\n",
       "      <td>Изменить цвет фона главной страницы, чтобы уве...</td>\n",
       "      <td>3</td>\n",
       "      <td>1</td>\n",
       "      <td>1</td>\n",
       "      <td>1</td>\n",
       "    </tr>\n",
       "    <tr>\n",
       "      <th>5</th>\n",
       "      <td>Добавить страницу отзывов клиентов о магазине,...</td>\n",
       "      <td>3</td>\n",
       "      <td>2</td>\n",
       "      <td>2</td>\n",
       "      <td>3</td>\n",
       "    </tr>\n",
       "    <tr>\n",
       "      <th>6</th>\n",
       "      <td>Показать на главной странице баннеры с актуаль...</td>\n",
       "      <td>5</td>\n",
       "      <td>3</td>\n",
       "      <td>8</td>\n",
       "      <td>3</td>\n",
       "    </tr>\n",
       "    <tr>\n",
       "      <th>7</th>\n",
       "      <td>Добавить форму подписки на все основные страни...</td>\n",
       "      <td>10</td>\n",
       "      <td>7</td>\n",
       "      <td>8</td>\n",
       "      <td>5</td>\n",
       "    </tr>\n",
       "    <tr>\n",
       "      <th>8</th>\n",
       "      <td>Запустить акцию, дающую скидку на товар в день...</td>\n",
       "      <td>1</td>\n",
       "      <td>9</td>\n",
       "      <td>9</td>\n",
       "      <td>5</td>\n",
       "    </tr>\n",
       "  </tbody>\n",
       "</table>\n",
       "</div>"
      ],
      "text/plain": [
       "                                          hypothesis  reach  impact  \\\n",
       "0  Добавить два новых канала привлечения трафика,...      3      10   \n",
       "1  Запустить собственную службу доставки, что сок...      2       5   \n",
       "2  Добавить блоки рекомендаций товаров на сайт ин...      8       3   \n",
       "3  Изменить структура категорий, что увеличит кон...      8       3   \n",
       "4  Изменить цвет фона главной страницы, чтобы уве...      3       1   \n",
       "5  Добавить страницу отзывов клиентов о магазине,...      3       2   \n",
       "6  Показать на главной странице баннеры с актуаль...      5       3   \n",
       "7  Добавить форму подписки на все основные страни...     10       7   \n",
       "8  Запустить акцию, дающую скидку на товар в день...      1       9   \n",
       "\n",
       "   confidence  efforts  \n",
       "0           8        6  \n",
       "1           4       10  \n",
       "2           7        3  \n",
       "3           3        8  \n",
       "4           1        1  \n",
       "5           2        3  \n",
       "6           8        3  \n",
       "7           8        5  \n",
       "8           9        5  "
      ]
     },
     "metadata": {},
     "output_type": "display_data"
    }
   ],
   "source": [
    "#Изучим общую информацию\n",
    "hypothesis = pd.read_csv('/datasets/hypothesis.csv')\n",
    "hypothesis.info()\n",
    "#display(hypothesis.head())\n",
    "\n",
    "#Приведем к нижнему регистру\n",
    "hypothesis.columns = hypothesis.columns.str.lower()\n",
    "display(hypothesis)"
   ]
  },
  {
   "cell_type": "markdown",
   "metadata": {},
   "source": [
    "Данные коректные."
   ]
  },
  {
   "cell_type": "code",
   "execution_count": 3,
   "metadata": {},
   "outputs": [
    {
     "name": "stdout",
     "output_type": "stream",
     "text": [
      "<class 'pandas.core.frame.DataFrame'>\n",
      "RangeIndex: 1197 entries, 0 to 1196\n",
      "Data columns (total 5 columns):\n",
      " #   Column         Non-Null Count  Dtype \n",
      "---  ------         --------------  ----- \n",
      " 0   transactionId  1197 non-null   int64 \n",
      " 1   visitorId      1197 non-null   int64 \n",
      " 2   date           1197 non-null   object\n",
      " 3   revenue        1197 non-null   int64 \n",
      " 4   group          1197 non-null   object\n",
      "dtypes: int64(3), object(2)\n",
      "memory usage: 46.9+ KB\n"
     ]
    },
    {
     "data": {
      "text/html": [
       "<div>\n",
       "<style scoped>\n",
       "    .dataframe tbody tr th:only-of-type {\n",
       "        vertical-align: middle;\n",
       "    }\n",
       "\n",
       "    .dataframe tbody tr th {\n",
       "        vertical-align: top;\n",
       "    }\n",
       "\n",
       "    .dataframe thead th {\n",
       "        text-align: right;\n",
       "    }\n",
       "</style>\n",
       "<table border=\"1\" class=\"dataframe\">\n",
       "  <thead>\n",
       "    <tr style=\"text-align: right;\">\n",
       "      <th></th>\n",
       "      <th>transactionId</th>\n",
       "      <th>visitorId</th>\n",
       "      <th>date</th>\n",
       "      <th>revenue</th>\n",
       "      <th>group</th>\n",
       "    </tr>\n",
       "  </thead>\n",
       "  <tbody>\n",
       "    <tr>\n",
       "      <th>0</th>\n",
       "      <td>3667963787</td>\n",
       "      <td>3312258926</td>\n",
       "      <td>2019-08-15</td>\n",
       "      <td>1650</td>\n",
       "      <td>B</td>\n",
       "    </tr>\n",
       "    <tr>\n",
       "      <th>1</th>\n",
       "      <td>2804400009</td>\n",
       "      <td>3642806036</td>\n",
       "      <td>2019-08-15</td>\n",
       "      <td>730</td>\n",
       "      <td>B</td>\n",
       "    </tr>\n",
       "    <tr>\n",
       "      <th>2</th>\n",
       "      <td>2961555356</td>\n",
       "      <td>4069496402</td>\n",
       "      <td>2019-08-15</td>\n",
       "      <td>400</td>\n",
       "      <td>A</td>\n",
       "    </tr>\n",
       "    <tr>\n",
       "      <th>3</th>\n",
       "      <td>3797467345</td>\n",
       "      <td>1196621759</td>\n",
       "      <td>2019-08-15</td>\n",
       "      <td>9759</td>\n",
       "      <td>B</td>\n",
       "    </tr>\n",
       "    <tr>\n",
       "      <th>4</th>\n",
       "      <td>2282983706</td>\n",
       "      <td>2322279887</td>\n",
       "      <td>2019-08-15</td>\n",
       "      <td>2308</td>\n",
       "      <td>B</td>\n",
       "    </tr>\n",
       "  </tbody>\n",
       "</table>\n",
       "</div>"
      ],
      "text/plain": [
       "   transactionId   visitorId        date  revenue group\n",
       "0     3667963787  3312258926  2019-08-15     1650     B\n",
       "1     2804400009  3642806036  2019-08-15      730     B\n",
       "2     2961555356  4069496402  2019-08-15      400     A\n",
       "3     3797467345  1196621759  2019-08-15     9759     B\n",
       "4     2282983706  2322279887  2019-08-15     2308     B"
      ]
     },
     "metadata": {},
     "output_type": "display_data"
    }
   ],
   "source": [
    "orders = pd.read_csv('/datasets/orders.csv')\n",
    "orders.info()\n",
    "display(orders.head())"
   ]
  },
  {
   "cell_type": "code",
   "execution_count": 4,
   "metadata": {},
   "outputs": [
    {
     "name": "stdout",
     "output_type": "stream",
     "text": [
      "<class 'pandas.core.frame.DataFrame'>\n",
      "RangeIndex: 1197 entries, 0 to 1196\n",
      "Data columns (total 5 columns):\n",
      " #   Column         Non-Null Count  Dtype         \n",
      "---  ------         --------------  -----         \n",
      " 0   transactionId  1197 non-null   int64         \n",
      " 1   visitorId      1197 non-null   int64         \n",
      " 2   date           1197 non-null   datetime64[ns]\n",
      " 3   revenue        1197 non-null   int64         \n",
      " 4   group          1197 non-null   object        \n",
      "dtypes: datetime64[ns](1), int64(3), object(1)\n",
      "memory usage: 46.9+ KB\n"
     ]
    }
   ],
   "source": [
    "orders['date'] = orders['date'].map(lambda x: dt.datetime.strptime(x, '%Y-%m-%d'))\n",
    "orders.info()"
   ]
  },
  {
   "cell_type": "code",
   "execution_count": 5,
   "metadata": {},
   "outputs": [
    {
     "data": {
      "text/plain": [
       "0"
      ]
     },
     "execution_count": 5,
     "metadata": {},
     "output_type": "execute_result"
    }
   ],
   "source": [
    "#Проверим на наличие дубликатов\n",
    "orders.duplicated().sum()"
   ]
  },
  {
   "cell_type": "code",
   "execution_count": 6,
   "metadata": {},
   "outputs": [
    {
     "name": "stdout",
     "output_type": "stream",
     "text": [
      "<class 'pandas.core.frame.DataFrame'>\n",
      "RangeIndex: 62 entries, 0 to 61\n",
      "Data columns (total 3 columns):\n",
      " #   Column    Non-Null Count  Dtype \n",
      "---  ------    --------------  ----- \n",
      " 0   date      62 non-null     object\n",
      " 1   group     62 non-null     object\n",
      " 2   visitors  62 non-null     int64 \n",
      "dtypes: int64(1), object(2)\n",
      "memory usage: 1.6+ KB\n"
     ]
    },
    {
     "data": {
      "text/html": [
       "<div>\n",
       "<style scoped>\n",
       "    .dataframe tbody tr th:only-of-type {\n",
       "        vertical-align: middle;\n",
       "    }\n",
       "\n",
       "    .dataframe tbody tr th {\n",
       "        vertical-align: top;\n",
       "    }\n",
       "\n",
       "    .dataframe thead th {\n",
       "        text-align: right;\n",
       "    }\n",
       "</style>\n",
       "<table border=\"1\" class=\"dataframe\">\n",
       "  <thead>\n",
       "    <tr style=\"text-align: right;\">\n",
       "      <th></th>\n",
       "      <th>date</th>\n",
       "      <th>group</th>\n",
       "      <th>visitors</th>\n",
       "    </tr>\n",
       "  </thead>\n",
       "  <tbody>\n",
       "    <tr>\n",
       "      <th>0</th>\n",
       "      <td>2019-08-01</td>\n",
       "      <td>A</td>\n",
       "      <td>719</td>\n",
       "    </tr>\n",
       "    <tr>\n",
       "      <th>1</th>\n",
       "      <td>2019-08-02</td>\n",
       "      <td>A</td>\n",
       "      <td>619</td>\n",
       "    </tr>\n",
       "    <tr>\n",
       "      <th>2</th>\n",
       "      <td>2019-08-03</td>\n",
       "      <td>A</td>\n",
       "      <td>507</td>\n",
       "    </tr>\n",
       "    <tr>\n",
       "      <th>3</th>\n",
       "      <td>2019-08-04</td>\n",
       "      <td>A</td>\n",
       "      <td>717</td>\n",
       "    </tr>\n",
       "    <tr>\n",
       "      <th>4</th>\n",
       "      <td>2019-08-05</td>\n",
       "      <td>A</td>\n",
       "      <td>756</td>\n",
       "    </tr>\n",
       "  </tbody>\n",
       "</table>\n",
       "</div>"
      ],
      "text/plain": [
       "         date group  visitors\n",
       "0  2019-08-01     A       719\n",
       "1  2019-08-02     A       619\n",
       "2  2019-08-03     A       507\n",
       "3  2019-08-04     A       717\n",
       "4  2019-08-05     A       756"
      ]
     },
     "metadata": {},
     "output_type": "display_data"
    }
   ],
   "source": [
    "visitors = pd.read_csv('/datasets/visitors.csv')\n",
    "visitors.info()\n",
    "display(visitors.head())"
   ]
  },
  {
   "cell_type": "code",
   "execution_count": 7,
   "metadata": {},
   "outputs": [
    {
     "name": "stdout",
     "output_type": "stream",
     "text": [
      "<class 'pandas.core.frame.DataFrame'>\n",
      "RangeIndex: 62 entries, 0 to 61\n",
      "Data columns (total 3 columns):\n",
      " #   Column    Non-Null Count  Dtype         \n",
      "---  ------    --------------  -----         \n",
      " 0   date      62 non-null     datetime64[ns]\n",
      " 1   group     62 non-null     object        \n",
      " 2   visitors  62 non-null     int64         \n",
      "dtypes: datetime64[ns](1), int64(1), object(1)\n",
      "memory usage: 1.6+ KB\n"
     ]
    }
   ],
   "source": [
    "visitors['date'] = visitors['date'].map(lambda x: dt.datetime.strptime(x, '%Y-%m-%d'))\n",
    "visitors.info()"
   ]
  },
  {
   "cell_type": "code",
   "execution_count": 8,
   "metadata": {},
   "outputs": [
    {
     "data": {
      "text/plain": [
       "0"
      ]
     },
     "execution_count": 8,
     "metadata": {},
     "output_type": "execute_result"
    }
   ],
   "source": [
    "#Проверим на наличие дубликатов\n",
    "visitors.duplicated().sum()"
   ]
  },
  {
   "cell_type": "markdown",
   "metadata": {},
   "source": [
    "### Приоритизация гипотез."
   ]
  },
  {
   "cell_type": "code",
   "execution_count": 9,
   "metadata": {},
   "outputs": [
    {
     "data": {
      "text/html": [
       "<div>\n",
       "<style scoped>\n",
       "    .dataframe tbody tr th:only-of-type {\n",
       "        vertical-align: middle;\n",
       "    }\n",
       "\n",
       "    .dataframe tbody tr th {\n",
       "        vertical-align: top;\n",
       "    }\n",
       "\n",
       "    .dataframe thead th {\n",
       "        text-align: right;\n",
       "    }\n",
       "</style>\n",
       "<table border=\"1\" class=\"dataframe\">\n",
       "  <thead>\n",
       "    <tr style=\"text-align: right;\">\n",
       "      <th></th>\n",
       "      <th>hypothesis</th>\n",
       "      <th>ICE</th>\n",
       "    </tr>\n",
       "  </thead>\n",
       "  <tbody>\n",
       "    <tr>\n",
       "      <th>8</th>\n",
       "      <td>Запустить акцию, дающую скидку на товар в день...</td>\n",
       "      <td>16.20</td>\n",
       "    </tr>\n",
       "    <tr>\n",
       "      <th>0</th>\n",
       "      <td>Добавить два новых канала привлечения трафика,...</td>\n",
       "      <td>13.33</td>\n",
       "    </tr>\n",
       "    <tr>\n",
       "      <th>7</th>\n",
       "      <td>Добавить форму подписки на все основные страни...</td>\n",
       "      <td>11.20</td>\n",
       "    </tr>\n",
       "    <tr>\n",
       "      <th>6</th>\n",
       "      <td>Показать на главной странице баннеры с актуаль...</td>\n",
       "      <td>8.00</td>\n",
       "    </tr>\n",
       "    <tr>\n",
       "      <th>2</th>\n",
       "      <td>Добавить блоки рекомендаций товаров на сайт ин...</td>\n",
       "      <td>7.00</td>\n",
       "    </tr>\n",
       "    <tr>\n",
       "      <th>1</th>\n",
       "      <td>Запустить собственную службу доставки, что сок...</td>\n",
       "      <td>2.00</td>\n",
       "    </tr>\n",
       "    <tr>\n",
       "      <th>5</th>\n",
       "      <td>Добавить страницу отзывов клиентов о магазине,...</td>\n",
       "      <td>1.33</td>\n",
       "    </tr>\n",
       "    <tr>\n",
       "      <th>3</th>\n",
       "      <td>Изменить структура категорий, что увеличит кон...</td>\n",
       "      <td>1.12</td>\n",
       "    </tr>\n",
       "    <tr>\n",
       "      <th>4</th>\n",
       "      <td>Изменить цвет фона главной страницы, чтобы уве...</td>\n",
       "      <td>1.00</td>\n",
       "    </tr>\n",
       "  </tbody>\n",
       "</table>\n",
       "</div>"
      ],
      "text/plain": [
       "                                          hypothesis    ICE\n",
       "8  Запустить акцию, дающую скидку на товар в день...  16.20\n",
       "0  Добавить два новых канала привлечения трафика,...  13.33\n",
       "7  Добавить форму подписки на все основные страни...  11.20\n",
       "6  Показать на главной странице баннеры с актуаль...   8.00\n",
       "2  Добавить блоки рекомендаций товаров на сайт ин...   7.00\n",
       "1  Запустить собственную службу доставки, что сок...   2.00\n",
       "5  Добавить страницу отзывов клиентов о магазине,...   1.33\n",
       "3  Изменить структура категорий, что увеличит кон...   1.12\n",
       "4  Изменить цвет фона главной страницы, чтобы уве...   1.00"
      ]
     },
     "metadata": {},
     "output_type": "display_data"
    },
    {
     "data": {
      "text/html": [
       "<div>\n",
       "<style scoped>\n",
       "    .dataframe tbody tr th:only-of-type {\n",
       "        vertical-align: middle;\n",
       "    }\n",
       "\n",
       "    .dataframe tbody tr th {\n",
       "        vertical-align: top;\n",
       "    }\n",
       "\n",
       "    .dataframe thead th {\n",
       "        text-align: right;\n",
       "    }\n",
       "</style>\n",
       "<table border=\"1\" class=\"dataframe\">\n",
       "  <thead>\n",
       "    <tr style=\"text-align: right;\">\n",
       "      <th></th>\n",
       "      <th>hypothesis</th>\n",
       "      <th>RICE</th>\n",
       "    </tr>\n",
       "  </thead>\n",
       "  <tbody>\n",
       "    <tr>\n",
       "      <th>7</th>\n",
       "      <td>Добавить форму подписки на все основные страни...</td>\n",
       "      <td>112.0</td>\n",
       "    </tr>\n",
       "    <tr>\n",
       "      <th>2</th>\n",
       "      <td>Добавить блоки рекомендаций товаров на сайт ин...</td>\n",
       "      <td>56.0</td>\n",
       "    </tr>\n",
       "    <tr>\n",
       "      <th>0</th>\n",
       "      <td>Добавить два новых канала привлечения трафика,...</td>\n",
       "      <td>40.0</td>\n",
       "    </tr>\n",
       "    <tr>\n",
       "      <th>6</th>\n",
       "      <td>Показать на главной странице баннеры с актуаль...</td>\n",
       "      <td>40.0</td>\n",
       "    </tr>\n",
       "    <tr>\n",
       "      <th>8</th>\n",
       "      <td>Запустить акцию, дающую скидку на товар в день...</td>\n",
       "      <td>16.2</td>\n",
       "    </tr>\n",
       "    <tr>\n",
       "      <th>3</th>\n",
       "      <td>Изменить структура категорий, что увеличит кон...</td>\n",
       "      <td>9.0</td>\n",
       "    </tr>\n",
       "    <tr>\n",
       "      <th>1</th>\n",
       "      <td>Запустить собственную службу доставки, что сок...</td>\n",
       "      <td>4.0</td>\n",
       "    </tr>\n",
       "    <tr>\n",
       "      <th>5</th>\n",
       "      <td>Добавить страницу отзывов клиентов о магазине,...</td>\n",
       "      <td>4.0</td>\n",
       "    </tr>\n",
       "    <tr>\n",
       "      <th>4</th>\n",
       "      <td>Изменить цвет фона главной страницы, чтобы уве...</td>\n",
       "      <td>3.0</td>\n",
       "    </tr>\n",
       "  </tbody>\n",
       "</table>\n",
       "</div>"
      ],
      "text/plain": [
       "                                          hypothesis   RICE\n",
       "7  Добавить форму подписки на все основные страни...  112.0\n",
       "2  Добавить блоки рекомендаций товаров на сайт ин...   56.0\n",
       "0  Добавить два новых канала привлечения трафика,...   40.0\n",
       "6  Показать на главной странице баннеры с актуаль...   40.0\n",
       "8  Запустить акцию, дающую скидку на товар в день...   16.2\n",
       "3  Изменить структура категорий, что увеличит кон...    9.0\n",
       "1  Запустить собственную службу доставки, что сок...    4.0\n",
       "5  Добавить страницу отзывов клиентов о магазине,...    4.0\n",
       "4  Изменить цвет фона главной страницы, чтобы уве...    3.0"
      ]
     },
     "metadata": {},
     "output_type": "display_data"
    }
   ],
   "source": [
    "#Применим фреймворк ICE для приоритизации гипотез.\n",
    "hypothesis['ICE'] =((hypothesis['impact'] * hypothesis['confidence'])/hypothesis['efforts']).round(2)\n",
    "display(hypothesis[['hypothesis','ICE']].sort_values(by='ICE', ascending=False))\n",
    "\n",
    "#Применим фреймворк RICE для приоритизации гипотез.\n",
    "hypothesis['RICE'] =((hypothesis['reach'] * hypothesis['impact']*hypothesis['confidence'])/hypothesis['efforts'])\n",
    "display(hypothesis[['hypothesis','RICE']].sort_values(by='RICE', ascending=False))"
   ]
  },
  {
   "cell_type": "markdown",
   "metadata": {},
   "source": [
    "## Часть 2. Анализ A/B-теста"
   ]
  },
  {
   "cell_type": "markdown",
   "metadata": {},
   "source": [
    "Вы провели A/B-тест и получили результаты, которые описаны в файлах /datasets/orders.csv и /datasets/visitors.csv.\n",
    "Задача :\n",
    "- Проанализируйте A/B-тест:\n",
    "- Постройте график кумулятивной выручки по группам. Сделайте выводы и предположения.\n",
    "- Постройте график кумулятивного среднего чека по группам. Сделайте выводы и предположения.\n",
    "- Постройте график относительного изменения кумулятивного среднего чека группы B к группе A. Сделайте выводы и предположения.\n",
    "- Постройте график кумулятивного среднего количества заказов на посетителя по группам. Сделайте выводы и предположения.\n",
    "- Постройте график относительного изменения кумулятивного среднего количества заказов на посетителя группы B к группе A. Сделайте выводы и предположения.\n",
    "- Постройте точечный график количества заказов по пользователям. Сделайте выводы и предположения.\n",
    "- Посчитайте 95-й и 99-й перцентили количества заказов на пользователя. Выберите границу для определения аномальных пользователей.\n",
    "- Постройте точечный график стоимостей заказов. Сделайте выводы и предположения.\n",
    "- Посчитайте 95-й и 99-й перцентили стоимости заказов. Выберите границу для определения аномальных заказов.\n",
    "- Посчитайте статистическую значимость различий в среднем количестве заказов на посетителя между группами по «сырым» данным. Сделайте выводы и предположения.\n",
    "- Посчитайте статистическую значимость различий в среднем чеке заказа между группами по «сырым» данным. Сделайте выводы и предположения.\n",
    "- Посчитайте статистическую значимость различий в среднем количестве заказов на посетителя между группами по «очищенным» данным. Сделайте выводы и предположения.\n",
    "- Посчитайте статистическую значимость различий в среднем чеке заказа между группами по «очищенным» данным. Сделайте выводы и предположения.\n",
    "- Примите решение по результатам теста и объясните его. Варианты решений:\n",
    "1. Остановить тест, зафиксировать победу одной из групп.\n",
    "2. Остановить тест, зафиксировать отсутствие различий между группами.\n",
    "3. Продолжить тест."
   ]
  },
  {
   "cell_type": "code",
   "execution_count": 10,
   "metadata": {},
   "outputs": [
    {
     "name": "stdout",
     "output_type": "stream",
     "text": [
      "Начальная дата 2019-08-01 00:00:00, конечная дата 2019-08-31 00:00:00\n",
      "Начальная дата 2019-08-01 00:00:00, конечная дата 2019-08-31 00:00:00\n"
     ]
    }
   ],
   "source": [
    "print('Начальная дата {}, конечная дата {}'.format(orders['date'].min(), orders['date'].max()))\n",
    "\n",
    "print('Начальная дата {}, конечная дата {}'.format(visitors['date'].min(), visitors['date'].max()))"
   ]
  },
  {
   "cell_type": "code",
   "execution_count": 11,
   "metadata": {},
   "outputs": [
    {
     "data": {
      "text/plain": [
       "group    58\n",
       "dtype: int64"
      ]
     },
     "execution_count": 11,
     "metadata": {},
     "output_type": "execute_result"
    }
   ],
   "source": [
    "visitors['group'].value_counts()\n",
    "orders.groupby('visitorId').agg({'group' : 'nunique'}).query('group>1').count()"
   ]
  },
  {
   "cell_type": "code",
   "execution_count": 12,
   "metadata": {},
   "outputs": [
    {
     "data": {
      "text/plain": [
       "1031"
      ]
     },
     "execution_count": 12,
     "metadata": {},
     "output_type": "execute_result"
    }
   ],
   "source": [
    "orders['visitorId'].nunique()"
   ]
  },
  {
   "cell_type": "markdown",
   "metadata": {},
   "source": [
    "### Постройте график кумулятивной выручки по группам."
   ]
  },
  {
   "cell_type": "code",
   "execution_count": 13,
   "metadata": {},
   "outputs": [
    {
     "data": {
      "text/plain": [
       "<matplotlib.legend.Legend at 0x7fca26652850>"
      ]
     },
     "execution_count": 13,
     "metadata": {},
     "output_type": "execute_result"
    },
    {
     "data": {
      "image/png": "[encoded data removed]",
      "text/plain": [
       "<Figure size 720x360 with 1 Axes>"
      ]
     },
     "metadata": {
      "needs_background": "light"
     },
     "output_type": "display_data"
    }
   ],
   "source": [
    "# создаем массив уникальных пар значений дат и групп теста\n",
    "datesGroups = orders[['date','group']].drop_duplicates()\n",
    "\n",
    "ordersAggregated = datesGroups.apply(\n",
    "    lambda x: orders[\n",
    "        np.logical_and(\n",
    "            orders['date'] <= x['date'], orders['group'] == x['group']\n",
    "        )\n",
    "    ]. agg({'date' : 'max', \n",
    "            'group' : 'max', \n",
    "            'transactionId' : 'nunique',\n",
    "            'visitorId' : 'nunique',\n",
    "            'revenue' : 'sum'}), \n",
    "    axis=1,\n",
    ").sort_values(by=['date','group'])\n",
    "\n",
    "\n",
    "visitorsAggregated = datesGroups.apply(\n",
    "    lambda x: visitors[\n",
    "        np.logical_and(\n",
    "            visitors['date'] <= x['date'], visitors['group'] == x['group']\n",
    "        )\n",
    "    ].agg({'date': 'max', 'group': 'max', 'visitors': 'sum'}),\n",
    "    axis=1,\n",
    ").sort_values(by=['date', 'group'])\n",
    "\n",
    "cumulativeData = ordersAggregated.merge(\n",
    "    visitorsAggregated, left_on=['date', 'group'], right_on=['date', 'group']\n",
    ")\n",
    "cumulativeData.columns = ['date', 'group', 'transactionId', 'buyers', 'revenue', 'visitors']\n",
    "\n",
    "cumulativeRevenueA = cumulativeData[cumulativeData['group']=='A'][['date','revenue', 'transactionId']]\n",
    "cumulativeRevenueB = cumulativeData[cumulativeData['group']=='B'][['date','revenue', 'transactionId']]\n",
    "# Строим график выручки\n",
    "plt.figure(figsize=(10,5))\n",
    "plt.xlabel('дата');\n",
    "plt.ylabel('выручка')\n",
    "plt.title('график кумулятивной выручки по группам')\n",
    "plt.plot(cumulativeRevenueA['date'], cumulativeRevenueA['revenue'], label='A')\n",
    "plt.plot(cumulativeRevenueB['date'], cumulativeRevenueB['revenue'], label='B')\n",
    "plt.legend() \n"
   ]
  },
  {
   "cell_type": "markdown",
   "metadata": {},
   "source": [
    "ВЫВОД: В первой половине месяца видно, что выручка в группе \"B\" растёт чуть быстрее, чем в \"A\". 13 августа выручки примерно равны. Во второй половина месяца выручка группа \"B\"  значительно больше. "
   ]
  },
  {
   "cell_type": "markdown",
   "metadata": {},
   "source": [
    "### Постройте график кумулятивного среднего чека по группам"
   ]
  },
  {
   "cell_type": "code",
   "execution_count": 14,
   "metadata": {},
   "outputs": [
    {
     "data": {
      "text/plain": [
       "<matplotlib.legend.Legend at 0x7fca26652e20>"
      ]
     },
     "execution_count": 14,
     "metadata": {},
     "output_type": "execute_result"
    },
    {
     "data": {
      "image/png": "[encoded data removed]",
      "text/plain": [
       "<Figure size 936x360 with 1 Axes>"
      ]
     },
     "metadata": {
      "needs_background": "light"
     },
     "output_type": "display_data"
    }
   ],
   "source": [
    "plt.figure(figsize=(13,5))\n",
    "plt.xlabel('дата');\n",
    "plt.ylabel('чек')\n",
    "plt.title('график кумулятивного среднего чека по группам')\n",
    "cumulativeRevenueA = cumulativeData[cumulativeData['group'] == 'A'][['date', 'revenue', 'transactionId']]\n",
    "cumulativeRevenueB = cumulativeData[cumulativeData['group'] == 'B'][['date', 'revenue', 'transactionId']]\n",
    "plt.plot(cumulativeRevenueA['date'], cumulativeRevenueA['revenue']/cumulativeRevenueA['transactionId'], label='A')\n",
    "plt.plot(cumulativeRevenueB['date'], cumulativeRevenueB['revenue']/cumulativeRevenueB['transactionId'], label='B')\n",
    "\n",
    "plt.legend()"
   ]
  },
  {
   "cell_type": "markdown",
   "metadata": {},
   "source": [
    "ВЫВОД:В первой половине в группе \"B\" чек преимущественно больше, но есть даты где и наоборот - чек больше в \"A\""
   ]
  },
  {
   "cell_type": "markdown",
   "metadata": {},
   "source": [
    "### Постройте график относительного изменения кумулятивного среднего чека группы B к группе A"
   ]
  },
  {
   "cell_type": "code",
   "execution_count": 15,
   "metadata": {},
   "outputs": [
    {
     "data": {
      "text/plain": [
       "<matplotlib.lines.Line2D at 0x7fca1e22a8b0>"
      ]
     },
     "execution_count": 15,
     "metadata": {},
     "output_type": "execute_result"
    },
    {
     "data": {
      "image/png": "[encoded data removed]",
      "text/plain": [
       "<Figure size 936x360 with 1 Axes>"
      ]
     },
     "metadata": {
      "needs_background": "light"
     },
     "output_type": "display_data"
    }
   ],
   "source": [
    "plt.figure(figsize=(13,5))\n",
    "plt.xlabel('дата');\n",
    "plt.title('график относительного изменения кумулятивного среднего чека группы B к группе A')\n",
    "cumulativeRevenueA = cumulativeData[cumulativeData['group'] == 'A'][['date', 'revenue', 'transactionId']]\n",
    "cumulativeRevenueB = cumulativeData[cumulativeData['group'] == 'B'][['date', 'revenue', 'transactionId']]\n",
    "mergedCumulativeRevenue = cumulativeRevenueA.merge(cumulativeRevenueB, left_on='date', right_on='date', how='left', suffixes=['A', 'B'])\n",
    "plt.plot(mergedCumulativeRevenue['date'], (mergedCumulativeRevenue['revenueB']/mergedCumulativeRevenue['transactionIdB'])/(mergedCumulativeRevenue['revenueA']/mergedCumulativeRevenue['transactionIdA'])-1)\n",
    "\n",
    "# добавляем ось X\n",
    "plt.axhline(y=0, color='black', linestyle='--') "
   ]
  },
  {
   "cell_type": "markdown",
   "metadata": {},
   "source": [
    "ВЫВОД: Средний чек \"B\" рос с 1 августа, 2 августа уже превысил \"A\" . 7-8 пошло обратное движение до 13 августа, причем 3 дня 12-14 акгуста средний чек \"A\" был больше \"B\". Но не надолго, с 13 чек \"B\" опять начал расти и уже 15 августа наступил переломный момент и на следующий день чек \"B\" оказался больше и находился больше \"A\" до конца месяца. "
   ]
  },
  {
   "cell_type": "markdown",
   "metadata": {},
   "source": [
    "### Постройте график кумулятивного среднего количества заказов на посетителя по группам. "
   ]
  },
  {
   "cell_type": "code",
   "execution_count": 16,
   "metadata": {},
   "outputs": [
    {
     "data": {
      "text/html": [
       "<div>\n",
       "<style scoped>\n",
       "    .dataframe tbody tr th:only-of-type {\n",
       "        vertical-align: middle;\n",
       "    }\n",
       "\n",
       "    .dataframe tbody tr th {\n",
       "        vertical-align: top;\n",
       "    }\n",
       "\n",
       "    .dataframe thead th {\n",
       "        text-align: right;\n",
       "    }\n",
       "</style>\n",
       "<table border=\"1\" class=\"dataframe\">\n",
       "  <thead>\n",
       "    <tr style=\"text-align: right;\">\n",
       "      <th></th>\n",
       "      <th>date</th>\n",
       "      <th>group</th>\n",
       "      <th>transactionId</th>\n",
       "      <th>buyers</th>\n",
       "      <th>revenue</th>\n",
       "      <th>visitors</th>\n",
       "    </tr>\n",
       "  </thead>\n",
       "  <tbody>\n",
       "    <tr>\n",
       "      <th>0</th>\n",
       "      <td>2019-08-01</td>\n",
       "      <td>A</td>\n",
       "      <td>24</td>\n",
       "      <td>20</td>\n",
       "      <td>148579</td>\n",
       "      <td>719</td>\n",
       "    </tr>\n",
       "    <tr>\n",
       "      <th>1</th>\n",
       "      <td>2019-08-01</td>\n",
       "      <td>B</td>\n",
       "      <td>21</td>\n",
       "      <td>20</td>\n",
       "      <td>101217</td>\n",
       "      <td>713</td>\n",
       "    </tr>\n",
       "    <tr>\n",
       "      <th>2</th>\n",
       "      <td>2019-08-02</td>\n",
       "      <td>A</td>\n",
       "      <td>44</td>\n",
       "      <td>38</td>\n",
       "      <td>242401</td>\n",
       "      <td>1338</td>\n",
       "    </tr>\n",
       "    <tr>\n",
       "      <th>3</th>\n",
       "      <td>2019-08-02</td>\n",
       "      <td>B</td>\n",
       "      <td>45</td>\n",
       "      <td>43</td>\n",
       "      <td>266748</td>\n",
       "      <td>1294</td>\n",
       "    </tr>\n",
       "    <tr>\n",
       "      <th>4</th>\n",
       "      <td>2019-08-03</td>\n",
       "      <td>A</td>\n",
       "      <td>68</td>\n",
       "      <td>62</td>\n",
       "      <td>354874</td>\n",
       "      <td>1845</td>\n",
       "    </tr>\n",
       "    <tr>\n",
       "      <th>...</th>\n",
       "      <td>...</td>\n",
       "      <td>...</td>\n",
       "      <td>...</td>\n",
       "      <td>...</td>\n",
       "      <td>...</td>\n",
       "      <td>...</td>\n",
       "    </tr>\n",
       "    <tr>\n",
       "      <th>57</th>\n",
       "      <td>2019-08-29</td>\n",
       "      <td>B</td>\n",
       "      <td>596</td>\n",
       "      <td>544</td>\n",
       "      <td>5559398</td>\n",
       "      <td>17708</td>\n",
       "    </tr>\n",
       "    <tr>\n",
       "      <th>58</th>\n",
       "      <td>2019-08-30</td>\n",
       "      <td>A</td>\n",
       "      <td>545</td>\n",
       "      <td>493</td>\n",
       "      <td>4022970</td>\n",
       "      <td>18037</td>\n",
       "    </tr>\n",
       "    <tr>\n",
       "      <th>59</th>\n",
       "      <td>2019-08-30</td>\n",
       "      <td>B</td>\n",
       "      <td>620</td>\n",
       "      <td>567</td>\n",
       "      <td>5774631</td>\n",
       "      <td>18198</td>\n",
       "    </tr>\n",
       "    <tr>\n",
       "      <th>60</th>\n",
       "      <td>2019-08-31</td>\n",
       "      <td>A</td>\n",
       "      <td>557</td>\n",
       "      <td>503</td>\n",
       "      <td>4084803</td>\n",
       "      <td>18736</td>\n",
       "    </tr>\n",
       "    <tr>\n",
       "      <th>61</th>\n",
       "      <td>2019-08-31</td>\n",
       "      <td>B</td>\n",
       "      <td>640</td>\n",
       "      <td>586</td>\n",
       "      <td>5907760</td>\n",
       "      <td>18916</td>\n",
       "    </tr>\n",
       "  </tbody>\n",
       "</table>\n",
       "<p>62 rows × 6 columns</p>\n",
       "</div>"
      ],
      "text/plain": [
       "         date group  transactionId  buyers  revenue  visitors\n",
       "0  2019-08-01     A             24      20   148579       719\n",
       "1  2019-08-01     B             21      20   101217       713\n",
       "2  2019-08-02     A             44      38   242401      1338\n",
       "3  2019-08-02     B             45      43   266748      1294\n",
       "4  2019-08-03     A             68      62   354874      1845\n",
       "..        ...   ...            ...     ...      ...       ...\n",
       "57 2019-08-29     B            596     544  5559398     17708\n",
       "58 2019-08-30     A            545     493  4022970     18037\n",
       "59 2019-08-30     B            620     567  5774631     18198\n",
       "60 2019-08-31     A            557     503  4084803     18736\n",
       "61 2019-08-31     B            640     586  5907760     18916\n",
       "\n",
       "[62 rows x 6 columns]"
      ]
     },
     "execution_count": 16,
     "metadata": {},
     "output_type": "execute_result"
    }
   ],
   "source": [
    "cumulativeData"
   ]
  },
  {
   "cell_type": "code",
   "execution_count": 17,
   "metadata": {},
   "outputs": [
    {
     "data": {
      "text/plain": [
       "<matplotlib.legend.Legend at 0x7fca1e5827c0>"
      ]
     },
     "execution_count": 17,
     "metadata": {},
     "output_type": "execute_result"
    },
    {
     "data": {
      "image/png": "[encoded data removed]",
      "text/plain": [
       "<Figure size 1080x360 with 1 Axes>"
      ]
     },
     "metadata": {
      "needs_background": "light"
     },
     "output_type": "display_data"
    }
   ],
   "source": [
    "cumulativeData['conversion'] = cumulativeData['transactionId']/cumulativeData['visitors']\n",
    "\n",
    "# отделяем данные по группе A\n",
    "cumulativeDataA = cumulativeData[cumulativeData['group']=='A']\n",
    "\n",
    "# отделяем данные по группе B\n",
    "cumulativeDataB = cumulativeData[cumulativeData['group']=='B']\n",
    "\n",
    "# строим графики\n",
    "plt.figure(figsize=(15,5))\n",
    "plt.xlabel('дата');\n",
    "plt.ylabel('конврсия')\n",
    "plt.title('график кумулятивного среднего количества заказов на посетителя по группам.')\n",
    "plt.plot(cumulativeDataA['date'], cumulativeDataA['conversion'], label='A')\n",
    "plt.plot(cumulativeDataB['date'], cumulativeDataB['conversion'], label='B')\n",
    "plt.legend()"
   ]
  },
  {
   "cell_type": "markdown",
   "metadata": {},
   "source": [
    "ВЫВОД: Конверсия группы \"B\" в целом  больше \"A\""
   ]
  },
  {
   "cell_type": "markdown",
   "metadata": {},
   "source": [
    "### Постройте график относительного изменения кумулятивного среднего количества заказов на посетителя группы B к группе A."
   ]
  },
  {
   "cell_type": "code",
   "execution_count": 18,
   "metadata": {},
   "outputs": [
    {
     "data": {
      "text/plain": [
       "<matplotlib.lines.Line2D at 0x7fca1e13bdc0>"
      ]
     },
     "execution_count": 18,
     "metadata": {},
     "output_type": "execute_result"
    },
    {
     "data": {
      "image/png": "[encoded data removed]",
      "text/plain": [
       "<Figure size 1080x360 with 1 Axes>"
      ]
     },
     "metadata": {
      "needs_background": "light"
     },
     "output_type": "display_data"
    }
   ],
   "source": [
    "mergedCumulativeConversions = cumulativeDataA[['date','conversion']].merge(cumulativeDataB[['date','conversion']], left_on='date', right_on='date', how='left', suffixes=['A', 'B'])\n",
    "plt.figure(figsize=(15,5))\n",
    "plt.xlabel('дата');\n",
    "plt.ylabel('конверсия')\n",
    "plt.title('график относительного изменения кумулятивного среднего количества заказов на посетителя группы B к группе A')\n",
    "plt.plot(mergedCumulativeConversions['date'], mergedCumulativeConversions['conversionB']/mergedCumulativeConversions['conversionA']-1, label=\"Относительный прирост конверсии группы B относительно группы A\")\n",
    "plt.legend()\n",
    "\n",
    "plt.axhline(y=0, color='black', linestyle='--') \n",
    "plt.axhline(y=0.1, color='grey', linestyle='--')"
   ]
  },
  {
   "cell_type": "markdown",
   "metadata": {},
   "source": [
    "ВЫВОД: Начиная с 8 августа группа \"B\" лидировала до конца периода."
   ]
  },
  {
   "cell_type": "markdown",
   "metadata": {},
   "source": [
    "### Постройте точечный график количества заказов по пользователям. "
   ]
  },
  {
   "cell_type": "code",
   "execution_count": 19,
   "metadata": {},
   "outputs": [
    {
     "name": "stdout",
     "output_type": "stream",
     "text": [
      "       visitorId  transactionId\n",
      "1023  4256040402             11\n",
      "591   2458001652             11\n",
      "569   2378935119              9\n",
      "487   2038680547              8\n",
      "44     199603092              5\n",
      "744   3062433592              5\n",
      "55     237748145              5\n"
     ]
    },
    {
     "data": {
      "text/plain": [
       "<matplotlib.collections.PathCollection at 0x7fca1e0618b0>"
      ]
     },
     "execution_count": 19,
     "metadata": {},
     "output_type": "execute_result"
    },
    {
     "data": {
      "image/png": "[encoded data removed]",
      "text/plain": [
       "<Figure size 720x360 with 1 Axes>"
      ]
     },
     "metadata": {
      "needs_background": "light"
     },
     "output_type": "display_data"
    }
   ],
   "source": [
    "ordersByUsers = (\n",
    "    orders.groupby('visitorId', as_index=False)\n",
    "    .agg({'transactionId': 'nunique'})\n",
    ")\n",
    "ordersByUsers.columns = ['visitorId', 'transactionId']\n",
    "\n",
    "print(ordersByUsers.sort_values(by='transactionId', ascending=False).head(7))\n",
    "\n",
    "plt.figure(figsize=(10,5))\n",
    "plt.xlabel('пользователи');\n",
    "plt.ylabel('заказы')\n",
    "plt.title('график количества заказов по пользователям')\n",
    "x_values = pd.Series(range(0, len(ordersByUsers)))\n",
    "plt.scatter(x_values, ordersByUsers['transactionId']) "
   ]
  },
  {
   "cell_type": "markdown",
   "metadata": {},
   "source": [
    "ВЫВОД: Больше всего пользователей которые совершили 1 заказ."
   ]
  },
  {
   "cell_type": "markdown",
   "metadata": {},
   "source": [
    "### Посчитайте 95-й и 99-й перцентили количества заказов на пользователя. Выберите границу для определения аномальных пользователей."
   ]
  },
  {
   "cell_type": "code",
   "execution_count": 20,
   "metadata": {},
   "outputs": [
    {
     "name": "stdout",
     "output_type": "stream",
     "text": [
      "[2. 4.]\n"
     ]
    }
   ],
   "source": [
    "print(np.percentile(ordersByUsers['transactionId'], [ 95, 99])) "
   ]
  },
  {
   "cell_type": "markdown",
   "metadata": {},
   "source": [
    " ВЫВОД: Большинство пользователей делают 1 или 2 заказа."
   ]
  },
  {
   "cell_type": "markdown",
   "metadata": {},
   "source": [
    "### Постройте точечный график стоимостей заказов."
   ]
  },
  {
   "cell_type": "code",
   "execution_count": 21,
   "metadata": {},
   "outputs": [
    {
     "data": {
      "image/png": "[encoded data removed]",
      "text/plain": [
       "<Figure size 720x360 with 1 Axes>"
      ]
     },
     "metadata": {
      "needs_background": "light"
     },
     "output_type": "display_data"
    }
   ],
   "source": [
    "#x_values = pd.Series(range(0,len(orders['revenue'])))\n",
    "#plt.figure(figsize=(10,5))\n",
    "#plt.title('График стоимостей заказов')\n",
    "#plt.scatter(x_values, orders['revenue'], alpha=0.5)\n",
    "\n",
    "\n",
    "#уберем явные выбросы,что бы построить более наглядный график\n",
    "n_orders = orders[orders['revenue']<=195000]['revenue']\n",
    "xn_values = pd.Series(range(0,len(n_orders)))\n",
    "plt.figure(figsize=(10,5))\n",
    "plt.xlabel('заказы');\n",
    "plt.ylabel('стоимость')\n",
    "plt.grid()\n",
    "plt.title('График стоимостей заказов')\n",
    "plt.scatter(xn_values, n_orders, alpha=0.5);"
   ]
  },
  {
   "cell_type": "markdown",
   "metadata": {},
   "source": [
    "ВЫВОД: Большинство заказов не более 100 тыс."
   ]
  },
  {
   "cell_type": "markdown",
   "metadata": {},
   "source": [
    "### Посчитайте 95-й и 99-й перцентили стоимости заказов. Выберите границу для определения аномальных заказов. "
   ]
  },
  {
   "cell_type": "code",
   "execution_count": 22,
   "metadata": {},
   "outputs": [
    {
     "name": "stdout",
     "output_type": "stream",
     "text": [
      "[28000.  58233.2]\n"
     ]
    }
   ],
   "source": [
    "print( np.percentile(orders['revenue'], [95, 99]))"
   ]
  },
  {
   "cell_type": "markdown",
   "metadata": {},
   "source": [
    "ВЫВОД: 99% заказов меньше суммы 58233.2 , установим её в качестве границы для аномалий."
   ]
  },
  {
   "cell_type": "markdown",
   "metadata": {},
   "source": [
    "### Посчитайте статистическую значимость различий в среднем количестве заказов на посетителя между группами по «сырым» данным."
   ]
  },
  {
   "cell_type": "code",
   "execution_count": 23,
   "metadata": {},
   "outputs": [
    {
     "data": {
      "text/html": [
       "<div>\n",
       "<style scoped>\n",
       "    .dataframe tbody tr th:only-of-type {\n",
       "        vertical-align: middle;\n",
       "    }\n",
       "\n",
       "    .dataframe tbody tr th {\n",
       "        vertical-align: top;\n",
       "    }\n",
       "\n",
       "    .dataframe thead th {\n",
       "        text-align: right;\n",
       "    }\n",
       "</style>\n",
       "<table border=\"1\" class=\"dataframe\">\n",
       "  <thead>\n",
       "    <tr style=\"text-align: right;\">\n",
       "      <th></th>\n",
       "      <th>date</th>\n",
       "      <th>ordersPerDateA</th>\n",
       "      <th>revenuePerDateA</th>\n",
       "      <th>ordersPerDateB</th>\n",
       "      <th>revenuePerDateB</th>\n",
       "      <th>ordersCummulativeA</th>\n",
       "      <th>revenueCummulativeA</th>\n",
       "      <th>ordersCummulativeB</th>\n",
       "      <th>revenueCummulativeB</th>\n",
       "      <th>visitorsPerDateA</th>\n",
       "      <th>visitorsPerDateB</th>\n",
       "      <th>visitorsCummulativeA</th>\n",
       "      <th>visitorsCummulativeB</th>\n",
       "    </tr>\n",
       "  </thead>\n",
       "  <tbody>\n",
       "    <tr>\n",
       "      <th>21</th>\n",
       "      <td>2019-08-22</td>\n",
       "      <td>16</td>\n",
       "      <td>112741</td>\n",
       "      <td>25</td>\n",
       "      <td>162355</td>\n",
       "      <td>401</td>\n",
       "      <td>2756579</td>\n",
       "      <td>462</td>\n",
       "      <td>4589247</td>\n",
       "      <td>609</td>\n",
       "      <td>650</td>\n",
       "      <td>13459</td>\n",
       "      <td>13524</td>\n",
       "    </tr>\n",
       "    <tr>\n",
       "      <th>5</th>\n",
       "      <td>2019-08-06</td>\n",
       "      <td>18</td>\n",
       "      <td>48484</td>\n",
       "      <td>28</td>\n",
       "      <td>242342</td>\n",
       "      <td>127</td>\n",
       "      <td>598401</td>\n",
       "      <td>129</td>\n",
       "      <td>824337</td>\n",
       "      <td>667</td>\n",
       "      <td>655</td>\n",
       "      <td>3985</td>\n",
       "      <td>3935</td>\n",
       "    </tr>\n",
       "    <tr>\n",
       "      <th>8</th>\n",
       "      <td>2019-08-09</td>\n",
       "      <td>16</td>\n",
       "      <td>188506</td>\n",
       "      <td>25</td>\n",
       "      <td>160812</td>\n",
       "      <td>177</td>\n",
       "      <td>1025603</td>\n",
       "      <td>205</td>\n",
       "      <td>1431401</td>\n",
       "      <td>617</td>\n",
       "      <td>610</td>\n",
       "      <td>5856</td>\n",
       "      <td>5908</td>\n",
       "    </tr>\n",
       "  </tbody>\n",
       "</table>\n",
       "</div>"
      ],
      "text/plain": [
       "         date  ordersPerDateA  revenuePerDateA  ordersPerDateB  \\\n",
       "21 2019-08-22              16           112741              25   \n",
       "5  2019-08-06              18            48484              28   \n",
       "8  2019-08-09              16           188506              25   \n",
       "\n",
       "    revenuePerDateB  ordersCummulativeA  revenueCummulativeA  \\\n",
       "21           162355                 401              2756579   \n",
       "5            242342                 127               598401   \n",
       "8            160812                 177              1025603   \n",
       "\n",
       "    ordersCummulativeB  revenueCummulativeB  visitorsPerDateA  \\\n",
       "21                 462              4589247               609   \n",
       "5                  129               824337               667   \n",
       "8                  205              1431401               617   \n",
       "\n",
       "    visitorsPerDateB  visitorsCummulativeA  visitorsCummulativeB  \n",
       "21               650                 13459                 13524  \n",
       "5                655                  3985                  3935  \n",
       "8                610                  5856                  5908  "
      ]
     },
     "execution_count": 23,
     "metadata": {},
     "output_type": "execute_result"
    }
   ],
   "source": [
    "visitorsADaily = visitors[visitors['group']=='A'][['date', 'visitors']]\n",
    "visitorsADaily.columns = ['date', 'visitorsPerDateA']\n",
    "\n",
    "visitorsACummulative = visitorsADaily.apply(lambda x: visitorsADaily[visitorsADaily['date'] <= x['date']]. \\\n",
    "                                            agg({'date' : 'max', 'visitorsPerDateA' : 'sum'}), axis=1)\n",
    "visitorsACummulative.columns = ['date', 'visitorsCummulativeA']\n",
    "\n",
    "visitorsBDaily = visitors[visitors['group']=='B'][['date', 'visitors']]\n",
    "visitorsBDaily.columns = ['date', 'visitorsPerDateB']\n",
    "\n",
    "visitorsBCummulative = visitorsBDaily.apply(lambda x: visitorsBDaily[visitorsBDaily['date'] <= x['date']]. \\\n",
    "                                            agg({'date' : 'max', 'visitorsPerDateB' : 'sum'}), axis=1)\n",
    "visitorsBCummulative.columns = ['date', 'visitorsCummulativeB']\n",
    "\n",
    "\n",
    "ordersADaily = orders[orders['group']=='A'][['date', 'transactionId', 'visitorId', 'revenue']]\\\n",
    "    .groupby('date', as_index=False)\\\n",
    "    .agg({'transactionId' : pd.Series.nunique, 'revenue' : 'sum'})\n",
    "ordersADaily.columns = ['date', 'ordersPerDateA', 'revenuePerDateA']\n",
    "\n",
    "ordersACummulative = ordersADaily.apply(\n",
    "    lambda x: \\\n",
    "        ordersADaily[ordersADaily['date'] <= x['date']]\\\n",
    "            .agg({\n",
    "                'date' : 'max',\n",
    "                'ordersPerDateA' : 'sum',\n",
    "                'revenuePerDateA' : 'sum'}), axis=1).sort_values(by=['date'])\n",
    "ordersACummulative.columns = ['date', 'ordersCummulativeA', 'revenueCummulativeA']\n",
    "\n",
    "ordersBDaily = orders[orders['group']=='B'][['date', 'transactionId', 'visitorId', 'revenue']]\\\n",
    "    .groupby('date', as_index=False)\\\n",
    "    .agg({'transactionId' : pd.Series.nunique, 'revenue' : 'sum'})\n",
    "ordersBDaily.columns = ['date', 'ordersPerDateB', 'revenuePerDateB']\n",
    "\n",
    "ordersBCummulative = ordersBDaily.apply(\n",
    "    lambda x: \\\n",
    "        ordersBDaily[ordersBDaily['date'] <= x['date']]\\\n",
    "            .agg({\n",
    "                'date' : 'max',\n",
    "                'ordersPerDateB' : 'sum',\n",
    "                'revenuePerDateB' : 'sum'}), axis=1).sort_values(by=['date'])\n",
    "ordersBCummulative.columns = ['date', 'ordersCummulativeB', 'revenueCummulativeB']\n",
    "\n",
    "\n",
    "data = ordersADaily.merge(ordersBDaily, left_on='date', right_on='date', how='left')\\\n",
    "    .merge(ordersACummulative, left_on='date', right_on='date', how='left')\\\n",
    "    .merge(ordersBCummulative, left_on='date', right_on='date', how='left')\\\n",
    "    .merge(visitorsADaily, left_on='date', right_on='date', how='left')\\\n",
    "    .merge(visitorsBDaily, left_on='date', right_on='date', how='left')\\\n",
    "    .merge(visitorsACummulative, left_on='date', right_on='date', how='left')\\\n",
    "    .merge(visitorsBCummulative, left_on='date', right_on='date', how='left')\n",
    "data.sample(3)"
   ]
  },
  {
   "cell_type": "code",
   "execution_count": 24,
   "metadata": {},
   "outputs": [
    {
     "name": "stdout",
     "output_type": "stream",
     "text": [
      "0.017\n",
      "0.138\n"
     ]
    }
   ],
   "source": [
    "ordersByUsersA = (\n",
    "orders[orders['group'] == 'A']\n",
    ".groupby('visitorId', as_index=False)\n",
    ".agg({'transactionId': pd.Series.nunique})\n",
    ")\n",
    "ordersByUsersA.columns = ['visitorId', 'transactionId']\n",
    "\n",
    "ordersByUsersB = (\n",
    "orders[orders['group'] == 'B']\n",
    ".groupby('visitorId', as_index=False)\n",
    ".agg({'transactionId': pd.Series.nunique})\n",
    ")\n",
    "ordersByUsersB.columns = ['visitorId', 'transactionId']\n",
    "\n",
    "# Объявим переменные sampleA и sampleB, в которых пользователям из разных групп будет соответствовать количество заказов\n",
    "sampleA = pd.concat([ordersByUsersA['transactionId'],pd.Series(0, index=np.arange(data['visitorsPerDateA']\n",
    ".sum() - len(ordersByUsersA['transactionId'])), name='orders')],axis=0)\n",
    "\n",
    "sampleB = pd.concat([ordersByUsersB['transactionId'],pd.Series(0, index=np.arange(data['visitorsPerDateB']\n",
    ".sum() - len(ordersByUsersB['transactionId'])), name='orders')],axis=0)\n",
    "\n",
    "\n",
    "print(\"{0:.3f}\".format(stats.mannwhitneyu(sampleA, sampleB)[1]))\n",
    "print(\"{0:.3f}\".format(sampleB.mean() / sampleA.mean() - 1))"
   ]
  },
  {
   "cell_type": "markdown",
   "metadata": {},
   "source": [
    "Вывод: p-value = 0.017 меньше 0.05. Значит, нулевую гипотезу о том, что статистически значимых различий в конверсии между группами нет, - отвергаем."
   ]
  },
  {
   "cell_type": "markdown",
   "metadata": {},
   "source": [
    "### Посчитайте статистическую значимость различий в среднем чеке заказа между группами по «сырым» данным"
   ]
  },
  {
   "cell_type": "code",
   "execution_count": 25,
   "metadata": {},
   "outputs": [
    {
     "name": "stdout",
     "output_type": "stream",
     "text": [
      "p-value = 0.729\n",
      "0.259\n"
     ]
    }
   ],
   "source": [
    "print('p-value = {0:.3f}'.format(stats.mannwhitneyu(orders[orders['group']=='A']['revenue'], orders[orders['group']=='B']['revenue'])[1]))\n",
    "print('{0:.3f}'.format(orders[orders['group']=='B']['revenue'].mean()/orders[orders['group']=='A']['revenue'].mean()-1)) "
   ]
  },
  {
   "cell_type": "markdown",
   "metadata": {},
   "source": [
    "ВЫВОД: P-value больше 0.05. Значит, причин отвергать нулевую гипотезу и считать, что в среднем чеке есть различия, нет."
   ]
  },
  {
   "cell_type": "markdown",
   "metadata": {},
   "source": [
    "### Посчитайте статистическую значимость различий в среднем количестве заказов на посетителя между группами по «очищенным» данным. "
   ]
  },
  {
   "cell_type": "code",
   "execution_count": 26,
   "metadata": {},
   "outputs": [
    {
     "name": "stdout",
     "output_type": "stream",
     "text": [
      "0.010\n",
      "0.174\n"
     ]
    }
   ],
   "source": [
    "ordersByUsersA = (\n",
    "orders[orders['group'] == 'A']\n",
    ".groupby('visitorId', as_index=False)\n",
    ".agg({'transactionId': pd.Series.nunique})\n",
    ")\n",
    "ordersByUsersA.columns = ['visitorId', 'transactionId']\n",
    "\n",
    "ordersByUsersB = (\n",
    "orders[orders['group'] == 'B']\n",
    ".groupby('visitorId', as_index=False)\n",
    ".agg({'transactionId': pd.Series.nunique})\n",
    ")\n",
    "ordersByUsersB.columns = ['visitorId', 'transactionId']\n",
    "usersWithManyOrders = pd.concat(\n",
    "    [\n",
    "        ordersByUsersA[ordersByUsersA['transactionId'] > 2]['visitorId'],\n",
    "        ordersByUsersB[ordersByUsersB['transactionId'] > 2]['visitorId'],\n",
    "    ],\n",
    "    axis=0,\n",
    ")\n",
    "usersWithExpensiveOrders = orders[orders['revenue'] > 58233.2]['visitorId']\n",
    "abnormalUsers = (\n",
    "    pd.concat([usersWithManyOrders, usersWithExpensiveOrders], axis=0)\n",
    "    .drop_duplicates()\n",
    "    .sort_values()\n",
    ")\n",
    "#print(abnormalUsers.head(5))\n",
    "#print(len(abnormalUsers)) \n",
    "\n",
    "sampleAFiltered = pd.concat(\n",
    "    [\n",
    "        ordersByUsersA[\n",
    "            np.logical_not(ordersByUsersA['visitorId'].isin(abnormalUsers))\n",
    "        ]['transactionId'],\n",
    "        pd.Series(\n",
    "            0,\n",
    "            index=np.arange(\n",
    "                data['visitorsPerDateA'].sum() - len(ordersByUsersA['transactionId'])\n",
    "            ),\n",
    "            name='orders',\n",
    "        ),\n",
    "    ],\n",
    "    axis=0,\n",
    ")\n",
    "sampleBFiltered = pd.concat(\n",
    "    [\n",
    "        ordersByUsersB[\n",
    "            np.logical_not(ordersByUsersB['visitorId'].isin(abnormalUsers))\n",
    "        ]['transactionId'],\n",
    "        pd.Series(\n",
    "            0,\n",
    "            index=np.arange(\n",
    "                data['visitorsPerDateB'].sum() - len(ordersByUsersB['transactionId'])\n",
    "            ),\n",
    "            name='orders',\n",
    "        ),\n",
    "    ],\n",
    "    axis=0,\n",
    ") \n",
    "print('{0:.3f}'.format(stats.mannwhitneyu(sampleAFiltered, sampleBFiltered)[1]))\n",
    "print('{0:.3f}'.format(sampleBFiltered.mean()/sampleAFiltered.mean()-1))"
   ]
  },
  {
   "cell_type": "markdown",
   "metadata": {},
   "source": [
    "Вывод: p-value = 0.01 меньше 0.05. Значит, нулевую гипотезу о том, что статистически значимых различий в конверсии между группами нет, - отвергаем. "
   ]
  },
  {
   "cell_type": "markdown",
   "metadata": {},
   "source": [
    "### Посчитайте статистическую значимость различий в среднем чеке заказа между группами по «очищенным» данным."
   ]
  },
  {
   "cell_type": "code",
   "execution_count": 27,
   "metadata": {},
   "outputs": [
    {
     "name": "stdout",
     "output_type": "stream",
     "text": [
      "p-value = 0.798\n",
      "-0.020\n"
     ]
    }
   ],
   "source": [
    "print(\n",
    "    'p-value = {0:.3f}'.format(\n",
    "        stats.mannwhitneyu(\n",
    "            orders[\n",
    "                np.logical_and(\n",
    "                    orders['group'] == 'A',\n",
    "                    np.logical_not(orders['visitorId'].isin(abnormalUsers)),\n",
    "                )\n",
    "            ]['revenue'],\n",
    "            orders[\n",
    "                np.logical_and(\n",
    "                    orders['group'] == 'B',\n",
    "                    np.logical_not(orders['visitorId'].isin(abnormalUsers)),\n",
    "                )\n",
    "            ]['revenue'],\n",
    "        )[1]\n",
    "    )\n",
    ")\n",
    "\n",
    "print(\n",
    "    \"{0:.3f}\".format(\n",
    "        orders[\n",
    "            np.logical_and(\n",
    "                orders['group'] == 'B',\n",
    "                np.logical_not(orders['visitorId'].isin(abnormalUsers)),\n",
    "            )\n",
    "        ]['revenue'].mean()\n",
    "        / orders[\n",
    "            np.logical_and(\n",
    "                orders['group'] == 'A',\n",
    "                np.logical_not(orders['visitorId'].isin(abnormalUsers)),\n",
    "            )\n",
    "        ]['revenue'].mean()\n",
    "        - 1\n",
    "    )\n",
    ")"
   ]
  },
  {
   "cell_type": "markdown",
   "metadata": {},
   "source": [
    "ВЫВОД: P-value больше 0.05. Значит, причин отвергать нулевую гипотезу и считать, что в среднем чеке есть различия,тоже нет."
   ]
  },
  {
   "cell_type": "markdown",
   "metadata": {},
   "source": [
    "### Примите решение по результатам теста и объясните его. Варианты решений:\n",
    "1. Остановить тест, зафиксировать победу одной из групп.\n",
    "2. Остановить тест, зафиксировать отсутствие различий между группами.\n",
    "3. Продолжить тест."
   ]
  },
  {
   "cell_type": "markdown",
   "metadata": {},
   "source": [
    "- И по \"сырым\" и по \"очищенным\" данным различия в конверсии групп A и B есть. Относительный выигрыш группы \"B\" над \"A\" равен 17,4% по \"очищенным\" и 13.8% по \"сырым\" данным.\n",
    "- Оказалось, что и по \"сырым\" и по \"очищенным\" данным различия в средних чеках групп A и B отстутствуют, несмотря на то, что средний чек группы B оказался незначительно ниже среднего чека группы A по \"очищенным\" данным\n",
    "- Итог: можно принять решение остановить тестирование и констатировать успех и победу группы B"
   ]
  }
 ],
 "metadata": {
  "ExecuteTimeLog": [
   {
    "duration": 466,
    "start_time": "2023-01-19T07:30:37.837Z"
   },
   {
    "duration": 92,
    "start_time": "2023-01-19T07:32:11.179Z"
   },
   {
    "duration": 55,
    "start_time": "2023-01-19T07:34:41.086Z"
   },
   {
    "duration": 36,
    "start_time": "2023-01-19T07:37:11.971Z"
   },
   {
    "duration": 4,
    "start_time": "2023-01-19T07:38:17.968Z"
   },
   {
    "duration": 36,
    "start_time": "2023-01-19T07:38:21.163Z"
   },
   {
    "duration": 36,
    "start_time": "2023-01-19T07:40:16.471Z"
   },
   {
    "duration": 64,
    "start_time": "2023-01-19T07:48:26.898Z"
   },
   {
    "duration": 57,
    "start_time": "2023-01-19T07:48:33.846Z"
   },
   {
    "duration": 69,
    "start_time": "2023-01-19T07:49:28.623Z"
   },
   {
    "duration": 57,
    "start_time": "2023-01-19T07:50:49.333Z"
   },
   {
    "duration": 17,
    "start_time": "2023-01-19T07:50:54.674Z"
   },
   {
    "duration": 22,
    "start_time": "2023-01-19T07:51:06.964Z"
   },
   {
    "duration": 24,
    "start_time": "2023-01-19T07:59:49.469Z"
   },
   {
    "duration": 12,
    "start_time": "2023-01-19T08:18:27.367Z"
   },
   {
    "duration": 16,
    "start_time": "2023-01-19T08:18:56.983Z"
   },
   {
    "duration": 12,
    "start_time": "2023-01-19T08:20:31.664Z"
   },
   {
    "duration": 29,
    "start_time": "2023-01-19T08:23:58.719Z"
   },
   {
    "duration": 974,
    "start_time": "2023-01-19T08:58:05.519Z"
   },
   {
    "duration": 4,
    "start_time": "2023-01-19T08:58:08.711Z"
   },
   {
    "duration": 48,
    "start_time": "2023-01-19T08:58:12.093Z"
   },
   {
    "duration": 55,
    "start_time": "2023-01-19T08:58:18.325Z"
   },
   {
    "duration": 21,
    "start_time": "2023-01-19T08:58:21.108Z"
   },
   {
    "duration": 61,
    "start_time": "2023-01-19T08:58:24.043Z"
   },
   {
    "duration": 23,
    "start_time": "2023-01-19T08:58:26.847Z"
   },
   {
    "duration": 31,
    "start_time": "2023-01-19T08:58:31.620Z"
   },
   {
    "duration": 127,
    "start_time": "2023-01-19T08:58:38.090Z"
   },
   {
    "duration": 210,
    "start_time": "2023-01-19T08:59:48.923Z"
   },
   {
    "duration": 234,
    "start_time": "2023-01-19T09:01:20.004Z"
   },
   {
    "duration": 89,
    "start_time": "2023-01-19T09:02:37.945Z"
   },
   {
    "duration": 740,
    "start_time": "2023-01-19T09:03:09.519Z"
   },
   {
    "duration": 588,
    "start_time": "2023-01-19T09:05:04.380Z"
   },
   {
    "duration": 639,
    "start_time": "2023-01-19T09:05:55.248Z"
   },
   {
    "duration": 254,
    "start_time": "2023-01-19T09:06:39.449Z"
   },
   {
    "duration": 116,
    "start_time": "2023-01-19T09:08:05.475Z"
   },
   {
    "duration": 390,
    "start_time": "2023-01-19T09:09:17.946Z"
   },
   {
    "duration": 29,
    "start_time": "2023-01-19T09:10:18.908Z"
   },
   {
    "duration": 351,
    "start_time": "2023-01-19T09:11:42.531Z"
   },
   {
    "duration": 312,
    "start_time": "2023-01-19T09:14:40.391Z"
   },
   {
    "duration": 307,
    "start_time": "2023-01-19T09:14:58.412Z"
   },
   {
    "duration": 526,
    "start_time": "2023-01-19T09:15:45.867Z"
   },
   {
    "duration": 372,
    "start_time": "2023-01-19T09:15:52.067Z"
   },
   {
    "duration": 4,
    "start_time": "2023-01-19T09:16:40.170Z"
   },
   {
    "duration": 40,
    "start_time": "2023-01-19T09:16:43.513Z"
   },
   {
    "duration": 61,
    "start_time": "2023-01-19T09:16:49.866Z"
   },
   {
    "duration": 29,
    "start_time": "2023-01-19T09:16:52.541Z"
   },
   {
    "duration": 324,
    "start_time": "2023-01-19T09:17:42.667Z"
   },
   {
    "duration": 56,
    "start_time": "2023-01-19T09:17:47.301Z"
   },
   {
    "duration": 37,
    "start_time": "2023-01-19T09:17:49.709Z"
   },
   {
    "duration": 288,
    "start_time": "2023-01-19T09:17:59.825Z"
   },
   {
    "duration": 384,
    "start_time": "2023-01-19T09:23:09.688Z"
   },
   {
    "duration": 281,
    "start_time": "2023-01-19T09:23:49.615Z"
   },
   {
    "duration": 298,
    "start_time": "2023-01-19T09:27:18.782Z"
   },
   {
    "duration": 4,
    "start_time": "2023-01-19T09:27:34.474Z"
   },
   {
    "duration": 45,
    "start_time": "2023-01-19T09:27:36.917Z"
   },
   {
    "duration": 57,
    "start_time": "2023-01-19T09:27:40.193Z"
   },
   {
    "duration": 31,
    "start_time": "2023-01-19T09:27:43.332Z"
   },
   {
    "duration": 64,
    "start_time": "2023-01-19T09:27:46.165Z"
   },
   {
    "duration": 33,
    "start_time": "2023-01-19T09:27:49.864Z"
   },
   {
    "duration": 30,
    "start_time": "2023-01-19T09:27:55.602Z"
   },
   {
    "duration": 312,
    "start_time": "2023-01-19T09:28:01.075Z"
   },
   {
    "duration": 230,
    "start_time": "2023-01-19T09:29:20.099Z"
   },
   {
    "duration": 4,
    "start_time": "2023-01-19T09:32:41.517Z"
   },
   {
    "duration": 37,
    "start_time": "2023-01-19T09:32:44.598Z"
   },
   {
    "duration": 56,
    "start_time": "2023-01-19T09:32:48.704Z"
   },
   {
    "duration": 35,
    "start_time": "2023-01-19T09:32:51.999Z"
   },
   {
    "duration": 57,
    "start_time": "2023-01-19T09:32:57.110Z"
   },
   {
    "duration": 29,
    "start_time": "2023-01-19T09:33:01.649Z"
   },
   {
    "duration": 22,
    "start_time": "2023-01-19T09:33:11.914Z"
   },
   {
    "duration": 309,
    "start_time": "2023-01-19T09:33:19.223Z"
   },
   {
    "duration": 255,
    "start_time": "2023-01-19T09:36:21.463Z"
   },
   {
    "duration": 317,
    "start_time": "2023-01-19T09:41:26.449Z"
   },
   {
    "duration": 245,
    "start_time": "2023-01-19T09:41:51.847Z"
   },
   {
    "duration": 370,
    "start_time": "2023-01-19T09:42:05.244Z"
   },
   {
    "duration": 367,
    "start_time": "2023-01-19T09:43:39.214Z"
   },
   {
    "duration": 639,
    "start_time": "2023-01-19T09:44:01.309Z"
   },
   {
    "duration": 567,
    "start_time": "2023-01-19T09:47:53.713Z"
   },
   {
    "duration": 5,
    "start_time": "2023-01-19T11:04:21.365Z"
   },
   {
    "duration": 45,
    "start_time": "2023-01-19T11:04:24.308Z"
   },
   {
    "duration": 71,
    "start_time": "2023-01-19T11:04:35.355Z"
   },
   {
    "duration": 57,
    "start_time": "2023-01-19T11:04:38.202Z"
   },
   {
    "duration": 38,
    "start_time": "2023-01-19T11:04:41.299Z"
   },
   {
    "duration": 35,
    "start_time": "2023-01-19T11:04:44.457Z"
   },
   {
    "duration": 409,
    "start_time": "2023-01-19T11:04:49.302Z"
   },
   {
    "duration": 379,
    "start_time": "2023-01-19T11:04:57.868Z"
   },
   {
    "duration": 5,
    "start_time": "2023-01-19T11:05:06.280Z"
   },
   {
    "duration": 39,
    "start_time": "2023-01-19T11:05:08.625Z"
   },
   {
    "duration": 71,
    "start_time": "2023-01-19T11:05:12.548Z"
   },
   {
    "duration": 37,
    "start_time": "2023-01-19T11:05:15.557Z"
   },
   {
    "duration": 63,
    "start_time": "2023-01-19T11:05:20.278Z"
   },
   {
    "duration": 40,
    "start_time": "2023-01-19T11:05:22.606Z"
   },
   {
    "duration": 22,
    "start_time": "2023-01-19T11:05:25.354Z"
   },
   {
    "duration": 751,
    "start_time": "2023-01-19T11:05:29.757Z"
   },
   {
    "duration": 217,
    "start_time": "2023-01-19T11:11:19.305Z"
   },
   {
    "duration": 278,
    "start_time": "2023-01-19T11:12:47.225Z"
   },
   {
    "duration": 344,
    "start_time": "2023-01-19T11:13:03.901Z"
   },
   {
    "duration": 217,
    "start_time": "2023-01-19T11:13:18.413Z"
   },
   {
    "duration": 234,
    "start_time": "2023-01-19T11:13:23.882Z"
   },
   {
    "duration": 273,
    "start_time": "2023-01-19T11:13:31.745Z"
   },
   {
    "duration": 254,
    "start_time": "2023-01-19T11:14:27.086Z"
   },
   {
    "duration": 222,
    "start_time": "2023-01-19T11:14:33.809Z"
   },
   {
    "duration": 430,
    "start_time": "2023-01-19T11:16:48.513Z"
   },
   {
    "duration": 514,
    "start_time": "2023-01-19T11:20:40.156Z"
   },
   {
    "duration": 216,
    "start_time": "2023-01-19T11:26:13.246Z"
   },
   {
    "duration": 223,
    "start_time": "2023-01-19T11:28:05.350Z"
   },
   {
    "duration": 279,
    "start_time": "2023-01-19T11:28:31.178Z"
   },
   {
    "duration": 204,
    "start_time": "2023-01-19T11:28:53.963Z"
   },
   {
    "duration": 221,
    "start_time": "2023-01-19T11:29:01.141Z"
   },
   {
    "duration": 378,
    "start_time": "2023-01-19T11:32:50.537Z"
   },
   {
    "duration": 366,
    "start_time": "2023-01-19T11:33:12.340Z"
   },
   {
    "duration": 375,
    "start_time": "2023-01-19T11:33:44.206Z"
   },
   {
    "duration": 397,
    "start_time": "2023-01-19T11:35:37.465Z"
   },
   {
    "duration": 450,
    "start_time": "2023-01-19T11:36:54.065Z"
   },
   {
    "duration": 416,
    "start_time": "2023-01-19T11:37:41.465Z"
   },
   {
    "duration": 83,
    "start_time": "2023-01-19T11:38:24.183Z"
   },
   {
    "duration": 134,
    "start_time": "2023-01-19T11:39:00.078Z"
   },
   {
    "duration": 357,
    "start_time": "2023-01-19T11:39:28.693Z"
   },
   {
    "duration": 12,
    "start_time": "2023-01-19T12:30:59.501Z"
   },
   {
    "duration": 13,
    "start_time": "2023-01-19T12:32:33.351Z"
   },
   {
    "duration": 18,
    "start_time": "2023-01-19T12:34:50.116Z"
   },
   {
    "duration": 28,
    "start_time": "2023-01-19T12:35:09.976Z"
   },
   {
    "duration": 30,
    "start_time": "2023-01-19T12:35:53.581Z"
   },
   {
    "duration": 19,
    "start_time": "2023-01-19T12:36:09.689Z"
   },
   {
    "duration": 85,
    "start_time": "2023-01-19T12:36:20.881Z"
   },
   {
    "duration": 90,
    "start_time": "2023-01-19T12:36:34.182Z"
   },
   {
    "duration": 10,
    "start_time": "2023-01-19T12:36:47.146Z"
   },
   {
    "duration": 155,
    "start_time": "2023-01-19T12:37:37.906Z"
   },
   {
    "duration": 298,
    "start_time": "2023-01-19T12:39:22.265Z"
   },
   {
    "duration": 145,
    "start_time": "2023-01-19T12:39:32.600Z"
   },
   {
    "duration": 5,
    "start_time": "2023-01-19T12:42:08.366Z"
   },
   {
    "duration": 5,
    "start_time": "2023-01-19T12:42:42.062Z"
   },
   {
    "duration": 6,
    "start_time": "2023-01-19T12:43:40.561Z"
   },
   {
    "duration": 5,
    "start_time": "2023-01-19T12:46:46.297Z"
   },
   {
    "duration": 173,
    "start_time": "2023-01-19T13:02:26.971Z"
   },
   {
    "duration": 166,
    "start_time": "2023-01-19T13:03:38.054Z"
   },
   {
    "duration": 6,
    "start_time": "2023-01-19T13:53:22.567Z"
   },
   {
    "duration": 1327,
    "start_time": "2023-01-19T15:22:15.020Z"
   },
   {
    "duration": 76,
    "start_time": "2023-01-19T15:22:17.578Z"
   },
   {
    "duration": 115,
    "start_time": "2023-01-19T15:22:20.716Z"
   },
   {
    "duration": 26,
    "start_time": "2023-01-19T15:22:23.460Z"
   },
   {
    "duration": 62,
    "start_time": "2023-01-19T15:22:27.100Z"
   },
   {
    "duration": 36,
    "start_time": "2023-01-19T15:22:30.150Z"
   },
   {
    "duration": 31,
    "start_time": "2023-01-19T15:22:33.588Z"
   },
   {
    "duration": 613,
    "start_time": "2023-01-19T15:22:44.208Z"
   },
   {
    "duration": 194,
    "start_time": "2023-01-19T15:22:49.345Z"
   },
   {
    "duration": 392,
    "start_time": "2023-01-19T15:22:52.664Z"
   },
   {
    "duration": 218,
    "start_time": "2023-01-19T15:22:59.341Z"
   },
   {
    "duration": 350,
    "start_time": "2023-01-19T15:23:02.405Z"
   },
   {
    "duration": 133,
    "start_time": "2023-01-19T15:23:06.912Z"
   },
   {
    "duration": 169,
    "start_time": "2023-01-19T15:23:10.428Z"
   },
   {
    "duration": 5,
    "start_time": "2023-01-19T15:23:14.097Z"
   },
   {
    "duration": 230,
    "start_time": "2023-01-19T15:23:32.400Z"
   },
   {
    "duration": 765,
    "start_time": "2023-01-19T15:25:51.411Z"
   },
   {
    "duration": 1511,
    "start_time": "2023-01-19T15:26:17.506Z"
   },
   {
    "duration": 1433,
    "start_time": "2023-01-19T15:27:31.357Z"
   },
   {
    "duration": 1535,
    "start_time": "2023-01-19T15:28:34.057Z"
   },
   {
    "duration": 1640,
    "start_time": "2023-01-19T15:31:49.744Z"
   },
   {
    "duration": 1604,
    "start_time": "2023-01-19T15:31:54.152Z"
   },
   {
    "duration": 2174,
    "start_time": "2023-01-19T15:33:11.636Z"
   },
   {
    "duration": 2142,
    "start_time": "2023-01-19T15:33:14.471Z"
   },
   {
    "duration": 2805,
    "start_time": "2023-01-19T15:33:29.331Z"
   },
   {
    "duration": 2378,
    "start_time": "2023-01-19T15:36:04.069Z"
   },
   {
    "duration": 3446,
    "start_time": "2023-01-19T15:37:09.014Z"
   },
   {
    "duration": 13,
    "start_time": "2023-01-19T15:38:43.575Z"
   },
   {
    "duration": 126,
    "start_time": "2023-01-19T15:40:13.319Z"
   },
   {
    "duration": 13,
    "start_time": "2023-01-19T15:40:50.790Z"
   },
   {
    "duration": 13,
    "start_time": "2023-01-19T15:40:56.753Z"
   },
   {
    "duration": 14,
    "start_time": "2023-01-19T15:41:23.170Z"
   },
   {
    "duration": 11,
    "start_time": "2023-01-19T15:41:28.024Z"
   },
   {
    "duration": 1151,
    "start_time": "2023-01-19T15:44:52.328Z"
   },
   {
    "duration": 11,
    "start_time": "2023-01-19T15:45:50.383Z"
   },
   {
    "duration": 9,
    "start_time": "2023-01-19T15:46:20.772Z"
   },
   {
    "duration": 24,
    "start_time": "2023-01-19T15:47:56.941Z"
   },
   {
    "duration": 31,
    "start_time": "2023-01-19T15:50:05.471Z"
   },
   {
    "duration": 31,
    "start_time": "2023-01-19T15:50:40.096Z"
   },
   {
    "duration": 26,
    "start_time": "2023-01-19T15:51:08.410Z"
   },
   {
    "duration": 20,
    "start_time": "2023-01-19T15:51:46.387Z"
   },
   {
    "duration": 27,
    "start_time": "2023-01-19T15:52:20.268Z"
   },
   {
    "duration": 20,
    "start_time": "2023-01-19T15:52:43.888Z"
   },
   {
    "duration": 18,
    "start_time": "2023-01-19T15:54:41.989Z"
   },
   {
    "duration": 17,
    "start_time": "2023-01-19T15:55:21.501Z"
   },
   {
    "duration": 16,
    "start_time": "2023-01-19T15:56:00.445Z"
   },
   {
    "duration": 311,
    "start_time": "2023-01-19T16:07:02.688Z"
   },
   {
    "duration": 295,
    "start_time": "2023-01-19T16:07:05.400Z"
   },
   {
    "duration": 3,
    "start_time": "2023-01-19T16:07:12.792Z"
   },
   {
    "duration": 35,
    "start_time": "2023-01-19T16:07:15.006Z"
   },
   {
    "duration": 52,
    "start_time": "2023-01-19T16:07:18.589Z"
   },
   {
    "duration": 19,
    "start_time": "2023-01-19T16:07:22.037Z"
   },
   {
    "duration": 351,
    "start_time": "2023-01-19T16:08:08.949Z"
   },
   {
    "duration": 55,
    "start_time": "2023-01-19T16:08:11.539Z"
   },
   {
    "duration": 20,
    "start_time": "2023-01-19T16:08:14.564Z"
   },
   {
    "duration": 2203,
    "start_time": "2023-01-19T16:11:09.649Z"
   },
   {
    "duration": 2339,
    "start_time": "2023-01-19T16:11:38.743Z"
   },
   {
    "duration": 1297,
    "start_time": "2023-01-20T08:32:48.965Z"
   },
   {
    "duration": 100,
    "start_time": "2023-01-20T08:32:51.861Z"
   },
   {
    "duration": 126,
    "start_time": "2023-01-20T08:32:55.380Z"
   },
   {
    "duration": 20,
    "start_time": "2023-01-20T08:32:58.013Z"
   },
   {
    "duration": 65,
    "start_time": "2023-01-20T08:33:00.676Z"
   },
   {
    "duration": 18,
    "start_time": "2023-01-20T08:33:03.625Z"
   },
   {
    "duration": 21,
    "start_time": "2023-01-20T08:33:06.751Z"
   },
   {
    "duration": 530,
    "start_time": "2023-01-20T08:33:13.117Z"
   },
   {
    "duration": 211,
    "start_time": "2023-01-20T08:33:16.559Z"
   },
   {
    "duration": 334,
    "start_time": "2023-01-20T08:33:20.062Z"
   },
   {
    "duration": 172,
    "start_time": "2023-01-20T08:33:24.037Z"
   },
   {
    "duration": 368,
    "start_time": "2023-01-20T08:33:27.547Z"
   },
   {
    "duration": 125,
    "start_time": "2023-01-20T08:33:31.342Z"
   },
   {
    "duration": 4,
    "start_time": "2023-01-20T08:33:35.384Z"
   },
   {
    "duration": 221,
    "start_time": "2023-01-20T08:33:38.068Z"
   },
   {
    "duration": 5,
    "start_time": "2023-01-20T08:33:41.513Z"
   },
   {
    "duration": 2375,
    "start_time": "2023-01-20T08:33:49.914Z"
   },
   {
    "duration": 2908,
    "start_time": "2023-01-20T08:35:35.737Z"
   },
   {
    "duration": 962,
    "start_time": "2023-01-20T08:38:44.140Z"
   },
   {
    "duration": 860,
    "start_time": "2023-01-20T08:40:18.457Z"
   },
   {
    "duration": 1023,
    "start_time": "2023-01-20T08:41:07.843Z"
   },
   {
    "duration": 166,
    "start_time": "2023-01-20T08:47:07.016Z"
   },
   {
    "duration": 152,
    "start_time": "2023-01-20T09:08:53.444Z"
   },
   {
    "duration": 185,
    "start_time": "2023-01-20T09:09:25.196Z"
   },
   {
    "duration": 133,
    "start_time": "2023-01-20T09:09:32.177Z"
   },
   {
    "duration": 213,
    "start_time": "2023-01-20T09:25:34.243Z"
   },
   {
    "duration": 16,
    "start_time": "2023-01-20T10:08:44.386Z"
   },
   {
    "duration": 17,
    "start_time": "2023-01-20T10:09:26.934Z"
   },
   {
    "duration": 148,
    "start_time": "2023-01-20T10:10:14.648Z"
   },
   {
    "duration": 16,
    "start_time": "2023-01-20T10:12:40.561Z"
   },
   {
    "duration": 16,
    "start_time": "2023-01-20T10:13:33.838Z"
   },
   {
    "duration": 14,
    "start_time": "2023-01-20T10:14:55.096Z"
   },
   {
    "duration": 16,
    "start_time": "2023-01-20T10:15:05.822Z"
   },
   {
    "duration": 18,
    "start_time": "2023-01-20T10:15:22.822Z"
   },
   {
    "duration": 18,
    "start_time": "2023-01-20T10:16:19.550Z"
   },
   {
    "duration": 22,
    "start_time": "2023-01-20T10:17:16.724Z"
   },
   {
    "duration": 19,
    "start_time": "2023-01-20T10:17:20.569Z"
   },
   {
    "duration": 18,
    "start_time": "2023-01-20T10:17:33.214Z"
   },
   {
    "duration": 3,
    "start_time": "2023-01-20T10:17:42.284Z"
   },
   {
    "duration": 39,
    "start_time": "2023-01-20T10:17:44.758Z"
   },
   {
    "duration": 61,
    "start_time": "2023-01-20T10:17:48.016Z"
   },
   {
    "duration": 19,
    "start_time": "2023-01-20T10:17:50.913Z"
   },
   {
    "duration": 59,
    "start_time": "2023-01-20T10:17:54.766Z"
   },
   {
    "duration": 17,
    "start_time": "2023-01-20T10:17:58.731Z"
   },
   {
    "duration": 19,
    "start_time": "2023-01-20T10:18:02.433Z"
   },
   {
    "duration": 446,
    "start_time": "2023-01-20T10:18:07.895Z"
   },
   {
    "duration": 170,
    "start_time": "2023-01-20T10:18:12.926Z"
   },
   {
    "duration": 350,
    "start_time": "2023-01-20T10:18:16.804Z"
   },
   {
    "duration": 177,
    "start_time": "2023-01-20T10:18:21.599Z"
   },
   {
    "duration": 327,
    "start_time": "2023-01-20T10:18:25.168Z"
   },
   {
    "duration": 114,
    "start_time": "2023-01-20T10:18:28.079Z"
   },
   {
    "duration": 4,
    "start_time": "2023-01-20T10:18:31.912Z"
   },
   {
    "duration": 198,
    "start_time": "2023-01-20T10:18:35.133Z"
   },
   {
    "duration": 5,
    "start_time": "2023-01-20T10:18:38.338Z"
   },
   {
    "duration": 26,
    "start_time": "2023-01-20T10:18:43.153Z"
   },
   {
    "duration": 18,
    "start_time": "2023-01-20T10:19:25.460Z"
   },
   {
    "duration": 717,
    "start_time": "2023-01-20T10:19:53.733Z"
   },
   {
    "duration": 2730,
    "start_time": "2023-01-20T10:20:13.021Z"
   },
   {
    "duration": 140,
    "start_time": "2023-01-20T10:21:03.944Z"
   },
   {
    "duration": 166,
    "start_time": "2023-01-20T10:21:16.619Z"
   },
   {
    "duration": 14,
    "start_time": "2023-01-20T10:22:24.258Z"
   },
   {
    "duration": 147,
    "start_time": "2023-01-20T10:23:35.590Z"
   },
   {
    "duration": 3,
    "start_time": "2023-01-20T10:38:12.820Z"
   },
   {
    "duration": 40,
    "start_time": "2023-01-20T10:38:16.641Z"
   },
   {
    "duration": 62,
    "start_time": "2023-01-20T10:38:20.920Z"
   },
   {
    "duration": 18,
    "start_time": "2023-01-20T10:38:24.392Z"
   },
   {
    "duration": 59,
    "start_time": "2023-01-20T10:38:27.618Z"
   },
   {
    "duration": 18,
    "start_time": "2023-01-20T10:38:31.292Z"
   },
   {
    "duration": 20,
    "start_time": "2023-01-20T10:38:35.861Z"
   },
   {
    "duration": 499,
    "start_time": "2023-01-20T10:38:42.031Z"
   },
   {
    "duration": 514,
    "start_time": "2023-01-20T10:41:22.286Z"
   },
   {
    "duration": 181,
    "start_time": "2023-01-20T10:41:32.707Z"
   },
   {
    "duration": 432,
    "start_time": "2023-01-20T10:41:36.662Z"
   },
   {
    "duration": 275,
    "start_time": "2023-01-20T10:41:41.454Z"
   },
   {
    "duration": 344,
    "start_time": "2023-01-20T10:41:45.233Z"
   },
   {
    "duration": 144,
    "start_time": "2023-01-20T10:41:49.169Z"
   },
   {
    "duration": 4,
    "start_time": "2023-01-20T10:41:54.409Z"
   },
   {
    "duration": 132,
    "start_time": "2023-01-20T10:41:58.423Z"
   },
   {
    "duration": 4,
    "start_time": "2023-01-20T10:42:01.915Z"
   },
   {
    "duration": 5,
    "start_time": "2023-01-20T10:42:05.454Z"
   },
   {
    "duration": 2643,
    "start_time": "2023-01-20T10:42:10.725Z"
   },
   {
    "duration": 188,
    "start_time": "2023-01-20T10:42:20.495Z"
   },
   {
    "duration": 164,
    "start_time": "2023-01-20T10:45:47.884Z"
   },
   {
    "duration": 149,
    "start_time": "2023-01-20T10:46:05.879Z"
   },
   {
    "duration": 291,
    "start_time": "2023-01-20T10:46:15.903Z"
   },
   {
    "duration": 158,
    "start_time": "2023-01-20T10:47:52.951Z"
   },
   {
    "duration": 234,
    "start_time": "2023-01-20T11:01:18.535Z"
   },
   {
    "duration": 204,
    "start_time": "2023-01-20T11:01:31.395Z"
   },
   {
    "duration": 3,
    "start_time": "2023-01-20T11:01:37.007Z"
   },
   {
    "duration": 39,
    "start_time": "2023-01-20T11:01:39.049Z"
   },
   {
    "duration": 62,
    "start_time": "2023-01-20T11:01:41.938Z"
   },
   {
    "duration": 23,
    "start_time": "2023-01-20T11:01:45.221Z"
   },
   {
    "duration": 61,
    "start_time": "2023-01-20T11:01:47.688Z"
   },
   {
    "duration": 21,
    "start_time": "2023-01-20T11:01:50.447Z"
   },
   {
    "duration": 6,
    "start_time": "2023-01-20T11:01:56.603Z"
   },
   {
    "duration": 221,
    "start_time": "2023-01-20T11:02:08.645Z"
   },
   {
    "duration": 275,
    "start_time": "2023-01-20T11:02:15.436Z"
   },
   {
    "duration": 213,
    "start_time": "2023-01-20T11:02:21.908Z"
   },
   {
    "duration": 5,
    "start_time": "2023-01-20T11:02:24.581Z"
   },
   {
    "duration": 63,
    "start_time": "2023-01-20T11:02:29.339Z"
   },
   {
    "duration": 18,
    "start_time": "2023-01-20T11:02:31.845Z"
   },
   {
    "duration": 6,
    "start_time": "2023-01-20T11:03:09.792Z"
   },
   {
    "duration": 186,
    "start_time": "2023-01-20T11:15:33.245Z"
   },
   {
    "duration": 822,
    "start_time": "2023-01-20T11:16:09.421Z"
   },
   {
    "duration": 867,
    "start_time": "2023-01-20T11:17:46.410Z"
   },
   {
    "duration": 153,
    "start_time": "2023-01-20T11:18:26.465Z"
   },
   {
    "duration": 195,
    "start_time": "2023-01-20T11:20:10.574Z"
   },
   {
    "duration": 1027,
    "start_time": "2023-01-20T11:21:49.853Z"
   },
   {
    "duration": 138,
    "start_time": "2023-01-20T11:22:30.708Z"
   },
   {
    "duration": 182,
    "start_time": "2023-01-20T11:23:17.098Z"
   },
   {
    "duration": 1048,
    "start_time": "2023-01-20T11:24:20.534Z"
   },
   {
    "duration": 16,
    "start_time": "2023-01-20T11:33:05.813Z"
   },
   {
    "duration": 219,
    "start_time": "2023-01-20T11:33:15.196Z"
   },
   {
    "duration": 707,
    "start_time": "2023-01-20T11:35:31.106Z"
   },
   {
    "duration": 25,
    "start_time": "2023-01-20T11:36:36.116Z"
   },
   {
    "duration": 523,
    "start_time": "2023-01-20T11:38:36.361Z"
   },
   {
    "duration": 18,
    "start_time": "2023-01-20T11:38:47.225Z"
   },
   {
    "duration": 232,
    "start_time": "2023-01-20T11:39:11.672Z"
   },
   {
    "duration": 316,
    "start_time": "2023-01-20T11:39:36.952Z"
   },
   {
    "duration": 251,
    "start_time": "2023-01-20T11:39:44.747Z"
   },
   {
    "duration": 145,
    "start_time": "2023-01-20T11:39:57.072Z"
   },
   {
    "duration": 5,
    "start_time": "2023-01-20T11:40:05.149Z"
   },
   {
    "duration": 173,
    "start_time": "2023-01-20T11:40:11.070Z"
   },
   {
    "duration": 3,
    "start_time": "2023-01-20T11:40:16.009Z"
   },
   {
    "duration": 3015,
    "start_time": "2023-01-20T11:40:41.595Z"
   },
   {
    "duration": 170,
    "start_time": "2023-01-20T11:41:27.785Z"
   },
   {
    "duration": 53,
    "start_time": "2023-01-20T11:44:25.849Z"
   },
   {
    "duration": 50,
    "start_time": "2023-01-20T11:44:41.758Z"
   },
   {
    "duration": 62,
    "start_time": "2023-01-20T11:45:13.100Z"
   },
   {
    "duration": 142,
    "start_time": "2023-01-20T11:45:58.481Z"
   },
   {
    "duration": 156,
    "start_time": "2023-01-20T11:53:16.104Z"
   },
   {
    "duration": 2919,
    "start_time": "2023-01-20T11:53:36.892Z"
   },
   {
    "duration": 164,
    "start_time": "2023-01-20T11:53:49.260Z"
   },
   {
    "duration": 976,
    "start_time": "2023-01-20T11:56:47.277Z"
   },
   {
    "duration": 139,
    "start_time": "2023-01-20T11:57:19.481Z"
   },
   {
    "duration": 142,
    "start_time": "2023-01-20T11:57:31.378Z"
   },
   {
    "duration": 17,
    "start_time": "2023-01-20T12:01:36.711Z"
   },
   {
    "duration": 17,
    "start_time": "2023-01-20T12:10:42.496Z"
   },
   {
    "duration": 4,
    "start_time": "2023-01-20T12:51:26.797Z"
   },
   {
    "duration": 41,
    "start_time": "2023-01-20T12:51:29.324Z"
   },
   {
    "duration": 64,
    "start_time": "2023-01-20T12:51:32.777Z"
   },
   {
    "duration": 27,
    "start_time": "2023-01-20T12:51:35.765Z"
   },
   {
    "duration": 17,
    "start_time": "2023-01-20T12:51:38.665Z"
   },
   {
    "duration": 5,
    "start_time": "2023-01-20T12:52:07.132Z"
   },
   {
    "duration": 61,
    "start_time": "2023-01-20T12:52:09.792Z"
   },
   {
    "duration": 27,
    "start_time": "2023-01-20T12:52:12.650Z"
   },
   {
    "duration": 9,
    "start_time": "2023-01-20T12:52:20.584Z"
   },
   {
    "duration": 28,
    "start_time": "2023-01-20T12:52:23.565Z"
   },
   {
    "duration": 592,
    "start_time": "2023-01-20T12:52:28.898Z"
   },
   {
    "duration": 220,
    "start_time": "2023-01-20T12:52:33.065Z"
   },
   {
    "duration": 329,
    "start_time": "2023-01-20T12:52:36.481Z"
   },
   {
    "duration": 200,
    "start_time": "2023-01-20T12:52:40.247Z"
   },
   {
    "duration": 312,
    "start_time": "2023-01-20T12:52:43.892Z"
   },
   {
    "duration": 126,
    "start_time": "2023-01-20T12:52:47.504Z"
   },
   {
    "duration": 4,
    "start_time": "2023-01-20T12:52:50.821Z"
   },
   {
    "duration": 148,
    "start_time": "2023-01-20T12:52:54.041Z"
   },
   {
    "duration": 4,
    "start_time": "2023-01-20T12:52:59.097Z"
   },
   {
    "duration": 2880,
    "start_time": "2023-01-20T12:53:04.828Z"
   },
   {
    "duration": 1219,
    "start_time": "2023-01-21T09:09:05.339Z"
   },
   {
    "duration": 87,
    "start_time": "2023-01-21T09:09:06.560Z"
   },
   {
    "duration": 75,
    "start_time": "2023-01-21T09:09:06.649Z"
   },
   {
    "duration": 20,
    "start_time": "2023-01-21T09:09:06.726Z"
   },
   {
    "duration": 8,
    "start_time": "2023-01-21T09:09:06.748Z"
   },
   {
    "duration": 18,
    "start_time": "2023-01-21T09:09:06.758Z"
   },
   {
    "duration": 34,
    "start_time": "2023-01-21T09:09:06.778Z"
   },
   {
    "duration": 13,
    "start_time": "2023-01-21T09:09:06.813Z"
   },
   {
    "duration": 23,
    "start_time": "2023-01-21T09:09:06.828Z"
   },
   {
    "duration": 603,
    "start_time": "2023-01-21T09:09:06.855Z"
   },
   {
    "duration": 198,
    "start_time": "2023-01-21T09:09:07.460Z"
   },
   {
    "duration": 378,
    "start_time": "2023-01-21T09:09:07.660Z"
   },
   {
    "duration": 229,
    "start_time": "2023-01-21T09:09:08.040Z"
   },
   {
    "duration": 371,
    "start_time": "2023-01-21T09:09:08.270Z"
   },
   {
    "duration": 162,
    "start_time": "2023-01-21T09:09:08.643Z"
   },
   {
    "duration": 5,
    "start_time": "2023-01-21T09:09:08.807Z"
   },
   {
    "duration": 170,
    "start_time": "2023-01-21T09:09:08.814Z"
   },
   {
    "duration": 4,
    "start_time": "2023-01-21T09:09:08.986Z"
   },
   {
    "duration": 2925,
    "start_time": "2023-01-21T09:09:08.992Z"
   },
   {
    "duration": 254,
    "start_time": "2023-01-21T09:09:11.919Z"
   },
   {
    "duration": 0,
    "start_time": "2023-01-21T09:09:12.175Z"
   },
   {
    "duration": 0,
    "start_time": "2023-01-21T09:09:12.177Z"
   },
   {
    "duration": 0,
    "start_time": "2023-01-21T09:09:12.179Z"
   },
   {
    "duration": 15,
    "start_time": "2023-01-21T09:56:56.970Z"
   },
   {
    "duration": 16,
    "start_time": "2023-01-21T10:00:00.663Z"
   },
   {
    "duration": 1127,
    "start_time": "2023-01-21T10:01:11.376Z"
   },
   {
    "duration": 48,
    "start_time": "2023-01-21T10:01:12.505Z"
   },
   {
    "duration": 43,
    "start_time": "2023-01-21T10:01:12.554Z"
   },
   {
    "duration": 21,
    "start_time": "2023-01-21T10:01:12.599Z"
   },
   {
    "duration": 49,
    "start_time": "2023-01-21T10:01:12.622Z"
   },
   {
    "duration": 26,
    "start_time": "2023-01-21T10:01:12.673Z"
   },
   {
    "duration": 36,
    "start_time": "2023-01-21T10:01:12.700Z"
   },
   {
    "duration": 38,
    "start_time": "2023-01-21T10:01:12.738Z"
   },
   {
    "duration": 44,
    "start_time": "2023-01-21T10:01:12.778Z"
   },
   {
    "duration": 641,
    "start_time": "2023-01-21T10:01:12.825Z"
   },
   {
    "duration": 208,
    "start_time": "2023-01-21T10:01:13.468Z"
   },
   {
    "duration": 343,
    "start_time": "2023-01-21T10:01:13.677Z"
   },
   {
    "duration": 18,
    "start_time": "2023-01-21T10:01:14.022Z"
   },
   {
    "duration": 299,
    "start_time": "2023-01-21T10:01:14.041Z"
   },
   {
    "duration": 297,
    "start_time": "2023-01-21T10:01:14.342Z"
   },
   {
    "duration": 151,
    "start_time": "2023-01-21T10:01:14.641Z"
   },
   {
    "duration": 10,
    "start_time": "2023-01-21T10:01:14.794Z"
   },
   {
    "duration": 184,
    "start_time": "2023-01-21T10:01:14.806Z"
   },
   {
    "duration": 5,
    "start_time": "2023-01-21T10:01:14.992Z"
   },
   {
    "duration": 2916,
    "start_time": "2023-01-21T10:01:15.003Z"
   },
   {
    "duration": 242,
    "start_time": "2023-01-21T10:01:17.921Z"
   },
   {
    "duration": 0,
    "start_time": "2023-01-21T10:01:18.165Z"
   },
   {
    "duration": 0,
    "start_time": "2023-01-21T10:01:18.166Z"
   },
   {
    "duration": 0,
    "start_time": "2023-01-21T10:01:18.167Z"
   },
   {
    "duration": 1192,
    "start_time": "2023-01-21T10:03:04.581Z"
   },
   {
    "duration": 41,
    "start_time": "2023-01-21T10:03:05.776Z"
   },
   {
    "duration": 42,
    "start_time": "2023-01-21T10:03:05.819Z"
   },
   {
    "duration": 21,
    "start_time": "2023-01-21T10:03:05.863Z"
   },
   {
    "duration": 12,
    "start_time": "2023-01-21T10:03:05.887Z"
   },
   {
    "duration": 32,
    "start_time": "2023-01-21T10:03:05.901Z"
   },
   {
    "duration": 21,
    "start_time": "2023-01-21T10:03:05.934Z"
   },
   {
    "duration": 38,
    "start_time": "2023-01-21T10:03:05.957Z"
   },
   {
    "duration": 22,
    "start_time": "2023-01-21T10:03:05.997Z"
   },
   {
    "duration": 295,
    "start_time": "2023-01-21T10:03:06.020Z"
   },
   {
    "duration": 0,
    "start_time": "2023-01-21T10:03:06.320Z"
   },
   {
    "duration": 0,
    "start_time": "2023-01-21T10:03:06.322Z"
   },
   {
    "duration": 0,
    "start_time": "2023-01-21T10:03:06.322Z"
   },
   {
    "duration": 0,
    "start_time": "2023-01-21T10:03:06.323Z"
   },
   {
    "duration": 0,
    "start_time": "2023-01-21T10:03:06.324Z"
   },
   {
    "duration": 1,
    "start_time": "2023-01-21T10:03:06.324Z"
   },
   {
    "duration": 0,
    "start_time": "2023-01-21T10:03:06.325Z"
   },
   {
    "duration": 0,
    "start_time": "2023-01-21T10:03:06.327Z"
   },
   {
    "duration": 0,
    "start_time": "2023-01-21T10:03:06.328Z"
   },
   {
    "duration": 0,
    "start_time": "2023-01-21T10:03:06.329Z"
   },
   {
    "duration": 0,
    "start_time": "2023-01-21T10:03:06.330Z"
   },
   {
    "duration": 0,
    "start_time": "2023-01-21T10:03:06.330Z"
   },
   {
    "duration": 0,
    "start_time": "2023-01-21T10:03:06.331Z"
   },
   {
    "duration": 0,
    "start_time": "2023-01-21T10:03:06.333Z"
   },
   {
    "duration": 585,
    "start_time": "2023-01-21T10:03:43.112Z"
   },
   {
    "duration": 13,
    "start_time": "2023-01-21T10:04:05.097Z"
   },
   {
    "duration": 15,
    "start_time": "2023-01-21T10:05:17.092Z"
   },
   {
    "duration": 1165,
    "start_time": "2023-01-21T10:05:50.154Z"
   },
   {
    "duration": 42,
    "start_time": "2023-01-21T10:05:51.321Z"
   },
   {
    "duration": 40,
    "start_time": "2023-01-21T10:05:51.364Z"
   },
   {
    "duration": 20,
    "start_time": "2023-01-21T10:05:51.406Z"
   },
   {
    "duration": 23,
    "start_time": "2023-01-21T10:05:51.429Z"
   },
   {
    "duration": 23,
    "start_time": "2023-01-21T10:05:51.454Z"
   },
   {
    "duration": 33,
    "start_time": "2023-01-21T10:05:51.479Z"
   },
   {
    "duration": 12,
    "start_time": "2023-01-21T10:05:51.514Z"
   },
   {
    "duration": 22,
    "start_time": "2023-01-21T10:05:51.528Z"
   },
   {
    "duration": 623,
    "start_time": "2023-01-21T10:05:51.552Z"
   },
   {
    "duration": 13,
    "start_time": "2023-01-21T10:05:52.176Z"
   },
   {
    "duration": 219,
    "start_time": "2023-01-21T10:05:52.191Z"
   },
   {
    "duration": 318,
    "start_time": "2023-01-21T10:05:52.412Z"
   },
   {
    "duration": 14,
    "start_time": "2023-01-21T10:05:52.733Z"
   },
   {
    "duration": 232,
    "start_time": "2023-01-21T10:05:52.749Z"
   },
   {
    "duration": 377,
    "start_time": "2023-01-21T10:05:52.983Z"
   },
   {
    "duration": 188,
    "start_time": "2023-01-21T10:05:53.362Z"
   },
   {
    "duration": 5,
    "start_time": "2023-01-21T10:05:53.551Z"
   },
   {
    "duration": 169,
    "start_time": "2023-01-21T10:05:53.558Z"
   },
   {
    "duration": 5,
    "start_time": "2023-01-21T10:05:53.729Z"
   },
   {
    "duration": 3014,
    "start_time": "2023-01-21T10:05:53.736Z"
   },
   {
    "duration": 251,
    "start_time": "2023-01-21T10:05:56.753Z"
   },
   {
    "duration": 0,
    "start_time": "2023-01-21T10:05:57.006Z"
   },
   {
    "duration": 0,
    "start_time": "2023-01-21T10:05:57.007Z"
   },
   {
    "duration": 0,
    "start_time": "2023-01-21T10:05:57.008Z"
   },
   {
    "duration": 1315,
    "start_time": "2023-01-21T10:34:03.200Z"
   },
   {
    "duration": 99,
    "start_time": "2023-01-21T10:34:05.974Z"
   },
   {
    "duration": 114,
    "start_time": "2023-01-21T10:34:11.874Z"
   },
   {
    "duration": 22,
    "start_time": "2023-01-21T10:34:17.830Z"
   },
   {
    "duration": 6,
    "start_time": "2023-01-21T10:34:26.143Z"
   },
   {
    "duration": 89,
    "start_time": "2023-01-21T10:34:29.571Z"
   },
   {
    "duration": 13,
    "start_time": "2023-01-21T10:34:38.698Z"
   },
   {
    "duration": 6,
    "start_time": "2023-01-21T10:34:41.326Z"
   },
   {
    "duration": 22,
    "start_time": "2023-01-21T10:34:44.107Z"
   },
   {
    "duration": 283,
    "start_time": "2023-01-21T10:34:57.041Z"
   },
   {
    "duration": 190,
    "start_time": "2023-01-21T10:35:05.973Z"
   },
   {
    "duration": 3,
    "start_time": "2023-01-21T10:36:11.378Z"
   },
   {
    "duration": 38,
    "start_time": "2023-01-21T10:36:13.753Z"
   },
   {
    "duration": 61,
    "start_time": "2023-01-21T10:36:17.086Z"
   },
   {
    "duration": 21,
    "start_time": "2023-01-21T10:36:22.093Z"
   },
   {
    "duration": 6,
    "start_time": "2023-01-21T10:36:24.882Z"
   },
   {
    "duration": 38,
    "start_time": "2023-01-21T10:36:28.377Z"
   },
   {
    "duration": 15,
    "start_time": "2023-01-21T10:36:33.816Z"
   },
   {
    "duration": 5,
    "start_time": "2023-01-21T10:36:36.421Z"
   },
   {
    "duration": 18,
    "start_time": "2023-01-21T10:36:39.240Z"
   },
   {
    "duration": 176,
    "start_time": "2023-01-21T10:36:45.948Z"
   },
   {
    "duration": 11,
    "start_time": "2023-01-21T10:37:26.330Z"
   },
   {
    "duration": 186,
    "start_time": "2023-01-21T10:37:34.077Z"
   },
   {
    "duration": 185,
    "start_time": "2023-01-21T10:38:28.169Z"
   },
   {
    "duration": 186,
    "start_time": "2023-01-21T10:38:34.198Z"
   },
   {
    "duration": 587,
    "start_time": "2023-01-21T10:39:36.172Z"
   },
   {
    "duration": 12,
    "start_time": "2023-01-21T10:39:54.558Z"
   },
   {
    "duration": 200,
    "start_time": "2023-01-21T10:44:02.849Z"
   },
   {
    "duration": 366,
    "start_time": "2023-01-21T10:44:08.112Z"
   },
   {
    "duration": 13,
    "start_time": "2023-01-21T10:44:16.648Z"
   },
   {
    "duration": 225,
    "start_time": "2023-01-21T10:44:20.752Z"
   },
   {
    "duration": 309,
    "start_time": "2023-01-21T10:44:35.691Z"
   },
   {
    "duration": 148,
    "start_time": "2023-01-21T10:45:14.003Z"
   },
   {
    "duration": 5,
    "start_time": "2023-01-21T10:45:18.422Z"
   },
   {
    "duration": 163,
    "start_time": "2023-01-21T10:45:22.031Z"
   },
   {
    "duration": 4,
    "start_time": "2023-01-21T10:45:37.818Z"
   },
   {
    "duration": 93,
    "start_time": "2023-01-21T10:45:45.690Z"
   },
   {
    "duration": 63,
    "start_time": "2023-01-21T10:46:27.631Z"
   },
   {
    "duration": 223,
    "start_time": "2023-01-21T10:46:56.253Z"
   },
   {
    "duration": 216,
    "start_time": "2023-01-21T10:47:05.529Z"
   },
   {
    "duration": 11,
    "start_time": "2023-01-21T10:51:07.492Z"
   },
   {
    "duration": 12,
    "start_time": "2023-01-21T10:51:28.333Z"
   },
   {
    "duration": 151,
    "start_time": "2023-01-21T11:31:15.233Z"
   },
   {
    "duration": 148,
    "start_time": "2023-01-21T11:34:09.476Z"
   },
   {
    "duration": 1242,
    "start_time": "2023-01-21T11:35:23.481Z"
   },
   {
    "duration": 189,
    "start_time": "2023-01-21T11:35:54.137Z"
   },
   {
    "duration": 165,
    "start_time": "2023-01-21T11:36:06.235Z"
   },
   {
    "duration": 185,
    "start_time": "2023-01-21T11:36:38.865Z"
   },
   {
    "duration": 165,
    "start_time": "2023-01-21T11:37:01.005Z"
   },
   {
    "duration": 12,
    "start_time": "2023-01-21T11:50:08.713Z"
   },
   {
    "duration": 14,
    "start_time": "2023-01-21T11:51:12.187Z"
   },
   {
    "duration": 518,
    "start_time": "2023-01-21T12:03:56.228Z"
   },
   {
    "duration": 591,
    "start_time": "2023-01-21T12:04:14.912Z"
   },
   {
    "duration": 591,
    "start_time": "2023-01-21T12:04:34.357Z"
   },
   {
    "duration": 715,
    "start_time": "2023-01-21T12:05:04.993Z"
   },
   {
    "duration": 507,
    "start_time": "2023-01-21T12:05:14.498Z"
   },
   {
    "duration": 521,
    "start_time": "2023-01-21T12:05:42.988Z"
   },
   {
    "duration": 528,
    "start_time": "2023-01-21T12:11:04.741Z"
   },
   {
    "duration": 232,
    "start_time": "2023-01-21T12:11:10.554Z"
   },
   {
    "duration": 421,
    "start_time": "2023-01-21T12:11:53.939Z"
   },
   {
    "duration": 310,
    "start_time": "2023-01-21T12:13:12.325Z"
   },
   {
    "duration": 365,
    "start_time": "2023-01-21T12:14:28.226Z"
   },
   {
    "duration": 151,
    "start_time": "2023-01-21T12:17:07.489Z"
   },
   {
    "duration": 171,
    "start_time": "2023-01-21T12:25:52.730Z"
   },
   {
    "duration": 1315,
    "start_time": "2023-01-24T08:51:20.021Z"
   },
   {
    "duration": 79,
    "start_time": "2023-01-24T08:51:24.966Z"
   },
   {
    "duration": 92,
    "start_time": "2023-01-24T08:51:29.409Z"
   },
   {
    "duration": 21,
    "start_time": "2023-01-24T08:51:34.174Z"
   },
   {
    "duration": 7,
    "start_time": "2023-01-24T08:51:37.498Z"
   },
   {
    "duration": 79,
    "start_time": "2023-01-24T08:51:40.395Z"
   },
   {
    "duration": 10,
    "start_time": "2023-01-24T08:51:43.889Z"
   },
   {
    "duration": 6,
    "start_time": "2023-01-24T08:51:47.506Z"
   },
   {
    "duration": 23,
    "start_time": "2023-01-24T08:51:51.497Z"
   },
   {
    "duration": 5,
    "start_time": "2023-01-24T08:52:00.360Z"
   },
   {
    "duration": 98,
    "start_time": "2023-01-24T08:53:50.896Z"
   },
   {
    "duration": 12,
    "start_time": "2023-01-24T08:54:18.107Z"
   },
   {
    "duration": 12,
    "start_time": "2023-01-24T08:54:30.702Z"
   },
   {
    "duration": 11,
    "start_time": "2023-01-24T08:55:20.053Z"
   },
   {
    "duration": 4,
    "start_time": "2023-01-24T08:55:31.304Z"
   },
   {
    "duration": 150,
    "start_time": "2023-01-24T09:24:40.090Z"
   },
   {
    "duration": 145,
    "start_time": "2023-01-24T09:24:56.599Z"
   },
   {
    "duration": 146,
    "start_time": "2023-01-24T09:25:19.785Z"
   },
   {
    "duration": 186,
    "start_time": "2023-01-24T09:26:07.610Z"
   },
   {
    "duration": 3,
    "start_time": "2023-01-24T09:26:33.859Z"
   },
   {
    "duration": 36,
    "start_time": "2023-01-24T09:26:36.824Z"
   },
   {
    "duration": 53,
    "start_time": "2023-01-24T09:26:41.750Z"
   },
   {
    "duration": 19,
    "start_time": "2023-01-24T09:26:45.909Z"
   },
   {
    "duration": 5,
    "start_time": "2023-01-24T09:26:49.222Z"
   },
   {
    "duration": 34,
    "start_time": "2023-01-24T09:26:52.194Z"
   },
   {
    "duration": 12,
    "start_time": "2023-01-24T09:26:56.584Z"
   },
   {
    "duration": 5,
    "start_time": "2023-01-24T09:26:59.594Z"
   },
   {
    "duration": 17,
    "start_time": "2023-01-24T09:27:02.844Z"
   },
   {
    "duration": 4,
    "start_time": "2023-01-24T09:27:08.277Z"
   },
   {
    "duration": 10,
    "start_time": "2023-01-24T09:27:10.866Z"
   },
   {
    "duration": 4,
    "start_time": "2023-01-24T09:27:12.954Z"
   },
   {
    "duration": 544,
    "start_time": "2023-01-24T09:27:16.594Z"
   },
   {
    "duration": 203,
    "start_time": "2023-01-24T09:27:20.958Z"
   },
   {
    "duration": 395,
    "start_time": "2023-01-24T09:27:25.115Z"
   },
   {
    "duration": 230,
    "start_time": "2023-01-24T09:27:31.598Z"
   },
   {
    "duration": 342,
    "start_time": "2023-01-24T09:27:35.615Z"
   },
   {
    "duration": 149,
    "start_time": "2023-01-24T09:27:39.206Z"
   },
   {
    "duration": 5,
    "start_time": "2023-01-24T09:27:43.750Z"
   },
   {
    "duration": 219,
    "start_time": "2023-01-24T09:27:47.295Z"
   },
   {
    "duration": 4,
    "start_time": "2023-01-24T09:27:51.009Z"
   },
   {
    "duration": 235,
    "start_time": "2023-01-24T09:27:56.737Z"
   },
   {
    "duration": 154,
    "start_time": "2023-01-24T09:28:01.100Z"
   },
   {
    "duration": 158,
    "start_time": "2023-01-24T09:28:12.566Z"
   },
   {
    "duration": 15,
    "start_time": "2023-01-24T09:28:17.578Z"
   },
   {
    "duration": 1002,
    "start_time": "2023-01-24T18:47:34.878Z"
   },
   {
    "duration": 42,
    "start_time": "2023-01-24T18:47:35.882Z"
   },
   {
    "duration": 47,
    "start_time": "2023-01-24T18:47:35.926Z"
   },
   {
    "duration": 19,
    "start_time": "2023-01-24T18:47:35.975Z"
   },
   {
    "duration": 9,
    "start_time": "2023-01-24T18:47:35.996Z"
   },
   {
    "duration": 30,
    "start_time": "2023-01-24T18:47:36.007Z"
   },
   {
    "duration": 10,
    "start_time": "2023-01-24T18:47:36.039Z"
   },
   {
    "duration": 11,
    "start_time": "2023-01-24T18:47:36.050Z"
   },
   {
    "duration": 20,
    "start_time": "2023-01-24T18:47:36.062Z"
   },
   {
    "duration": 4,
    "start_time": "2023-01-24T18:47:36.086Z"
   },
   {
    "duration": 13,
    "start_time": "2023-01-24T18:47:36.091Z"
   },
   {
    "duration": 5,
    "start_time": "2023-01-24T18:47:36.106Z"
   },
   {
    "duration": 544,
    "start_time": "2023-01-24T18:47:36.112Z"
   },
   {
    "duration": 217,
    "start_time": "2023-01-24T18:47:36.657Z"
   },
   {
    "duration": 278,
    "start_time": "2023-01-24T18:47:36.877Z"
   },
   {
    "duration": 12,
    "start_time": "2023-01-24T18:47:37.156Z"
   },
   {
    "duration": 239,
    "start_time": "2023-01-24T18:47:37.169Z"
   },
   {
    "duration": 349,
    "start_time": "2023-01-24T18:47:37.410Z"
   },
   {
    "duration": 136,
    "start_time": "2023-01-24T18:47:37.760Z"
   },
   {
    "duration": 4,
    "start_time": "2023-01-24T18:47:37.897Z"
   },
   {
    "duration": 152,
    "start_time": "2023-01-24T18:47:37.902Z"
   },
   {
    "duration": 3,
    "start_time": "2023-01-24T18:47:38.056Z"
   },
   {
    "duration": 224,
    "start_time": "2023-01-24T18:47:38.060Z"
   },
   {
    "duration": 161,
    "start_time": "2023-01-24T18:47:38.286Z"
   },
   {
    "duration": 9,
    "start_time": "2023-01-24T18:47:38.449Z"
   },
   {
    "duration": 152,
    "start_time": "2023-01-24T18:47:38.459Z"
   },
   {
    "duration": 12,
    "start_time": "2023-01-24T18:47:38.613Z"
   }
  ],
  "kernelspec": {
   "display_name": "Python 3 (ipykernel)",
   "language": "python",
   "name": "python3"
  },
  "language_info": {
   "codemirror_mode": {
    "name": "ipython",
    "version": 3
   },
   "file_extension": ".py",
   "mimetype": "text/x-python",
   "name": "python",
   "nbconvert_exporter": "python",
   "pygments_lexer": "ipython3",
   "version": "3.9.5"
  },
  "toc": {
   "base_numbering": 1,
   "nav_menu": {},
   "number_sections": true,
   "sideBar": true,
   "skip_h1_title": true,
   "title_cell": "Table of Contents",
   "title_sidebar": "Contents",
   "toc_cell": false,
   "toc_position": {},
   "toc_section_display": true,
   "toc_window_display": false
  }
 },
 "nbformat": 4,
 "nbformat_minor": 2
}
